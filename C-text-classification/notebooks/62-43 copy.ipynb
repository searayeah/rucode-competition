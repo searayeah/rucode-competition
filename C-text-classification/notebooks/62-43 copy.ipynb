{
  "nbformat": 4,
  "nbformat_minor": 2,
  "metadata": {},
  "cells": [
    {
      "metadata": {},
      "source": [
        "import os\n",
        "import random\n",
        "import re\n",
        "\n",
        "import matplotlib.pyplot as plt\n",
        "import nltk\n",
        "import numpy as np\n",
        "import pandas as pd\n",
        "import spacy\n",
        "import torch\n",
        "import transformers\n",
        "import wandb\n",
        "from datasets import Dataset, load_dataset\n",
        "\n",
        "# from preprocess import get_chunked_dataframe, preprocess_train\n",
        "from metrics import f1_df_for_each_threshold\n",
        "from nltk.tokenize import sent_tokenize, word_tokenize\n",
        "from pandarallel import pandarallel\n",
        "from sklearn import metrics\n",
        "from sklearn.metrics import classification_report, roc_auc_score\n",
        "from sklearn.preprocessing import MultiLabelBinarizer\n",
        "from torch import cuda\n",
        "from torch.optim import Adam\n",
        "from torch.utils.data import DataLoader\n",
        "from tqdm import tqdm\n",
        "from tqdm.notebook import tqdm\n",
        "from transformers import (\n",
        "    AutoTokenizer,\n",
        "    BertConfig,\n",
        "    BertForSequenceClassification,\n",
        "    BertModel,\n",
        "    BertTokenizer,\n",
        "    DataCollatorWithPadding,\n",
        ")\n",
        "\n",
        "np.random.seed(42)\n",
        "torch.manual_seed(42)\n",
        "random.seed(42)\n",
        "\n",
        "\n",
        "device = \"cuda\" if cuda.is_available() else \"cpu\""
      ],
      "cell_type": "code",
      "outputs": [],
      "execution_count": null
    },
    {
      "metadata": {},
      "source": [
        "nlp = spacy.load(\"ru_core_news_lg\")\n",
        "pandarallel.initialize(progress_bar=True)\n",
        "\n",
        "\n",
        "def split_text_chunks(text, max_words=150, min_words=25):\n",
        "    sentences = sent_tokenize(text)\n",
        "    chunks = []\n",
        "    current_chunk = []\n",
        "    current_word_count = 0\n",
        "\n",
        "    for sentence in sentences:\n",
        "        sentence_word_count = len(sentence.split())\n",
        "\n",
        "        if current_word_count + sentence_word_count > max_words:\n",
        "            chunks.append(\" \".join(current_chunk))\n",
        "            current_chunk = [sentence]\n",
        "            current_word_count = sentence_word_count\n",
        "        else:\n",
        "            current_chunk.append(sentence)\n",
        "            current_word_count += sentence_word_count\n",
        "\n",
        "    if current_chunk and current_word_count >= min_words:\n",
        "        chunks.append(\" \".join(current_chunk))\n",
        "\n",
        "    return chunks if chunks else [text]\n",
        "\n",
        "\n",
        "def sliding_window_chunks(text, max_words=150, min_words=50):\n",
        "    sentences = sent_tokenize(text, \"russian\")\n",
        "    chunks = []\n",
        "    current_chunk = []\n",
        "    start_idx = 0\n",
        "\n",
        "    while start_idx < len(sentences):\n",
        "        current_chunk = []\n",
        "        current_word_count = 0\n",
        "        for idx in range(start_idx, len(sentences)):\n",
        "            sentence_word_count = len(sentences[idx].split())\n",
        "\n",
        "            if current_word_count + sentence_word_count > max_words:\n",
        "                break\n",
        "            current_chunk.append(sentences[idx])\n",
        "            current_word_count += sentence_word_count\n",
        "\n",
        "        if current_word_count >= min_words:\n",
        "            chunks.append(\" \".join(current_chunk))\n",
        "\n",
        "        start_idx += 1\n",
        "    return chunks if chunks else [text]\n",
        "\n",
        "\n",
        "def get_chunked_dataframe(df):\n",
        "    df = df.copy()\n",
        "    chunked_rows = []\n",
        "\n",
        "    for _, row in df.iterrows():\n",
        "        if pd.notna(row[\"text\"]):\n",
        "            text_chunks = split_text_chunks(row[\"text\"])\n",
        "            for chunk in text_chunks:\n",
        "                chunked_rows.append([row[\"movie\"], chunk, row[\"genres\"]])\n",
        "    chunked = pd.DataFrame(chunked_rows, columns=[\"movie\", \"text\", \"genres\"])\n",
        "    chunked[\"text\"].apply(lambda x: len(x.split())).hist(bins=20)\n",
        "\n",
        "    chunked[\"text\"] = chunked[\"text\"].apply(clear_text)\n",
        "    return chunked\n",
        "\n",
        "\n",
        "def clear_text(text):\n",
        "    text = text.replace(\"\\n\", \" \")\n",
        "    text = text.replace(\"\\t\", \" \")\n",
        "    text = text.replace(\"\\xa0\", \" \")\n",
        "    return \" \".join(text.split())\n",
        "\n",
        "\n",
        "def replace_entities(text, nlp):\n",
        "    doc = nlp(text)\n",
        "    modified_text = text\n",
        "    for ent in doc.ents:\n",
        "        if ent.label_ == \"PER\":\n",
        "            modified_text = modified_text.replace(ent.text, \"\u0433\u0435\u0440\u043e\u0439\")\n",
        "        elif ent.label_ == \"LOC\":\n",
        "            modified_text = modified_text.replace(ent.text, \"\u043b\u043e\u043a\u0430\u0446\u0438\u044f\")\n",
        "    return modified_text\n",
        "\n",
        "\n",
        "def remove_film_name_from_text(text, film_title):\n",
        "\n",
        "    film_title_clean = re.sub(r\"\\(.*?\\)\", \"\", film_title).strip()\n",
        "    text = text.replace(film_title, \"\u0444\u0438\u043b\u044c\u043c\")\n",
        "    text = text.replace(film_title_clean, \"\u0444\u0438\u043b\u044c\u043c\")\n",
        "    return text\n",
        "\n",
        "\n",
        "def preprocess_train(df: pd.DataFrame):\n",
        "    df = df.copy()\n",
        "\n",
        "    df = df.rename(\n",
        "        {\n",
        "            \"\u0424\u0438\u043b\u044c\u043c\": \"movie\",\n",
        "            \"\u0421\u044e\u0436\u0435\u0442\": \"plot\",\n",
        "            \"\u0416\u0430\u043d\u0440\u044b\": \"genres\",\n",
        "            \"\u041e\u043f\u0438\u0441\u0430\u043d\u0438\u0435\": \"description\",\n",
        "        },\n",
        "        axis=1,\n",
        "    )\n",
        "    print(df.isnull().any())\n",
        "    df_description = (\n",
        "        df[[\"movie\", \"description\", \"genres\"]]\n",
        "        .rename(columns={\"description\": \"text\"})\n",
        "        .dropna(subset=[\"text\"])\n",
        "    )\n",
        "    df_plot = (\n",
        "        df[[\"movie\", \"plot\", \"genres\"]]\n",
        "        .rename(columns={\"plot\": \"text\"})\n",
        "        .dropna(subset=[\"text\"])\n",
        "    )\n",
        "    df_doubled = pd.concat([df_description, df_plot], ignore_index=True)\n",
        "    df_doubled[\"text\"] = df_doubled[\"text\"].apply(clear_text)\n",
        "    df_doubled[\"text\"] = df_doubled[\"text\"].parallel_apply(\n",
        "        lambda x: replace_entities(x, nlp)\n",
        "    )\n",
        "    df_doubled[\"text\"] = df_doubled[\"text\"].apply(clear_text)\n",
        "    df_doubled[\"text\"] = df_doubled.apply(\n",
        "        lambda x: remove_film_name_from_text(x[\"text\"], x[\"movie\"]), axis=1\n",
        "    )\n",
        "    df_doubled[\"text\"] = df_doubled[\"text\"].apply(clear_text)\n",
        "    df_doubled[\"text\"].apply(lambda x: len(x.split())).hist(bins=20)\n",
        "    plt.show()\n",
        "    return df_doubled"
      ],
      "cell_type": "code",
      "outputs": [
        {
          "output_type": "stream",
          "name": "stderr",
          "text": [
            "/home/seara/Desktop/Github/mtc-film-classification/.venv/lib/python3.9/site-packages/spacy/util.py:910: UserWarning: [W095] Model 'ru_core_news_lg' (3.7.0) was trained with spaCy v3.7.0 and may not be 100% compatible with the current version (3.8.0). If you see errors or degraded performance, download a newer compatible model or retrain your custom model with the current spaCy version. For more details and available updates, run: python -m spacy validate\n",
            "  warnings.warn(warn_msg)\n"
          ]
        },
        {
          "output_type": "stream",
          "name": "stdout",
          "text": [
            "INFO: Pandarallel will run on 8 workers.\n",
            "INFO: Pandarallel will use Memory file system to transfer data between the main process and workers.\n"
          ]
        }
      ],
      "execution_count": null
    },
    {
      "metadata": {},
      "source": [
        "df_train = pd.read_csv(\"data/train.csv\")\n",
        "df_test = pd.read_csv(\"data/train.csv\")"
      ],
      "cell_type": "code",
      "outputs": [],
      "execution_count": null
    },
    {
      "metadata": {},
      "source": [
        "df_train = preprocess_train(df_train)\n",
        "df_test = preprocess_train(df_test)\n",
        "df_train"
      ],
      "cell_type": "code",
      "outputs": [
        {
          "output_type": "stream",
          "name": "stdout",
          "text": [
            "movie          False\n",
            "description    False\n",
            "plot            True\n",
            "genres         False\n",
            "dtype: bool\n"
          ]
        },
        {
          "output_type": "display_data",
          "data": {
            "application/vnd.jupyter.widget-view+json": {
              "model_id": "d6568918300346a68111068ac71811bb",
              "version_major": 2,
              "version_minor": 0
            },
            "text/plain": [
              "VBox(children=(HBox(children=(IntProgress(value=0, description='0.00%', max=129), Label(value='0 / 129'))), HB\u2026"
            ]
          },
          "metadata": {}
        },
        {
          "output_type": "display_data",
          "data": {
            "image/png": "[encoded data removed]",
            "text/plain": [
              "<Figure size 640x480 with 1 Axes>"
            ]
          },
          "metadata": {}
        },
        {
          "output_type": "stream",
          "name": "stdout",
          "text": [
            "movie          False\n",
            "description    False\n",
            "plot            True\n",
            "genres         False\n",
            "dtype: bool\n"
          ]
        },
        {
          "output_type": "display_data",
          "data": {
            "application/vnd.jupyter.widget-view+json": {
              "model_id": "9bedac88f6ef4185a53351a9109a7a36",
              "version_major": 2,
              "version_minor": 0
            },
            "text/plain": [
              "VBox(children=(HBox(children=(IntProgress(value=0, description='0.00%', max=129), Label(value='0 / 129'))), HB\u2026"
            ]
          },
          "metadata": {}
        },
        {
          "output_type": "display_data",
          "data": {
            "image/png": "[encoded data removed]",
            "text/plain": [
              "<Figure size 640x480 with 1 Axes>"
            ]
          },
          "metadata": {}
        },
        {
          "output_type": "execute_result",
          "data": {
            "text/html": [
              "<div>\n",
              "<style scoped>\n",
              "    .dataframe tbody tr th:only-of-type {\n",
              "        vertical-align: middle;\n",
              "    }\n",
              "\n",
              "    .dataframe tbody tr th {\n",
              "        vertical-align: top;\n",
              "    }\n",
              "\n",
              "    .dataframe thead th {\n",
              "        text-align: right;\n",
              "    }\n",
              "</style>\n",
              "<table border=\"1\" class=\"dataframe\">\n",
              "  <thead>\n",
              "    <tr style=\"text-align: right;\">\n",
              "      <th></th>\n",
              "      <th>movie</th>\n",
              "      <th>text</th>\n",
              "      <th>genres</th>\n",
              "    </tr>\n",
              "  </thead>\n",
              "  <tbody>\n",
              "    <tr>\n",
              "      <th>0</th>\n",
              "      <td>\u0414\u0438\u0432\u0435\u0440\u0433\u0435\u043d\u0442 (2014)</td>\n",
              "      <td>\u0414\u0435\u0439\u0441\u0442\u0432\u0438\u0435 \u0444\u0438\u043b\u044c\u043c\u0430 \u00ab\u0444\u0438\u043b\u044c\u043c\u00bb \u043f\u0440\u043e\u0438\u0441\u0445\u043e\u0434\u0438\u0442 \u0432 \u043c\u0438\u0440\u0435, \u043f\u0435\u0440...</td>\n",
              "      <td>\u0444\u0430\u043d\u0442\u0430\u0441\u0442\u0438\u043a\u0430, \u0434\u0435\u0442\u0435\u043a\u0442\u0438\u0432, \u0431\u043e\u0435\u0432\u0438\u043a, \u043c\u0435\u043b\u043e\u0434\u0440\u0430\u043c\u0430</td>\n",
              "    </tr>\n",
              "    <tr>\n",
              "      <th>1</th>\n",
              "      <td>\u041a\u0443\u043d\u0433-\u0444\u0443 \u041f\u0430\u043d\u0434\u0430 4 (2024)</td>\n",
              "      <td>\u041e\u0434\u043d\u0430\u0436\u0434\u044b \u043d\u043e\u0447\u044c\u044e \u043d\u0430 \u0432\u0435\u0440\u0448\u0438\u043d\u0435 \u0433\u043e\u0440\u044b \u0432\u043e\u0437\u043b\u0435 \u043a\u0430\u043c\u0435\u043d\u043e\u043b\u043e\u043c\u043d...</td>\n",
              "      <td>\u043c\u0443\u043b\u044c\u0442\u0444\u0438\u043b\u044c\u043c, \u0444\u044d\u043d\u0442\u0435\u0437\u0438, \u0431\u043e\u0435\u0432\u0438\u043a, \u043a\u043e\u043c\u0435\u0434\u0438\u044f, \u043f\u0440\u0438\u043a\u043b\u044e\u0447\u0435\u043d\u0438\u044f</td>\n",
              "    </tr>\n",
              "    <tr>\n",
              "      <th>2</th>\n",
              "      <td>2046 (2004)</td>\n",
              "      <td>\u0433\u0435\u0440\u043e\u0439 \u0432\u043e\u0437\u0432\u0440\u0430\u0449\u0430\u0435\u0442\u0441\u044f \u0432 \u043b\u043e\u043a\u0430\u0446\u0438\u044f \u043f\u043e\u0441\u043b\u0435 \u043d\u0435\u0441\u043a\u043e\u043b\u044c\u043a\u0438\u0445 ...</td>\n",
              "      <td>\u0444\u0430\u043d\u0442\u0430\u0441\u0442\u0438\u043a\u0430, \u0434\u0440\u0430\u043c\u0430, \u043c\u0435\u043b\u043e\u0434\u0440\u0430\u043c\u0430</td>\n",
              "    </tr>\n",
              "    <tr>\n",
              "      <th>3</th>\n",
              "      <td>\u041f\u043e\u043b\u0438\u0446\u0435\u0439\u0441\u043a\u0438\u0439 \u0438\u0437 \u0411\u0435\u0432\u0435\u0440\u043b\u0438-\u0425\u0438\u043b\u043b\u0437: \u0410\u043a\u0441\u0435\u043b\u044c \u0424\u043e\u0443\u043b\u0438 (2024)</td>\n",
              "      <td>\u0433\u0435\u0440\u043e\u0439 \u0432\u0435\u0440\u043d\u0443\u043b\u0441\u044f \u0432 \u043b\u043e\u043a\u0430\u0446\u0438\u044f \u043f\u043e\u0441\u043b\u0435 \u0442\u043e\u0433\u043e, \u043a\u0430\u043a \u0436\u0438\u0437\u043d\u044c...</td>\n",
              "      <td>\u0431\u043e\u0435\u0432\u0438\u043a, \u043a\u043e\u043c\u0435\u0434\u0438\u044f, \u043a\u0440\u0438\u043c\u0438\u043d\u0430\u043b, \u0434\u0435\u0442\u0435\u043a\u0442\u0438\u0432</td>\n",
              "    </tr>\n",
              "    <tr>\n",
              "      <th>4</th>\n",
              "      <td>\u0417\u043d\u0430\u043a\u043e\u043c\u044c\u0442\u0435\u0441\u044c, \u0414\u0436\u043e \u0411\u043b\u044d\u043a (1998)</td>\n",
              "      <td>\u0418\u0441\u0442\u043e\u0440\u0438\u044f \u043e\u0431 \u0433\u0435\u0440\u043e\u0439, \u043a\u043e\u0442\u043e\u0440\u044b\u0439 \u0440\u0435\u0448\u0430\u0435\u0442 \u0432\u0437\u044f\u0442\u044c \u043e\u0442\u043f\u0443\u0441\u043a ...</td>\n",
              "      <td>\u043c\u0435\u043b\u043e\u0434\u0440\u0430\u043c\u0430, \u0444\u044d\u043d\u0442\u0435\u0437\u0438, \u0434\u0440\u0430\u043c\u0430</td>\n",
              "    </tr>\n",
              "    <tr>\n",
              "      <th>...</th>\n",
              "      <td>...</td>\n",
              "      <td>...</td>\n",
              "      <td>...</td>\n",
              "    </tr>\n",
              "    <tr>\n",
              "      <th>1027</th>\n",
              "      <td>2+1 (2016)</td>\n",
              "      <td>\u0433\u0435\u0440\u043e\u0439\u0433\u0435\u0440\u043e\u0439), \u0431\u0435\u0433\u0443\u043d, \u043b\u044e\u0431\u0438\u0442\u0435\u043b\u044c \u0432\u0435\u0447\u0435\u0440\u0438\u043d\u043e\u043a \u0438 \u0431\u0430\u0431\u043d\u0438...</td>\n",
              "      <td>\u043a\u043e\u043c\u0435\u0434\u0438\u044f, \u0434\u0440\u0430\u043c\u0430</td>\n",
              "    </tr>\n",
              "    <tr>\n",
              "      <th>1028</th>\n",
              "      <td>\u0410\u043f\u043e\u043a\u0430\u043b\u0438\u043f\u0441\u0438\u0441 (2006)</td>\n",
              "      <td>1517 \u0433\u043e\u0434. \u041f\u043e\u043b\u0443\u043e\u0441\u0442\u0440\u043e\u0432 \u043b\u043e\u043a\u0430\u0446\u0438\u044f. \u0413\u0440\u0443\u043f\u043f\u0430 \u043e\u0445\u043e\u0442\u043d\u0438\u043a\u043e\u0432...</td>\n",
              "      <td>\u0431\u043e\u0435\u0432\u0438\u043a, \u0442\u0440\u0438\u043b\u043b\u0435\u0440, \u0434\u0440\u0430\u043c\u0430, \u043f\u0440\u0438\u043a\u043b\u044e\u0447\u0435\u043d\u0438\u044f</td>\n",
              "    </tr>\n",
              "    <tr>\n",
              "      <th>1029</th>\n",
              "      <td>\u041b\u0451\u0434 3 (2024)</td>\n",
              "      <td>\u0424\u0438\u043b\u044c\u043c \u043d\u0430\u0447\u0438\u043d\u0430\u0435\u0442\u0441\u044f \u0441 \u0438\u0441\u0442\u043e\u0440\u0438\u0438 \u0432\u0437\u0440\u043e\u0441\u043b\u0435\u043d\u0438\u044f \u0434\u043e\u0447\u0435\u0440\u0438 \u0433...</td>\n",
              "      <td>\u043c\u044e\u0437\u0438\u043a\u043b, \u043c\u0435\u043b\u043e\u0434\u0440\u0430\u043c\u0430</td>\n",
              "    </tr>\n",
              "    <tr>\n",
              "      <th>1030</th>\n",
              "      <td>\u041d\u0435 \u0433\u043e\u0432\u043e\u0440\u0438 \u043d\u0438\u043a\u043e\u043c\u0443 (2024)</td>\n",
              "      <td>\u041f\u0430\u0440\u0430 \u0432\u043c\u0435\u0441\u0442\u0435 \u0441 \u0434\u043e\u0447\u0435\u0440\u044c\u044e \u043f\u043e\u043b\u0443\u0447\u0430\u044e\u0442 \u043f\u0440\u0438\u0433\u043b\u0430\u0448\u0435\u043d\u0438\u0435 \u043e\u0442 ...</td>\n",
              "      <td>\u0442\u0440\u0438\u043b\u043b\u0435\u0440, \u0434\u0440\u0430\u043c\u0430</td>\n",
              "    </tr>\n",
              "    <tr>\n",
              "      <th>1031</th>\n",
              "      <td>\u041f\u0440\u0438\u043d\u0446\u0435\u0441\u0441\u0430 \u041c\u043e\u043d\u043e\u043d\u043e\u043a\u0435 (1997)</td>\n",
              "      <td>\u041a\u043e\u0433\u0434\u0430-\u0442\u043e \u044d\u0442\u0443 \u0437\u0435\u043c\u043b\u044e \u0443\u043a\u0440\u044b\u0432\u0430\u043b \u043b\u0435\u0441, \u0433\u0434\u0435 \u0441 \u043d\u0435\u0437\u0430\u043f\u0430\u043c\u044f...</td>\n",
              "      <td>\u043c\u0443\u043b\u044c\u0442\u0444\u0438\u043b\u044c\u043c, \u0444\u044d\u043d\u0442\u0435\u0437\u0438, \u0431\u043e\u0435\u0432\u0438\u043a, \u0434\u0440\u0430\u043c\u0430, \u043f\u0440\u0438\u043a\u043b\u044e\u0447\u0435\u043d\u0438\u044f</td>\n",
              "    </tr>\n",
              "  </tbody>\n",
              "</table>\n",
              "<p>1032 rows \u00d7 3 columns</p>\n",
              "</div>"
            ],
            "text/plain": [
              "                                                  movie  \\\n",
              "0                                      \u0414\u0438\u0432\u0435\u0440\u0433\u0435\u043d\u0442 (2014)   \n",
              "1                                \u041a\u0443\u043d\u0433-\u0444\u0443 \u041f\u0430\u043d\u0434\u0430 4 (2024)   \n",
              "2                                           2046 (2004)   \n",
              "3     \u041f\u043e\u043b\u0438\u0446\u0435\u0439\u0441\u043a\u0438\u0439 \u0438\u0437 \u0411\u0435\u0432\u0435\u0440\u043b\u0438-\u0425\u0438\u043b\u043b\u0437: \u0410\u043a\u0441\u0435\u043b\u044c \u0424\u043e\u0443\u043b\u0438 (2024)   \n",
              "4                          \u0417\u043d\u0430\u043a\u043e\u043c\u044c\u0442\u0435\u0441\u044c, \u0414\u0436\u043e \u0411\u043b\u044d\u043a (1998)   \n",
              "...                                                 ...   \n",
              "1027                                         2+1 (2016)   \n",
              "1028                                 \u0410\u043f\u043e\u043a\u0430\u043b\u0438\u043f\u0441\u0438\u0441 (2006)   \n",
              "1029                                       \u041b\u0451\u0434 3 (2024)   \n",
              "1030                            \u041d\u0435 \u0433\u043e\u0432\u043e\u0440\u0438 \u043d\u0438\u043a\u043e\u043c\u0443 (2024)   \n",
              "1031                          \u041f\u0440\u0438\u043d\u0446\u0435\u0441\u0441\u0430 \u041c\u043e\u043d\u043e\u043d\u043e\u043a\u0435 (1997)   \n",
              "\n",
              "                                                   text  \\\n",
              "0     \u0414\u0435\u0439\u0441\u0442\u0432\u0438\u0435 \u0444\u0438\u043b\u044c\u043c\u0430 \u00ab\u0444\u0438\u043b\u044c\u043c\u00bb \u043f\u0440\u043e\u0438\u0441\u0445\u043e\u0434\u0438\u0442 \u0432 \u043c\u0438\u0440\u0435, \u043f\u0435\u0440...   \n",
              "1     \u041e\u0434\u043d\u0430\u0436\u0434\u044b \u043d\u043e\u0447\u044c\u044e \u043d\u0430 \u0432\u0435\u0440\u0448\u0438\u043d\u0435 \u0433\u043e\u0440\u044b \u0432\u043e\u0437\u043b\u0435 \u043a\u0430\u043c\u0435\u043d\u043e\u043b\u043e\u043c\u043d...   \n",
              "2     \u0433\u0435\u0440\u043e\u0439 \u0432\u043e\u0437\u0432\u0440\u0430\u0449\u0430\u0435\u0442\u0441\u044f \u0432 \u043b\u043e\u043a\u0430\u0446\u0438\u044f \u043f\u043e\u0441\u043b\u0435 \u043d\u0435\u0441\u043a\u043e\u043b\u044c\u043a\u0438\u0445 ...   \n",
              "3     \u0433\u0435\u0440\u043e\u0439 \u0432\u0435\u0440\u043d\u0443\u043b\u0441\u044f \u0432 \u043b\u043e\u043a\u0430\u0446\u0438\u044f \u043f\u043e\u0441\u043b\u0435 \u0442\u043e\u0433\u043e, \u043a\u0430\u043a \u0436\u0438\u0437\u043d\u044c...   \n",
              "4     \u0418\u0441\u0442\u043e\u0440\u0438\u044f \u043e\u0431 \u0433\u0435\u0440\u043e\u0439, \u043a\u043e\u0442\u043e\u0440\u044b\u0439 \u0440\u0435\u0448\u0430\u0435\u0442 \u0432\u0437\u044f\u0442\u044c \u043e\u0442\u043f\u0443\u0441\u043a ...   \n",
              "...                                                 ...   \n",
              "1027  \u0433\u0435\u0440\u043e\u0439\u0433\u0435\u0440\u043e\u0439), \u0431\u0435\u0433\u0443\u043d, \u043b\u044e\u0431\u0438\u0442\u0435\u043b\u044c \u0432\u0435\u0447\u0435\u0440\u0438\u043d\u043e\u043a \u0438 \u0431\u0430\u0431\u043d\u0438...   \n",
              "1028  1517 \u0433\u043e\u0434. \u041f\u043e\u043b\u0443\u043e\u0441\u0442\u0440\u043e\u0432 \u043b\u043e\u043a\u0430\u0446\u0438\u044f. \u0413\u0440\u0443\u043f\u043f\u0430 \u043e\u0445\u043e\u0442\u043d\u0438\u043a\u043e\u0432...   \n",
              "1029  \u0424\u0438\u043b\u044c\u043c \u043d\u0430\u0447\u0438\u043d\u0430\u0435\u0442\u0441\u044f \u0441 \u0438\u0441\u0442\u043e\u0440\u0438\u0438 \u0432\u0437\u0440\u043e\u0441\u043b\u0435\u043d\u0438\u044f \u0434\u043e\u0447\u0435\u0440\u0438 \u0433...   \n",
              "1030  \u041f\u0430\u0440\u0430 \u0432\u043c\u0435\u0441\u0442\u0435 \u0441 \u0434\u043e\u0447\u0435\u0440\u044c\u044e \u043f\u043e\u043b\u0443\u0447\u0430\u044e\u0442 \u043f\u0440\u0438\u0433\u043b\u0430\u0448\u0435\u043d\u0438\u0435 \u043e\u0442 ...   \n",
              "1031  \u041a\u043e\u0433\u0434\u0430-\u0442\u043e \u044d\u0442\u0443 \u0437\u0435\u043c\u043b\u044e \u0443\u043a\u0440\u044b\u0432\u0430\u043b \u043b\u0435\u0441, \u0433\u0434\u0435 \u0441 \u043d\u0435\u0437\u0430\u043f\u0430\u043c\u044f...   \n",
              "\n",
              "                                                 genres  \n",
              "0               \u0444\u0430\u043d\u0442\u0430\u0441\u0442\u0438\u043a\u0430, \u0434\u0435\u0442\u0435\u043a\u0442\u0438\u0432, \u0431\u043e\u0435\u0432\u0438\u043a, \u043c\u0435\u043b\u043e\u0434\u0440\u0430\u043c\u0430  \n",
              "1     \u043c\u0443\u043b\u044c\u0442\u0444\u0438\u043b\u044c\u043c, \u0444\u044d\u043d\u0442\u0435\u0437\u0438, \u0431\u043e\u0435\u0432\u0438\u043a, \u043a\u043e\u043c\u0435\u0434\u0438\u044f, \u043f\u0440\u0438\u043a\u043b\u044e\u0447\u0435\u043d\u0438\u044f  \n",
              "2                          \u0444\u0430\u043d\u0442\u0430\u0441\u0442\u0438\u043a\u0430, \u0434\u0440\u0430\u043c\u0430, \u043c\u0435\u043b\u043e\u0434\u0440\u0430\u043c\u0430  \n",
              "3                   \u0431\u043e\u0435\u0432\u0438\u043a, \u043a\u043e\u043c\u0435\u0434\u0438\u044f, \u043a\u0440\u0438\u043c\u0438\u043d\u0430\u043b, \u0434\u0435\u0442\u0435\u043a\u0442\u0438\u0432  \n",
              "4                             \u043c\u0435\u043b\u043e\u0434\u0440\u0430\u043c\u0430, \u0444\u044d\u043d\u0442\u0435\u0437\u0438, \u0434\u0440\u0430\u043c\u0430  \n",
              "...                                                 ...  \n",
              "1027                                     \u043a\u043e\u043c\u0435\u0434\u0438\u044f, \u0434\u0440\u0430\u043c\u0430  \n",
              "1028                \u0431\u043e\u0435\u0432\u0438\u043a, \u0442\u0440\u0438\u043b\u043b\u0435\u0440, \u0434\u0440\u0430\u043c\u0430, \u043f\u0440\u0438\u043a\u043b\u044e\u0447\u0435\u043d\u0438\u044f  \n",
              "1029                                  \u043c\u044e\u0437\u0438\u043a\u043b, \u043c\u0435\u043b\u043e\u0434\u0440\u0430\u043c\u0430  \n",
              "1030                                     \u0442\u0440\u0438\u043b\u043b\u0435\u0440, \u0434\u0440\u0430\u043c\u0430  \n",
              "1031    \u043c\u0443\u043b\u044c\u0442\u0444\u0438\u043b\u044c\u043c, \u0444\u044d\u043d\u0442\u0435\u0437\u0438, \u0431\u043e\u0435\u0432\u0438\u043a, \u0434\u0440\u0430\u043c\u0430, \u043f\u0440\u0438\u043a\u043b\u044e\u0447\u0435\u043d\u0438\u044f  \n",
              "\n",
              "[1032 rows x 3 columns]"
            ]
          },
          "metadata": {},
          "execution_count": 30
        }
      ],
      "execution_count": null
    },
    {
      "metadata": {},
      "source": [
        "df_train = get_chunked_dataframe(df_train)\n",
        "df_test = get_chunked_dataframe(df_test)\n",
        "df_train"
      ],
      "cell_type": "code",
      "outputs": [
        {
          "output_type": "execute_result",
          "data": {
            "text/html": [
              "<div>\n",
              "<style scoped>\n",
              "    .dataframe tbody tr th:only-of-type {\n",
              "        vertical-align: middle;\n",
              "    }\n",
              "\n",
              "    .dataframe tbody tr th {\n",
              "        vertical-align: top;\n",
              "    }\n",
              "\n",
              "    .dataframe thead th {\n",
              "        text-align: right;\n",
              "    }\n",
              "</style>\n",
              "<table border=\"1\" class=\"dataframe\">\n",
              "  <thead>\n",
              "    <tr style=\"text-align: right;\">\n",
              "      <th></th>\n",
              "      <th>movie</th>\n",
              "      <th>text</th>\n",
              "      <th>genres</th>\n",
              "    </tr>\n",
              "  </thead>\n",
              "  <tbody>\n",
              "    <tr>\n",
              "      <th>0</th>\n",
              "      <td>\u0414\u0438\u0432\u0435\u0440\u0433\u0435\u043d\u0442 (2014)</td>\n",
              "      <td>\u0414\u0435\u0439\u0441\u0442\u0432\u0438\u0435 \u0444\u0438\u043b\u044c\u043c\u0430 \u00ab\u0444\u0438\u043b\u044c\u043c\u00bb \u043f\u0440\u043e\u0438\u0441\u0445\u043e\u0434\u0438\u0442 \u0432 \u043c\u0438\u0440\u0435, \u043f\u0435\u0440...</td>\n",
              "      <td>\u0444\u0430\u043d\u0442\u0430\u0441\u0442\u0438\u043a\u0430, \u0434\u0435\u0442\u0435\u043a\u0442\u0438\u0432, \u0431\u043e\u0435\u0432\u0438\u043a, \u043c\u0435\u043b\u043e\u0434\u0440\u0430\u043c\u0430</td>\n",
              "    </tr>\n",
              "    <tr>\n",
              "      <th>1</th>\n",
              "      <td>\u041a\u0443\u043d\u0433-\u0444\u0443 \u041f\u0430\u043d\u0434\u0430 4 (2024)</td>\n",
              "      <td>\u041e\u0434\u043d\u0430\u0436\u0434\u044b \u043d\u043e\u0447\u044c\u044e \u043d\u0430 \u0432\u0435\u0440\u0448\u0438\u043d\u0435 \u0433\u043e\u0440\u044b \u0432\u043e\u0437\u043b\u0435 \u043a\u0430\u043c\u0435\u043d\u043e\u043b\u043e\u043c\u043d...</td>\n",
              "      <td>\u043c\u0443\u043b\u044c\u0442\u0444\u0438\u043b\u044c\u043c, \u0444\u044d\u043d\u0442\u0435\u0437\u0438, \u0431\u043e\u0435\u0432\u0438\u043a, \u043a\u043e\u043c\u0435\u0434\u0438\u044f, \u043f\u0440\u0438\u043a\u043b\u044e\u0447\u0435\u043d\u0438\u044f</td>\n",
              "    </tr>\n",
              "    <tr>\n",
              "      <th>2</th>\n",
              "      <td>2046 (2004)</td>\n",
              "      <td>\u0433\u0435\u0440\u043e\u0439 \u0432\u043e\u0437\u0432\u0440\u0430\u0449\u0430\u0435\u0442\u0441\u044f \u0432 \u043b\u043e\u043a\u0430\u0446\u0438\u044f \u043f\u043e\u0441\u043b\u0435 \u043d\u0435\u0441\u043a\u043e\u043b\u044c\u043a\u0438\u0445 ...</td>\n",
              "      <td>\u0444\u0430\u043d\u0442\u0430\u0441\u0442\u0438\u043a\u0430, \u0434\u0440\u0430\u043c\u0430, \u043c\u0435\u043b\u043e\u0434\u0440\u0430\u043c\u0430</td>\n",
              "    </tr>\n",
              "    <tr>\n",
              "      <th>3</th>\n",
              "      <td>\u041f\u043e\u043b\u0438\u0446\u0435\u0439\u0441\u043a\u0438\u0439 \u0438\u0437 \u0411\u0435\u0432\u0435\u0440\u043b\u0438-\u0425\u0438\u043b\u043b\u0437: \u0410\u043a\u0441\u0435\u043b\u044c \u0424\u043e\u0443\u043b\u0438 (2024)</td>\n",
              "      <td>\u0433\u0435\u0440\u043e\u0439 \u0432\u0435\u0440\u043d\u0443\u043b\u0441\u044f \u0432 \u043b\u043e\u043a\u0430\u0446\u0438\u044f \u043f\u043e\u0441\u043b\u0435 \u0442\u043e\u0433\u043e, \u043a\u0430\u043a \u0436\u0438\u0437\u043d\u044c...</td>\n",
              "      <td>\u0431\u043e\u0435\u0432\u0438\u043a, \u043a\u043e\u043c\u0435\u0434\u0438\u044f, \u043a\u0440\u0438\u043c\u0438\u043d\u0430\u043b, \u0434\u0435\u0442\u0435\u043a\u0442\u0438\u0432</td>\n",
              "    </tr>\n",
              "    <tr>\n",
              "      <th>4</th>\n",
              "      <td>\u0417\u043d\u0430\u043a\u043e\u043c\u044c\u0442\u0435\u0441\u044c, \u0414\u0436\u043e \u0411\u043b\u044d\u043a (1998)</td>\n",
              "      <td>\u0418\u0441\u0442\u043e\u0440\u0438\u044f \u043e\u0431 \u0433\u0435\u0440\u043e\u0439, \u043a\u043e\u0442\u043e\u0440\u044b\u0439 \u0440\u0435\u0448\u0430\u0435\u0442 \u0432\u0437\u044f\u0442\u044c \u043e\u0442\u043f\u0443\u0441\u043a ...</td>\n",
              "      <td>\u043c\u0435\u043b\u043e\u0434\u0440\u0430\u043c\u0430, \u0444\u044d\u043d\u0442\u0435\u0437\u0438, \u0434\u0440\u0430\u043c\u0430</td>\n",
              "    </tr>\n",
              "    <tr>\n",
              "      <th>...</th>\n",
              "      <td>...</td>\n",
              "      <td>...</td>\n",
              "      <td>...</td>\n",
              "    </tr>\n",
              "    <tr>\n",
              "      <th>2524</th>\n",
              "      <td>\u041f\u0440\u0438\u043d\u0446\u0435\u0441\u0441\u0430 \u041c\u043e\u043d\u043e\u043d\u043e\u043a\u0435 (1997)</td>\n",
              "      <td>\u041a\u043e\u0433\u0434\u0430-\u0442\u043e \u044d\u0442\u0443 \u0437\u0435\u043c\u043b\u044e \u0443\u043a\u0440\u044b\u0432\u0430\u043b \u043b\u0435\u0441, \u0433\u0434\u0435 \u0441 \u043d\u0435\u0437\u0430\u043f\u0430\u043c\u044f...</td>\n",
              "      <td>\u043c\u0443\u043b\u044c\u0442\u0444\u0438\u043b\u044c\u043c, \u0444\u044d\u043d\u0442\u0435\u0437\u0438, \u0431\u043e\u0435\u0432\u0438\u043a, \u0434\u0440\u0430\u043c\u0430, \u043f\u0440\u0438\u043a\u043b\u044e\u0447\u0435\u043d\u0438\u044f</td>\n",
              "    </tr>\n",
              "    <tr>\n",
              "      <th>2525</th>\n",
              "      <td>\u041f\u0440\u0438\u043d\u0446\u0435\u0441\u0441\u0430 \u041c\u043e\u043d\u043e\u043d\u043e\u043a\u0435 (1997)</td>\n",
              "      <td>\u0421\u043d\u0430\u0447\u0430\u043b\u0430 \u043c\u043e\u043d\u0430\u0445 \u043f\u043e\u043c\u043e\u0433\u0430\u0435\u0442 \u0433\u0435\u0440\u043e\u0439 \u0432\u044b\u0439\u0442\u0438 \u0438\u0437 \u0437\u0430\u0442\u0440\u0443\u0434\u043d\u0438...</td>\n",
              "      <td>\u043c\u0443\u043b\u044c\u0442\u0444\u0438\u043b\u044c\u043c, \u0444\u044d\u043d\u0442\u0435\u0437\u0438, \u0431\u043e\u0435\u0432\u0438\u043a, \u0434\u0440\u0430\u043c\u0430, \u043f\u0440\u0438\u043a\u043b\u044e\u0447\u0435\u043d\u0438\u044f</td>\n",
              "    </tr>\n",
              "    <tr>\n",
              "      <th>2526</th>\n",
              "      <td>\u041f\u0440\u0438\u043d\u0446\u0435\u0441\u0441\u0430 \u041c\u043e\u043d\u043e\u043d\u043e\u043a\u0435 (1997)</td>\n",
              "      <td>\u0412 \u0441\u0440\u0430\u0436\u0435\u043d\u0438\u0438 \u0433\u0438\u0431\u043d\u0443\u0442 \u043b\u044e\u0434\u0438, \u0431\u044b\u043a\u0438, \u043b\u0435\u0442\u044f\u0442 \u0432 \u043f\u0440\u043e\u043f\u0430\u0441\u0442\u044c...</td>\n",
              "      <td>\u043c\u0443\u043b\u044c\u0442\u0444\u0438\u043b\u044c\u043c, \u0444\u044d\u043d\u0442\u0435\u0437\u0438, \u0431\u043e\u0435\u0432\u0438\u043a, \u0434\u0440\u0430\u043c\u0430, \u043f\u0440\u0438\u043a\u043b\u044e\u0447\u0435\u043d\u0438\u044f</td>\n",
              "    </tr>\n",
              "    <tr>\n",
              "      <th>2527</th>\n",
              "      <td>\u041f\u0440\u0438\u043d\u0446\u0435\u0441\u0441\u0430 \u041c\u043e\u043d\u043e\u043d\u043e\u043a\u0435 (1997)</td>\n",
              "      <td>\u0422\u0435\u043c \u043d\u0435 \u043c\u0435\u043d\u0435\u0435 \u0433\u0435\u0440\u043e\u0439 \u0442\u0430\u043a \u0438 \u043d\u0435 \u0438\u0437\u0431\u0430\u0432\u043b\u044f\u0435\u0442\u0441\u044f \u043e\u0442 \u043f\u0440\u043e...</td>\n",
              "      <td>\u043c\u0443\u043b\u044c\u0442\u0444\u0438\u043b\u044c\u043c, \u0444\u044d\u043d\u0442\u0435\u0437\u0438, \u0431\u043e\u0435\u0432\u0438\u043a, \u0434\u0440\u0430\u043c\u0430, \u043f\u0440\u0438\u043a\u043b\u044e\u0447\u0435\u043d\u0438\u044f</td>\n",
              "    </tr>\n",
              "    <tr>\n",
              "      <th>2528</th>\n",
              "      <td>\u041f\u0440\u0438\u043d\u0446\u0435\u0441\u0441\u0430 \u041c\u043e\u043d\u043e\u043d\u043e\u043a\u0435 (1997)</td>\n",
              "      <td>\u041e\u0431\u0435\u0437\u0433\u043b\u0430\u0432\u043b\u0435\u043d\u043d\u043e\u0435 \u0442\u0435\u043b\u043e \u0433\u0435\u0440\u043e\u0439 \u043b\u043e\u043a\u0430\u0446\u0438\u044f \u0442\u044f\u043d\u0435\u0442\u0441\u044f \u043a \u0441\u0432...</td>\n",
              "      <td>\u043c\u0443\u043b\u044c\u0442\u0444\u0438\u043b\u044c\u043c, \u0444\u044d\u043d\u0442\u0435\u0437\u0438, \u0431\u043e\u0435\u0432\u0438\u043a, \u0434\u0440\u0430\u043c\u0430, \u043f\u0440\u0438\u043a\u043b\u044e\u0447\u0435\u043d\u0438\u044f</td>\n",
              "    </tr>\n",
              "  </tbody>\n",
              "</table>\n",
              "<p>2529 rows \u00d7 3 columns</p>\n",
              "</div>"
            ],
            "text/plain": [
              "                                                  movie  \\\n",
              "0                                      \u0414\u0438\u0432\u0435\u0440\u0433\u0435\u043d\u0442 (2014)   \n",
              "1                                \u041a\u0443\u043d\u0433-\u0444\u0443 \u041f\u0430\u043d\u0434\u0430 4 (2024)   \n",
              "2                                           2046 (2004)   \n",
              "3     \u041f\u043e\u043b\u0438\u0446\u0435\u0439\u0441\u043a\u0438\u0439 \u0438\u0437 \u0411\u0435\u0432\u0435\u0440\u043b\u0438-\u0425\u0438\u043b\u043b\u0437: \u0410\u043a\u0441\u0435\u043b\u044c \u0424\u043e\u0443\u043b\u0438 (2024)   \n",
              "4                          \u0417\u043d\u0430\u043a\u043e\u043c\u044c\u0442\u0435\u0441\u044c, \u0414\u0436\u043e \u0411\u043b\u044d\u043a (1998)   \n",
              "...                                                 ...   \n",
              "2524                          \u041f\u0440\u0438\u043d\u0446\u0435\u0441\u0441\u0430 \u041c\u043e\u043d\u043e\u043d\u043e\u043a\u0435 (1997)   \n",
              "2525                          \u041f\u0440\u0438\u043d\u0446\u0435\u0441\u0441\u0430 \u041c\u043e\u043d\u043e\u043d\u043e\u043a\u0435 (1997)   \n",
              "2526                          \u041f\u0440\u0438\u043d\u0446\u0435\u0441\u0441\u0430 \u041c\u043e\u043d\u043e\u043d\u043e\u043a\u0435 (1997)   \n",
              "2527                          \u041f\u0440\u0438\u043d\u0446\u0435\u0441\u0441\u0430 \u041c\u043e\u043d\u043e\u043d\u043e\u043a\u0435 (1997)   \n",
              "2528                          \u041f\u0440\u0438\u043d\u0446\u0435\u0441\u0441\u0430 \u041c\u043e\u043d\u043e\u043d\u043e\u043a\u0435 (1997)   \n",
              "\n",
              "                                                   text  \\\n",
              "0     \u0414\u0435\u0439\u0441\u0442\u0432\u0438\u0435 \u0444\u0438\u043b\u044c\u043c\u0430 \u00ab\u0444\u0438\u043b\u044c\u043c\u00bb \u043f\u0440\u043e\u0438\u0441\u0445\u043e\u0434\u0438\u0442 \u0432 \u043c\u0438\u0440\u0435, \u043f\u0435\u0440...   \n",
              "1     \u041e\u0434\u043d\u0430\u0436\u0434\u044b \u043d\u043e\u0447\u044c\u044e \u043d\u0430 \u0432\u0435\u0440\u0448\u0438\u043d\u0435 \u0433\u043e\u0440\u044b \u0432\u043e\u0437\u043b\u0435 \u043a\u0430\u043c\u0435\u043d\u043e\u043b\u043e\u043c\u043d...   \n",
              "2     \u0433\u0435\u0440\u043e\u0439 \u0432\u043e\u0437\u0432\u0440\u0430\u0449\u0430\u0435\u0442\u0441\u044f \u0432 \u043b\u043e\u043a\u0430\u0446\u0438\u044f \u043f\u043e\u0441\u043b\u0435 \u043d\u0435\u0441\u043a\u043e\u043b\u044c\u043a\u0438\u0445 ...   \n",
              "3     \u0433\u0435\u0440\u043e\u0439 \u0432\u0435\u0440\u043d\u0443\u043b\u0441\u044f \u0432 \u043b\u043e\u043a\u0430\u0446\u0438\u044f \u043f\u043e\u0441\u043b\u0435 \u0442\u043e\u0433\u043e, \u043a\u0430\u043a \u0436\u0438\u0437\u043d\u044c...   \n",
              "4     \u0418\u0441\u0442\u043e\u0440\u0438\u044f \u043e\u0431 \u0433\u0435\u0440\u043e\u0439, \u043a\u043e\u0442\u043e\u0440\u044b\u0439 \u0440\u0435\u0448\u0430\u0435\u0442 \u0432\u0437\u044f\u0442\u044c \u043e\u0442\u043f\u0443\u0441\u043a ...   \n",
              "...                                                 ...   \n",
              "2524  \u041a\u043e\u0433\u0434\u0430-\u0442\u043e \u044d\u0442\u0443 \u0437\u0435\u043c\u043b\u044e \u0443\u043a\u0440\u044b\u0432\u0430\u043b \u043b\u0435\u0441, \u0433\u0434\u0435 \u0441 \u043d\u0435\u0437\u0430\u043f\u0430\u043c\u044f...   \n",
              "2525  \u0421\u043d\u0430\u0447\u0430\u043b\u0430 \u043c\u043e\u043d\u0430\u0445 \u043f\u043e\u043c\u043e\u0433\u0430\u0435\u0442 \u0433\u0435\u0440\u043e\u0439 \u0432\u044b\u0439\u0442\u0438 \u0438\u0437 \u0437\u0430\u0442\u0440\u0443\u0434\u043d\u0438...   \n",
              "2526  \u0412 \u0441\u0440\u0430\u0436\u0435\u043d\u0438\u0438 \u0433\u0438\u0431\u043d\u0443\u0442 \u043b\u044e\u0434\u0438, \u0431\u044b\u043a\u0438, \u043b\u0435\u0442\u044f\u0442 \u0432 \u043f\u0440\u043e\u043f\u0430\u0441\u0442\u044c...   \n",
              "2527  \u0422\u0435\u043c \u043d\u0435 \u043c\u0435\u043d\u0435\u0435 \u0433\u0435\u0440\u043e\u0439 \u0442\u0430\u043a \u0438 \u043d\u0435 \u0438\u0437\u0431\u0430\u0432\u043b\u044f\u0435\u0442\u0441\u044f \u043e\u0442 \u043f\u0440\u043e...   \n",
              "2528  \u041e\u0431\u0435\u0437\u0433\u043b\u0430\u0432\u043b\u0435\u043d\u043d\u043e\u0435 \u0442\u0435\u043b\u043e \u0433\u0435\u0440\u043e\u0439 \u043b\u043e\u043a\u0430\u0446\u0438\u044f \u0442\u044f\u043d\u0435\u0442\u0441\u044f \u043a \u0441\u0432...   \n",
              "\n",
              "                                                 genres  \n",
              "0               \u0444\u0430\u043d\u0442\u0430\u0441\u0442\u0438\u043a\u0430, \u0434\u0435\u0442\u0435\u043a\u0442\u0438\u0432, \u0431\u043e\u0435\u0432\u0438\u043a, \u043c\u0435\u043b\u043e\u0434\u0440\u0430\u043c\u0430  \n",
              "1     \u043c\u0443\u043b\u044c\u0442\u0444\u0438\u043b\u044c\u043c, \u0444\u044d\u043d\u0442\u0435\u0437\u0438, \u0431\u043e\u0435\u0432\u0438\u043a, \u043a\u043e\u043c\u0435\u0434\u0438\u044f, \u043f\u0440\u0438\u043a\u043b\u044e\u0447\u0435\u043d\u0438\u044f  \n",
              "2                          \u0444\u0430\u043d\u0442\u0430\u0441\u0442\u0438\u043a\u0430, \u0434\u0440\u0430\u043c\u0430, \u043c\u0435\u043b\u043e\u0434\u0440\u0430\u043c\u0430  \n",
              "3                   \u0431\u043e\u0435\u0432\u0438\u043a, \u043a\u043e\u043c\u0435\u0434\u0438\u044f, \u043a\u0440\u0438\u043c\u0438\u043d\u0430\u043b, \u0434\u0435\u0442\u0435\u043a\u0442\u0438\u0432  \n",
              "4                             \u043c\u0435\u043b\u043e\u0434\u0440\u0430\u043c\u0430, \u0444\u044d\u043d\u0442\u0435\u0437\u0438, \u0434\u0440\u0430\u043c\u0430  \n",
              "...                                                 ...  \n",
              "2524    \u043c\u0443\u043b\u044c\u0442\u0444\u0438\u043b\u044c\u043c, \u0444\u044d\u043d\u0442\u0435\u0437\u0438, \u0431\u043e\u0435\u0432\u0438\u043a, \u0434\u0440\u0430\u043c\u0430, \u043f\u0440\u0438\u043a\u043b\u044e\u0447\u0435\u043d\u0438\u044f  \n",
              "2525    \u043c\u0443\u043b\u044c\u0442\u0444\u0438\u043b\u044c\u043c, \u0444\u044d\u043d\u0442\u0435\u0437\u0438, \u0431\u043e\u0435\u0432\u0438\u043a, \u0434\u0440\u0430\u043c\u0430, \u043f\u0440\u0438\u043a\u043b\u044e\u0447\u0435\u043d\u0438\u044f  \n",
              "2526    \u043c\u0443\u043b\u044c\u0442\u0444\u0438\u043b\u044c\u043c, \u0444\u044d\u043d\u0442\u0435\u0437\u0438, \u0431\u043e\u0435\u0432\u0438\u043a, \u0434\u0440\u0430\u043c\u0430, \u043f\u0440\u0438\u043a\u043b\u044e\u0447\u0435\u043d\u0438\u044f  \n",
              "2527    \u043c\u0443\u043b\u044c\u0442\u0444\u0438\u043b\u044c\u043c, \u0444\u044d\u043d\u0442\u0435\u0437\u0438, \u0431\u043e\u0435\u0432\u0438\u043a, \u0434\u0440\u0430\u043c\u0430, \u043f\u0440\u0438\u043a\u043b\u044e\u0447\u0435\u043d\u0438\u044f  \n",
              "2528    \u043c\u0443\u043b\u044c\u0442\u0444\u0438\u043b\u044c\u043c, \u0444\u044d\u043d\u0442\u0435\u0437\u0438, \u0431\u043e\u0435\u0432\u0438\u043a, \u0434\u0440\u0430\u043c\u0430, \u043f\u0440\u0438\u043a\u043b\u044e\u0447\u0435\u043d\u0438\u044f  \n",
              "\n",
              "[2529 rows x 3 columns]"
            ]
          },
          "metadata": {},
          "execution_count": 31
        },
        {
          "output_type": "display_data",
          "data": {
            "image/png": "[encoded data removed]",
            "text/plain": [
              "<Figure size 640x480 with 1 Axes>"
            ]
          },
          "metadata": {}
        }
      ],
      "execution_count": null
    },
    {
      "metadata": {},
      "source": [
        "# from transformers import pipeline\n",
        "\n",
        "# translator_ru_en = pipeline(\n",
        "#     \"translation\", model=\"Helsinki-NLP/opus-mt-ru-en\", device=\"cuda\", batch_size=10\n",
        "# )\n",
        "# translator_en_ru = pipeline(\n",
        "#     \"translation\", model=\"Helsinki-NLP/opus-mt-en-ru\", device=\"cuda\", batch_size=10\n",
        "# )\n",
        "\n",
        "\n",
        "# def translate(text):\n",
        "#     try:\n",
        "#         translated_to_en = translator_ru_en(text)\n",
        "#         back_to_ru = translator_en_ru([x[\"translation_text\"] for x in translated_to_en])\n",
        "\n",
        "#         return {\"translated\": [x[\"translation_text\"] for x in back_to_ru]}\n",
        "#     except Exception as e:\n",
        "#         print(f\"Error during translation: {e}\")\n",
        "#         return text\n",
        "\n",
        "\n",
        "# dataset_temp = Dataset.from_pandas(df_train)\n",
        "\n",
        "# dataset_temp = dataset_temp.map(lambda x: translate(x[\"text\"]), batched=True, batch_size=10)\n",
        "# temp_df = dataset_temp.to_pandas()"
      ],
      "cell_type": "code",
      "outputs": [],
      "execution_count": null
    },
    {
      "metadata": {},
      "source": [
        "# temp_df = pd.read_csv(\"data/translated_df_train.csv\")\n",
        "\n",
        "# temp_df = temp_df.drop(\"text\", axis=1)\n",
        "# temp_df = temp_df.rename(columns={\"translated\": \"text\"})\n",
        "# df_train = pd.concat([df_train, temp_df], ignore_index=True)"
      ],
      "cell_type": "code",
      "outputs": [],
      "execution_count": null
    },
    {
      "metadata": {},
      "source": [
        "df_train[\"genres\"] = df_train[\"genres\"].apply(lambda x: x.split(\", \"))\n",
        "mlb = MultiLabelBinarizer()\n",
        "y = mlb.fit_transform(df_train[\"genres\"])\n",
        "df_train[\"target\"] = y.tolist()\n",
        "df_train = df_train.drop(\"genres\", axis=1)\n",
        "\n",
        "df_test[\"genres\"] = df_test[\"genres\"].apply(lambda x: x.split(\", \"))\n",
        "mlb = MultiLabelBinarizer()\n",
        "y = mlb.fit_transform(df_test[\"genres\"])\n",
        "df_test[\"target\"] = y.tolist()\n",
        "df_test = df_test.drop(\"genres\", axis=1)\n",
        "\n",
        "df_train"
      ],
      "cell_type": "code",
      "outputs": [
        {
          "output_type": "execute_result",
          "data": {
            "text/html": [
              "<div>\n",
              "<style scoped>\n",
              "    .dataframe tbody tr th:only-of-type {\n",
              "        vertical-align: middle;\n",
              "    }\n",
              "\n",
              "    .dataframe tbody tr th {\n",
              "        vertical-align: top;\n",
              "    }\n",
              "\n",
              "    .dataframe thead th {\n",
              "        text-align: right;\n",
              "    }\n",
              "</style>\n",
              "<table border=\"1\" class=\"dataframe\">\n",
              "  <thead>\n",
              "    <tr style=\"text-align: right;\">\n",
              "      <th></th>\n",
              "      <th>movie</th>\n",
              "      <th>text</th>\n",
              "      <th>target</th>\n",
              "    </tr>\n",
              "  </thead>\n",
              "  <tbody>\n",
              "    <tr>\n",
              "      <th>0</th>\n",
              "      <td>\u0414\u0438\u0432\u0435\u0440\u0433\u0435\u043d\u0442 (2014)</td>\n",
              "      <td>\u0414\u0435\u0439\u0441\u0442\u0432\u0438\u0435 \u0444\u0438\u043b\u044c\u043c\u0430 \u00ab\u0444\u0438\u043b\u044c\u043c\u00bb \u043f\u0440\u043e\u0438\u0441\u0445\u043e\u0434\u0438\u0442 \u0432 \u043c\u0438\u0440\u0435, \u043f\u0435\u0440...</td>\n",
              "      <td>[1, 1, 0, 0, 0, 0, 1, 0, 0, 0, 0, 0, 1, 0]</td>\n",
              "    </tr>\n",
              "    <tr>\n",
              "      <th>1</th>\n",
              "      <td>\u041a\u0443\u043d\u0433-\u0444\u0443 \u041f\u0430\u043d\u0434\u0430 4 (2024)</td>\n",
              "      <td>\u041e\u0434\u043d\u0430\u0436\u0434\u044b \u043d\u043e\u0447\u044c\u044e \u043d\u0430 \u0432\u0435\u0440\u0448\u0438\u043d\u0435 \u0433\u043e\u0440\u044b \u0432\u043e\u0437\u043b\u0435 \u043a\u0430\u043c\u0435\u043d\u043e\u043b\u043e\u043c\u043d...</td>\n",
              "      <td>[1, 0, 0, 0, 1, 0, 0, 1, 0, 1, 0, 0, 0, 1]</td>\n",
              "    </tr>\n",
              "    <tr>\n",
              "      <th>2</th>\n",
              "      <td>2046 (2004)</td>\n",
              "      <td>\u0433\u0435\u0440\u043e\u0439 \u0432\u043e\u0437\u0432\u0440\u0430\u0449\u0430\u0435\u0442\u0441\u044f \u0432 \u043b\u043e\u043a\u0430\u0446\u0438\u044f \u043f\u043e\u0441\u043b\u0435 \u043d\u0435\u0441\u043a\u043e\u043b\u044c\u043a\u0438\u0445 ...</td>\n",
              "      <td>[0, 0, 1, 0, 0, 0, 1, 0, 0, 0, 0, 0, 1, 0]</td>\n",
              "    </tr>\n",
              "    <tr>\n",
              "      <th>3</th>\n",
              "      <td>\u041f\u043e\u043b\u0438\u0446\u0435\u0439\u0441\u043a\u0438\u0439 \u0438\u0437 \u0411\u0435\u0432\u0435\u0440\u043b\u0438-\u0425\u0438\u043b\u043b\u0437: \u0410\u043a\u0441\u0435\u043b\u044c \u0424\u043e\u0443\u043b\u0438 (2024)</td>\n",
              "      <td>\u0433\u0435\u0440\u043e\u0439 \u0432\u0435\u0440\u043d\u0443\u043b\u0441\u044f \u0432 \u043b\u043e\u043a\u0430\u0446\u0438\u044f \u043f\u043e\u0441\u043b\u0435 \u0442\u043e\u0433\u043e, \u043a\u0430\u043a \u0436\u0438\u0437\u043d\u044c...</td>\n",
              "      <td>[1, 1, 0, 0, 1, 1, 0, 0, 0, 0, 0, 0, 0, 0]</td>\n",
              "    </tr>\n",
              "    <tr>\n",
              "      <th>4</th>\n",
              "      <td>\u0417\u043d\u0430\u043a\u043e\u043c\u044c\u0442\u0435\u0441\u044c, \u0414\u0436\u043e \u0411\u043b\u044d\u043a (1998)</td>\n",
              "      <td>\u0418\u0441\u0442\u043e\u0440\u0438\u044f \u043e\u0431 \u0433\u0435\u0440\u043e\u0439, \u043a\u043e\u0442\u043e\u0440\u044b\u0439 \u0440\u0435\u0448\u0430\u0435\u0442 \u0432\u0437\u044f\u0442\u044c \u043e\u0442\u043f\u0443\u0441\u043a ...</td>\n",
              "      <td>[0, 0, 1, 0, 0, 0, 1, 0, 0, 0, 0, 0, 0, 1]</td>\n",
              "    </tr>\n",
              "    <tr>\n",
              "      <th>...</th>\n",
              "      <td>...</td>\n",
              "      <td>...</td>\n",
              "      <td>...</td>\n",
              "    </tr>\n",
              "    <tr>\n",
              "      <th>2524</th>\n",
              "      <td>\u041f\u0440\u0438\u043d\u0446\u0435\u0441\u0441\u0430 \u041c\u043e\u043d\u043e\u043d\u043e\u043a\u0435 (1997)</td>\n",
              "      <td>\u041a\u043e\u0433\u0434\u0430-\u0442\u043e \u044d\u0442\u0443 \u0437\u0435\u043c\u043b\u044e \u0443\u043a\u0440\u044b\u0432\u0430\u043b \u043b\u0435\u0441, \u0433\u0434\u0435 \u0441 \u043d\u0435\u0437\u0430\u043f\u0430\u043c\u044f...</td>\n",
              "      <td>[1, 0, 1, 0, 0, 0, 0, 1, 0, 1, 0, 0, 0, 1]</td>\n",
              "    </tr>\n",
              "    <tr>\n",
              "      <th>2525</th>\n",
              "      <td>\u041f\u0440\u0438\u043d\u0446\u0435\u0441\u0441\u0430 \u041c\u043e\u043d\u043e\u043d\u043e\u043a\u0435 (1997)</td>\n",
              "      <td>\u0421\u043d\u0430\u0447\u0430\u043b\u0430 \u043c\u043e\u043d\u0430\u0445 \u043f\u043e\u043c\u043e\u0433\u0430\u0435\u0442 \u0433\u0435\u0440\u043e\u0439 \u0432\u044b\u0439\u0442\u0438 \u0438\u0437 \u0437\u0430\u0442\u0440\u0443\u0434\u043d\u0438...</td>\n",
              "      <td>[1, 0, 1, 0, 0, 0, 0, 1, 0, 1, 0, 0, 0, 1]</td>\n",
              "    </tr>\n",
              "    <tr>\n",
              "      <th>2526</th>\n",
              "      <td>\u041f\u0440\u0438\u043d\u0446\u0435\u0441\u0441\u0430 \u041c\u043e\u043d\u043e\u043d\u043e\u043a\u0435 (1997)</td>\n",
              "      <td>\u0412 \u0441\u0440\u0430\u0436\u0435\u043d\u0438\u0438 \u0433\u0438\u0431\u043d\u0443\u0442 \u043b\u044e\u0434\u0438, \u0431\u044b\u043a\u0438, \u043b\u0435\u0442\u044f\u0442 \u0432 \u043f\u0440\u043e\u043f\u0430\u0441\u0442\u044c...</td>\n",
              "      <td>[1, 0, 1, 0, 0, 0, 0, 1, 0, 1, 0, 0, 0, 1]</td>\n",
              "    </tr>\n",
              "    <tr>\n",
              "      <th>2527</th>\n",
              "      <td>\u041f\u0440\u0438\u043d\u0446\u0435\u0441\u0441\u0430 \u041c\u043e\u043d\u043e\u043d\u043e\u043a\u0435 (1997)</td>\n",
              "      <td>\u0422\u0435\u043c \u043d\u0435 \u043c\u0435\u043d\u0435\u0435 \u0433\u0435\u0440\u043e\u0439 \u0442\u0430\u043a \u0438 \u043d\u0435 \u0438\u0437\u0431\u0430\u0432\u043b\u044f\u0435\u0442\u0441\u044f \u043e\u0442 \u043f\u0440\u043e...</td>\n",
              "      <td>[1, 0, 1, 0, 0, 0, 0, 1, 0, 1, 0, 0, 0, 1]</td>\n",
              "    </tr>\n",
              "    <tr>\n",
              "      <th>2528</th>\n",
              "      <td>\u041f\u0440\u0438\u043d\u0446\u0435\u0441\u0441\u0430 \u041c\u043e\u043d\u043e\u043d\u043e\u043a\u0435 (1997)</td>\n",
              "      <td>\u041e\u0431\u0435\u0437\u0433\u043b\u0430\u0432\u043b\u0435\u043d\u043d\u043e\u0435 \u0442\u0435\u043b\u043e \u0433\u0435\u0440\u043e\u0439 \u043b\u043e\u043a\u0430\u0446\u0438\u044f \u0442\u044f\u043d\u0435\u0442\u0441\u044f \u043a \u0441\u0432...</td>\n",
              "      <td>[1, 0, 1, 0, 0, 0, 0, 1, 0, 1, 0, 0, 0, 1]</td>\n",
              "    </tr>\n",
              "  </tbody>\n",
              "</table>\n",
              "<p>2529 rows \u00d7 3 columns</p>\n",
              "</div>"
            ],
            "text/plain": [
              "                                                  movie  \\\n",
              "0                                      \u0414\u0438\u0432\u0435\u0440\u0433\u0435\u043d\u0442 (2014)   \n",
              "1                                \u041a\u0443\u043d\u0433-\u0444\u0443 \u041f\u0430\u043d\u0434\u0430 4 (2024)   \n",
              "2                                           2046 (2004)   \n",
              "3     \u041f\u043e\u043b\u0438\u0446\u0435\u0439\u0441\u043a\u0438\u0439 \u0438\u0437 \u0411\u0435\u0432\u0435\u0440\u043b\u0438-\u0425\u0438\u043b\u043b\u0437: \u0410\u043a\u0441\u0435\u043b\u044c \u0424\u043e\u0443\u043b\u0438 (2024)   \n",
              "4                          \u0417\u043d\u0430\u043a\u043e\u043c\u044c\u0442\u0435\u0441\u044c, \u0414\u0436\u043e \u0411\u043b\u044d\u043a (1998)   \n",
              "...                                                 ...   \n",
              "2524                          \u041f\u0440\u0438\u043d\u0446\u0435\u0441\u0441\u0430 \u041c\u043e\u043d\u043e\u043d\u043e\u043a\u0435 (1997)   \n",
              "2525                          \u041f\u0440\u0438\u043d\u0446\u0435\u0441\u0441\u0430 \u041c\u043e\u043d\u043e\u043d\u043e\u043a\u0435 (1997)   \n",
              "2526                          \u041f\u0440\u0438\u043d\u0446\u0435\u0441\u0441\u0430 \u041c\u043e\u043d\u043e\u043d\u043e\u043a\u0435 (1997)   \n",
              "2527                          \u041f\u0440\u0438\u043d\u0446\u0435\u0441\u0441\u0430 \u041c\u043e\u043d\u043e\u043d\u043e\u043a\u0435 (1997)   \n",
              "2528                          \u041f\u0440\u0438\u043d\u0446\u0435\u0441\u0441\u0430 \u041c\u043e\u043d\u043e\u043d\u043e\u043a\u0435 (1997)   \n",
              "\n",
              "                                                   text  \\\n",
              "0     \u0414\u0435\u0439\u0441\u0442\u0432\u0438\u0435 \u0444\u0438\u043b\u044c\u043c\u0430 \u00ab\u0444\u0438\u043b\u044c\u043c\u00bb \u043f\u0440\u043e\u0438\u0441\u0445\u043e\u0434\u0438\u0442 \u0432 \u043c\u0438\u0440\u0435, \u043f\u0435\u0440...   \n",
              "1     \u041e\u0434\u043d\u0430\u0436\u0434\u044b \u043d\u043e\u0447\u044c\u044e \u043d\u0430 \u0432\u0435\u0440\u0448\u0438\u043d\u0435 \u0433\u043e\u0440\u044b \u0432\u043e\u0437\u043b\u0435 \u043a\u0430\u043c\u0435\u043d\u043e\u043b\u043e\u043c\u043d...   \n",
              "2     \u0433\u0435\u0440\u043e\u0439 \u0432\u043e\u0437\u0432\u0440\u0430\u0449\u0430\u0435\u0442\u0441\u044f \u0432 \u043b\u043e\u043a\u0430\u0446\u0438\u044f \u043f\u043e\u0441\u043b\u0435 \u043d\u0435\u0441\u043a\u043e\u043b\u044c\u043a\u0438\u0445 ...   \n",
              "3     \u0433\u0435\u0440\u043e\u0439 \u0432\u0435\u0440\u043d\u0443\u043b\u0441\u044f \u0432 \u043b\u043e\u043a\u0430\u0446\u0438\u044f \u043f\u043e\u0441\u043b\u0435 \u0442\u043e\u0433\u043e, \u043a\u0430\u043a \u0436\u0438\u0437\u043d\u044c...   \n",
              "4     \u0418\u0441\u0442\u043e\u0440\u0438\u044f \u043e\u0431 \u0433\u0435\u0440\u043e\u0439, \u043a\u043e\u0442\u043e\u0440\u044b\u0439 \u0440\u0435\u0448\u0430\u0435\u0442 \u0432\u0437\u044f\u0442\u044c \u043e\u0442\u043f\u0443\u0441\u043a ...   \n",
              "...                                                 ...   \n",
              "2524  \u041a\u043e\u0433\u0434\u0430-\u0442\u043e \u044d\u0442\u0443 \u0437\u0435\u043c\u043b\u044e \u0443\u043a\u0440\u044b\u0432\u0430\u043b \u043b\u0435\u0441, \u0433\u0434\u0435 \u0441 \u043d\u0435\u0437\u0430\u043f\u0430\u043c\u044f...   \n",
              "2525  \u0421\u043d\u0430\u0447\u0430\u043b\u0430 \u043c\u043e\u043d\u0430\u0445 \u043f\u043e\u043c\u043e\u0433\u0430\u0435\u0442 \u0433\u0435\u0440\u043e\u0439 \u0432\u044b\u0439\u0442\u0438 \u0438\u0437 \u0437\u0430\u0442\u0440\u0443\u0434\u043d\u0438...   \n",
              "2526  \u0412 \u0441\u0440\u0430\u0436\u0435\u043d\u0438\u0438 \u0433\u0438\u0431\u043d\u0443\u0442 \u043b\u044e\u0434\u0438, \u0431\u044b\u043a\u0438, \u043b\u0435\u0442\u044f\u0442 \u0432 \u043f\u0440\u043e\u043f\u0430\u0441\u0442\u044c...   \n",
              "2527  \u0422\u0435\u043c \u043d\u0435 \u043c\u0435\u043d\u0435\u0435 \u0433\u0435\u0440\u043e\u0439 \u0442\u0430\u043a \u0438 \u043d\u0435 \u0438\u0437\u0431\u0430\u0432\u043b\u044f\u0435\u0442\u0441\u044f \u043e\u0442 \u043f\u0440\u043e...   \n",
              "2528  \u041e\u0431\u0435\u0437\u0433\u043b\u0430\u0432\u043b\u0435\u043d\u043d\u043e\u0435 \u0442\u0435\u043b\u043e \u0433\u0435\u0440\u043e\u0439 \u043b\u043e\u043a\u0430\u0446\u0438\u044f \u0442\u044f\u043d\u0435\u0442\u0441\u044f \u043a \u0441\u0432...   \n",
              "\n",
              "                                          target  \n",
              "0     [1, 1, 0, 0, 0, 0, 1, 0, 0, 0, 0, 0, 1, 0]  \n",
              "1     [1, 0, 0, 0, 1, 0, 0, 1, 0, 1, 0, 0, 0, 1]  \n",
              "2     [0, 0, 1, 0, 0, 0, 1, 0, 0, 0, 0, 0, 1, 0]  \n",
              "3     [1, 1, 0, 0, 1, 1, 0, 0, 0, 0, 0, 0, 0, 0]  \n",
              "4     [0, 0, 1, 0, 0, 0, 1, 0, 0, 0, 0, 0, 0, 1]  \n",
              "...                                          ...  \n",
              "2524  [1, 0, 1, 0, 0, 0, 0, 1, 0, 1, 0, 0, 0, 1]  \n",
              "2525  [1, 0, 1, 0, 0, 0, 0, 1, 0, 1, 0, 0, 0, 1]  \n",
              "2526  [1, 0, 1, 0, 0, 0, 0, 1, 0, 1, 0, 0, 0, 1]  \n",
              "2527  [1, 0, 1, 0, 0, 0, 0, 1, 0, 1, 0, 0, 0, 1]  \n",
              "2528  [1, 0, 1, 0, 0, 0, 0, 1, 0, 1, 0, 0, 0, 1]  \n",
              "\n",
              "[2529 rows x 3 columns]"
            ]
          },
          "metadata": {},
          "execution_count": 34
        }
      ],
      "execution_count": null
    },
    {
      "metadata": {},
      "source": [
        "max_length = 256\n",
        "num_labels = len(mlb.classes_)\n",
        "label2id = dict(zip(mlb.classes_, range(num_labels)))\n",
        "id2label = dict(zip(range(num_labels), mlb.classes_))\n",
        "model = \"ai-forever/ruBert-base\"\n",
        "# model = \"ai-forever/ruRoberta-large\"\n",
        "# model = \"cointegrated/rubert-tiny2\"\n",
        "problem_type = \"multi_label_classification\"\n",
        "batch_size = 2\n",
        "pin_memory = False\n",
        "drop_last = False\n",
        "num_workers = 4\n",
        "shuffle = True\n",
        "# val_size = int(len(df) * 0.2)\n",
        "num_epochs = 4\n",
        "\n",
        "\n",
        "os.environ[\"TOKENIZERS_PARALLELISM\"] = \"false\"\n",
        "os.environ[\"TRANSFORMERS_NO_ADVISORY_WARNINGS\"] = \"true\""
      ],
      "cell_type": "code",
      "outputs": [],
      "execution_count": null
    },
    {
      "metadata": {},
      "source": [
        "tokenizer = AutoTokenizer.from_pretrained(model)\n",
        "\n",
        "model = BertForSequenceClassification.from_pretrained(\n",
        "    model,\n",
        "    num_labels=num_labels,\n",
        "    problem_type=problem_type,\n",
        "    label2id=label2id,\n",
        "    id2label=id2label,\n",
        ")"
      ],
      "cell_type": "code",
      "outputs": [
        {
          "output_type": "stream",
          "name": "stderr",
          "text": [
            "/home/seara/Desktop/Github/mtc-film-classification/.venv/lib/python3.9/site-packages/transformers/tokenization_utils_base.py:1601: FutureWarning: `clean_up_tokenization_spaces` was not set. It will be set to `True` by default. This behavior will be depracted in transformers v4.45, and will be then set to `False` by default. For more details check this issue: https://github.com/huggingface/transformers/issues/31884\n",
            "  warnings.warn(\n",
            "Some weights of BertForSequenceClassification were not initialized from the model checkpoint at ai-forever/ruBert-base and are newly initialized: ['classifier.bias', 'classifier.weight']\n",
            "You should probably TRAIN this model on a down-stream task to be able to use it for predictions and inference.\n"
          ]
        }
      ],
      "execution_count": null
    },
    {
      "metadata": {},
      "source": [
        "plt.hist(list(map(len, tokenizer(df_train[\"text\"].tolist())[\"input_ids\"])))"
      ],
      "cell_type": "code",
      "outputs": [
        {
          "output_type": "execute_result",
          "data": {
            "text/plain": [
              "(array([110., 265., 263., 153., 126., 577., 956.,  76.,   2.,   1.]),\n",
              " array([ 17. ,  46.3,  75.6, 104.9, 134.2, 163.5, 192.8, 222.1, 251.4,\n",
              "        280.7, 310. ]),\n",
              " <BarContainer object of 10 artists>)"
            ]
          },
          "metadata": {},
          "execution_count": 37
        },
        {
          "output_type": "display_data",
          "data": {
            "image/png": "[encoded data removed]",
            "text/plain": [
              "<Figure size 640x480 with 1 Axes>"
            ]
          },
          "metadata": {}
        }
      ],
      "execution_count": null
    },
    {
      "metadata": {},
      "source": [
        "dataset_train = Dataset.from_pandas(df_train)\n",
        "dataset_train = dataset_train.map(\n",
        "    lambda x: tokenizer(x[\"text\"], truncation=True, max_length=max_length),\n",
        "    batched=True,\n",
        ")\n",
        "dataset_train = dataset_train.map(\n",
        "    lambda x: {\"label\": [float(y) for y in x[\"target\"]]},\n",
        "    batched=False,\n",
        "    remove_columns=[\"text\", \"target\"],\n",
        ")\n",
        "\n",
        "\n",
        "dataset_test = Dataset.from_pandas(df_test)\n",
        "dataset_test = dataset_test.map(\n",
        "    lambda x: tokenizer(x[\"text\"], truncation=True, max_length=max_length),\n",
        "    batched=True,\n",
        ")\n",
        "dataset_test = dataset_test.map(\n",
        "    lambda x: {\"label\": [float(y) for y in x[\"target\"]]},\n",
        "    batched=False,\n",
        "    remove_columns=[\"text\", \"target\"],\n",
        ")"
      ],
      "cell_type": "code",
      "outputs": [
        {
          "output_type": "display_data",
          "data": {
            "application/vnd.jupyter.widget-view+json": {
              "model_id": "bf1787dd02b247a4b167e67ccb267933",
              "version_major": 2,
              "version_minor": 0
            },
            "text/plain": [
              "Map:   0%|          | 0/2529 [00:00<?, ? examples/s]"
            ]
          },
          "metadata": {}
        },
        {
          "output_type": "display_data",
          "data": {
            "application/vnd.jupyter.widget-view+json": {
              "model_id": "268307ff94d340fab2251cc8d8c44027",
              "version_major": 2,
              "version_minor": 0
            },
            "text/plain": [
              "Map:   0%|          | 0/2529 [00:00<?, ? examples/s]"
            ]
          },
          "metadata": {}
        },
        {
          "output_type": "display_data",
          "data": {
            "application/vnd.jupyter.widget-view+json": {
              "model_id": "24047585c82c4750865a3e5a255a4caf",
              "version_major": 2,
              "version_minor": 0
            },
            "text/plain": [
              "Map:   0%|          | 0/2529 [00:00<?, ? examples/s]"
            ]
          },
          "metadata": {}
        },
        {
          "output_type": "display_data",
          "data": {
            "application/vnd.jupyter.widget-view+json": {
              "model_id": "117e5c4c499749db8be5f2df9e12e2dc",
              "version_major": 2,
              "version_minor": 0
            },
            "text/plain": [
              "Map:   0%|          | 0/2529 [00:00<?, ? examples/s]"
            ]
          },
          "metadata": {}
        }
      ],
      "execution_count": null
    },
    {
      "metadata": {},
      "source": [
        "data_collator = DataCollatorWithPadding(tokenizer)\n",
        "# train_val = dataset.train_test_split(test_size=val_size)\n",
        "train_wo_movie = dataset_train.remove_columns([\"movie\"])\n",
        "test_wo_movie = dataset_test.remove_columns([\"movie\"])\n",
        "\n",
        "train_dataloader = DataLoader(\n",
        "    train_wo_movie,\n",
        "    batch_size=batch_size,\n",
        "    shuffle=shuffle,\n",
        "    num_workers=num_workers,\n",
        "    collate_fn=data_collator,\n",
        "    pin_memory=pin_memory,\n",
        "    drop_last=drop_last,\n",
        ")\n",
        "\n",
        "val_dataloader = DataLoader(\n",
        "    test_wo_movie,\n",
        "    batch_size=batch_size,\n",
        "    shuffle=False,\n",
        "    num_workers=num_workers,\n",
        "    collate_fn=data_collator,\n",
        "    pin_memory=pin_memory,\n",
        "    drop_last=drop_last,\n",
        ")"
      ],
      "cell_type": "code",
      "outputs": [],
      "execution_count": null
    },
    {
      "metadata": {},
      "source": [
        "def predict(model, dataloader):\n",
        "    with torch.inference_mode():\n",
        "        y_true = []\n",
        "        y_pred = []\n",
        "        val_loss = 0\n",
        "\n",
        "        for batch in tqdm(dataloader):\n",
        "            batch = batch.to(model.device)\n",
        "            output = model(**batch)\n",
        "            loss = output.loss\n",
        "\n",
        "            val_loss += loss.item() * batch[\"input_ids\"].size(0)\n",
        "            y_true.append(batch.labels.cpu())\n",
        "            y_pred.append(output.logits.cpu())\n",
        "\n",
        "        val_loss = val_loss / len(dataloader.dataset)\n",
        "\n",
        "    return (\n",
        "        torch.cat(y_true).numpy(),\n",
        "        torch.sigmoid(torch.cat(y_pred)).numpy(),\n",
        "        val_loss,\n",
        "    )\n",
        "\n",
        "\n",
        "def train_epoch(model, train_dataloader, optimizer):\n",
        "    y_true = []\n",
        "    y_pred = []\n",
        "    train_loss = 0\n",
        "\n",
        "    for batch in tqdm(train_dataloader):\n",
        "        optimizer.zero_grad()\n",
        "        batch = batch.to(model.device)\n",
        "        output = model(**batch)\n",
        "        loss = output.loss\n",
        "        loss.backward()\n",
        "        optimizer.step()\n",
        "\n",
        "        train_loss += loss.item() * batch[\"input_ids\"].size(0)\n",
        "        y_true.append(batch.labels.detach().cpu())\n",
        "        y_pred.append(output.logits.detach().cpu())\n",
        "\n",
        "    train_loss = train_loss / len(train_dataloader.dataset)\n",
        "    return (\n",
        "        torch.cat(y_true).numpy(),\n",
        "        torch.sigmoid(torch.cat(y_pred)).numpy(),\n",
        "        train_loss,\n",
        "    )\n",
        "\n",
        "\n",
        "def eval(model, val_dataloader, labels, dataset):\n",
        "    model.eval()\n",
        "    val_y_true, val_y_pred, val_loss = predict(model, val_dataloader)\n",
        "\n",
        "    df_eval = dataset.to_pandas()\n",
        "    df_eval = df_eval.drop([\"input_ids\", \"attention_mask\", \"token_type_ids\"], axis=1)\n",
        "\n",
        "    df_eval[\"eval\"] = val_y_pred.tolist()\n",
        "    gb = (\n",
        "        df_eval.groupby(\"movie\")\n",
        "        .agg({\"eval\": lambda x: [sum(i) / len(i) for i in zip(*x)], \"label\": \"first\"})\n",
        "        .reset_index()\n",
        "    )\n",
        "\n",
        "    report_dict = f1_df_for_each_threshold(\n",
        "        np.array(gb[\"label\"].to_list()), np.array(gb[\"eval\"].to_list()), num_labels\n",
        "    )\n",
        "\n",
        "    df = pd.DataFrame(report_dict)\n",
        "    df = df.round(2).T\n",
        "    df.columns = [*labels, \"macro\"]\n",
        "    return df, val_y_true, val_y_pred, val_loss"
      ],
      "cell_type": "code",
      "outputs": [],
      "execution_count": null
    },
    {
      "metadata": {},
      "source": [
        "def train(model, train_dataloader, optimizer, epochs, val_dataloader, labels, dataset):\n",
        "    tq = tqdm(range(epochs))\n",
        "\n",
        "    for epoch in tq:\n",
        "\n",
        "        model.train()\n",
        "        train_y_true, train_y_pred, train_loss = train_epoch(\n",
        "            model, train_dataloader, optimizer\n",
        "        )\n",
        "\n",
        "        model.eval()\n",
        "\n",
        "        df, val_y_true, val_y_pred, val_loss = eval(\n",
        "            model, val_dataloader, labels, dataset\n",
        "        )\n",
        "\n",
        "        wandb.log(\n",
        "            {\n",
        "                \"train_loss\": train_loss,\n",
        "                \"val_loss\": val_loss,\n",
        "                \"f10.5\": df[\"macro\"].loc[0.5],\n",
        "                \"f10.3\": df[\"macro\"].loc[0.3],\n",
        "                \"f10.4\": df[\"macro\"].loc[0.4],\n",
        "            }\n",
        "        )\n",
        "\n",
        "        tq.set_description(f\"train_loss: {train_loss:.4f}, val_loss: {val_loss:.4f}\")\n",
        "\n",
        "    df, val_y_true, val_y_pred, val_loss = eval(model, val_dataloader, labels, dataset)\n",
        "\n",
        "    display(df)\n",
        "\n",
        "    return val_y_true, val_y_pred"
      ],
      "cell_type": "code",
      "outputs": [],
      "execution_count": null
    },
    {
      "metadata": {},
      "source": [
        "torch.cuda.empty_cache()\n",
        "model.cuda()\n",
        "\n",
        "optimizer = Adam(model.parameters(), lr=0.00001)\n",
        "wandb.init(\"mtc-nlp\")"
      ],
      "cell_type": "code",
      "outputs": [
        {
          "output_type": "display_data",
          "data": {
            "text/html": [
              "Tracking run with wandb version 0.18.0"
            ],
            "text/plain": [
              "<IPython.core.display.HTML object>"
            ]
          },
          "metadata": {}
        },
        {
          "output_type": "display_data",
          "data": {
            "text/html": [
              "Run data is saved locally in <code>/home/seara/Desktop/Github/mtc-film-classification/wandb/run-20240915_162031-2ckn0wkv</code>"
            ],
            "text/plain": [
              "<IPython.core.display.HTML object>"
            ]
          },
          "metadata": {}
        },
        {
          "output_type": "display_data",
          "data": {
            "text/html": [
              "Syncing run <strong><a href='https://wandb.ai/seara/mtc-film-classification/runs/2ckn0wkv' target=\"_blank\">vivid-voice-51</a></strong> to <a href='https://wandb.ai/seara/mtc-film-classification' target=\"_blank\">Weights & Biases</a> (<a href='https://wandb.me/run' target=\"_blank\">docs</a>)<br/>"
            ],
            "text/plain": [
              "<IPython.core.display.HTML object>"
            ]
          },
          "metadata": {}
        },
        {
          "output_type": "display_data",
          "data": {
            "text/html": [
              " View project at <a href='https://wandb.ai/seara/mtc-film-classification' target=\"_blank\">https://wandb.ai/seara/mtc-film-classification</a>"
            ],
            "text/plain": [
              "<IPython.core.display.HTML object>"
            ]
          },
          "metadata": {}
        },
        {
          "output_type": "display_data",
          "data": {
            "text/html": [
              " View run at <a href='https://wandb.ai/seara/mtc-film-classification/runs/2ckn0wkv' target=\"_blank\">https://wandb.ai/seara/mtc-film-classification/runs/2ckn0wkv</a>"
            ],
            "text/plain": [
              "<IPython.core.display.HTML object>"
            ]
          },
          "metadata": {}
        },
        {
          "output_type": "execute_result",
          "data": {
            "text/html": [
              "<button onClick=\"this.nextSibling.style.display='block';this.style.display='none';\">Display W&B run</button><iframe src='https://wandb.ai/seara/mtc-film-classification/runs/2ckn0wkv?jupyter=true' style='border:none;width:100%;height:420px;display:none;'></iframe>"
            ],
            "text/plain": [
              "<wandb.sdk.wandb_run.Run at 0x7944f5178550>"
            ]
          },
          "metadata": {},
          "execution_count": 42
        }
      ],
      "execution_count": null
    },
    {
      "metadata": {},
      "source": [
        "val_y_true, val_y_pred = train(\n",
        "    model=model,\n",
        "    train_dataloader=train_dataloader,\n",
        "    optimizer=optimizer,\n",
        "    epochs=num_epochs,\n",
        "    val_dataloader=val_dataloader,\n",
        "    labels=id2label.values(),\n",
        "    dataset=dataset_test,\n",
        ")\n",
        "wandb.finish()"
      ],
      "cell_type": "code",
      "outputs": [
        {
          "output_type": "display_data",
          "data": {
            "application/vnd.jupyter.widget-view+json": {
              "model_id": "a32d0d1bef82493b80809518d0817fea",
              "version_major": 2,
              "version_minor": 0
            },
            "text/plain": [
              "  0%|          | 0/4 [00:00<?, ?it/s]"
            ]
          },
          "metadata": {}
        },
        {
          "output_type": "display_data",
          "data": {
            "application/vnd.jupyter.widget-view+json": {
              "model_id": "b686d2bfa3db4da09cb0f1ab675673e7",
              "version_major": 2,
              "version_minor": 0
            },
            "text/plain": [
              "  0%|          | 0/1265 [00:00<?, ?it/s]"
            ]
          },
          "metadata": {}
        },
        {
          "output_type": "display_data",
          "data": {
            "application/vnd.jupyter.widget-view+json": {
              "model_id": "6d0fda388ea84ad181b1ade376ab4139",
              "version_major": 2,
              "version_minor": 0
            },
            "text/plain": [
              "  0%|          | 0/1265 [00:00<?, ?it/s]"
            ]
          },
          "metadata": {}
        },
        {
          "output_type": "display_data",
          "data": {
            "application/vnd.jupyter.widget-view+json": {
              "model_id": "8f0922408e1f43cc898166b193df9a3f",
              "version_major": 2,
              "version_minor": 0
            },
            "text/plain": [
              "  0%|          | 0/1265 [00:00<?, ?it/s]"
            ]
          },
          "metadata": {}
        },
        {
          "output_type": "display_data",
          "data": {
            "application/vnd.jupyter.widget-view+json": {
              "model_id": "aa1a3c221af34a87bfd0969b64154d36",
              "version_major": 2,
              "version_minor": 0
            },
            "text/plain": [
              "  0%|          | 0/1265 [00:00<?, ?it/s]"
            ]
          },
          "metadata": {}
        },
        {
          "output_type": "display_data",
          "data": {
            "application/vnd.jupyter.widget-view+json": {
              "model_id": "1aca7e402fac455cb743c2cf3f782826",
              "version_major": 2,
              "version_minor": 0
            },
            "text/plain": [
              "  0%|          | 0/1265 [00:00<?, ?it/s]"
            ]
          },
          "metadata": {}
        },
        {
          "output_type": "display_data",
          "data": {
            "application/vnd.jupyter.widget-view+json": {
              "model_id": "58a45395890d4e42a726a0503f57347b",
              "version_major": 2,
              "version_minor": 0
            },
            "text/plain": [
              "  0%|          | 0/1265 [00:00<?, ?it/s]"
            ]
          },
          "metadata": {}
        },
        {
          "output_type": "display_data",
          "data": {
            "application/vnd.jupyter.widget-view+json": {
              "model_id": "b608136848874a71bb34191a08ac4651",
              "version_major": 2,
              "version_minor": 0
            },
            "text/plain": [
              "  0%|          | 0/1265 [00:00<?, ?it/s]"
            ]
          },
          "metadata": {}
        },
        {
          "output_type": "display_data",
          "data": {
            "application/vnd.jupyter.widget-view+json": {
              "model_id": "bd1c4138a1aa406e9d21865cb02abf6f",
              "version_major": 2,
              "version_minor": 0
            },
            "text/plain": [
              "  0%|          | 0/1265 [00:00<?, ?it/s]"
            ]
          },
          "metadata": {}
        },
        {
          "output_type": "display_data",
          "data": {
            "application/vnd.jupyter.widget-view+json": {
              "model_id": "a97fe1b9956e4da99b899145ed74c28d",
              "version_major": 2,
              "version_minor": 0
            },
            "text/plain": [
              "  0%|          | 0/1265 [00:00<?, ?it/s]"
            ]
          },
          "metadata": {}
        },
        {
          "output_type": "display_data",
          "data": {
            "text/html": [
              "<div>\n",
              "<style scoped>\n",
              "    .dataframe tbody tr th:only-of-type {\n",
              "        vertical-align: middle;\n",
              "    }\n",
              "\n",
              "    .dataframe tbody tr th {\n",
              "        vertical-align: top;\n",
              "    }\n",
              "\n",
              "    .dataframe thead th {\n",
              "        text-align: right;\n",
              "    }\n",
              "</style>\n",
              "<table border=\"1\" class=\"dataframe\">\n",
              "  <thead>\n",
              "    <tr style=\"text-align: right;\">\n",
              "      <th></th>\n",
              "      <th>\u0431\u043e\u0435\u0432\u0438\u043a</th>\n",
              "      <th>\u0434\u0435\u0442\u0435\u043a\u0442\u0438\u0432</th>\n",
              "      <th>\u0434\u0440\u0430\u043c\u0430</th>\n",
              "      <th>\u0438\u0441\u0442\u043e\u0440\u0438\u044f</th>\n",
              "      <th>\u043a\u043e\u043c\u0435\u0434\u0438\u044f</th>\n",
              "      <th>\u043a\u0440\u0438\u043c\u0438\u043d\u0430\u043b</th>\n",
              "      <th>\u043c\u0435\u043b\u043e\u0434\u0440\u0430\u043c\u0430</th>\n",
              "      <th>\u043c\u0443\u043b\u044c\u0442\u0444\u0438\u043b\u044c\u043c</th>\n",
              "      <th>\u043c\u044e\u0437\u0438\u043a\u043b</th>\n",
              "      <th>\u043f\u0440\u0438\u043a\u043b\u044e\u0447\u0435\u043d\u0438\u044f</th>\n",
              "      <th>\u0442\u0440\u0438\u043b\u043b\u0435\u0440</th>\n",
              "      <th>\u0443\u0436\u0430\u0441\u044b</th>\n",
              "      <th>\u0444\u0430\u043d\u0442\u0430\u0441\u0442\u0438\u043a\u0430</th>\n",
              "      <th>\u0444\u044d\u043d\u0442\u0435\u0437\u0438</th>\n",
              "      <th>macro</th>\n",
              "    </tr>\n",
              "  </thead>\n",
              "  <tbody>\n",
              "    <tr>\n",
              "      <th>0.0</th>\n",
              "      <td>0.49</td>\n",
              "      <td>0.24</td>\n",
              "      <td>0.67</td>\n",
              "      <td>0.20</td>\n",
              "      <td>0.49</td>\n",
              "      <td>0.34</td>\n",
              "      <td>0.26</td>\n",
              "      <td>0.16</td>\n",
              "      <td>0.04</td>\n",
              "      <td>0.36</td>\n",
              "      <td>0.42</td>\n",
              "      <td>0.19</td>\n",
              "      <td>0.35</td>\n",
              "      <td>0.27</td>\n",
              "      <td>0.32</td>\n",
              "    </tr>\n",
              "    <tr>\n",
              "      <th>0.1</th>\n",
              "      <td>0.82</td>\n",
              "      <td>0.50</td>\n",
              "      <td>0.79</td>\n",
              "      <td>0.80</td>\n",
              "      <td>0.65</td>\n",
              "      <td>0.68</td>\n",
              "      <td>0.69</td>\n",
              "      <td>0.73</td>\n",
              "      <td>0.33</td>\n",
              "      <td>0.83</td>\n",
              "      <td>0.65</td>\n",
              "      <td>0.73</td>\n",
              "      <td>0.91</td>\n",
              "      <td>0.74</td>\n",
              "      <td>0.71</td>\n",
              "    </tr>\n",
              "    <tr>\n",
              "      <th>0.2</th>\n",
              "      <td>0.94</td>\n",
              "      <td>0.67</td>\n",
              "      <td>0.89</td>\n",
              "      <td>0.93</td>\n",
              "      <td>0.78</td>\n",
              "      <td>0.86</td>\n",
              "      <td>0.91</td>\n",
              "      <td>0.83</td>\n",
              "      <td>0.50</td>\n",
              "      <td>0.90</td>\n",
              "      <td>0.82</td>\n",
              "      <td>0.92</td>\n",
              "      <td>0.96</td>\n",
              "      <td>0.89</td>\n",
              "      <td>0.84</td>\n",
              "    </tr>\n",
              "    <tr>\n",
              "      <th>0.3</th>\n",
              "      <td>0.97</td>\n",
              "      <td>0.76</td>\n",
              "      <td>0.94</td>\n",
              "      <td>0.92</td>\n",
              "      <td>0.85</td>\n",
              "      <td>0.92</td>\n",
              "      <td>0.92</td>\n",
              "      <td>0.84</td>\n",
              "      <td>0.47</td>\n",
              "      <td>0.92</td>\n",
              "      <td>0.89</td>\n",
              "      <td>0.95</td>\n",
              "      <td>0.96</td>\n",
              "      <td>0.95</td>\n",
              "      <td>0.88</td>\n",
              "    </tr>\n",
              "    <tr>\n",
              "      <th>0.4</th>\n",
              "      <td>0.98</td>\n",
              "      <td>0.75</td>\n",
              "      <td>0.95</td>\n",
              "      <td>0.94</td>\n",
              "      <td>0.88</td>\n",
              "      <td>0.95</td>\n",
              "      <td>0.87</td>\n",
              "      <td>0.85</td>\n",
              "      <td>0.14</td>\n",
              "      <td>0.93</td>\n",
              "      <td>0.91</td>\n",
              "      <td>0.98</td>\n",
              "      <td>0.95</td>\n",
              "      <td>0.93</td>\n",
              "      <td>0.86</td>\n",
              "    </tr>\n",
              "    <tr>\n",
              "      <th>0.5</th>\n",
              "      <td>0.98</td>\n",
              "      <td>0.78</td>\n",
              "      <td>0.95</td>\n",
              "      <td>0.93</td>\n",
              "      <td>0.90</td>\n",
              "      <td>0.97</td>\n",
              "      <td>0.82</td>\n",
              "      <td>0.82</td>\n",
              "      <td>0.00</td>\n",
              "      <td>0.90</td>\n",
              "      <td>0.90</td>\n",
              "      <td>0.97</td>\n",
              "      <td>0.93</td>\n",
              "      <td>0.93</td>\n",
              "      <td>0.84</td>\n",
              "    </tr>\n",
              "    <tr>\n",
              "      <th>0.6</th>\n",
              "      <td>0.97</td>\n",
              "      <td>0.76</td>\n",
              "      <td>0.92</td>\n",
              "      <td>0.84</td>\n",
              "      <td>0.90</td>\n",
              "      <td>0.94</td>\n",
              "      <td>0.70</td>\n",
              "      <td>0.76</td>\n",
              "      <td>0.00</td>\n",
              "      <td>0.84</td>\n",
              "      <td>0.87</td>\n",
              "      <td>0.97</td>\n",
              "      <td>0.89</td>\n",
              "      <td>0.92</td>\n",
              "      <td>0.81</td>\n",
              "    </tr>\n",
              "    <tr>\n",
              "      <th>0.7</th>\n",
              "      <td>0.94</td>\n",
              "      <td>0.68</td>\n",
              "      <td>0.88</td>\n",
              "      <td>0.77</td>\n",
              "      <td>0.85</td>\n",
              "      <td>0.95</td>\n",
              "      <td>0.58</td>\n",
              "      <td>0.57</td>\n",
              "      <td>0.00</td>\n",
              "      <td>0.73</td>\n",
              "      <td>0.74</td>\n",
              "      <td>0.92</td>\n",
              "      <td>0.78</td>\n",
              "      <td>0.88</td>\n",
              "      <td>0.73</td>\n",
              "    </tr>\n",
              "    <tr>\n",
              "      <th>0.8</th>\n",
              "      <td>0.88</td>\n",
              "      <td>0.61</td>\n",
              "      <td>0.80</td>\n",
              "      <td>0.61</td>\n",
              "      <td>0.75</td>\n",
              "      <td>0.87</td>\n",
              "      <td>0.25</td>\n",
              "      <td>0.39</td>\n",
              "      <td>0.00</td>\n",
              "      <td>0.54</td>\n",
              "      <td>0.54</td>\n",
              "      <td>0.85</td>\n",
              "      <td>0.66</td>\n",
              "      <td>0.80</td>\n",
              "      <td>0.61</td>\n",
              "    </tr>\n",
              "    <tr>\n",
              "      <th>0.9</th>\n",
              "      <td>0.64</td>\n",
              "      <td>0.17</td>\n",
              "      <td>0.62</td>\n",
              "      <td>0.41</td>\n",
              "      <td>0.58</td>\n",
              "      <td>0.62</td>\n",
              "      <td>0.02</td>\n",
              "      <td>0.04</td>\n",
              "      <td>0.00</td>\n",
              "      <td>0.19</td>\n",
              "      <td>0.12</td>\n",
              "      <td>0.59</td>\n",
              "      <td>0.36</td>\n",
              "      <td>0.54</td>\n",
              "      <td>0.35</td>\n",
              "    </tr>\n",
              "    <tr>\n",
              "      <th>1.0</th>\n",
              "      <td>0.00</td>\n",
              "      <td>0.00</td>\n",
              "      <td>0.00</td>\n",
              "      <td>0.00</td>\n",
              "      <td>0.00</td>\n",
              "      <td>0.00</td>\n",
              "      <td>0.00</td>\n",
              "      <td>0.00</td>\n",
              "      <td>0.00</td>\n",
              "      <td>0.00</td>\n",
              "      <td>0.00</td>\n",
              "      <td>0.00</td>\n",
              "      <td>0.00</td>\n",
              "      <td>0.00</td>\n",
              "      <td>0.00</td>\n",
              "    </tr>\n",
              "  </tbody>\n",
              "</table>\n",
              "</div>"
            ],
            "text/plain": [
              "     \u0431\u043e\u0435\u0432\u0438\u043a  \u0434\u0435\u0442\u0435\u043a\u0442\u0438\u0432  \u0434\u0440\u0430\u043c\u0430  \u0438\u0441\u0442\u043e\u0440\u0438\u044f  \u043a\u043e\u043c\u0435\u0434\u0438\u044f  \u043a\u0440\u0438\u043c\u0438\u043d\u0430\u043b  \u043c\u0435\u043b\u043e\u0434\u0440\u0430\u043c\u0430  \\\n",
              "0.0    0.49      0.24   0.67     0.20     0.49      0.34       0.26   \n",
              "0.1    0.82      0.50   0.79     0.80     0.65      0.68       0.69   \n",
              "0.2    0.94      0.67   0.89     0.93     0.78      0.86       0.91   \n",
              "0.3    0.97      0.76   0.94     0.92     0.85      0.92       0.92   \n",
              "0.4    0.98      0.75   0.95     0.94     0.88      0.95       0.87   \n",
              "0.5    0.98      0.78   0.95     0.93     0.90      0.97       0.82   \n",
              "0.6    0.97      0.76   0.92     0.84     0.90      0.94       0.70   \n",
              "0.7    0.94      0.68   0.88     0.77     0.85      0.95       0.58   \n",
              "0.8    0.88      0.61   0.80     0.61     0.75      0.87       0.25   \n",
              "0.9    0.64      0.17   0.62     0.41     0.58      0.62       0.02   \n",
              "1.0    0.00      0.00   0.00     0.00     0.00      0.00       0.00   \n",
              "\n",
              "     \u043c\u0443\u043b\u044c\u0442\u0444\u0438\u043b\u044c\u043c  \u043c\u044e\u0437\u0438\u043a\u043b  \u043f\u0440\u0438\u043a\u043b\u044e\u0447\u0435\u043d\u0438\u044f  \u0442\u0440\u0438\u043b\u043b\u0435\u0440  \u0443\u0436\u0430\u0441\u044b  \u0444\u0430\u043d\u0442\u0430\u0441\u0442\u0438\u043a\u0430  \u0444\u044d\u043d\u0442\u0435\u0437\u0438  \\\n",
              "0.0        0.16    0.04         0.36     0.42   0.19        0.35     0.27   \n",
              "0.1        0.73    0.33         0.83     0.65   0.73        0.91     0.74   \n",
              "0.2        0.83    0.50         0.90     0.82   0.92        0.96     0.89   \n",
              "0.3        0.84    0.47         0.92     0.89   0.95        0.96     0.95   \n",
              "0.4        0.85    0.14         0.93     0.91   0.98        0.95     0.93   \n",
              "0.5        0.82    0.00         0.90     0.90   0.97        0.93     0.93   \n",
              "0.6        0.76    0.00         0.84     0.87   0.97        0.89     0.92   \n",
              "0.7        0.57    0.00         0.73     0.74   0.92        0.78     0.88   \n",
              "0.8        0.39    0.00         0.54     0.54   0.85        0.66     0.80   \n",
              "0.9        0.04    0.00         0.19     0.12   0.59        0.36     0.54   \n",
              "1.0        0.00    0.00         0.00     0.00   0.00        0.00     0.00   \n",
              "\n",
              "     macro  \n",
              "0.0   0.32  \n",
              "0.1   0.71  \n",
              "0.2   0.84  \n",
              "0.3   0.88  \n",
              "0.4   0.86  \n",
              "0.5   0.84  \n",
              "0.6   0.81  \n",
              "0.7   0.73  \n",
              "0.8   0.61  \n",
              "0.9   0.35  \n",
              "1.0   0.00  "
            ]
          },
          "metadata": {}
        },
        {
          "output_type": "display_data",
          "data": {
            "application/vnd.jupyter.widget-view+json": {
              "model_id": "511ecaf0bb0b4843a31a71c9ddb13222",
              "version_major": 2,
              "version_minor": 0
            },
            "text/plain": [
              "VBox(children=(Label(value='0.432 MB of 0.432 MB uploaded\\r'), FloatProgress(value=1.0, max=1.0)))"
            ]
          },
          "metadata": {}
        },
        {
          "output_type": "display_data",
          "data": {
            "text/html": [
              "<style>\n",
              "    table.wandb td:nth-child(1) { padding: 0 10px; text-align: left ; width: auto;} td:nth-child(2) {text-align: left ; width: 100%}\n",
              "    .wandb-row { display: flex; flex-direction: row; flex-wrap: wrap; justify-content: flex-start; width: 100% }\n",
              "    .wandb-col { display: flex; flex-direction: column; flex-basis: 100%; flex: 1; padding: 10px; }\n",
              "    </style>\n",
              "<div class=\"wandb-row\"><div class=\"wandb-col\"><h3>Run history:</h3><br/><table class=\"wandb\"><tr><td>f10.3</td><td>\u2581\u2584\u2585\u2588</td></tr><tr><td>f10.4</td><td>\u2581\u2585\u2586\u2588</td></tr><tr><td>f10.5</td><td>\u2581\u2586\u2587\u2588</td></tr><tr><td>train_loss</td><td>\u2588\u2585\u2583\u2581</td></tr><tr><td>val_loss</td><td>\u2588\u2585\u2583\u2581</td></tr></table><br/></div><div class=\"wandb-col\"><h3>Run summary:</h3><br/><table class=\"wandb\"><tr><td>f10.3</td><td>0.88</td></tr><tr><td>f10.4</td><td>0.86</td></tr><tr><td>f10.5</td><td>0.84</td></tr><tr><td>train_loss</td><td>0.1729</td></tr><tr><td>val_loss</td><td>0.13538</td></tr></table><br/></div></div>"
            ],
            "text/plain": [
              "<IPython.core.display.HTML object>"
            ]
          },
          "metadata": {}
        },
        {
          "output_type": "display_data",
          "data": {
            "text/html": [
              " View run <strong style=\"color:#cdcd00\">vivid-voice-51</strong> at: <a href='https://wandb.ai/seara/mtc-film-classification/runs/2ckn0wkv' target=\"_blank\">https://wandb.ai/seara/mtc-film-classification/runs/2ckn0wkv</a><br/> View project at: <a href='https://wandb.ai/seara/mtc-film-classification' target=\"_blank\">https://wandb.ai/seara/mtc-film-classification</a><br/>Synced 5 W&B file(s), 0 media file(s), 7 artifact file(s) and 0 other file(s)"
            ],
            "text/plain": [
              "<IPython.core.display.HTML object>"
            ]
          },
          "metadata": {}
        },
        {
          "output_type": "display_data",
          "data": {
            "text/html": [
              "Find logs at: <code>./wandb/run-20240915_162031-2ckn0wkv/logs</code>"
            ],
            "text/plain": [
              "<IPython.core.display.HTML object>"
            ]
          },
          "metadata": {}
        }
      ],
      "execution_count": null
    },
    {
      "metadata": {},
      "source": [
        "# model.cpu()\n",
        "\n",
        "# model.save_pretrained(\"models/62-43\",  safe_serialization=False)\n",
        "# tokenizer.save_pretrained(\"models/62-43\")\n",
        "# model.cuda()"
      ],
      "cell_type": "code",
      "outputs": [
        {
          "output_type": "error",
          "ename": "KeyboardInterrupt",
          "evalue": "",
          "traceback": [
            "\u001b[0;31m---------------------------------------------------------------------------\u001b[0m",
            "\u001b[0;31mKeyboardInterrupt\u001b[0m                         Traceback (most recent call last)",
            "Cell \u001b[0;32mIn[44], line 3\u001b[0m\n\u001b[1;32m      1\u001b[0m model\u001b[38;5;241m.\u001b[39mcpu()\n\u001b[0;32m----> 3\u001b[0m \u001b[43mmodel\u001b[49m\u001b[38;5;241;43m.\u001b[39;49m\u001b[43msave_pretrained\u001b[49m\u001b[43m(\u001b[49m\u001b[38;5;124;43m\"\u001b[39;49m\u001b[38;5;124;43mmodels/62-43\u001b[39;49m\u001b[38;5;124;43m\"\u001b[39;49m\u001b[43m,\u001b[49m\u001b[43m  \u001b[49m\u001b[43msafe_serialization\u001b[49m\u001b[38;5;241;43m=\u001b[39;49m\u001b[38;5;28;43;01mFalse\u001b[39;49;00m\u001b[43m)\u001b[49m\n\u001b[1;32m      4\u001b[0m tokenizer\u001b[38;5;241m.\u001b[39msave_pretrained(\u001b[38;5;124m\"\u001b[39m\u001b[38;5;124mmodels/62-43\u001b[39m\u001b[38;5;124m\"\u001b[39m)\n\u001b[1;32m      5\u001b[0m model\u001b[38;5;241m.\u001b[39mcuda()\n",
            "File \u001b[0;32m~/Desktop/Github/mtc-film-classification/.venv/lib/python3.9/site-packages/transformers/modeling_utils.py:2795\u001b[0m, in \u001b[0;36mPreTrainedModel.save_pretrained\u001b[0;34m(self, save_directory, is_main_process, state_dict, save_function, push_to_hub, max_shard_size, safe_serialization, variant, token, save_peft_format, **kwargs)\u001b[0m\n\u001b[1;32m   2793\u001b[0m         safe_save_file(shard, os\u001b[38;5;241m.\u001b[39mpath\u001b[38;5;241m.\u001b[39mjoin(save_directory, shard_file), metadata\u001b[38;5;241m=\u001b[39m{\u001b[38;5;124m\"\u001b[39m\u001b[38;5;124mformat\u001b[39m\u001b[38;5;124m\"\u001b[39m: \u001b[38;5;124m\"\u001b[39m\u001b[38;5;124mpt\u001b[39m\u001b[38;5;124m\"\u001b[39m})\n\u001b[1;32m   2794\u001b[0m     \u001b[38;5;28;01melse\u001b[39;00m:\n\u001b[0;32m-> 2795\u001b[0m         \u001b[43msave_function\u001b[49m\u001b[43m(\u001b[49m\u001b[43mshard\u001b[49m\u001b[43m,\u001b[49m\u001b[43m \u001b[49m\u001b[43mos\u001b[49m\u001b[38;5;241;43m.\u001b[39;49m\u001b[43mpath\u001b[49m\u001b[38;5;241;43m.\u001b[39;49m\u001b[43mjoin\u001b[49m\u001b[43m(\u001b[49m\u001b[43msave_directory\u001b[49m\u001b[43m,\u001b[49m\u001b[43m \u001b[49m\u001b[43mshard_file\u001b[49m\u001b[43m)\u001b[49m\u001b[43m)\u001b[49m\n\u001b[1;32m   2797\u001b[0m \u001b[38;5;28;01mif\u001b[39;00m index \u001b[38;5;129;01mis\u001b[39;00m \u001b[38;5;28;01mNone\u001b[39;00m:\n\u001b[1;32m   2798\u001b[0m     path_to_weights \u001b[38;5;241m=\u001b[39m os\u001b[38;5;241m.\u001b[39mpath\u001b[38;5;241m.\u001b[39mjoin(save_directory, weights_name)\n",
            "File \u001b[0;32m~/Desktop/Github/mtc-film-classification/.venv/lib/python3.9/site-packages/torch/serialization.py:652\u001b[0m, in \u001b[0;36msave\u001b[0;34m(obj, f, pickle_module, pickle_protocol, _use_new_zipfile_serialization, _disable_byteorder_record)\u001b[0m\n\u001b[1;32m    650\u001b[0m \u001b[38;5;28;01mif\u001b[39;00m _use_new_zipfile_serialization:\n\u001b[1;32m    651\u001b[0m     \u001b[38;5;28;01mwith\u001b[39;00m _open_zipfile_writer(f) \u001b[38;5;28;01mas\u001b[39;00m opened_zipfile:\n\u001b[0;32m--> 652\u001b[0m         \u001b[43m_save\u001b[49m\u001b[43m(\u001b[49m\u001b[43mobj\u001b[49m\u001b[43m,\u001b[49m\u001b[43m \u001b[49m\u001b[43mopened_zipfile\u001b[49m\u001b[43m,\u001b[49m\u001b[43m \u001b[49m\u001b[43mpickle_module\u001b[49m\u001b[43m,\u001b[49m\u001b[43m \u001b[49m\u001b[43mpickle_protocol\u001b[49m\u001b[43m,\u001b[49m\u001b[43m \u001b[49m\u001b[43m_disable_byteorder_record\u001b[49m\u001b[43m)\u001b[49m\n\u001b[1;32m    653\u001b[0m         \u001b[38;5;28;01mreturn\u001b[39;00m\n\u001b[1;32m    654\u001b[0m \u001b[38;5;28;01melse\u001b[39;00m:\n",
            "File \u001b[0;32m~/Desktop/Github/mtc-film-classification/.venv/lib/python3.9/site-packages/torch/serialization.py:886\u001b[0m, in \u001b[0;36m_save\u001b[0;34m(obj, zip_file, pickle_module, pickle_protocol, _disable_byteorder_record)\u001b[0m\n\u001b[1;32m    884\u001b[0m \u001b[38;5;66;03m# Now that it is on the CPU we can directly copy it into the zip file\u001b[39;00m\n\u001b[1;32m    885\u001b[0m num_bytes \u001b[38;5;241m=\u001b[39m storage\u001b[38;5;241m.\u001b[39mnbytes()\n\u001b[0;32m--> 886\u001b[0m \u001b[43mzip_file\u001b[49m\u001b[38;5;241;43m.\u001b[39;49m\u001b[43mwrite_record\u001b[49m\u001b[43m(\u001b[49m\u001b[43mname\u001b[49m\u001b[43m,\u001b[49m\u001b[43m \u001b[49m\u001b[43mstorage\u001b[49m\u001b[43m,\u001b[49m\u001b[43m \u001b[49m\u001b[43mnum_bytes\u001b[49m\u001b[43m)\u001b[49m\n",
            "\u001b[0;31mKeyboardInterrupt\u001b[0m: "
          ]
        }
      ],
      "execution_count": null
    },
    {
      "metadata": {},
      "source": [
        "submission = pd.read_csv(\"data/public_test.csv\")\n",
        "submission[\"\u0416\u0430\u043d\u0440\u044b\"] = \"empty\""
      ],
      "cell_type": "code",
      "outputs": [],
      "execution_count": null
    },
    {
      "metadata": {},
      "source": [
        "submission = preprocess_train(submission)\n",
        "submission"
      ],
      "cell_type": "code",
      "outputs": [
        {
          "output_type": "stream",
          "name": "stdout",
          "text": [
            "movie          False\n",
            "description    False\n",
            "plot            True\n",
            "genres         False\n",
            "dtype: bool\n"
          ]
        },
        {
          "output_type": "display_data",
          "data": {
            "application/vnd.jupyter.widget-view+json": {
              "model_id": "a86b69ef38c448908ee851cca0dd0619",
              "version_major": 2,
              "version_minor": 0
            },
            "text/plain": [
              "VBox(children=(HBox(children=(IntProgress(value=0, description='0.00%', max=30), Label(value='0 / 30'))), HBox\u2026"
            ]
          },
          "metadata": {}
        },
        {
          "output_type": "display_data",
          "data": {
            "image/png": "[encoded data removed]",
            "text/plain": [
              "<Figure size 640x480 with 1 Axes>"
            ]
          },
          "metadata": {}
        },
        {
          "output_type": "execute_result",
          "data": {
            "text/html": [
              "<div>\n",
              "<style scoped>\n",
              "    .dataframe tbody tr th:only-of-type {\n",
              "        vertical-align: middle;\n",
              "    }\n",
              "\n",
              "    .dataframe tbody tr th {\n",
              "        vertical-align: top;\n",
              "    }\n",
              "\n",
              "    .dataframe thead th {\n",
              "        text-align: right;\n",
              "    }\n",
              "</style>\n",
              "<table border=\"1\" class=\"dataframe\">\n",
              "  <thead>\n",
              "    <tr style=\"text-align: right;\">\n",
              "      <th></th>\n",
              "      <th>movie</th>\n",
              "      <th>text</th>\n",
              "      <th>genres</th>\n",
              "    </tr>\n",
              "  </thead>\n",
              "  <tbody>\n",
              "    <tr>\n",
              "      <th>0</th>\n",
              "      <td>\u0423\u0431\u043e\u0439\u043d\u044b\u0435 \u043a\u0430\u043d\u0438\u043a\u0443\u043b\u044b (2010)</td>\n",
              "      <td>\u0414\u0432\u043e\u0435 \u043f\u0440\u043e\u0441\u0442\u044b\u0445 \u0434\u0435\u0440\u0435\u0432\u0435\u043d\u0441\u043a\u0438\u0445 \u043f\u0430\u0440\u043d\u0435\u0439 \u0433\u0435\u0440\u043e\u0439 \u0438 \u043b\u043e\u043a\u0430\u0446\u0438...</td>\n",
              "      <td>empty</td>\n",
              "    </tr>\n",
              "    <tr>\n",
              "      <th>1</th>\n",
              "      <td>\u0422\u0440\u0438 \u0431\u0438\u043b\u0431\u043e\u0440\u0434\u0430 \u043d\u0430 \u0433\u0440\u0430\u043d\u0438\u0446\u0435 \u042d\u0431\u0431\u0438\u043d\u0433\u0430, \u041c\u0438\u0441\u0441\u0443\u0440\u0438 (2017)</td>\n",
              "      <td>\u041f\u043e\u0441\u043b\u0435 \u0442\u043e\u0433\u043e \u043a\u0430\u043a \u0443\u0431\u0438\u0439\u0446\u044b \u0435\u0451 \u0434\u043e\u0447\u0435\u0440\u0438 \u043d\u0435 \u0431\u044b\u043b\u0438 \u043d\u0430\u0439\u0434\u0435\u043d...</td>\n",
              "      <td>empty</td>\n",
              "    </tr>\n",
              "    <tr>\n",
              "      <th>2</th>\n",
              "      <td>\u0413\u043b\u0443\u0431\u043e\u043a\u043e\u0432\u043e\u0434\u043d\u044b\u0439 \u0433\u043e\u0440\u0438\u0437\u043e\u043d\u0442 (2016)</td>\n",
              "      <td>\u0418\u0441\u0442\u043e\u0440\u0438\u044f \u043e \u043a\u0430\u0442\u0430\u0441\u0442\u0440\u043e\u0444\u0435 \u043d\u0430 \u043d\u0435\u0444\u0442\u044f\u043d\u043e\u0439 \u043f\u043b\u0430\u0442\u0444\u043e\u0440\u043c\u0435 \u00ab\u0444\u0438...</td>\n",
              "      <td>empty</td>\n",
              "    </tr>\n",
              "    <tr>\n",
              "      <th>3</th>\n",
              "      <td>\u0413\u043b\u0430\u0432\u043d\u044b\u0439 \u0433\u0435\u0440\u043e\u0439 (2021)</td>\n",
              "      <td>\u041f\u0430\u0440\u0435\u043d\u044c \u0436\u0438\u0432\u0435\u0442 \u0432 \u0438\u0434\u0435\u0430\u043b\u044c\u043d\u043e\u043c \u0434\u043b\u044f \u0441\u0435\u0431\u044f \u043c\u0438\u0440\u0435 \u2014 \u0432 \u043b\u0443\u0447...</td>\n",
              "      <td>empty</td>\n",
              "    </tr>\n",
              "    <tr>\n",
              "      <th>4</th>\n",
              "      <td>\u041c\u0438\u0441\u0442\u0435\u0440 \u0438 \u043c\u0438\u0441\u0441\u0438\u0441 \u0421\u043c\u0438\u0442 (2005)</td>\n",
              "      <td>\u0433\u0435\u0440\u043e\u0439 \u0438 \u0433\u0435\u0440\u043e\u0439, \u0443\u0441\u0442\u0430\u0432\u0448\u0438\u0435 \u043e\u0442 \u043e\u0434\u043d\u043e\u043e\u0431\u0440\u0430\u0437\u0438\u044f \u0431\u0440\u0430\u043a\u0430, ...</td>\n",
              "      <td>empty</td>\n",
              "    </tr>\n",
              "    <tr>\n",
              "      <th>...</th>\n",
              "      <td>...</td>\n",
              "      <td>...</td>\n",
              "      <td>...</td>\n",
              "    </tr>\n",
              "    <tr>\n",
              "      <th>228</th>\n",
              "      <td>\u0411\u0435\u043b\u0430\u044f \u043f\u0442\u0438\u0446\u0430: \u041d\u043e\u0432\u043e\u0435 \u0447\u0443\u0434\u043e (2023)</td>\n",
              "      <td>\u041f\u043e\u0441\u043b\u0435 \u0441\u043e\u0431\u044b\u0442\u0438\u0439 \u00ab\u0427\u0443\u0434\u0430\u00bb \u0433\u0435\u0440\u043e\u0439 \u043d\u0430\u0432\u0441\u0435\u0433\u0434\u0430 \u043f\u043e\u043a\u0438\u043d\u0443\u043b \u0433\u0435...</td>\n",
              "      <td>empty</td>\n",
              "    </tr>\n",
              "    <tr>\n",
              "      <th>229</th>\n",
              "      <td>\u041c\u0430\u043d\u044e\u043d\u044f: \u041f\u0440\u0438\u043a\u043b\u044e\u0447\u0435\u043d\u0438\u044f \u0432 \u041c\u043e\u0441\u043a\u0432\u0435 (2024)</td>\n",
              "      <td>\u0414\u0435\u0432\u043e\u0447\u043a\u0438 \u0432\u043c\u0435\u0441\u0442\u0435 \u0441 \u0433\u0435\u0440\u043e\u0439 \u0435\u0434\u0443\u0442 \u043d\u0430 \u043f\u043e\u0435\u0437\u0434\u0435 \u0432 \u043b\u043e\u043a\u0430\u0446\u0438...</td>\n",
              "      <td>empty</td>\n",
              "    </tr>\n",
              "    <tr>\n",
              "      <th>230</th>\n",
              "      <td>\u041c\u0430\u0434\u0430\u0433\u0430\u0441\u043a\u0430\u0440 (2005)</td>\n",
              "      <td>\u0412 \u0437\u043e\u043e\u043f\u0430\u0440\u043a\u0435 \u043b\u043e\u043a\u0430\u0446\u0438\u044f \u0437\u0435\u0431\u0440\u0430 \u0433\u0435\u0440\u043e\u0439 \u043f\u0440\u0430\u0437\u0434\u043d\u0443\u0435\u0442 \u0434\u0435\u0441\u044f\u0442...</td>\n",
              "      <td>empty</td>\n",
              "    </tr>\n",
              "    <tr>\n",
              "      <th>231</th>\n",
              "      <td>\u0412\u0437\u0430\u043f\u0435\u0440\u0442\u0438 (2020)</td>\n",
              "      <td>\u0416\u0435\u043d\u0449\u0438\u043d\u0430 \u043f\u043e \u0438\u043c\u0435\u043d\u0438 \u0433\u0435\u0440\u043e\u0439 \u043f\u0440\u0435\u0436\u0434\u0435\u0432\u0440\u0435\u043c\u0435\u043d\u043d\u043e \u0440\u043e\u0436\u0430\u0435\u0442 \u0434...</td>\n",
              "      <td>empty</td>\n",
              "    </tr>\n",
              "    <tr>\n",
              "      <th>232</th>\n",
              "      <td>\u0414\u043e\u0431\u0440\u043e \u043f\u043e\u0436\u0430\u043b\u043e\u0432\u0430\u0442\u044c \u0432 Z\u043e\u043c\u0431\u0438\u043b\u044d\u043d\u0434 (2009)</td>\n",
              "      <td>\u041f\u043e\u0441\u043b\u0435 \u0442\u043e\u0433\u043e, \u043a\u0430\u043a \u043b\u043e\u043a\u0430\u0446\u0438\u044f \u043f\u043e\u0434\u0432\u0435\u0440\u0433\u043b\u0430\u0441\u044c \u0437\u043e\u043c\u0431\u0438-\u0430\u043f\u043e\u043a...</td>\n",
              "      <td>empty</td>\n",
              "    </tr>\n",
              "  </tbody>\n",
              "</table>\n",
              "<p>233 rows \u00d7 3 columns</p>\n",
              "</div>"
            ],
            "text/plain": [
              "                                               movie  \\\n",
              "0                            \u0423\u0431\u043e\u0439\u043d\u044b\u0435 \u043a\u0430\u043d\u0438\u043a\u0443\u043b\u044b (2010)   \n",
              "1    \u0422\u0440\u0438 \u0431\u0438\u043b\u0431\u043e\u0440\u0434\u0430 \u043d\u0430 \u0433\u0440\u0430\u043d\u0438\u0446\u0435 \u042d\u0431\u0431\u0438\u043d\u0433\u0430, \u041c\u0438\u0441\u0441\u0443\u0440\u0438 (2017)   \n",
              "2                      \u0413\u043b\u0443\u0431\u043e\u043a\u043e\u0432\u043e\u0434\u043d\u044b\u0439 \u0433\u043e\u0440\u0438\u0437\u043e\u043d\u0442 (2016)   \n",
              "3                               \u0413\u043b\u0430\u0432\u043d\u044b\u0439 \u0433\u0435\u0440\u043e\u0439 (2021)   \n",
              "4                        \u041c\u0438\u0441\u0442\u0435\u0440 \u0438 \u043c\u0438\u0441\u0441\u0438\u0441 \u0421\u043c\u0438\u0442 (2005)   \n",
              "..                                               ...   \n",
              "228                   \u0411\u0435\u043b\u0430\u044f \u043f\u0442\u0438\u0446\u0430: \u041d\u043e\u0432\u043e\u0435 \u0447\u0443\u0434\u043e (2023)   \n",
              "229              \u041c\u0430\u043d\u044e\u043d\u044f: \u041f\u0440\u0438\u043a\u043b\u044e\u0447\u0435\u043d\u0438\u044f \u0432 \u041c\u043e\u0441\u043a\u0432\u0435 (2024)   \n",
              "230                                \u041c\u0430\u0434\u0430\u0433\u0430\u0441\u043a\u0430\u0440 (2005)   \n",
              "231                                  \u0412\u0437\u0430\u043f\u0435\u0440\u0442\u0438 (2020)   \n",
              "232              \u0414\u043e\u0431\u0440\u043e \u043f\u043e\u0436\u0430\u043b\u043e\u0432\u0430\u0442\u044c \u0432 Z\u043e\u043c\u0431\u0438\u043b\u044d\u043d\u0434 (2009)   \n",
              "\n",
              "                                                  text genres  \n",
              "0    \u0414\u0432\u043e\u0435 \u043f\u0440\u043e\u0441\u0442\u044b\u0445 \u0434\u0435\u0440\u0435\u0432\u0435\u043d\u0441\u043a\u0438\u0445 \u043f\u0430\u0440\u043d\u0435\u0439 \u0433\u0435\u0440\u043e\u0439 \u0438 \u043b\u043e\u043a\u0430\u0446\u0438...  empty  \n",
              "1    \u041f\u043e\u0441\u043b\u0435 \u0442\u043e\u0433\u043e \u043a\u0430\u043a \u0443\u0431\u0438\u0439\u0446\u044b \u0435\u0451 \u0434\u043e\u0447\u0435\u0440\u0438 \u043d\u0435 \u0431\u044b\u043b\u0438 \u043d\u0430\u0439\u0434\u0435\u043d...  empty  \n",
              "2    \u0418\u0441\u0442\u043e\u0440\u0438\u044f \u043e \u043a\u0430\u0442\u0430\u0441\u0442\u0440\u043e\u0444\u0435 \u043d\u0430 \u043d\u0435\u0444\u0442\u044f\u043d\u043e\u0439 \u043f\u043b\u0430\u0442\u0444\u043e\u0440\u043c\u0435 \u00ab\u0444\u0438...  empty  \n",
              "3    \u041f\u0430\u0440\u0435\u043d\u044c \u0436\u0438\u0432\u0435\u0442 \u0432 \u0438\u0434\u0435\u0430\u043b\u044c\u043d\u043e\u043c \u0434\u043b\u044f \u0441\u0435\u0431\u044f \u043c\u0438\u0440\u0435 \u2014 \u0432 \u043b\u0443\u0447...  empty  \n",
              "4    \u0433\u0435\u0440\u043e\u0439 \u0438 \u0433\u0435\u0440\u043e\u0439, \u0443\u0441\u0442\u0430\u0432\u0448\u0438\u0435 \u043e\u0442 \u043e\u0434\u043d\u043e\u043e\u0431\u0440\u0430\u0437\u0438\u044f \u0431\u0440\u0430\u043a\u0430, ...  empty  \n",
              "..                                                 ...    ...  \n",
              "228  \u041f\u043e\u0441\u043b\u0435 \u0441\u043e\u0431\u044b\u0442\u0438\u0439 \u00ab\u0427\u0443\u0434\u0430\u00bb \u0433\u0435\u0440\u043e\u0439 \u043d\u0430\u0432\u0441\u0435\u0433\u0434\u0430 \u043f\u043e\u043a\u0438\u043d\u0443\u043b \u0433\u0435...  empty  \n",
              "229  \u0414\u0435\u0432\u043e\u0447\u043a\u0438 \u0432\u043c\u0435\u0441\u0442\u0435 \u0441 \u0433\u0435\u0440\u043e\u0439 \u0435\u0434\u0443\u0442 \u043d\u0430 \u043f\u043e\u0435\u0437\u0434\u0435 \u0432 \u043b\u043e\u043a\u0430\u0446\u0438...  empty  \n",
              "230  \u0412 \u0437\u043e\u043e\u043f\u0430\u0440\u043a\u0435 \u043b\u043e\u043a\u0430\u0446\u0438\u044f \u0437\u0435\u0431\u0440\u0430 \u0433\u0435\u0440\u043e\u0439 \u043f\u0440\u0430\u0437\u0434\u043d\u0443\u0435\u0442 \u0434\u0435\u0441\u044f\u0442...  empty  \n",
              "231  \u0416\u0435\u043d\u0449\u0438\u043d\u0430 \u043f\u043e \u0438\u043c\u0435\u043d\u0438 \u0433\u0435\u0440\u043e\u0439 \u043f\u0440\u0435\u0436\u0434\u0435\u0432\u0440\u0435\u043c\u0435\u043d\u043d\u043e \u0440\u043e\u0436\u0430\u0435\u0442 \u0434...  empty  \n",
              "232  \u041f\u043e\u0441\u043b\u0435 \u0442\u043e\u0433\u043e, \u043a\u0430\u043a \u043b\u043e\u043a\u0430\u0446\u0438\u044f \u043f\u043e\u0434\u0432\u0435\u0440\u0433\u043b\u0430\u0441\u044c \u0437\u043e\u043c\u0431\u0438-\u0430\u043f\u043e\u043a...  empty  \n",
              "\n",
              "[233 rows x 3 columns]"
            ]
          },
          "metadata": {},
          "execution_count": 46
        }
      ],
      "execution_count": null
    },
    {
      "metadata": {},
      "source": [
        "submission = get_chunked_dataframe(submission)\n",
        "submission"
      ],
      "cell_type": "code",
      "outputs": [
        {
          "output_type": "execute_result",
          "data": {
            "text/html": [
              "<div>\n",
              "<style scoped>\n",
              "    .dataframe tbody tr th:only-of-type {\n",
              "        vertical-align: middle;\n",
              "    }\n",
              "\n",
              "    .dataframe tbody tr th {\n",
              "        vertical-align: top;\n",
              "    }\n",
              "\n",
              "    .dataframe thead th {\n",
              "        text-align: right;\n",
              "    }\n",
              "</style>\n",
              "<table border=\"1\" class=\"dataframe\">\n",
              "  <thead>\n",
              "    <tr style=\"text-align: right;\">\n",
              "      <th></th>\n",
              "      <th>movie</th>\n",
              "      <th>text</th>\n",
              "      <th>genres</th>\n",
              "    </tr>\n",
              "  </thead>\n",
              "  <tbody>\n",
              "    <tr>\n",
              "      <th>0</th>\n",
              "      <td>\u0423\u0431\u043e\u0439\u043d\u044b\u0435 \u043a\u0430\u043d\u0438\u043a\u0443\u043b\u044b (2010)</td>\n",
              "      <td>\u0414\u0432\u043e\u0435 \u043f\u0440\u043e\u0441\u0442\u044b\u0445 \u0434\u0435\u0440\u0435\u0432\u0435\u043d\u0441\u043a\u0438\u0445 \u043f\u0430\u0440\u043d\u0435\u0439 \u0433\u0435\u0440\u043e\u0439 \u0438 \u043b\u043e\u043a\u0430\u0446\u0438...</td>\n",
              "      <td>empty</td>\n",
              "    </tr>\n",
              "    <tr>\n",
              "      <th>1</th>\n",
              "      <td>\u0422\u0440\u0438 \u0431\u0438\u043b\u0431\u043e\u0440\u0434\u0430 \u043d\u0430 \u0433\u0440\u0430\u043d\u0438\u0446\u0435 \u042d\u0431\u0431\u0438\u043d\u0433\u0430, \u041c\u0438\u0441\u0441\u0443\u0440\u0438 (2017)</td>\n",
              "      <td>\u041f\u043e\u0441\u043b\u0435 \u0442\u043e\u0433\u043e \u043a\u0430\u043a \u0443\u0431\u0438\u0439\u0446\u044b \u0435\u0451 \u0434\u043e\u0447\u0435\u0440\u0438 \u043d\u0435 \u0431\u044b\u043b\u0438 \u043d\u0430\u0439\u0434\u0435\u043d...</td>\n",
              "      <td>empty</td>\n",
              "    </tr>\n",
              "    <tr>\n",
              "      <th>2</th>\n",
              "      <td>\u0413\u043b\u0443\u0431\u043e\u043a\u043e\u0432\u043e\u0434\u043d\u044b\u0439 \u0433\u043e\u0440\u0438\u0437\u043e\u043d\u0442 (2016)</td>\n",
              "      <td>\u0418\u0441\u0442\u043e\u0440\u0438\u044f \u043e \u043a\u0430\u0442\u0430\u0441\u0442\u0440\u043e\u0444\u0435 \u043d\u0430 \u043d\u0435\u0444\u0442\u044f\u043d\u043e\u0439 \u043f\u043b\u0430\u0442\u0444\u043e\u0440\u043c\u0435 \u00ab\u0444\u0438...</td>\n",
              "      <td>empty</td>\n",
              "    </tr>\n",
              "    <tr>\n",
              "      <th>3</th>\n",
              "      <td>\u0413\u043b\u0430\u0432\u043d\u044b\u0439 \u0433\u0435\u0440\u043e\u0439 (2021)</td>\n",
              "      <td>\u041f\u0430\u0440\u0435\u043d\u044c \u0436\u0438\u0432\u0435\u0442 \u0432 \u0438\u0434\u0435\u0430\u043b\u044c\u043d\u043e\u043c \u0434\u043b\u044f \u0441\u0435\u0431\u044f \u043c\u0438\u0440\u0435 \u2014 \u0432 \u043b\u0443\u0447...</td>\n",
              "      <td>empty</td>\n",
              "    </tr>\n",
              "    <tr>\n",
              "      <th>4</th>\n",
              "      <td>\u041c\u0438\u0441\u0442\u0435\u0440 \u0438 \u043c\u0438\u0441\u0441\u0438\u0441 \u0421\u043c\u0438\u0442 (2005)</td>\n",
              "      <td>\u0433\u0435\u0440\u043e\u0439 \u0438 \u0433\u0435\u0440\u043e\u0439, \u0443\u0441\u0442\u0430\u0432\u0448\u0438\u0435 \u043e\u0442 \u043e\u0434\u043d\u043e\u043e\u0431\u0440\u0430\u0437\u0438\u044f \u0431\u0440\u0430\u043a\u0430, ...</td>\n",
              "      <td>empty</td>\n",
              "    </tr>\n",
              "    <tr>\n",
              "      <th>...</th>\n",
              "      <td>...</td>\n",
              "      <td>...</td>\n",
              "      <td>...</td>\n",
              "    </tr>\n",
              "    <tr>\n",
              "      <th>624</th>\n",
              "      <td>\u0412\u0437\u0430\u043f\u0435\u0440\u0442\u0438 (2020)</td>\n",
              "      <td>\u041f\u043e\u043d\u0438\u043c\u0430\u044f, \u0447\u0442\u043e \u0433\u0435\u0440\u043e\u0439 \u043d\u0435 \u0434\u0430\u0441\u0442 \u0435\u0439 \u0443\u043c\u0435\u0440\u0435\u0442\u044c, \u0433\u0435\u0440\u043e\u0439 \u043f...</td>\n",
              "      <td>empty</td>\n",
              "    </tr>\n",
              "    <tr>\n",
              "      <th>625</th>\n",
              "      <td>\u0412\u0437\u0430\u043f\u0435\u0440\u0442\u0438 (2020)</td>\n",
              "      <td>\u0412 \u043f\u0430\u043b\u0430\u0442\u0435 \u0433\u0435\u0440\u043e\u0439 \u0440\u0430\u0441\u0441\u043a\u0430\u0437\u044b\u0432\u0430\u0435\u0442 \u043a\u043e\u043c\u0443-\u0442\u043e \u043e \u0441\u0432\u043e\u0451\u043c \u043c\u0443...</td>\n",
              "      <td>empty</td>\n",
              "    </tr>\n",
              "    <tr>\n",
              "      <th>626</th>\n",
              "      <td>\u0414\u043e\u0431\u0440\u043e \u043f\u043e\u0436\u0430\u043b\u043e\u0432\u0430\u0442\u044c \u0432 Z\u043e\u043c\u0431\u0438\u043b\u044d\u043d\u0434 (2009)</td>\n",
              "      <td>\u041f\u043e\u0441\u043b\u0435 \u0442\u043e\u0433\u043e, \u043a\u0430\u043a \u043b\u043e\u043a\u0430\u0446\u0438\u044f \u043f\u043e\u0434\u0432\u0435\u0440\u0433\u043b\u0430\u0441\u044c \u0437\u043e\u043c\u0431\u0438-\u0430\u043f\u043e\u043a...</td>\n",
              "      <td>empty</td>\n",
              "    </tr>\n",
              "    <tr>\n",
              "      <th>627</th>\n",
              "      <td>\u0414\u043e\u0431\u0440\u043e \u043f\u043e\u0436\u0430\u043b\u043e\u0432\u0430\u0442\u044c \u0432 Z\u043e\u043c\u0431\u0438\u043b\u044d\u043d\u0434 (2009)</td>\n",
              "      <td>\u0414\u0435\u0432\u0443\u0448\u043a\u0438 \u043e\u0431\u043c\u0430\u043d\u043e\u043c \u0437\u0430\u0431\u0438\u0440\u0430\u044e\u0442 \u0443 \u043d\u0438\u0445 \u0430\u0432\u0442\u043e\u043c\u043e\u0431\u0438\u043b\u044c, \u0447\u0442\u043e...</td>\n",
              "      <td>empty</td>\n",
              "    </tr>\n",
              "    <tr>\n",
              "      <th>628</th>\n",
              "      <td>\u0414\u043e\u0431\u0440\u043e \u043f\u043e\u0436\u0430\u043b\u043e\u0432\u0430\u0442\u044c \u0432 Z\u043e\u043c\u0431\u0438\u043b\u044d\u043d\u0434 (2009)</td>\n",
              "      <td>\u0433\u0435\u0440\u043e\u0439 \u0441\u043d\u0430\u0447\u0430\u043b\u0430 \u043d\u0435 \u0445\u043e\u0447\u0435\u0442 \u0435\u043c\u0443 \u043f\u043e\u043c\u043e\u0433\u0430\u0442\u044c, \u043d\u043e, \u0432\u0438\u0434\u044f ...</td>\n",
              "      <td>empty</td>\n",
              "    </tr>\n",
              "  </tbody>\n",
              "</table>\n",
              "<p>629 rows \u00d7 3 columns</p>\n",
              "</div>"
            ],
            "text/plain": [
              "                                               movie  \\\n",
              "0                            \u0423\u0431\u043e\u0439\u043d\u044b\u0435 \u043a\u0430\u043d\u0438\u043a\u0443\u043b\u044b (2010)   \n",
              "1    \u0422\u0440\u0438 \u0431\u0438\u043b\u0431\u043e\u0440\u0434\u0430 \u043d\u0430 \u0433\u0440\u0430\u043d\u0438\u0446\u0435 \u042d\u0431\u0431\u0438\u043d\u0433\u0430, \u041c\u0438\u0441\u0441\u0443\u0440\u0438 (2017)   \n",
              "2                      \u0413\u043b\u0443\u0431\u043e\u043a\u043e\u0432\u043e\u0434\u043d\u044b\u0439 \u0433\u043e\u0440\u0438\u0437\u043e\u043d\u0442 (2016)   \n",
              "3                               \u0413\u043b\u0430\u0432\u043d\u044b\u0439 \u0433\u0435\u0440\u043e\u0439 (2021)   \n",
              "4                        \u041c\u0438\u0441\u0442\u0435\u0440 \u0438 \u043c\u0438\u0441\u0441\u0438\u0441 \u0421\u043c\u0438\u0442 (2005)   \n",
              "..                                               ...   \n",
              "624                                  \u0412\u0437\u0430\u043f\u0435\u0440\u0442\u0438 (2020)   \n",
              "625                                  \u0412\u0437\u0430\u043f\u0435\u0440\u0442\u0438 (2020)   \n",
              "626              \u0414\u043e\u0431\u0440\u043e \u043f\u043e\u0436\u0430\u043b\u043e\u0432\u0430\u0442\u044c \u0432 Z\u043e\u043c\u0431\u0438\u043b\u044d\u043d\u0434 (2009)   \n",
              "627              \u0414\u043e\u0431\u0440\u043e \u043f\u043e\u0436\u0430\u043b\u043e\u0432\u0430\u0442\u044c \u0432 Z\u043e\u043c\u0431\u0438\u043b\u044d\u043d\u0434 (2009)   \n",
              "628              \u0414\u043e\u0431\u0440\u043e \u043f\u043e\u0436\u0430\u043b\u043e\u0432\u0430\u0442\u044c \u0432 Z\u043e\u043c\u0431\u0438\u043b\u044d\u043d\u0434 (2009)   \n",
              "\n",
              "                                                  text genres  \n",
              "0    \u0414\u0432\u043e\u0435 \u043f\u0440\u043e\u0441\u0442\u044b\u0445 \u0434\u0435\u0440\u0435\u0432\u0435\u043d\u0441\u043a\u0438\u0445 \u043f\u0430\u0440\u043d\u0435\u0439 \u0433\u0435\u0440\u043e\u0439 \u0438 \u043b\u043e\u043a\u0430\u0446\u0438...  empty  \n",
              "1    \u041f\u043e\u0441\u043b\u0435 \u0442\u043e\u0433\u043e \u043a\u0430\u043a \u0443\u0431\u0438\u0439\u0446\u044b \u0435\u0451 \u0434\u043e\u0447\u0435\u0440\u0438 \u043d\u0435 \u0431\u044b\u043b\u0438 \u043d\u0430\u0439\u0434\u0435\u043d...  empty  \n",
              "2    \u0418\u0441\u0442\u043e\u0440\u0438\u044f \u043e \u043a\u0430\u0442\u0430\u0441\u0442\u0440\u043e\u0444\u0435 \u043d\u0430 \u043d\u0435\u0444\u0442\u044f\u043d\u043e\u0439 \u043f\u043b\u0430\u0442\u0444\u043e\u0440\u043c\u0435 \u00ab\u0444\u0438...  empty  \n",
              "3    \u041f\u0430\u0440\u0435\u043d\u044c \u0436\u0438\u0432\u0435\u0442 \u0432 \u0438\u0434\u0435\u0430\u043b\u044c\u043d\u043e\u043c \u0434\u043b\u044f \u0441\u0435\u0431\u044f \u043c\u0438\u0440\u0435 \u2014 \u0432 \u043b\u0443\u0447...  empty  \n",
              "4    \u0433\u0435\u0440\u043e\u0439 \u0438 \u0433\u0435\u0440\u043e\u0439, \u0443\u0441\u0442\u0430\u0432\u0448\u0438\u0435 \u043e\u0442 \u043e\u0434\u043d\u043e\u043e\u0431\u0440\u0430\u0437\u0438\u044f \u0431\u0440\u0430\u043a\u0430, ...  empty  \n",
              "..                                                 ...    ...  \n",
              "624  \u041f\u043e\u043d\u0438\u043c\u0430\u044f, \u0447\u0442\u043e \u0433\u0435\u0440\u043e\u0439 \u043d\u0435 \u0434\u0430\u0441\u0442 \u0435\u0439 \u0443\u043c\u0435\u0440\u0435\u0442\u044c, \u0433\u0435\u0440\u043e\u0439 \u043f...  empty  \n",
              "625  \u0412 \u043f\u0430\u043b\u0430\u0442\u0435 \u0433\u0435\u0440\u043e\u0439 \u0440\u0430\u0441\u0441\u043a\u0430\u0437\u044b\u0432\u0430\u0435\u0442 \u043a\u043e\u043c\u0443-\u0442\u043e \u043e \u0441\u0432\u043e\u0451\u043c \u043c\u0443...  empty  \n",
              "626  \u041f\u043e\u0441\u043b\u0435 \u0442\u043e\u0433\u043e, \u043a\u0430\u043a \u043b\u043e\u043a\u0430\u0446\u0438\u044f \u043f\u043e\u0434\u0432\u0435\u0440\u0433\u043b\u0430\u0441\u044c \u0437\u043e\u043c\u0431\u0438-\u0430\u043f\u043e\u043a...  empty  \n",
              "627  \u0414\u0435\u0432\u0443\u0448\u043a\u0438 \u043e\u0431\u043c\u0430\u043d\u043e\u043c \u0437\u0430\u0431\u0438\u0440\u0430\u044e\u0442 \u0443 \u043d\u0438\u0445 \u0430\u0432\u0442\u043e\u043c\u043e\u0431\u0438\u043b\u044c, \u0447\u0442\u043e...  empty  \n",
              "628  \u0433\u0435\u0440\u043e\u0439 \u0441\u043d\u0430\u0447\u0430\u043b\u0430 \u043d\u0435 \u0445\u043e\u0447\u0435\u0442 \u0435\u043c\u0443 \u043f\u043e\u043c\u043e\u0433\u0430\u0442\u044c, \u043d\u043e, \u0432\u0438\u0434\u044f ...  empty  \n",
              "\n",
              "[629 rows x 3 columns]"
            ]
          },
          "metadata": {},
          "execution_count": 47
        },
        {
          "output_type": "display_data",
          "data": {
            "image/png": "[encoded data removed]",
            "text/plain": [
              "<Figure size 640x480 with 1 Axes>"
            ]
          },
          "metadata": {}
        }
      ],
      "execution_count": null
    },
    {
      "metadata": {},
      "source": [
        "dataset = Dataset.from_pandas(submission[[\"text\"]])\n",
        "dataset = dataset.map(\n",
        "    lambda x: tokenizer(x[\"text\"], truncation=True, max_length=max_length),\n",
        "    batched=True,\n",
        "    remove_columns=[\"text\"],\n",
        ")\n",
        "test_dataloader = DataLoader(\n",
        "    dataset,\n",
        "    batch_size=batch_size,\n",
        "    shuffle=False,\n",
        "    num_workers=num_workers,\n",
        "    collate_fn=data_collator,\n",
        "    pin_memory=pin_memory,\n",
        "    drop_last=drop_last,\n",
        ")\n",
        "\n",
        "\n",
        "def test(model, dataloader):\n",
        "    with torch.inference_mode():\n",
        "        y_pred = []\n",
        "\n",
        "        for batch in tqdm(dataloader):\n",
        "            batch = batch.to(model.device)\n",
        "            output = model(**batch)\n",
        "\n",
        "            y_pred.append(output.logits.cpu())\n",
        "\n",
        "    return torch.sigmoid(torch.cat(y_pred)).numpy()\n",
        "\n",
        "\n",
        "prediction = test(model, test_dataloader)"
      ],
      "cell_type": "code",
      "outputs": [
        {
          "output_type": "display_data",
          "data": {
            "application/vnd.jupyter.widget-view+json": {
              "model_id": "6bfe5b7636794264b5b17d81a0e00676",
              "version_major": 2,
              "version_minor": 0
            },
            "text/plain": [
              "Map:   0%|          | 0/629 [00:00<?, ? examples/s]"
            ]
          },
          "metadata": {}
        },
        {
          "output_type": "display_data",
          "data": {
            "application/vnd.jupyter.widget-view+json": {
              "model_id": "cb3f2c159a544147828a6d18790776f9",
              "version_major": 2,
              "version_minor": 0
            },
            "text/plain": [
              "  0%|          | 0/315 [00:00<?, ?it/s]"
            ]
          },
          "metadata": {}
        }
      ],
      "execution_count": null
    },
    {
      "metadata": {},
      "source": [
        "submission[\"genres\"] = prediction.tolist()\n",
        "submission"
      ],
      "cell_type": "code",
      "outputs": [
        {
          "output_type": "execute_result",
          "data": {
            "text/html": [
              "<div>\n",
              "<style scoped>\n",
              "    .dataframe tbody tr th:only-of-type {\n",
              "        vertical-align: middle;\n",
              "    }\n",
              "\n",
              "    .dataframe tbody tr th {\n",
              "        vertical-align: top;\n",
              "    }\n",
              "\n",
              "    .dataframe thead th {\n",
              "        text-align: right;\n",
              "    }\n",
              "</style>\n",
              "<table border=\"1\" class=\"dataframe\">\n",
              "  <thead>\n",
              "    <tr style=\"text-align: right;\">\n",
              "      <th></th>\n",
              "      <th>movie</th>\n",
              "      <th>text</th>\n",
              "      <th>genres</th>\n",
              "    </tr>\n",
              "  </thead>\n",
              "  <tbody>\n",
              "    <tr>\n",
              "      <th>0</th>\n",
              "      <td>\u0423\u0431\u043e\u0439\u043d\u044b\u0435 \u043a\u0430\u043d\u0438\u043a\u0443\u043b\u044b (2010)</td>\n",
              "      <td>\u0414\u0432\u043e\u0435 \u043f\u0440\u043e\u0441\u0442\u044b\u0445 \u0434\u0435\u0440\u0435\u0432\u0435\u043d\u0441\u043a\u0438\u0445 \u043f\u0430\u0440\u043d\u0435\u0439 \u0433\u0435\u0440\u043e\u0439 \u0438 \u043b\u043e\u043a\u0430\u0446\u0438...</td>\n",
              "      <td>[0.01518731564283371, 0.1320841908454895, 0.42...</td>\n",
              "    </tr>\n",
              "    <tr>\n",
              "      <th>1</th>\n",
              "      <td>\u0422\u0440\u0438 \u0431\u0438\u043b\u0431\u043e\u0440\u0434\u0430 \u043d\u0430 \u0433\u0440\u0430\u043d\u0438\u0446\u0435 \u042d\u0431\u0431\u0438\u043d\u0433\u0430, \u041c\u0438\u0441\u0441\u0443\u0440\u0438 (2017)</td>\n",
              "      <td>\u041f\u043e\u0441\u043b\u0435 \u0442\u043e\u0433\u043e \u043a\u0430\u043a \u0443\u0431\u0438\u0439\u0446\u044b \u0435\u0451 \u0434\u043e\u0447\u0435\u0440\u0438 \u043d\u0435 \u0431\u044b\u043b\u0438 \u043d\u0430\u0439\u0434\u0435\u043d...</td>\n",
              "      <td>[0.016891680657863617, 0.8650408387184143, 0.9...</td>\n",
              "    </tr>\n",
              "    <tr>\n",
              "      <th>2</th>\n",
              "      <td>\u0413\u043b\u0443\u0431\u043e\u043a\u043e\u0432\u043e\u0434\u043d\u044b\u0439 \u0433\u043e\u0440\u0438\u0437\u043e\u043d\u0442 (2016)</td>\n",
              "      <td>\u0418\u0441\u0442\u043e\u0440\u0438\u044f \u043e \u043a\u0430\u0442\u0430\u0441\u0442\u0440\u043e\u0444\u0435 \u043d\u0430 \u043d\u0435\u0444\u0442\u044f\u043d\u043e\u0439 \u043f\u043b\u0430\u0442\u0444\u043e\u0440\u043c\u0435 \u00ab\u0444\u0438...</td>\n",
              "      <td>[0.026448076590895653, 0.3986609876155853, 0.9...</td>\n",
              "    </tr>\n",
              "    <tr>\n",
              "      <th>3</th>\n",
              "      <td>\u0413\u043b\u0430\u0432\u043d\u044b\u0439 \u0433\u0435\u0440\u043e\u0439 (2021)</td>\n",
              "      <td>\u041f\u0430\u0440\u0435\u043d\u044c \u0436\u0438\u0432\u0435\u0442 \u0432 \u0438\u0434\u0435\u0430\u043b\u044c\u043d\u043e\u043c \u0434\u043b\u044f \u0441\u0435\u0431\u044f \u043c\u0438\u0440\u0435 \u2014 \u0432 \u043b\u0443\u0447...</td>\n",
              "      <td>[0.5761271119117737, 0.2130073755979538, 0.215...</td>\n",
              "    </tr>\n",
              "    <tr>\n",
              "      <th>4</th>\n",
              "      <td>\u041c\u0438\u0441\u0442\u0435\u0440 \u0438 \u043c\u0438\u0441\u0441\u0438\u0441 \u0421\u043c\u0438\u0442 (2005)</td>\n",
              "      <td>\u0433\u0435\u0440\u043e\u0439 \u0438 \u0433\u0435\u0440\u043e\u0439, \u0443\u0441\u0442\u0430\u0432\u0448\u0438\u0435 \u043e\u0442 \u043e\u0434\u043d\u043e\u043e\u0431\u0440\u0430\u0437\u0438\u044f \u0431\u0440\u0430\u043a\u0430, ...</td>\n",
              "      <td>[0.06768924742937088, 0.059741828590631485, 0....</td>\n",
              "    </tr>\n",
              "    <tr>\n",
              "      <th>...</th>\n",
              "      <td>...</td>\n",
              "      <td>...</td>\n",
              "      <td>...</td>\n",
              "    </tr>\n",
              "    <tr>\n",
              "      <th>624</th>\n",
              "      <td>\u0412\u0437\u0430\u043f\u0435\u0440\u0442\u0438 (2020)</td>\n",
              "      <td>\u041f\u043e\u043d\u0438\u043c\u0430\u044f, \u0447\u0442\u043e \u0433\u0435\u0440\u043e\u0439 \u043d\u0435 \u0434\u0430\u0441\u0442 \u0435\u0439 \u0443\u043c\u0435\u0440\u0435\u0442\u044c, \u0433\u0435\u0440\u043e\u0439 \u043f...</td>\n",
              "      <td>[0.018841898068785667, 0.0830281600356102, 0.7...</td>\n",
              "    </tr>\n",
              "    <tr>\n",
              "      <th>625</th>\n",
              "      <td>\u0412\u0437\u0430\u043f\u0435\u0440\u0442\u0438 (2020)</td>\n",
              "      <td>\u0412 \u043f\u0430\u043b\u0430\u0442\u0435 \u0433\u0435\u0440\u043e\u0439 \u0440\u0430\u0441\u0441\u043a\u0430\u0437\u044b\u0432\u0430\u0435\u0442 \u043a\u043e\u043c\u0443-\u0442\u043e \u043e \u0441\u0432\u043e\u0451\u043c \u043c\u0443...</td>\n",
              "      <td>[0.012856241315603256, 0.3514479398727417, 0.9...</td>\n",
              "    </tr>\n",
              "    <tr>\n",
              "      <th>626</th>\n",
              "      <td>\u0414\u043e\u0431\u0440\u043e \u043f\u043e\u0436\u0430\u043b\u043e\u0432\u0430\u0442\u044c \u0432 Z\u043e\u043c\u0431\u0438\u043b\u044d\u043d\u0434 (2009)</td>\n",
              "      <td>\u041f\u043e\u0441\u043b\u0435 \u0442\u043e\u0433\u043e, \u043a\u0430\u043a \u043b\u043e\u043a\u0430\u0446\u0438\u044f \u043f\u043e\u0434\u0432\u0435\u0440\u0433\u043b\u0430\u0441\u044c \u0437\u043e\u043c\u0431\u0438-\u0430\u043f\u043e\u043a...</td>\n",
              "      <td>[0.9121199250221252, 0.04255351796746254, 0.04...</td>\n",
              "    </tr>\n",
              "    <tr>\n",
              "      <th>627</th>\n",
              "      <td>\u0414\u043e\u0431\u0440\u043e \u043f\u043e\u0436\u0430\u043b\u043e\u0432\u0430\u0442\u044c \u0432 Z\u043e\u043c\u0431\u0438\u043b\u044d\u043d\u0434 (2009)</td>\n",
              "      <td>\u0414\u0435\u0432\u0443\u0448\u043a\u0438 \u043e\u0431\u043c\u0430\u043d\u043e\u043c \u0437\u0430\u0431\u0438\u0440\u0430\u044e\u0442 \u0443 \u043d\u0438\u0445 \u0430\u0432\u0442\u043e\u043c\u043e\u0431\u0438\u043b\u044c, \u0447\u0442\u043e...</td>\n",
              "      <td>[0.1993415206670761, 0.05320056527853012, 0.04...</td>\n",
              "    </tr>\n",
              "    <tr>\n",
              "      <th>628</th>\n",
              "      <td>\u0414\u043e\u0431\u0440\u043e \u043f\u043e\u0436\u0430\u043b\u043e\u0432\u0430\u0442\u044c \u0432 Z\u043e\u043c\u0431\u0438\u043b\u044d\u043d\u0434 (2009)</td>\n",
              "      <td>\u0433\u0435\u0440\u043e\u0439 \u0441\u043d\u0430\u0447\u0430\u043b\u0430 \u043d\u0435 \u0445\u043e\u0447\u0435\u0442 \u0435\u043c\u0443 \u043f\u043e\u043c\u043e\u0433\u0430\u0442\u044c, \u043d\u043e, \u0432\u0438\u0434\u044f ...</td>\n",
              "      <td>[0.43300846219062805, 0.08139431476593018, 0.0...</td>\n",
              "    </tr>\n",
              "  </tbody>\n",
              "</table>\n",
              "<p>629 rows \u00d7 3 columns</p>\n",
              "</div>"
            ],
            "text/plain": [
              "                                               movie  \\\n",
              "0                            \u0423\u0431\u043e\u0439\u043d\u044b\u0435 \u043a\u0430\u043d\u0438\u043a\u0443\u043b\u044b (2010)   \n",
              "1    \u0422\u0440\u0438 \u0431\u0438\u043b\u0431\u043e\u0440\u0434\u0430 \u043d\u0430 \u0433\u0440\u0430\u043d\u0438\u0446\u0435 \u042d\u0431\u0431\u0438\u043d\u0433\u0430, \u041c\u0438\u0441\u0441\u0443\u0440\u0438 (2017)   \n",
              "2                      \u0413\u043b\u0443\u0431\u043e\u043a\u043e\u0432\u043e\u0434\u043d\u044b\u0439 \u0433\u043e\u0440\u0438\u0437\u043e\u043d\u0442 (2016)   \n",
              "3                               \u0413\u043b\u0430\u0432\u043d\u044b\u0439 \u0433\u0435\u0440\u043e\u0439 (2021)   \n",
              "4                        \u041c\u0438\u0441\u0442\u0435\u0440 \u0438 \u043c\u0438\u0441\u0441\u0438\u0441 \u0421\u043c\u0438\u0442 (2005)   \n",
              "..                                               ...   \n",
              "624                                  \u0412\u0437\u0430\u043f\u0435\u0440\u0442\u0438 (2020)   \n",
              "625                                  \u0412\u0437\u0430\u043f\u0435\u0440\u0442\u0438 (2020)   \n",
              "626              \u0414\u043e\u0431\u0440\u043e \u043f\u043e\u0436\u0430\u043b\u043e\u0432\u0430\u0442\u044c \u0432 Z\u043e\u043c\u0431\u0438\u043b\u044d\u043d\u0434 (2009)   \n",
              "627              \u0414\u043e\u0431\u0440\u043e \u043f\u043e\u0436\u0430\u043b\u043e\u0432\u0430\u0442\u044c \u0432 Z\u043e\u043c\u0431\u0438\u043b\u044d\u043d\u0434 (2009)   \n",
              "628              \u0414\u043e\u0431\u0440\u043e \u043f\u043e\u0436\u0430\u043b\u043e\u0432\u0430\u0442\u044c \u0432 Z\u043e\u043c\u0431\u0438\u043b\u044d\u043d\u0434 (2009)   \n",
              "\n",
              "                                                  text  \\\n",
              "0    \u0414\u0432\u043e\u0435 \u043f\u0440\u043e\u0441\u0442\u044b\u0445 \u0434\u0435\u0440\u0435\u0432\u0435\u043d\u0441\u043a\u0438\u0445 \u043f\u0430\u0440\u043d\u0435\u0439 \u0433\u0435\u0440\u043e\u0439 \u0438 \u043b\u043e\u043a\u0430\u0446\u0438...   \n",
              "1    \u041f\u043e\u0441\u043b\u0435 \u0442\u043e\u0433\u043e \u043a\u0430\u043a \u0443\u0431\u0438\u0439\u0446\u044b \u0435\u0451 \u0434\u043e\u0447\u0435\u0440\u0438 \u043d\u0435 \u0431\u044b\u043b\u0438 \u043d\u0430\u0439\u0434\u0435\u043d...   \n",
              "2    \u0418\u0441\u0442\u043e\u0440\u0438\u044f \u043e \u043a\u0430\u0442\u0430\u0441\u0442\u0440\u043e\u0444\u0435 \u043d\u0430 \u043d\u0435\u0444\u0442\u044f\u043d\u043e\u0439 \u043f\u043b\u0430\u0442\u0444\u043e\u0440\u043c\u0435 \u00ab\u0444\u0438...   \n",
              "3    \u041f\u0430\u0440\u0435\u043d\u044c \u0436\u0438\u0432\u0435\u0442 \u0432 \u0438\u0434\u0435\u0430\u043b\u044c\u043d\u043e\u043c \u0434\u043b\u044f \u0441\u0435\u0431\u044f \u043c\u0438\u0440\u0435 \u2014 \u0432 \u043b\u0443\u0447...   \n",
              "4    \u0433\u0435\u0440\u043e\u0439 \u0438 \u0433\u0435\u0440\u043e\u0439, \u0443\u0441\u0442\u0430\u0432\u0448\u0438\u0435 \u043e\u0442 \u043e\u0434\u043d\u043e\u043e\u0431\u0440\u0430\u0437\u0438\u044f \u0431\u0440\u0430\u043a\u0430, ...   \n",
              "..                                                 ...   \n",
              "624  \u041f\u043e\u043d\u0438\u043c\u0430\u044f, \u0447\u0442\u043e \u0433\u0435\u0440\u043e\u0439 \u043d\u0435 \u0434\u0430\u0441\u0442 \u0435\u0439 \u0443\u043c\u0435\u0440\u0435\u0442\u044c, \u0433\u0435\u0440\u043e\u0439 \u043f...   \n",
              "625  \u0412 \u043f\u0430\u043b\u0430\u0442\u0435 \u0433\u0435\u0440\u043e\u0439 \u0440\u0430\u0441\u0441\u043a\u0430\u0437\u044b\u0432\u0430\u0435\u0442 \u043a\u043e\u043c\u0443-\u0442\u043e \u043e \u0441\u0432\u043e\u0451\u043c \u043c\u0443...   \n",
              "626  \u041f\u043e\u0441\u043b\u0435 \u0442\u043e\u0433\u043e, \u043a\u0430\u043a \u043b\u043e\u043a\u0430\u0446\u0438\u044f \u043f\u043e\u0434\u0432\u0435\u0440\u0433\u043b\u0430\u0441\u044c \u0437\u043e\u043c\u0431\u0438-\u0430\u043f\u043e\u043a...   \n",
              "627  \u0414\u0435\u0432\u0443\u0448\u043a\u0438 \u043e\u0431\u043c\u0430\u043d\u043e\u043c \u0437\u0430\u0431\u0438\u0440\u0430\u044e\u0442 \u0443 \u043d\u0438\u0445 \u0430\u0432\u0442\u043e\u043c\u043e\u0431\u0438\u043b\u044c, \u0447\u0442\u043e...   \n",
              "628  \u0433\u0435\u0440\u043e\u0439 \u0441\u043d\u0430\u0447\u0430\u043b\u0430 \u043d\u0435 \u0445\u043e\u0447\u0435\u0442 \u0435\u043c\u0443 \u043f\u043e\u043c\u043e\u0433\u0430\u0442\u044c, \u043d\u043e, \u0432\u0438\u0434\u044f ...   \n",
              "\n",
              "                                                genres  \n",
              "0    [0.01518731564283371, 0.1320841908454895, 0.42...  \n",
              "1    [0.016891680657863617, 0.8650408387184143, 0.9...  \n",
              "2    [0.026448076590895653, 0.3986609876155853, 0.9...  \n",
              "3    [0.5761271119117737, 0.2130073755979538, 0.215...  \n",
              "4    [0.06768924742937088, 0.059741828590631485, 0....  \n",
              "..                                                 ...  \n",
              "624  [0.018841898068785667, 0.0830281600356102, 0.7...  \n",
              "625  [0.012856241315603256, 0.3514479398727417, 0.9...  \n",
              "626  [0.9121199250221252, 0.04255351796746254, 0.04...  \n",
              "627  [0.1993415206670761, 0.05320056527853012, 0.04...  \n",
              "628  [0.43300846219062805, 0.08139431476593018, 0.0...  \n",
              "\n",
              "[629 rows x 3 columns]"
            ]
          },
          "metadata": {},
          "execution_count": 49
        }
      ],
      "execution_count": null
    },
    {
      "metadata": {},
      "source": [
        "submission = (\n",
        "    submission.groupby(\"movie\")[\"genres\"]\n",
        "    .agg(lambda x: [sum(i) / len(i) for i in zip(*x)])\n",
        "    .reset_index()\n",
        ")\n",
        "\n",
        "# submission = (\n",
        "#     submission.groupby(\"movie\")\n",
        "#     .agg({\"genres\": \"first\"})\n",
        "#     .reset_index()\n",
        "# )\n",
        "\n",
        "\n",
        "# submission[\"text_length\"] = submission[\"text\"].apply(len)\n",
        "\n",
        "# # Now, calculate the weighted sum of the genres probabilities\n",
        "# def weighted_sum(genres, weights):\n",
        "#     # Normalize weights\n",
        "#     normalized_weights = [w / sum(weights) for w in weights]\n",
        "#     # Compute the weighted sum of each genre probability\n",
        "#     return [sum(g * w for g, w in zip(genre_probs, normalized_weights)) for genre_probs in zip(*genres)]\n",
        "\n",
        "# # Apply the new aggregation with weights\n",
        "# submission = (\n",
        "#     submission.groupby(\"movie\").apply(lambda group: pd.Series({\n",
        "#         \"genres\": weighted_sum(group[\"genres\"], group[\"text_length\"])\n",
        "#     })).reset_index()\n",
        "# )\n",
        "\n",
        "\n",
        "submission.columns = [\"\u0424\u0438\u043b\u044c\u043c\", \"\u0416\u0430\u043d\u0440\u044b\"]\n",
        "submission"
      ],
      "cell_type": "code",
      "outputs": [
        {
          "output_type": "execute_result",
          "data": {
            "text/html": [
              "<div>\n",
              "<style scoped>\n",
              "    .dataframe tbody tr th:only-of-type {\n",
              "        vertical-align: middle;\n",
              "    }\n",
              "\n",
              "    .dataframe tbody tr th {\n",
              "        vertical-align: top;\n",
              "    }\n",
              "\n",
              "    .dataframe thead th {\n",
              "        text-align: right;\n",
              "    }\n",
              "</style>\n",
              "<table border=\"1\" class=\"dataframe\">\n",
              "  <thead>\n",
              "    <tr style=\"text-align: right;\">\n",
              "      <th></th>\n",
              "      <th>\u0424\u0438\u043b\u044c\u043c</th>\n",
              "      <th>\u0416\u0430\u043d\u0440\u044b</th>\n",
              "    </tr>\n",
              "  </thead>\n",
              "  <tbody>\n",
              "    <tr>\n",
              "      <th>0</th>\n",
              "      <td>127 \u0447\u0430\u0441\u043e\u0432 (2010)</td>\n",
              "      <td>[0.1392784509807825, 0.061696324963122606, 0.8...</td>\n",
              "    </tr>\n",
              "    <tr>\n",
              "      <th>1</th>\n",
              "      <td>1408 (2007)</td>\n",
              "      <td>[0.026610608445480466, 0.22743734158575535, 0....</td>\n",
              "    </tr>\n",
              "    <tr>\n",
              "      <th>2</th>\n",
              "      <td>365 \u0434\u043d\u0435\u0439 (2020)</td>\n",
              "      <td>[0.5795019865036011, 0.04765133187174797, 0.31...</td>\n",
              "    </tr>\n",
              "    <tr>\n",
              "      <th>3</th>\n",
              "      <td>500 \u0434\u043d\u0435\u0439 \u043b\u0435\u0442\u0430 (2009)</td>\n",
              "      <td>[0.013571949442848563, 0.0317928739823401, 0.8...</td>\n",
              "    </tr>\n",
              "    <tr>\n",
              "      <th>4</th>\n",
              "      <td>57 \u0441\u0435\u043a\u0443\u043d\u0434 (2023)</td>\n",
              "      <td>[0.7891775965690613, 0.04251942038536072, 0.03...</td>\n",
              "    </tr>\n",
              "    <tr>\n",
              "      <th>...</th>\n",
              "      <td>...</td>\n",
              "      <td>...</td>\n",
              "    </tr>\n",
              "    <tr>\n",
              "      <th>117</th>\n",
              "      <td>\u0428\u0435\u0441\u0442\u043e\u0435 \u0447\u0443\u0432\u0441\u0442\u0432\u043e (1999)</td>\n",
              "      <td>[0.027885390756030876, 0.6553486734628677, 0.6...</td>\n",
              "    </tr>\n",
              "    <tr>\n",
              "      <th>118</th>\n",
              "      <td>\u0428\u0440\u044d\u043a (2001)</td>\n",
              "      <td>[0.0560934878885746, 0.043350994819775224, 0.1...</td>\n",
              "    </tr>\n",
              "    <tr>\n",
              "      <th>119</th>\n",
              "      <td>\u042d\u0431\u0438\u0433\u0435\u0439\u043b (2024)</td>\n",
              "      <td>[0.9222476780414581, 0.05577485077083111, 0.04...</td>\n",
              "    </tr>\n",
              "    <tr>\n",
              "      <th>120</th>\n",
              "      <td>\u042d\u043a\u0432\u0438\u043b\u0438\u0431\u0440\u0438\u0443\u043c (2002)</td>\n",
              "      <td>[0.3000730094499886, 0.4654378704726696, 0.936...</td>\n",
              "    </tr>\n",
              "    <tr>\n",
              "      <th>121</th>\n",
              "      <td>\u042d\u0444\u0444\u0435\u043a\u0442 \u0431\u0430\u0431\u043e\u0447\u043a\u0438 (2003)</td>\n",
              "      <td>[0.03634432454903921, 0.2513023565212886, 0.68...</td>\n",
              "    </tr>\n",
              "  </tbody>\n",
              "</table>\n",
              "<p>122 rows \u00d7 2 columns</p>\n",
              "</div>"
            ],
            "text/plain": [
              "                     \u0424\u0438\u043b\u044c\u043c                                              \u0416\u0430\u043d\u0440\u044b\n",
              "0         127 \u0447\u0430\u0441\u043e\u0432 (2010)  [0.1392784509807825, 0.061696324963122606, 0.8...\n",
              "1              1408 (2007)  [0.026610608445480466, 0.22743734158575535, 0....\n",
              "2          365 \u0434\u043d\u0435\u0439 (2020)  [0.5795019865036011, 0.04765133187174797, 0.31...\n",
              "3     500 \u0434\u043d\u0435\u0439 \u043b\u0435\u0442\u0430 (2009)  [0.013571949442848563, 0.0317928739823401, 0.8...\n",
              "4         57 \u0441\u0435\u043a\u0443\u043d\u0434 (2023)  [0.7891775965690613, 0.04251942038536072, 0.03...\n",
              "..                     ...                                                ...\n",
              "117  \u0428\u0435\u0441\u0442\u043e\u0435 \u0447\u0443\u0432\u0441\u0442\u0432\u043e (1999)  [0.027885390756030876, 0.6553486734628677, 0.6...\n",
              "118            \u0428\u0440\u044d\u043a (2001)  [0.0560934878885746, 0.043350994819775224, 0.1...\n",
              "119         \u042d\u0431\u0438\u0433\u0435\u0439\u043b (2024)  [0.9222476780414581, 0.05577485077083111, 0.04...\n",
              "120     \u042d\u043a\u0432\u0438\u043b\u0438\u0431\u0440\u0438\u0443\u043c (2002)  [0.3000730094499886, 0.4654378704726696, 0.936...\n",
              "121  \u042d\u0444\u0444\u0435\u043a\u0442 \u0431\u0430\u0431\u043e\u0447\u043a\u0438 (2003)  [0.03634432454903921, 0.2513023565212886, 0.68...\n",
              "\n",
              "[122 rows x 2 columns]"
            ]
          },
          "metadata": {},
          "execution_count": 50
        }
      ],
      "execution_count": null
    },
    {
      "metadata": {},
      "source": [
        "# threshold = 0.3\n",
        "\n",
        "threshold = [0.7, 0.3, 0.25, 0.05, 0.35, 0.7, 0.2, 0.2, 0.01, 0.3, 0.4, 0.4, 0.35, 0.2]\n",
        "predicted_labels = []\n",
        "for pred_ in submission[\"\u0416\u0430\u043d\u0440\u044b\"].to_list():\n",
        "    pred = (np.array(pred_) >= threshold).astype(int)\n",
        "    labels = [id2label[idx] for idx, value in enumerate(pred) if value == 1]\n",
        "    if not labels:\n",
        "        labels = [id2label[np.argmax(pred)]]\n",
        "    predicted_labels.append(labels)"
      ],
      "cell_type": "code",
      "outputs": [],
      "execution_count": null
    },
    {
      "metadata": {},
      "source": [
        "submission[\"\u0416\u0430\u043d\u0440\u044b\"] = predicted_labels\n",
        "submission[\"\u0416\u0430\u043d\u0440\u044b\"] = submission[\"\u0416\u0430\u043d\u0440\u044b\"].apply(lambda x: \", \".join(x))\n",
        "submission.set_index(\"\u0424\u0438\u043b\u044c\u043c\").loc[\n",
        "    pd.read_csv(\"data/sample_submission_seed_0.csv\")[\"\u0424\u0438\u043b\u044c\u043c\"]\n",
        "].to_csv(\"submission.csv\")"
      ],
      "cell_type": "code",
      "outputs": [],
      "execution_count": null
    },
    {
      "metadata": {},
      "source": [],
      "cell_type": "code",
      "outputs": [],
      "execution_count": null
    },
    {
      "metadata": {},
      "source": [],
      "cell_type": "code",
      "outputs": [],
      "execution_count": null
    },
    {
      "metadata": {},
      "source": [],
      "cell_type": "code",
      "outputs": [],
      "execution_count": null
    }
  ]
}
