{
  "nbformat": 4,
  "nbformat_minor": 2,
  "metadata": {},
  "cells": [
    {
      "metadata": {},
      "source": [
        "import os\n",
        "import random\n",
        "import re\n",
        "\n",
        "import matplotlib.pyplot as plt\n",
        "import nltk\n",
        "import numpy as np\n",
        "import pandas as pd\n",
        "import spacy\n",
        "import torch\n",
        "import transformers\n",
        "import wandb\n",
        "from datasets import Dataset, load_dataset\n",
        "\n",
        "# from preprocess import get_chunked_dataframe, preprocess_train\n",
        "from metrics import f1_df_for_each_threshold\n",
        "from nltk.tokenize import sent_tokenize, word_tokenize\n",
        "from pandarallel import pandarallel\n",
        "from sklearn import metrics\n",
        "from sklearn.metrics import classification_report, roc_auc_score\n",
        "from sklearn.preprocessing import MultiLabelBinarizer\n",
        "from torch import cuda\n",
        "from torch.optim import Adam\n",
        "from torch.utils.data import DataLoader\n",
        "from tqdm import tqdm\n",
        "from tqdm.notebook import tqdm\n",
        "from transformers import (\n",
        "    AutoTokenizer,\n",
        "    BertConfig,\n",
        "    BertForSequenceClassification,\n",
        "    BertModel,\n",
        "    BertTokenizer,\n",
        "    DataCollatorWithPadding,\n",
        ")\n",
        "\n",
        "np.random.seed(42)\n",
        "torch.manual_seed(42)\n",
        "random.seed(42)\n",
        "\n",
        "\n",
        "device = \"cuda\" if cuda.is_available() else \"cpu\""
      ],
      "cell_type": "code",
      "outputs": [],
      "execution_count": null
    },
    {
      "metadata": {},
      "source": [
        "nlp = spacy.load(\"ru_core_news_lg\")\n",
        "pandarallel.initialize(progress_bar=True)\n",
        "\n",
        "\n",
        "def split_text_chunks(text, max_words=150, min_words=25):\n",
        "    sentences = sent_tokenize(text)\n",
        "    chunks = []\n",
        "    current_chunk = []\n",
        "    current_word_count = 0\n",
        "\n",
        "    for sentence in sentences:\n",
        "        sentence_word_count = len(sentence.split())\n",
        "\n",
        "        if current_word_count + sentence_word_count > max_words:\n",
        "            chunks.append(\" \".join(current_chunk))\n",
        "            current_chunk = [sentence]\n",
        "            current_word_count = sentence_word_count\n",
        "        else:\n",
        "            current_chunk.append(sentence)\n",
        "            current_word_count += sentence_word_count\n",
        "\n",
        "    if current_chunk and current_word_count >= min_words:\n",
        "        chunks.append(\" \".join(current_chunk))\n",
        "\n",
        "    return chunks if chunks else [text]\n",
        "\n",
        "\n",
        "def sliding_window_chunks(text, max_words=150, min_words=50):\n",
        "    sentences = sent_tokenize(text, \"russian\")\n",
        "    chunks = []\n",
        "    current_chunk = []\n",
        "    start_idx = 0\n",
        "\n",
        "    while start_idx < len(sentences):\n",
        "        current_chunk = []\n",
        "        current_word_count = 0\n",
        "        for idx in range(start_idx, len(sentences)):\n",
        "            sentence_word_count = len(sentences[idx].split())\n",
        "\n",
        "            if current_word_count + sentence_word_count > max_words:\n",
        "                break\n",
        "            current_chunk.append(sentences[idx])\n",
        "            current_word_count += sentence_word_count\n",
        "\n",
        "        if current_word_count >= min_words:\n",
        "            chunks.append(\" \".join(current_chunk))\n",
        "\n",
        "        start_idx += 1\n",
        "    return chunks if chunks else [text]\n",
        "\n",
        "\n",
        "def get_chunked_dataframe(df):\n",
        "    df = df.copy()\n",
        "    chunked_rows = []\n",
        "\n",
        "    for _, row in df.iterrows():\n",
        "        if pd.notna(row[\"text\"]):\n",
        "            text_chunks = split_text_chunks(row[\"text\"])\n",
        "            for chunk in text_chunks:\n",
        "                chunked_rows.append([row[\"movie\"], chunk, row[\"genres\"]])\n",
        "    chunked = pd.DataFrame(chunked_rows, columns=[\"movie\", \"text\", \"genres\"])\n",
        "    chunked[\"text\"].apply(lambda x: len(x.split())).hist(bins=20)\n",
        "\n",
        "    chunked[\"text\"] = chunked[\"text\"].apply(clear_text)\n",
        "    return chunked\n",
        "\n",
        "\n",
        "def clear_text(text):\n",
        "    text = text.replace(\"\\n\", \" \")\n",
        "    text = text.replace(\"\\t\", \" \")\n",
        "    text = text.replace(\"\\xa0\", \" \")\n",
        "    return \" \".join(text.split())\n",
        "\n",
        "\n",
        "def replace_entities(text, nlp):\n",
        "    doc = nlp(text)\n",
        "    modified_text = text\n",
        "    for ent in doc.ents:\n",
        "        if ent.label_ == \"PER\":\n",
        "            modified_text = modified_text.replace(ent.text, \"\u0433\u0435\u0440\u043e\u0439\")\n",
        "        elif ent.label_ == \"LOC\":\n",
        "            modified_text = modified_text.replace(ent.text, \"\u043b\u043e\u043a\u0430\u0446\u0438\u044f\")\n",
        "    return modified_text\n",
        "\n",
        "\n",
        "def remove_film_name_from_text(text, film_title):\n",
        "\n",
        "    film_title_clean = re.sub(r\"\\(.*?\\)\", \"\", film_title).strip()\n",
        "    text = text.replace(film_title, \"\u0444\u0438\u043b\u044c\u043c\")\n",
        "    text = text.replace(film_title_clean, \"\u0444\u0438\u043b\u044c\u043c\")\n",
        "    return text\n",
        "\n",
        "\n",
        "def preprocess_train(df: pd.DataFrame):\n",
        "    df = df.copy()\n",
        "\n",
        "    df = df.rename(\n",
        "        {\n",
        "            \"\u0424\u0438\u043b\u044c\u043c\": \"movie\",\n",
        "            \"\u0421\u044e\u0436\u0435\u0442\": \"plot\",\n",
        "            \"\u0416\u0430\u043d\u0440\u044b\": \"genres\",\n",
        "            \"\u041e\u043f\u0438\u0441\u0430\u043d\u0438\u0435\": \"description\",\n",
        "        },\n",
        "        axis=1,\n",
        "    )\n",
        "    print(df.isnull().any())\n",
        "    df_description = (\n",
        "        df[[\"movie\", \"description\", \"genres\"]]\n",
        "        .rename(columns={\"description\": \"text\"})\n",
        "        .dropna(subset=[\"text\"])\n",
        "    )\n",
        "    df_plot = (\n",
        "        df[[\"movie\", \"plot\", \"genres\"]]\n",
        "        .rename(columns={\"plot\": \"text\"})\n",
        "        .dropna(subset=[\"text\"])\n",
        "    )\n",
        "    df_doubled = pd.concat([df_description, df_plot], ignore_index=True)\n",
        "    df_doubled[\"text\"] = df_doubled[\"text\"].apply(clear_text)\n",
        "    df_doubled[\"text\"] = df_doubled[\"text\"].parallel_apply(\n",
        "        lambda x: replace_entities(x, nlp)\n",
        "    )\n",
        "    df_doubled[\"text\"] = df_doubled[\"text\"].apply(clear_text)\n",
        "    df_doubled[\"text\"] = df_doubled.apply(\n",
        "        lambda x: remove_film_name_from_text(x[\"text\"], x[\"movie\"]), axis=1\n",
        "    )\n",
        "    df_doubled[\"text\"] = df_doubled[\"text\"].apply(clear_text)\n",
        "    df_doubled[\"text\"].apply(lambda x: len(x.split())).hist(bins=20)\n",
        "    plt.show()\n",
        "    return df_doubled"
      ],
      "cell_type": "code",
      "outputs": [
        {
          "output_type": "stream",
          "name": "stderr",
          "text": [
            "/home/seara/Desktop/Github/mtc-film-classification/.venv/lib/python3.9/site-packages/spacy/util.py:910: UserWarning: [W095] Model 'ru_core_news_lg' (3.7.0) was trained with spaCy v3.7.0 and may not be 100% compatible with the current version (3.8.0). If you see errors or degraded performance, download a newer compatible model or retrain your custom model with the current spaCy version. For more details and available updates, run: python -m spacy validate\n",
            "  warnings.warn(warn_msg)\n"
          ]
        },
        {
          "output_type": "stream",
          "name": "stdout",
          "text": [
            "INFO: Pandarallel will run on 8 workers.\n",
            "INFO: Pandarallel will use Memory file system to transfer data between the main process and workers.\n"
          ]
        }
      ],
      "execution_count": null
    },
    {
      "metadata": {},
      "source": [
        "df_train = pd.read_csv(\"data/train_sample.csv\")\n",
        "df_test = pd.read_csv(\"data/test_sample.csv\")"
      ],
      "cell_type": "code",
      "outputs": [],
      "execution_count": null
    },
    {
      "metadata": {},
      "source": [
        "df_train = preprocess_train(df_train)\n",
        "df_test = preprocess_train(df_test)\n",
        "df_train"
      ],
      "cell_type": "code",
      "outputs": [
        {
          "output_type": "stream",
          "name": "stdout",
          "text": [
            "movie          False\n",
            "description    False\n",
            "plot            True\n",
            "genres         False\n",
            "dtype: bool\n"
          ]
        },
        {
          "output_type": "display_data",
          "data": {
            "application/vnd.jupyter.widget-view+json": {
              "model_id": "d9c3f859a92b4359be3753f95e8c8081",
              "version_major": 2,
              "version_minor": 0
            },
            "text/plain": [
              "VBox(children=(HBox(children=(IntProgress(value=0, description='0.00%', max=102), Label(value='0 / 102'))), HB\u2026"
            ]
          },
          "metadata": {}
        },
        {
          "output_type": "display_data",
          "data": {
            "image/png": "[encoded data removed]",
            "text/plain": [
              "<Figure size 640x480 with 1 Axes>"
            ]
          },
          "metadata": {}
        },
        {
          "output_type": "stream",
          "name": "stdout",
          "text": [
            "movie          False\n",
            "description    False\n",
            "plot            True\n",
            "genres         False\n",
            "dtype: bool\n"
          ]
        },
        {
          "output_type": "display_data",
          "data": {
            "application/vnd.jupyter.widget-view+json": {
              "model_id": "f096832204c148468e96f248f5d8ea33",
              "version_major": 2,
              "version_minor": 0
            },
            "text/plain": [
              "VBox(children=(HBox(children=(IntProgress(value=0, description='0.00%', max=28), Label(value='0 / 28'))), HBox\u2026"
            ]
          },
          "metadata": {}
        },
        {
          "output_type": "display_data",
          "data": {
            "image/png": "[encoded data removed]",
            "text/plain": [
              "<Figure size 640x480 with 1 Axes>"
            ]
          },
          "metadata": {}
        },
        {
          "output_type": "execute_result",
          "data": {
            "text/html": [
              "<div>\n",
              "<style scoped>\n",
              "    .dataframe tbody tr th:only-of-type {\n",
              "        vertical-align: middle;\n",
              "    }\n",
              "\n",
              "    .dataframe tbody tr th {\n",
              "        vertical-align: top;\n",
              "    }\n",
              "\n",
              "    .dataframe thead th {\n",
              "        text-align: right;\n",
              "    }\n",
              "</style>\n",
              "<table border=\"1\" class=\"dataframe\">\n",
              "  <thead>\n",
              "    <tr style=\"text-align: right;\">\n",
              "      <th></th>\n",
              "      <th>movie</th>\n",
              "      <th>text</th>\n",
              "      <th>genres</th>\n",
              "    </tr>\n",
              "  </thead>\n",
              "  <tbody>\n",
              "    <tr>\n",
              "      <th>0</th>\n",
              "      <td>\u0421\u0442\u0440\u0430\u0441\u0442\u0438 \u0425\u0440\u0438\u0441\u0442\u043e\u0432\u044b (2004)</td>\n",
              "      <td>\u0424\u0438\u043b\u044c\u043c \u043f\u0440\u0435\u0434\u0441\u0442\u0430\u0432\u043b\u044f\u0435\u0442 \u0441\u043e\u0431\u043e\u0439 \u0434\u0440\u0430\u043c\u0430\u0442\u0438\u0447\u0435\u0441\u043a\u043e\u0435 \u0432\u043e\u0441\u0441\u043e\u0437\u0434...</td>\n",
              "      <td>\u0434\u0440\u0430\u043c\u0430</td>\n",
              "    </tr>\n",
              "    <tr>\n",
              "      <th>1</th>\n",
              "      <td>\u0420\u043e\u0434\u043d\u044b\u0435 (2021)</td>\n",
              "      <td>\u041e\u0434\u043d\u0430\u0436\u0434\u044b \u0432\u0435\u0447\u0435\u0440\u043e\u043c \u043e\u0442\u0435\u0446 \u0441\u0435\u043c\u0435\u0439\u0441\u0442\u0432\u0430 \u0441\u043e\u043e\u0431\u0449\u0430\u0435\u0442, \u0447\u0442\u043e \u0443...</td>\n",
              "      <td>\u043a\u043e\u043c\u0435\u0434\u0438\u044f, \u0434\u0440\u0430\u043c\u0430</td>\n",
              "    </tr>\n",
              "    <tr>\n",
              "      <th>2</th>\n",
              "      <td>\u042d\u043a\u0441\u043f\u0440\u0435\u0441\u0441 (2022)</td>\n",
              "      <td>\u0433\u0435\u0440\u043e\u0439 \u043d\u0435 \u0443\u043d\u044b\u0432\u0430\u0435\u0442 \u0434\u0430\u0436\u0435 \u0432 \u0442\u0440\u0443\u0434\u043d\u044b\u0435 \u0432\u0440\u0435\u043c\u0435\u043d\u0430. \u041f\u043e\u0441\u043b\u0435...</td>\n",
              "      <td>\u043a\u043e\u043c\u0435\u0434\u0438\u044f, \u0434\u0440\u0430\u043c\u0430</td>\n",
              "    </tr>\n",
              "    <tr>\n",
              "      <th>3</th>\n",
              "      <td>\u0411\u0440\u0430\u0442\u044c\u044f (2024)</td>\n",
              "      <td>\u041e\u0441\u043d\u043e\u0432\u0430\u043d\u043d\u044b\u0439 \u043d\u0430 \u0440\u0435\u0430\u043b\u044c\u043d\u044b\u0445 \u0441\u043e\u0431\u044b\u0442\u0438\u044f\u0445, \u044d\u0442\u043e\u0442 \u0444\u0438\u043b\u044c\u043c \u043f\u043e...</td>\n",
              "      <td>\u0434\u0440\u0430\u043c\u0430</td>\n",
              "    </tr>\n",
              "    <tr>\n",
              "      <th>4</th>\n",
              "      <td>\u0413\u0430\u0440\u0444\u0438\u043b\u0434 (2024)</td>\n",
              "      <td>\u0433\u0435\u0440\u043e\u0439 (\u043e\u0437\u0432\u0443\u0447\u0435\u043d \u0433\u0435\u0440\u043e\u0439), \u0432\u0441\u0435\u043c\u0438\u0440\u043d\u043e \u0438\u0437\u0432\u0435\u0441\u0442\u043d\u044b\u0439, \u043d\u0435\u043d...</td>\n",
              "      <td>\u043c\u0443\u043b\u044c\u0442\u0444\u0438\u043b\u044c\u043c, \u0444\u044d\u043d\u0442\u0435\u0437\u0438, \u043a\u043e\u043c\u0435\u0434\u0438\u044f, \u043f\u0440\u0438\u043a\u043b\u044e\u0447\u0435\u043d\u0438\u044f</td>\n",
              "    </tr>\n",
              "    <tr>\n",
              "      <th>...</th>\n",
              "      <td>...</td>\n",
              "      <td>...</td>\n",
              "      <td>...</td>\n",
              "    </tr>\n",
              "    <tr>\n",
              "      <th>808</th>\n",
              "      <td>\u0427\u0435\u043b\u043e\u0432\u0435\u043a-\u043f\u0430\u0443\u043a: \u0412\u043e\u0437\u0432\u0440\u0430\u0449\u0435\u043d\u0438\u0435 \u0434\u043e\u043c\u043e\u0439 (2017)</td>\n",
              "      <td>2012 \u0433\u043e\u0434. \u0433\u0435\u0440\u043e\u0439 \u0438 \u0435\u0433\u043e \u043a\u043e\u043c\u0430\u043d\u0434\u0430 \u0437\u0430\u043d\u0438\u043c\u0430\u044e\u0442\u0441\u044f \u043e\u0447\u0438\u0441\u0442...</td>\n",
              "      <td>\u0444\u0430\u043d\u0442\u0430\u0441\u0442\u0438\u043a\u0430, \u0431\u043e\u0435\u0432\u0438\u043a, \u043f\u0440\u0438\u043a\u043b\u044e\u0447\u0435\u043d\u0438\u044f</td>\n",
              "    </tr>\n",
              "    <tr>\n",
              "      <th>809</th>\n",
              "      <td>\u042f \u2013 \u043b\u0435\u0433\u0435\u043d\u0434\u0430 (2007)</td>\n",
              "      <td>\u041f\u0440\u043e\u043b\u043e\u0433. \u0414\u043e\u043a\u0442\u043e\u0440 \u0433\u0435\u0440\u043e\u0439 \u0432 \u0442\u0435\u043b\u0435\u043f\u0435\u0440\u0435\u0434\u0430\u0447\u0435 \u0440\u0430\u0441\u0441\u043a\u0430\u0437\u044b\u0432\u0430...</td>\n",
              "      <td>\u0443\u0436\u0430\u0441\u044b, \u0444\u0430\u043d\u0442\u0430\u0441\u0442\u0438\u043a\u0430, \u0431\u043e\u0435\u0432\u0438\u043a, \u0442\u0440\u0438\u043b\u043b\u0435\u0440, \u0434\u0440\u0430\u043c\u0430</td>\n",
              "    </tr>\n",
              "    <tr>\n",
              "      <th>810</th>\n",
              "      <td>\u0427\u0443\u0436\u043e\u0439: \u0420\u043e\u043c\u0443\u043b (2024)</td>\n",
              "      <td>\u0414\u0435\u0439\u0441\u0442\u0432\u0438\u0435 \u043f\u0440\u043e\u0438\u0441\u0445\u043e\u0434\u0438\u0442 \u0432 2180 \u0433\u043e\u0434\u0443, \u043c\u0435\u0436\u0434\u0443 \u0441\u043e\u0431\u044b\u0442\u0438\u044f...</td>\n",
              "      <td>\u0443\u0436\u0430\u0441\u044b, \u0444\u0430\u043d\u0442\u0430\u0441\u0442\u0438\u043a\u0430, \u0442\u0440\u0438\u043b\u043b\u0435\u0440</td>\n",
              "    </tr>\n",
              "    <tr>\n",
              "      <th>811</th>\n",
              "      <td>\u0413\u0430\u0440\u0440\u0438 \u041f\u043e\u0442\u0442\u0435\u0440 \u0438 \u0422\u0430\u0439\u043d\u0430\u044f \u043a\u043e\u043c\u043d\u0430\u0442\u0430 (2002)</td>\n",
              "      <td>\u0412\u043e \u0432\u0440\u0435\u043c\u044f \u043b\u0435\u0442\u043d\u0438\u0445 \u043a\u0430\u043d\u0438\u043a\u0443\u043b \u0441 \u0433\u0435\u0440\u043e\u0439 \u0432\u0441\u0442\u0440\u0435\u0447\u0430\u0435\u0442 \u0434\u043e\u043c\u043e...</td>\n",
              "      <td>\u0444\u044d\u043d\u0442\u0435\u0437\u0438, \u043f\u0440\u0438\u043a\u043b\u044e\u0447\u0435\u043d\u0438\u044f</td>\n",
              "    </tr>\n",
              "    <tr>\n",
              "      <th>812</th>\n",
              "      <td>\u0412\u043e\u0437\u0434\u0443\u0445 (2023)</td>\n",
              "      <td>\u0414\u0435\u0439\u0441\u0442\u0432\u0438\u0435 \u0444\u0438\u043b\u044c\u043c\u0430 \u043f\u0440\u043e\u0438\u0441\u0445\u043e\u0434\u0438\u0442 \u0432\u043e \u0432\u0440\u0435\u043c\u044f \u0412\u0435\u043b\u0438\u043a\u043e\u0439 \u041e\u0442...</td>\n",
              "      <td>\u0431\u043e\u0435\u0432\u0438\u043a, \u0434\u0440\u0430\u043c\u0430, \u0438\u0441\u0442\u043e\u0440\u0438\u044f</td>\n",
              "    </tr>\n",
              "  </tbody>\n",
              "</table>\n",
              "<p>813 rows \u00d7 3 columns</p>\n",
              "</div>"
            ],
            "text/plain": [
              "                                      movie  \\\n",
              "0                   \u0421\u0442\u0440\u0430\u0441\u0442\u0438 \u0425\u0440\u0438\u0441\u0442\u043e\u0432\u044b (2004)   \n",
              "1                             \u0420\u043e\u0434\u043d\u044b\u0435 (2021)   \n",
              "2                           \u042d\u043a\u0441\u043f\u0440\u0435\u0441\u0441 (2022)   \n",
              "3                             \u0411\u0440\u0430\u0442\u044c\u044f (2024)   \n",
              "4                            \u0413\u0430\u0440\u0444\u0438\u043b\u0434 (2024)   \n",
              "..                                      ...   \n",
              "808  \u0427\u0435\u043b\u043e\u0432\u0435\u043a-\u043f\u0430\u0443\u043a: \u0412\u043e\u0437\u0432\u0440\u0430\u0449\u0435\u043d\u0438\u0435 \u0434\u043e\u043c\u043e\u0439 (2017)   \n",
              "809                      \u042f \u2013 \u043b\u0435\u0433\u0435\u043d\u0434\u0430 (2007)   \n",
              "810                     \u0427\u0443\u0436\u043e\u0439: \u0420\u043e\u043c\u0443\u043b (2024)   \n",
              "811    \u0413\u0430\u0440\u0440\u0438 \u041f\u043e\u0442\u0442\u0435\u0440 \u0438 \u0422\u0430\u0439\u043d\u0430\u044f \u043a\u043e\u043c\u043d\u0430\u0442\u0430 (2002)   \n",
              "812                           \u0412\u043e\u0437\u0434\u0443\u0445 (2023)   \n",
              "\n",
              "                                                  text  \\\n",
              "0    \u0424\u0438\u043b\u044c\u043c \u043f\u0440\u0435\u0434\u0441\u0442\u0430\u0432\u043b\u044f\u0435\u0442 \u0441\u043e\u0431\u043e\u0439 \u0434\u0440\u0430\u043c\u0430\u0442\u0438\u0447\u0435\u0441\u043a\u043e\u0435 \u0432\u043e\u0441\u0441\u043e\u0437\u0434...   \n",
              "1    \u041e\u0434\u043d\u0430\u0436\u0434\u044b \u0432\u0435\u0447\u0435\u0440\u043e\u043c \u043e\u0442\u0435\u0446 \u0441\u0435\u043c\u0435\u0439\u0441\u0442\u0432\u0430 \u0441\u043e\u043e\u0431\u0449\u0430\u0435\u0442, \u0447\u0442\u043e \u0443...   \n",
              "2    \u0433\u0435\u0440\u043e\u0439 \u043d\u0435 \u0443\u043d\u044b\u0432\u0430\u0435\u0442 \u0434\u0430\u0436\u0435 \u0432 \u0442\u0440\u0443\u0434\u043d\u044b\u0435 \u0432\u0440\u0435\u043c\u0435\u043d\u0430. \u041f\u043e\u0441\u043b\u0435...   \n",
              "3    \u041e\u0441\u043d\u043e\u0432\u0430\u043d\u043d\u044b\u0439 \u043d\u0430 \u0440\u0435\u0430\u043b\u044c\u043d\u044b\u0445 \u0441\u043e\u0431\u044b\u0442\u0438\u044f\u0445, \u044d\u0442\u043e\u0442 \u0444\u0438\u043b\u044c\u043c \u043f\u043e...   \n",
              "4    \u0433\u0435\u0440\u043e\u0439 (\u043e\u0437\u0432\u0443\u0447\u0435\u043d \u0433\u0435\u0440\u043e\u0439), \u0432\u0441\u0435\u043c\u0438\u0440\u043d\u043e \u0438\u0437\u0432\u0435\u0441\u0442\u043d\u044b\u0439, \u043d\u0435\u043d...   \n",
              "..                                                 ...   \n",
              "808  2012 \u0433\u043e\u0434. \u0433\u0435\u0440\u043e\u0439 \u0438 \u0435\u0433\u043e \u043a\u043e\u043c\u0430\u043d\u0434\u0430 \u0437\u0430\u043d\u0438\u043c\u0430\u044e\u0442\u0441\u044f \u043e\u0447\u0438\u0441\u0442...   \n",
              "809  \u041f\u0440\u043e\u043b\u043e\u0433. \u0414\u043e\u043a\u0442\u043e\u0440 \u0433\u0435\u0440\u043e\u0439 \u0432 \u0442\u0435\u043b\u0435\u043f\u0435\u0440\u0435\u0434\u0430\u0447\u0435 \u0440\u0430\u0441\u0441\u043a\u0430\u0437\u044b\u0432\u0430...   \n",
              "810  \u0414\u0435\u0439\u0441\u0442\u0432\u0438\u0435 \u043f\u0440\u043e\u0438\u0441\u0445\u043e\u0434\u0438\u0442 \u0432 2180 \u0433\u043e\u0434\u0443, \u043c\u0435\u0436\u0434\u0443 \u0441\u043e\u0431\u044b\u0442\u0438\u044f...   \n",
              "811  \u0412\u043e \u0432\u0440\u0435\u043c\u044f \u043b\u0435\u0442\u043d\u0438\u0445 \u043a\u0430\u043d\u0438\u043a\u0443\u043b \u0441 \u0433\u0435\u0440\u043e\u0439 \u0432\u0441\u0442\u0440\u0435\u0447\u0430\u0435\u0442 \u0434\u043e\u043c\u043e...   \n",
              "812  \u0414\u0435\u0439\u0441\u0442\u0432\u0438\u0435 \u0444\u0438\u043b\u044c\u043c\u0430 \u043f\u0440\u043e\u0438\u0441\u0445\u043e\u0434\u0438\u0442 \u0432\u043e \u0432\u0440\u0435\u043c\u044f \u0412\u0435\u043b\u0438\u043a\u043e\u0439 \u041e\u0442...   \n",
              "\n",
              "                                        genres  \n",
              "0                                        \u0434\u0440\u0430\u043c\u0430  \n",
              "1                               \u043a\u043e\u043c\u0435\u0434\u0438\u044f, \u0434\u0440\u0430\u043c\u0430  \n",
              "2                               \u043a\u043e\u043c\u0435\u0434\u0438\u044f, \u0434\u0440\u0430\u043c\u0430  \n",
              "3                                        \u0434\u0440\u0430\u043c\u0430  \n",
              "4    \u043c\u0443\u043b\u044c\u0442\u0444\u0438\u043b\u044c\u043c, \u0444\u044d\u043d\u0442\u0435\u0437\u0438, \u043a\u043e\u043c\u0435\u0434\u0438\u044f, \u043f\u0440\u0438\u043a\u043b\u044e\u0447\u0435\u043d\u0438\u044f  \n",
              "..                                         ...  \n",
              "808            \u0444\u0430\u043d\u0442\u0430\u0441\u0442\u0438\u043a\u0430, \u0431\u043e\u0435\u0432\u0438\u043a, \u043f\u0440\u0438\u043a\u043b\u044e\u0447\u0435\u043d\u0438\u044f  \n",
              "809  \u0443\u0436\u0430\u0441\u044b, \u0444\u0430\u043d\u0442\u0430\u0441\u0442\u0438\u043a\u0430, \u0431\u043e\u0435\u0432\u0438\u043a, \u0442\u0440\u0438\u043b\u043b\u0435\u0440, \u0434\u0440\u0430\u043c\u0430  \n",
              "810                 \u0443\u0436\u0430\u0441\u044b, \u0444\u0430\u043d\u0442\u0430\u0441\u0442\u0438\u043a\u0430, \u0442\u0440\u0438\u043b\u043b\u0435\u0440  \n",
              "811                       \u0444\u044d\u043d\u0442\u0435\u0437\u0438, \u043f\u0440\u0438\u043a\u043b\u044e\u0447\u0435\u043d\u0438\u044f  \n",
              "812                     \u0431\u043e\u0435\u0432\u0438\u043a, \u0434\u0440\u0430\u043c\u0430, \u0438\u0441\u0442\u043e\u0440\u0438\u044f  \n",
              "\n",
              "[813 rows x 3 columns]"
            ]
          },
          "metadata": {},
          "execution_count": 4
        }
      ],
      "execution_count": null
    },
    {
      "metadata": {},
      "source": [
        "df_train = get_chunked_dataframe(df_train)\n",
        "df_test = get_chunked_dataframe(df_test)\n",
        "df_train"
      ],
      "cell_type": "code",
      "outputs": [
        {
          "output_type": "execute_result",
          "data": {
            "text/html": [
              "<div>\n",
              "<style scoped>\n",
              "    .dataframe tbody tr th:only-of-type {\n",
              "        vertical-align: middle;\n",
              "    }\n",
              "\n",
              "    .dataframe tbody tr th {\n",
              "        vertical-align: top;\n",
              "    }\n",
              "\n",
              "    .dataframe thead th {\n",
              "        text-align: right;\n",
              "    }\n",
              "</style>\n",
              "<table border=\"1\" class=\"dataframe\">\n",
              "  <thead>\n",
              "    <tr style=\"text-align: right;\">\n",
              "      <th></th>\n",
              "      <th>movie</th>\n",
              "      <th>text</th>\n",
              "      <th>genres</th>\n",
              "    </tr>\n",
              "  </thead>\n",
              "  <tbody>\n",
              "    <tr>\n",
              "      <th>0</th>\n",
              "      <td>\u0421\u0442\u0440\u0430\u0441\u0442\u0438 \u0425\u0440\u0438\u0441\u0442\u043e\u0432\u044b (2004)</td>\n",
              "      <td>\u0424\u0438\u043b\u044c\u043c \u043f\u0440\u0435\u0434\u0441\u0442\u0430\u0432\u043b\u044f\u0435\u0442 \u0441\u043e\u0431\u043e\u0439 \u0434\u0440\u0430\u043c\u0430\u0442\u0438\u0447\u0435\u0441\u043a\u043e\u0435 \u0432\u043e\u0441\u0441\u043e\u0437\u0434...</td>\n",
              "      <td>\u0434\u0440\u0430\u043c\u0430</td>\n",
              "    </tr>\n",
              "    <tr>\n",
              "      <th>1</th>\n",
              "      <td>\u0420\u043e\u0434\u043d\u044b\u0435 (2021)</td>\n",
              "      <td>\u041e\u0434\u043d\u0430\u0436\u0434\u044b \u0432\u0435\u0447\u0435\u0440\u043e\u043c \u043e\u0442\u0435\u0446 \u0441\u0435\u043c\u0435\u0439\u0441\u0442\u0432\u0430 \u0441\u043e\u043e\u0431\u0449\u0430\u0435\u0442, \u0447\u0442\u043e \u0443...</td>\n",
              "      <td>\u043a\u043e\u043c\u0435\u0434\u0438\u044f, \u0434\u0440\u0430\u043c\u0430</td>\n",
              "    </tr>\n",
              "    <tr>\n",
              "      <th>2</th>\n",
              "      <td>\u042d\u043a\u0441\u043f\u0440\u0435\u0441\u0441 (2022)</td>\n",
              "      <td>\u0433\u0435\u0440\u043e\u0439 \u043d\u0435 \u0443\u043d\u044b\u0432\u0430\u0435\u0442 \u0434\u0430\u0436\u0435 \u0432 \u0442\u0440\u0443\u0434\u043d\u044b\u0435 \u0432\u0440\u0435\u043c\u0435\u043d\u0430. \u041f\u043e\u0441\u043b\u0435...</td>\n",
              "      <td>\u043a\u043e\u043c\u0435\u0434\u0438\u044f, \u0434\u0440\u0430\u043c\u0430</td>\n",
              "    </tr>\n",
              "    <tr>\n",
              "      <th>3</th>\n",
              "      <td>\u0411\u0440\u0430\u0442\u044c\u044f (2024)</td>\n",
              "      <td>\u041e\u0441\u043d\u043e\u0432\u0430\u043d\u043d\u044b\u0439 \u043d\u0430 \u0440\u0435\u0430\u043b\u044c\u043d\u044b\u0445 \u0441\u043e\u0431\u044b\u0442\u0438\u044f\u0445, \u044d\u0442\u043e\u0442 \u0444\u0438\u043b\u044c\u043c \u043f\u043e...</td>\n",
              "      <td>\u0434\u0440\u0430\u043c\u0430</td>\n",
              "    </tr>\n",
              "    <tr>\n",
              "      <th>4</th>\n",
              "      <td>\u0413\u0430\u0440\u0444\u0438\u043b\u0434 (2024)</td>\n",
              "      <td>\u0433\u0435\u0440\u043e\u0439 (\u043e\u0437\u0432\u0443\u0447\u0435\u043d \u0433\u0435\u0440\u043e\u0439), \u0432\u0441\u0435\u043c\u0438\u0440\u043d\u043e \u0438\u0437\u0432\u0435\u0441\u0442\u043d\u044b\u0439, \u043d\u0435\u043d...</td>\n",
              "      <td>\u043c\u0443\u043b\u044c\u0442\u0444\u0438\u043b\u044c\u043c, \u0444\u044d\u043d\u0442\u0435\u0437\u0438, \u043a\u043e\u043c\u0435\u0434\u0438\u044f, \u043f\u0440\u0438\u043a\u043b\u044e\u0447\u0435\u043d\u0438\u044f</td>\n",
              "    </tr>\n",
              "    <tr>\n",
              "      <th>...</th>\n",
              "      <td>...</td>\n",
              "      <td>...</td>\n",
              "      <td>...</td>\n",
              "    </tr>\n",
              "    <tr>\n",
              "      <th>1971</th>\n",
              "      <td>\u0413\u0430\u0440\u0440\u0438 \u041f\u043e\u0442\u0442\u0435\u0440 \u0438 \u0422\u0430\u0439\u043d\u0430\u044f \u043a\u043e\u043c\u043d\u0430\u0442\u0430 (2002)</td>\n",
              "      <td>\u0412\u043e \u0432\u0440\u0435\u043c\u044f \u043c\u0430\u0442\u0447\u0430 \u043f\u043e \u043a\u0432\u0438\u0434\u0434\u0438\u0447\u0443 \u043c\u0435\u0442\u0438\u0432\u0448\u0438\u0439 \u0432 \u0433\u0435\u0440\u043e\u0439 \u0431\u043b...</td>\n",
              "      <td>\u0444\u044d\u043d\u0442\u0435\u0437\u0438, \u043f\u0440\u0438\u043a\u043b\u044e\u0447\u0435\u043d\u0438\u044f</td>\n",
              "    </tr>\n",
              "    <tr>\n",
              "      <th>1972</th>\n",
              "      <td>\u0413\u0430\u0440\u0440\u0438 \u041f\u043e\u0442\u0442\u0435\u0440 \u0438 \u0422\u0430\u0439\u043d\u0430\u044f \u043a\u043e\u043c\u043d\u0430\u0442\u0430 (2002)</td>\n",
              "      <td>\u041e\u0434\u043d\u0430\u043a\u043e \u0432 \u044d\u0442\u043e\u0442 \u0436\u0435 \u0432\u0435\u0447\u0435\u0440 \u043a \u0433\u0435\u0440\u043e\u0439 \u043f\u0440\u0438\u0445\u043e\u0434\u044f\u0442 \u0433\u0435\u0440\u043e\u0439,...</td>\n",
              "      <td>\u0444\u044d\u043d\u0442\u0435\u0437\u0438, \u043f\u0440\u0438\u043a\u043b\u044e\u0447\u0435\u043d\u0438\u044f</td>\n",
              "    </tr>\n",
              "    <tr>\n",
              "      <th>1973</th>\n",
              "      <td>\u0413\u0430\u0440\u0440\u0438 \u041f\u043e\u0442\u0442\u0435\u0440 \u0438 \u0422\u0430\u0439\u043d\u0430\u044f \u043a\u043e\u043c\u043d\u0430\u0442\u0430 (2002)</td>\n",
              "      <td>\u0412\u043e\u0441\u043f\u043e\u043b\u044c\u0437\u043e\u0432\u0430\u0432\u0448\u0438\u0441\u044c \u043c\u043e\u043c\u0435\u043d\u0442\u043e\u043c, \u0433\u0435\u0440\u043e\u0439 \u043e\u0442\u0431\u0438\u0440\u0430\u0435\u0442 \u0443 \u0433\u0435...</td>\n",
              "      <td>\u0444\u044d\u043d\u0442\u0435\u0437\u0438, \u043f\u0440\u0438\u043a\u043b\u044e\u0447\u0435\u043d\u0438\u044f</td>\n",
              "    </tr>\n",
              "    <tr>\n",
              "      <th>1974</th>\n",
              "      <td>\u0413\u0430\u0440\u0440\u0438 \u041f\u043e\u0442\u0442\u0435\u0440 \u0438 \u0422\u0430\u0439\u043d\u0430\u044f \u043a\u043e\u043c\u043d\u0430\u0442\u0430 (2002)</td>\n",
              "      <td>\u041f\u043e\u0441\u043b\u0435 \u0441\u0446\u0435\u043d\u044b \u0432 \u043a\u0430\u0431\u0438\u043d\u0435\u0442\u0435 \u0433\u0435\u0440\u043e\u0439\u0430 \u0433\u0435\u0440\u043e\u0439 \u043e\u0431\u0432\u0438\u043d\u044f\u0435\u0442 \u041b...</td>\n",
              "      <td>\u0444\u044d\u043d\u0442\u0435\u0437\u0438, \u043f\u0440\u0438\u043a\u043b\u044e\u0447\u0435\u043d\u0438\u044f</td>\n",
              "    </tr>\n",
              "    <tr>\n",
              "      <th>1975</th>\n",
              "      <td>\u0412\u043e\u0437\u0434\u0443\u0445 (2023)</td>\n",
              "      <td>\u0414\u0435\u0439\u0441\u0442\u0432\u0438\u0435 \u0444\u0438\u043b\u044c\u043c\u0430 \u043f\u0440\u043e\u0438\u0441\u0445\u043e\u0434\u0438\u0442 \u0432\u043e \u0432\u0440\u0435\u043c\u044f \u0412\u0435\u043b\u0438\u043a\u043e\u0439 \u041e\u0442...</td>\n",
              "      <td>\u0431\u043e\u0435\u0432\u0438\u043a, \u0434\u0440\u0430\u043c\u0430, \u0438\u0441\u0442\u043e\u0440\u0438\u044f</td>\n",
              "    </tr>\n",
              "  </tbody>\n",
              "</table>\n",
              "<p>1976 rows \u00d7 3 columns</p>\n",
              "</div>"
            ],
            "text/plain": [
              "                                     movie  \\\n",
              "0                  \u0421\u0442\u0440\u0430\u0441\u0442\u0438 \u0425\u0440\u0438\u0441\u0442\u043e\u0432\u044b (2004)   \n",
              "1                            \u0420\u043e\u0434\u043d\u044b\u0435 (2021)   \n",
              "2                          \u042d\u043a\u0441\u043f\u0440\u0435\u0441\u0441 (2022)   \n",
              "3                            \u0411\u0440\u0430\u0442\u044c\u044f (2024)   \n",
              "4                           \u0413\u0430\u0440\u0444\u0438\u043b\u0434 (2024)   \n",
              "...                                    ...   \n",
              "1971  \u0413\u0430\u0440\u0440\u0438 \u041f\u043e\u0442\u0442\u0435\u0440 \u0438 \u0422\u0430\u0439\u043d\u0430\u044f \u043a\u043e\u043c\u043d\u0430\u0442\u0430 (2002)   \n",
              "1972  \u0413\u0430\u0440\u0440\u0438 \u041f\u043e\u0442\u0442\u0435\u0440 \u0438 \u0422\u0430\u0439\u043d\u0430\u044f \u043a\u043e\u043c\u043d\u0430\u0442\u0430 (2002)   \n",
              "1973  \u0413\u0430\u0440\u0440\u0438 \u041f\u043e\u0442\u0442\u0435\u0440 \u0438 \u0422\u0430\u0439\u043d\u0430\u044f \u043a\u043e\u043c\u043d\u0430\u0442\u0430 (2002)   \n",
              "1974  \u0413\u0430\u0440\u0440\u0438 \u041f\u043e\u0442\u0442\u0435\u0440 \u0438 \u0422\u0430\u0439\u043d\u0430\u044f \u043a\u043e\u043c\u043d\u0430\u0442\u0430 (2002)   \n",
              "1975                         \u0412\u043e\u0437\u0434\u0443\u0445 (2023)   \n",
              "\n",
              "                                                   text  \\\n",
              "0     \u0424\u0438\u043b\u044c\u043c \u043f\u0440\u0435\u0434\u0441\u0442\u0430\u0432\u043b\u044f\u0435\u0442 \u0441\u043e\u0431\u043e\u0439 \u0434\u0440\u0430\u043c\u0430\u0442\u0438\u0447\u0435\u0441\u043a\u043e\u0435 \u0432\u043e\u0441\u0441\u043e\u0437\u0434...   \n",
              "1     \u041e\u0434\u043d\u0430\u0436\u0434\u044b \u0432\u0435\u0447\u0435\u0440\u043e\u043c \u043e\u0442\u0435\u0446 \u0441\u0435\u043c\u0435\u0439\u0441\u0442\u0432\u0430 \u0441\u043e\u043e\u0431\u0449\u0430\u0435\u0442, \u0447\u0442\u043e \u0443...   \n",
              "2     \u0433\u0435\u0440\u043e\u0439 \u043d\u0435 \u0443\u043d\u044b\u0432\u0430\u0435\u0442 \u0434\u0430\u0436\u0435 \u0432 \u0442\u0440\u0443\u0434\u043d\u044b\u0435 \u0432\u0440\u0435\u043c\u0435\u043d\u0430. \u041f\u043e\u0441\u043b\u0435...   \n",
              "3     \u041e\u0441\u043d\u043e\u0432\u0430\u043d\u043d\u044b\u0439 \u043d\u0430 \u0440\u0435\u0430\u043b\u044c\u043d\u044b\u0445 \u0441\u043e\u0431\u044b\u0442\u0438\u044f\u0445, \u044d\u0442\u043e\u0442 \u0444\u0438\u043b\u044c\u043c \u043f\u043e...   \n",
              "4     \u0433\u0435\u0440\u043e\u0439 (\u043e\u0437\u0432\u0443\u0447\u0435\u043d \u0433\u0435\u0440\u043e\u0439), \u0432\u0441\u0435\u043c\u0438\u0440\u043d\u043e \u0438\u0437\u0432\u0435\u0441\u0442\u043d\u044b\u0439, \u043d\u0435\u043d...   \n",
              "...                                                 ...   \n",
              "1971  \u0412\u043e \u0432\u0440\u0435\u043c\u044f \u043c\u0430\u0442\u0447\u0430 \u043f\u043e \u043a\u0432\u0438\u0434\u0434\u0438\u0447\u0443 \u043c\u0435\u0442\u0438\u0432\u0448\u0438\u0439 \u0432 \u0433\u0435\u0440\u043e\u0439 \u0431\u043b...   \n",
              "1972  \u041e\u0434\u043d\u0430\u043a\u043e \u0432 \u044d\u0442\u043e\u0442 \u0436\u0435 \u0432\u0435\u0447\u0435\u0440 \u043a \u0433\u0435\u0440\u043e\u0439 \u043f\u0440\u0438\u0445\u043e\u0434\u044f\u0442 \u0433\u0435\u0440\u043e\u0439,...   \n",
              "1973  \u0412\u043e\u0441\u043f\u043e\u043b\u044c\u0437\u043e\u0432\u0430\u0432\u0448\u0438\u0441\u044c \u043c\u043e\u043c\u0435\u043d\u0442\u043e\u043c, \u0433\u0435\u0440\u043e\u0439 \u043e\u0442\u0431\u0438\u0440\u0430\u0435\u0442 \u0443 \u0433\u0435...   \n",
              "1974  \u041f\u043e\u0441\u043b\u0435 \u0441\u0446\u0435\u043d\u044b \u0432 \u043a\u0430\u0431\u0438\u043d\u0435\u0442\u0435 \u0433\u0435\u0440\u043e\u0439\u0430 \u0433\u0435\u0440\u043e\u0439 \u043e\u0431\u0432\u0438\u043d\u044f\u0435\u0442 \u041b...   \n",
              "1975  \u0414\u0435\u0439\u0441\u0442\u0432\u0438\u0435 \u0444\u0438\u043b\u044c\u043c\u0430 \u043f\u0440\u043e\u0438\u0441\u0445\u043e\u0434\u0438\u0442 \u0432\u043e \u0432\u0440\u0435\u043c\u044f \u0412\u0435\u043b\u0438\u043a\u043e\u0439 \u041e\u0442...   \n",
              "\n",
              "                                         genres  \n",
              "0                                         \u0434\u0440\u0430\u043c\u0430  \n",
              "1                                \u043a\u043e\u043c\u0435\u0434\u0438\u044f, \u0434\u0440\u0430\u043c\u0430  \n",
              "2                                \u043a\u043e\u043c\u0435\u0434\u0438\u044f, \u0434\u0440\u0430\u043c\u0430  \n",
              "3                                         \u0434\u0440\u0430\u043c\u0430  \n",
              "4     \u043c\u0443\u043b\u044c\u0442\u0444\u0438\u043b\u044c\u043c, \u0444\u044d\u043d\u0442\u0435\u0437\u0438, \u043a\u043e\u043c\u0435\u0434\u0438\u044f, \u043f\u0440\u0438\u043a\u043b\u044e\u0447\u0435\u043d\u0438\u044f  \n",
              "...                                         ...  \n",
              "1971                       \u0444\u044d\u043d\u0442\u0435\u0437\u0438, \u043f\u0440\u0438\u043a\u043b\u044e\u0447\u0435\u043d\u0438\u044f  \n",
              "1972                       \u0444\u044d\u043d\u0442\u0435\u0437\u0438, \u043f\u0440\u0438\u043a\u043b\u044e\u0447\u0435\u043d\u0438\u044f  \n",
              "1973                       \u0444\u044d\u043d\u0442\u0435\u0437\u0438, \u043f\u0440\u0438\u043a\u043b\u044e\u0447\u0435\u043d\u0438\u044f  \n",
              "1974                       \u0444\u044d\u043d\u0442\u0435\u0437\u0438, \u043f\u0440\u0438\u043a\u043b\u044e\u0447\u0435\u043d\u0438\u044f  \n",
              "1975                     \u0431\u043e\u0435\u0432\u0438\u043a, \u0434\u0440\u0430\u043c\u0430, \u0438\u0441\u0442\u043e\u0440\u0438\u044f  \n",
              "\n",
              "[1976 rows x 3 columns]"
            ]
          },
          "metadata": {},
          "execution_count": 5
        },
        {
          "output_type": "display_data",
          "data": {
            "image/png": "[encoded data removed]",
            "text/plain": [
              "<Figure size 640x480 with 1 Axes>"
            ]
          },
          "metadata": {}
        }
      ],
      "execution_count": null
    },
    {
      "metadata": {},
      "source": [
        "# from transformers import pipeline\n",
        "\n",
        "# translator_ru_en = pipeline(\n",
        "#     \"translation\", model=\"Helsinki-NLP/opus-mt-ru-en\", device=\"cuda\", batch_size=10\n",
        "# )\n",
        "# translator_en_ru = pipeline(\n",
        "#     \"translation\", model=\"Helsinki-NLP/opus-mt-en-ru\", device=\"cuda\", batch_size=10\n",
        "# )\n",
        "\n",
        "\n",
        "# def translate(text):\n",
        "#     try:\n",
        "#         translated_to_en = translator_ru_en(text)\n",
        "#         back_to_ru = translator_en_ru([x[\"translation_text\"] for x in translated_to_en])\n",
        "\n",
        "#         return {\"translated\": [x[\"translation_text\"] for x in back_to_ru]}\n",
        "#     except Exception as e:\n",
        "#         print(f\"Error during translation: {e}\")\n",
        "#         return text\n",
        "\n",
        "\n",
        "# dataset_temp = Dataset.from_pandas(df_train)\n",
        "\n",
        "# dataset_temp = dataset_temp.map(lambda x: translate(x[\"text\"]), batched=True, batch_size=10)\n",
        "# temp_df = dataset_temp.to_pandas()"
      ],
      "cell_type": "code",
      "outputs": [],
      "execution_count": null
    },
    {
      "metadata": {},
      "source": [
        "# temp_df = pd.read_csv(\"data/translated_df_train.csv\")\n",
        "\n",
        "# temp_df = temp_df.drop(\"text\", axis=1)\n",
        "# temp_df = temp_df.rename(columns={\"translated\": \"text\"})\n",
        "# df_train = pd.concat([df_train, temp_df], ignore_index=True)"
      ],
      "cell_type": "code",
      "outputs": [],
      "execution_count": null
    },
    {
      "metadata": {},
      "source": [
        "df_train[\"genres\"] = df_train[\"genres\"].apply(lambda x: x.split(\", \"))\n",
        "mlb = MultiLabelBinarizer()\n",
        "y = mlb.fit_transform(df_train[\"genres\"])\n",
        "df_train[\"target\"] = y.tolist()\n",
        "df_train = df_train.drop(\"genres\", axis=1)\n",
        "\n",
        "df_test[\"genres\"] = df_test[\"genres\"].apply(lambda x: x.split(\", \"))\n",
        "mlb = MultiLabelBinarizer()\n",
        "y = mlb.fit_transform(df_test[\"genres\"])\n",
        "df_test[\"target\"] = y.tolist()\n",
        "df_test = df_test.drop(\"genres\", axis=1)\n",
        "\n",
        "df_train"
      ],
      "cell_type": "code",
      "outputs": [
        {
          "output_type": "execute_result",
          "data": {
            "text/html": [
              "<div>\n",
              "<style scoped>\n",
              "    .dataframe tbody tr th:only-of-type {\n",
              "        vertical-align: middle;\n",
              "    }\n",
              "\n",
              "    .dataframe tbody tr th {\n",
              "        vertical-align: top;\n",
              "    }\n",
              "\n",
              "    .dataframe thead th {\n",
              "        text-align: right;\n",
              "    }\n",
              "</style>\n",
              "<table border=\"1\" class=\"dataframe\">\n",
              "  <thead>\n",
              "    <tr style=\"text-align: right;\">\n",
              "      <th></th>\n",
              "      <th>movie</th>\n",
              "      <th>text</th>\n",
              "      <th>target</th>\n",
              "    </tr>\n",
              "  </thead>\n",
              "  <tbody>\n",
              "    <tr>\n",
              "      <th>0</th>\n",
              "      <td>\u0421\u0442\u0440\u0430\u0441\u0442\u0438 \u0425\u0440\u0438\u0441\u0442\u043e\u0432\u044b (2004)</td>\n",
              "      <td>\u0424\u0438\u043b\u044c\u043c \u043f\u0440\u0435\u0434\u0441\u0442\u0430\u0432\u043b\u044f\u0435\u0442 \u0441\u043e\u0431\u043e\u0439 \u0434\u0440\u0430\u043c\u0430\u0442\u0438\u0447\u0435\u0441\u043a\u043e\u0435 \u0432\u043e\u0441\u0441\u043e\u0437\u0434...</td>\n",
              "      <td>[0, 0, 1, 0, 0, 0, 0, 0, 0, 0, 0, 0, 0, 0]</td>\n",
              "    </tr>\n",
              "    <tr>\n",
              "      <th>1</th>\n",
              "      <td>\u0420\u043e\u0434\u043d\u044b\u0435 (2021)</td>\n",
              "      <td>\u041e\u0434\u043d\u0430\u0436\u0434\u044b \u0432\u0435\u0447\u0435\u0440\u043e\u043c \u043e\u0442\u0435\u0446 \u0441\u0435\u043c\u0435\u0439\u0441\u0442\u0432\u0430 \u0441\u043e\u043e\u0431\u0449\u0430\u0435\u0442, \u0447\u0442\u043e \u0443...</td>\n",
              "      <td>[0, 0, 1, 0, 1, 0, 0, 0, 0, 0, 0, 0, 0, 0]</td>\n",
              "    </tr>\n",
              "    <tr>\n",
              "      <th>2</th>\n",
              "      <td>\u042d\u043a\u0441\u043f\u0440\u0435\u0441\u0441 (2022)</td>\n",
              "      <td>\u0433\u0435\u0440\u043e\u0439 \u043d\u0435 \u0443\u043d\u044b\u0432\u0430\u0435\u0442 \u0434\u0430\u0436\u0435 \u0432 \u0442\u0440\u0443\u0434\u043d\u044b\u0435 \u0432\u0440\u0435\u043c\u0435\u043d\u0430. \u041f\u043e\u0441\u043b\u0435...</td>\n",
              "      <td>[0, 0, 1, 0, 1, 0, 0, 0, 0, 0, 0, 0, 0, 0]</td>\n",
              "    </tr>\n",
              "    <tr>\n",
              "      <th>3</th>\n",
              "      <td>\u0411\u0440\u0430\u0442\u044c\u044f (2024)</td>\n",
              "      <td>\u041e\u0441\u043d\u043e\u0432\u0430\u043d\u043d\u044b\u0439 \u043d\u0430 \u0440\u0435\u0430\u043b\u044c\u043d\u044b\u0445 \u0441\u043e\u0431\u044b\u0442\u0438\u044f\u0445, \u044d\u0442\u043e\u0442 \u0444\u0438\u043b\u044c\u043c \u043f\u043e...</td>\n",
              "      <td>[0, 0, 1, 0, 0, 0, 0, 0, 0, 0, 0, 0, 0, 0]</td>\n",
              "    </tr>\n",
              "    <tr>\n",
              "      <th>4</th>\n",
              "      <td>\u0413\u0430\u0440\u0444\u0438\u043b\u0434 (2024)</td>\n",
              "      <td>\u0433\u0435\u0440\u043e\u0439 (\u043e\u0437\u0432\u0443\u0447\u0435\u043d \u0433\u0435\u0440\u043e\u0439), \u0432\u0441\u0435\u043c\u0438\u0440\u043d\u043e \u0438\u0437\u0432\u0435\u0441\u0442\u043d\u044b\u0439, \u043d\u0435\u043d...</td>\n",
              "      <td>[0, 0, 0, 0, 1, 0, 0, 1, 0, 1, 0, 0, 0, 1]</td>\n",
              "    </tr>\n",
              "    <tr>\n",
              "      <th>...</th>\n",
              "      <td>...</td>\n",
              "      <td>...</td>\n",
              "      <td>...</td>\n",
              "    </tr>\n",
              "    <tr>\n",
              "      <th>1971</th>\n",
              "      <td>\u0413\u0430\u0440\u0440\u0438 \u041f\u043e\u0442\u0442\u0435\u0440 \u0438 \u0422\u0430\u0439\u043d\u0430\u044f \u043a\u043e\u043c\u043d\u0430\u0442\u0430 (2002)</td>\n",
              "      <td>\u0412\u043e \u0432\u0440\u0435\u043c\u044f \u043c\u0430\u0442\u0447\u0430 \u043f\u043e \u043a\u0432\u0438\u0434\u0434\u0438\u0447\u0443 \u043c\u0435\u0442\u0438\u0432\u0448\u0438\u0439 \u0432 \u0433\u0435\u0440\u043e\u0439 \u0431\u043b...</td>\n",
              "      <td>[0, 0, 0, 0, 0, 0, 0, 0, 0, 1, 0, 0, 0, 1]</td>\n",
              "    </tr>\n",
              "    <tr>\n",
              "      <th>1972</th>\n",
              "      <td>\u0413\u0430\u0440\u0440\u0438 \u041f\u043e\u0442\u0442\u0435\u0440 \u0438 \u0422\u0430\u0439\u043d\u0430\u044f \u043a\u043e\u043c\u043d\u0430\u0442\u0430 (2002)</td>\n",
              "      <td>\u041e\u0434\u043d\u0430\u043a\u043e \u0432 \u044d\u0442\u043e\u0442 \u0436\u0435 \u0432\u0435\u0447\u0435\u0440 \u043a \u0433\u0435\u0440\u043e\u0439 \u043f\u0440\u0438\u0445\u043e\u0434\u044f\u0442 \u0433\u0435\u0440\u043e\u0439,...</td>\n",
              "      <td>[0, 0, 0, 0, 0, 0, 0, 0, 0, 1, 0, 0, 0, 1]</td>\n",
              "    </tr>\n",
              "    <tr>\n",
              "      <th>1973</th>\n",
              "      <td>\u0413\u0430\u0440\u0440\u0438 \u041f\u043e\u0442\u0442\u0435\u0440 \u0438 \u0422\u0430\u0439\u043d\u0430\u044f \u043a\u043e\u043c\u043d\u0430\u0442\u0430 (2002)</td>\n",
              "      <td>\u0412\u043e\u0441\u043f\u043e\u043b\u044c\u0437\u043e\u0432\u0430\u0432\u0448\u0438\u0441\u044c \u043c\u043e\u043c\u0435\u043d\u0442\u043e\u043c, \u0433\u0435\u0440\u043e\u0439 \u043e\u0442\u0431\u0438\u0440\u0430\u0435\u0442 \u0443 \u0433\u0435...</td>\n",
              "      <td>[0, 0, 0, 0, 0, 0, 0, 0, 0, 1, 0, 0, 0, 1]</td>\n",
              "    </tr>\n",
              "    <tr>\n",
              "      <th>1974</th>\n",
              "      <td>\u0413\u0430\u0440\u0440\u0438 \u041f\u043e\u0442\u0442\u0435\u0440 \u0438 \u0422\u0430\u0439\u043d\u0430\u044f \u043a\u043e\u043c\u043d\u0430\u0442\u0430 (2002)</td>\n",
              "      <td>\u041f\u043e\u0441\u043b\u0435 \u0441\u0446\u0435\u043d\u044b \u0432 \u043a\u0430\u0431\u0438\u043d\u0435\u0442\u0435 \u0433\u0435\u0440\u043e\u0439\u0430 \u0433\u0435\u0440\u043e\u0439 \u043e\u0431\u0432\u0438\u043d\u044f\u0435\u0442 \u041b...</td>\n",
              "      <td>[0, 0, 0, 0, 0, 0, 0, 0, 0, 1, 0, 0, 0, 1]</td>\n",
              "    </tr>\n",
              "    <tr>\n",
              "      <th>1975</th>\n",
              "      <td>\u0412\u043e\u0437\u0434\u0443\u0445 (2023)</td>\n",
              "      <td>\u0414\u0435\u0439\u0441\u0442\u0432\u0438\u0435 \u0444\u0438\u043b\u044c\u043c\u0430 \u043f\u0440\u043e\u0438\u0441\u0445\u043e\u0434\u0438\u0442 \u0432\u043e \u0432\u0440\u0435\u043c\u044f \u0412\u0435\u043b\u0438\u043a\u043e\u0439 \u041e\u0442...</td>\n",
              "      <td>[1, 0, 1, 1, 0, 0, 0, 0, 0, 0, 0, 0, 0, 0]</td>\n",
              "    </tr>\n",
              "  </tbody>\n",
              "</table>\n",
              "<p>1976 rows \u00d7 3 columns</p>\n",
              "</div>"
            ],
            "text/plain": [
              "                                     movie  \\\n",
              "0                  \u0421\u0442\u0440\u0430\u0441\u0442\u0438 \u0425\u0440\u0438\u0441\u0442\u043e\u0432\u044b (2004)   \n",
              "1                            \u0420\u043e\u0434\u043d\u044b\u0435 (2021)   \n",
              "2                          \u042d\u043a\u0441\u043f\u0440\u0435\u0441\u0441 (2022)   \n",
              "3                            \u0411\u0440\u0430\u0442\u044c\u044f (2024)   \n",
              "4                           \u0413\u0430\u0440\u0444\u0438\u043b\u0434 (2024)   \n",
              "...                                    ...   \n",
              "1971  \u0413\u0430\u0440\u0440\u0438 \u041f\u043e\u0442\u0442\u0435\u0440 \u0438 \u0422\u0430\u0439\u043d\u0430\u044f \u043a\u043e\u043c\u043d\u0430\u0442\u0430 (2002)   \n",
              "1972  \u0413\u0430\u0440\u0440\u0438 \u041f\u043e\u0442\u0442\u0435\u0440 \u0438 \u0422\u0430\u0439\u043d\u0430\u044f \u043a\u043e\u043c\u043d\u0430\u0442\u0430 (2002)   \n",
              "1973  \u0413\u0430\u0440\u0440\u0438 \u041f\u043e\u0442\u0442\u0435\u0440 \u0438 \u0422\u0430\u0439\u043d\u0430\u044f \u043a\u043e\u043c\u043d\u0430\u0442\u0430 (2002)   \n",
              "1974  \u0413\u0430\u0440\u0440\u0438 \u041f\u043e\u0442\u0442\u0435\u0440 \u0438 \u0422\u0430\u0439\u043d\u0430\u044f \u043a\u043e\u043c\u043d\u0430\u0442\u0430 (2002)   \n",
              "1975                         \u0412\u043e\u0437\u0434\u0443\u0445 (2023)   \n",
              "\n",
              "                                                   text  \\\n",
              "0     \u0424\u0438\u043b\u044c\u043c \u043f\u0440\u0435\u0434\u0441\u0442\u0430\u0432\u043b\u044f\u0435\u0442 \u0441\u043e\u0431\u043e\u0439 \u0434\u0440\u0430\u043c\u0430\u0442\u0438\u0447\u0435\u0441\u043a\u043e\u0435 \u0432\u043e\u0441\u0441\u043e\u0437\u0434...   \n",
              "1     \u041e\u0434\u043d\u0430\u0436\u0434\u044b \u0432\u0435\u0447\u0435\u0440\u043e\u043c \u043e\u0442\u0435\u0446 \u0441\u0435\u043c\u0435\u0439\u0441\u0442\u0432\u0430 \u0441\u043e\u043e\u0431\u0449\u0430\u0435\u0442, \u0447\u0442\u043e \u0443...   \n",
              "2     \u0433\u0435\u0440\u043e\u0439 \u043d\u0435 \u0443\u043d\u044b\u0432\u0430\u0435\u0442 \u0434\u0430\u0436\u0435 \u0432 \u0442\u0440\u0443\u0434\u043d\u044b\u0435 \u0432\u0440\u0435\u043c\u0435\u043d\u0430. \u041f\u043e\u0441\u043b\u0435...   \n",
              "3     \u041e\u0441\u043d\u043e\u0432\u0430\u043d\u043d\u044b\u0439 \u043d\u0430 \u0440\u0435\u0430\u043b\u044c\u043d\u044b\u0445 \u0441\u043e\u0431\u044b\u0442\u0438\u044f\u0445, \u044d\u0442\u043e\u0442 \u0444\u0438\u043b\u044c\u043c \u043f\u043e...   \n",
              "4     \u0433\u0435\u0440\u043e\u0439 (\u043e\u0437\u0432\u0443\u0447\u0435\u043d \u0433\u0435\u0440\u043e\u0439), \u0432\u0441\u0435\u043c\u0438\u0440\u043d\u043e \u0438\u0437\u0432\u0435\u0441\u0442\u043d\u044b\u0439, \u043d\u0435\u043d...   \n",
              "...                                                 ...   \n",
              "1971  \u0412\u043e \u0432\u0440\u0435\u043c\u044f \u043c\u0430\u0442\u0447\u0430 \u043f\u043e \u043a\u0432\u0438\u0434\u0434\u0438\u0447\u0443 \u043c\u0435\u0442\u0438\u0432\u0448\u0438\u0439 \u0432 \u0433\u0435\u0440\u043e\u0439 \u0431\u043b...   \n",
              "1972  \u041e\u0434\u043d\u0430\u043a\u043e \u0432 \u044d\u0442\u043e\u0442 \u0436\u0435 \u0432\u0435\u0447\u0435\u0440 \u043a \u0433\u0435\u0440\u043e\u0439 \u043f\u0440\u0438\u0445\u043e\u0434\u044f\u0442 \u0433\u0435\u0440\u043e\u0439,...   \n",
              "1973  \u0412\u043e\u0441\u043f\u043e\u043b\u044c\u0437\u043e\u0432\u0430\u0432\u0448\u0438\u0441\u044c \u043c\u043e\u043c\u0435\u043d\u0442\u043e\u043c, \u0433\u0435\u0440\u043e\u0439 \u043e\u0442\u0431\u0438\u0440\u0430\u0435\u0442 \u0443 \u0433\u0435...   \n",
              "1974  \u041f\u043e\u0441\u043b\u0435 \u0441\u0446\u0435\u043d\u044b \u0432 \u043a\u0430\u0431\u0438\u043d\u0435\u0442\u0435 \u0433\u0435\u0440\u043e\u0439\u0430 \u0433\u0435\u0440\u043e\u0439 \u043e\u0431\u0432\u0438\u043d\u044f\u0435\u0442 \u041b...   \n",
              "1975  \u0414\u0435\u0439\u0441\u0442\u0432\u0438\u0435 \u0444\u0438\u043b\u044c\u043c\u0430 \u043f\u0440\u043e\u0438\u0441\u0445\u043e\u0434\u0438\u0442 \u0432\u043e \u0432\u0440\u0435\u043c\u044f \u0412\u0435\u043b\u0438\u043a\u043e\u0439 \u041e\u0442...   \n",
              "\n",
              "                                          target  \n",
              "0     [0, 0, 1, 0, 0, 0, 0, 0, 0, 0, 0, 0, 0, 0]  \n",
              "1     [0, 0, 1, 0, 1, 0, 0, 0, 0, 0, 0, 0, 0, 0]  \n",
              "2     [0, 0, 1, 0, 1, 0, 0, 0, 0, 0, 0, 0, 0, 0]  \n",
              "3     [0, 0, 1, 0, 0, 0, 0, 0, 0, 0, 0, 0, 0, 0]  \n",
              "4     [0, 0, 0, 0, 1, 0, 0, 1, 0, 1, 0, 0, 0, 1]  \n",
              "...                                          ...  \n",
              "1971  [0, 0, 0, 0, 0, 0, 0, 0, 0, 1, 0, 0, 0, 1]  \n",
              "1972  [0, 0, 0, 0, 0, 0, 0, 0, 0, 1, 0, 0, 0, 1]  \n",
              "1973  [0, 0, 0, 0, 0, 0, 0, 0, 0, 1, 0, 0, 0, 1]  \n",
              "1974  [0, 0, 0, 0, 0, 0, 0, 0, 0, 1, 0, 0, 0, 1]  \n",
              "1975  [1, 0, 1, 1, 0, 0, 0, 0, 0, 0, 0, 0, 0, 0]  \n",
              "\n",
              "[1976 rows x 3 columns]"
            ]
          },
          "metadata": {},
          "execution_count": 8
        }
      ],
      "execution_count": null
    },
    {
      "metadata": {},
      "source": [
        "max_length = 256\n",
        "num_labels = len(mlb.classes_)\n",
        "label2id = dict(zip(mlb.classes_, range(num_labels)))\n",
        "id2label = dict(zip(range(num_labels), mlb.classes_))\n",
        "model = \"ai-forever/ruBert-base\"\n",
        "# model = \"ai-forever/ruRoberta-large\"\n",
        "# model = \"cointegrated/rubert-tiny2\"\n",
        "problem_type = \"multi_label_classification\"\n",
        "batch_size = 2\n",
        "pin_memory = False\n",
        "drop_last = False\n",
        "num_workers = 4\n",
        "shuffle = True\n",
        "# val_size = int(len(df) * 0.2)\n",
        "num_epochs = 4\n",
        "\n",
        "\n",
        "os.environ[\"TOKENIZERS_PARALLELISM\"] = \"false\"\n",
        "os.environ[\"TRANSFORMERS_NO_ADVISORY_WARNINGS\"] = \"true\""
      ],
      "cell_type": "code",
      "outputs": [],
      "execution_count": null
    },
    {
      "metadata": {},
      "source": [
        "tokenizer = AutoTokenizer.from_pretrained(model)\n",
        "\n",
        "model = BertForSequenceClassification.from_pretrained(\n",
        "    model,\n",
        "    num_labels=num_labels,\n",
        "    problem_type=problem_type,\n",
        "    label2id=label2id,\n",
        "    id2label=id2label,\n",
        ")"
      ],
      "cell_type": "code",
      "outputs": [
        {
          "output_type": "stream",
          "name": "stderr",
          "text": [
            "/home/seara/Desktop/Github/mtc-film-classification/.venv/lib/python3.9/site-packages/transformers/tokenization_utils_base.py:1601: FutureWarning: `clean_up_tokenization_spaces` was not set. It will be set to `True` by default. This behavior will be depracted in transformers v4.45, and will be then set to `False` by default. For more details check this issue: https://github.com/huggingface/transformers/issues/31884\n",
            "  warnings.warn(\n",
            "Some weights of BertForSequenceClassification were not initialized from the model checkpoint at ai-forever/ruBert-base and are newly initialized: ['classifier.bias', 'classifier.weight']\n",
            "You should probably TRAIN this model on a down-stream task to be able to use it for predictions and inference.\n"
          ]
        }
      ],
      "execution_count": null
    },
    {
      "metadata": {},
      "source": [
        "plt.hist(list(map(len, tokenizer(df_train[\"text\"].tolist())[\"input_ids\"])))"
      ],
      "cell_type": "code",
      "outputs": [
        {
          "output_type": "execute_result",
          "data": {
            "text/plain": [
              "(array([ 99., 208., 203., 106., 100., 472., 723.,  62.,   2.,   1.]),\n",
              " array([ 19. ,  48.1,  77.2, 106.3, 135.4, 164.5, 193.6, 222.7, 251.8,\n",
              "        280.9, 310. ]),\n",
              " <BarContainer object of 10 artists>)"
            ]
          },
          "metadata": {},
          "execution_count": 11
        },
        {
          "output_type": "display_data",
          "data": {
            "image/png": "[encoded data removed]",
            "text/plain": [
              "<Figure size 640x480 with 1 Axes>"
            ]
          },
          "metadata": {}
        }
      ],
      "execution_count": null
    },
    {
      "metadata": {},
      "source": [
        "dataset_train = Dataset.from_pandas(df_train)\n",
        "dataset_train = dataset_train.map(\n",
        "    lambda x: tokenizer(x[\"text\"], truncation=True, max_length=max_length),\n",
        "    batched=True,\n",
        ")\n",
        "dataset_train = dataset_train.map(\n",
        "    lambda x: {\"label\": [float(y) for y in x[\"target\"]]},\n",
        "    batched=False,\n",
        "    remove_columns=[\"text\", \"target\"],\n",
        ")\n",
        "\n",
        "\n",
        "dataset_test = Dataset.from_pandas(df_test)\n",
        "dataset_test = dataset_test.map(\n",
        "    lambda x: tokenizer(x[\"text\"], truncation=True, max_length=max_length),\n",
        "    batched=True,\n",
        ")\n",
        "dataset_test = dataset_test.map(\n",
        "    lambda x: {\"label\": [float(y) for y in x[\"target\"]]},\n",
        "    batched=False,\n",
        "    remove_columns=[\"text\", \"target\"],\n",
        ")"
      ],
      "cell_type": "code",
      "outputs": [
        {
          "output_type": "display_data",
          "data": {
            "application/vnd.jupyter.widget-view+json": {
              "model_id": "6fc86cea5f284ee6aa5930f0a97462d3",
              "version_major": 2,
              "version_minor": 0
            },
            "text/plain": [
              "Map:   0%|          | 0/1976 [00:00<?, ? examples/s]"
            ]
          },
          "metadata": {}
        },
        {
          "output_type": "display_data",
          "data": {
            "application/vnd.jupyter.widget-view+json": {
              "model_id": "6250382745d346a5abd009ce2ad5ed7e",
              "version_major": 2,
              "version_minor": 0
            },
            "text/plain": [
              "Map:   0%|          | 0/1976 [00:00<?, ? examples/s]"
            ]
          },
          "metadata": {}
        },
        {
          "output_type": "display_data",
          "data": {
            "application/vnd.jupyter.widget-view+json": {
              "model_id": "7e82e1b69ccb4c66afb78bbc47320a43",
              "version_major": 2,
              "version_minor": 0
            },
            "text/plain": [
              "Map:   0%|          | 0/553 [00:00<?, ? examples/s]"
            ]
          },
          "metadata": {}
        },
        {
          "output_type": "display_data",
          "data": {
            "application/vnd.jupyter.widget-view+json": {
              "model_id": "0f98dfc0594346da930910175313481f",
              "version_major": 2,
              "version_minor": 0
            },
            "text/plain": [
              "Map:   0%|          | 0/553 [00:00<?, ? examples/s]"
            ]
          },
          "metadata": {}
        }
      ],
      "execution_count": null
    },
    {
      "metadata": {},
      "source": [
        "data_collator = DataCollatorWithPadding(tokenizer)\n",
        "# train_val = dataset.train_test_split(test_size=val_size)\n",
        "train_wo_movie = dataset_train.remove_columns([\"movie\"])\n",
        "test_wo_movie = dataset_test.remove_columns([\"movie\"])\n",
        "\n",
        "train_dataloader = DataLoader(\n",
        "    train_wo_movie,\n",
        "    batch_size=batch_size,\n",
        "    shuffle=shuffle,\n",
        "    num_workers=num_workers,\n",
        "    collate_fn=data_collator,\n",
        "    pin_memory=pin_memory,\n",
        "    drop_last=drop_last,\n",
        ")\n",
        "\n",
        "val_dataloader = DataLoader(\n",
        "    test_wo_movie,\n",
        "    batch_size=batch_size,\n",
        "    shuffle=False,\n",
        "    num_workers=num_workers,\n",
        "    collate_fn=data_collator,\n",
        "    pin_memory=pin_memory,\n",
        "    drop_last=drop_last,\n",
        ")"
      ],
      "cell_type": "code",
      "outputs": [],
      "execution_count": null
    },
    {
      "metadata": {},
      "source": [
        "def predict(model, dataloader):\n",
        "    with torch.inference_mode():\n",
        "        y_true = []\n",
        "        y_pred = []\n",
        "        val_loss = 0\n",
        "\n",
        "        for batch in tqdm(dataloader):\n",
        "            batch = batch.to(model.device)\n",
        "            output = model(**batch)\n",
        "            loss = output.loss\n",
        "\n",
        "            val_loss += loss.item() * batch[\"input_ids\"].size(0)\n",
        "            y_true.append(batch.labels.cpu())\n",
        "            y_pred.append(output.logits.cpu())\n",
        "\n",
        "        val_loss = val_loss / len(dataloader.dataset)\n",
        "\n",
        "    return (\n",
        "        torch.cat(y_true).numpy(),\n",
        "        torch.sigmoid(torch.cat(y_pred)).numpy(),\n",
        "        val_loss,\n",
        "    )\n",
        "\n",
        "\n",
        "def train_epoch(model, train_dataloader, optimizer):\n",
        "    y_true = []\n",
        "    y_pred = []\n",
        "    train_loss = 0\n",
        "\n",
        "    for batch in tqdm(train_dataloader):\n",
        "        optimizer.zero_grad()\n",
        "        batch = batch.to(model.device)\n",
        "        output = model(**batch)\n",
        "        loss = output.loss\n",
        "        loss.backward()\n",
        "        optimizer.step()\n",
        "\n",
        "        train_loss += loss.item() * batch[\"input_ids\"].size(0)\n",
        "        y_true.append(batch.labels.detach().cpu())\n",
        "        y_pred.append(output.logits.detach().cpu())\n",
        "\n",
        "    train_loss = train_loss / len(train_dataloader.dataset)\n",
        "    return (\n",
        "        torch.cat(y_true).numpy(),\n",
        "        torch.sigmoid(torch.cat(y_pred)).numpy(),\n",
        "        train_loss,\n",
        "    )\n",
        "\n",
        "\n",
        "def eval(model, val_dataloader, labels, dataset):\n",
        "    model.eval()\n",
        "    val_y_true, val_y_pred, val_loss = predict(model, val_dataloader)\n",
        "\n",
        "    df_eval = dataset.to_pandas()\n",
        "    df_eval = df_eval.drop([\"input_ids\", \"attention_mask\", \"token_type_ids\"], axis=1)\n",
        "\n",
        "    df_eval[\"eval\"] = val_y_pred.tolist()\n",
        "    gb = (\n",
        "        df_eval.groupby(\"movie\")\n",
        "        .agg({\"eval\": lambda x: [sum(i) / len(i) for i in zip(*x)], \"label\": \"first\"})\n",
        "        .reset_index()\n",
        "    )\n",
        "\n",
        "    report_dict = f1_df_for_each_threshold(\n",
        "        np.array(gb[\"label\"].to_list()), np.array(gb[\"eval\"].to_list()), num_labels\n",
        "    )\n",
        "\n",
        "    df = pd.DataFrame(report_dict)\n",
        "    df = df.round(2).T\n",
        "    df.columns = [*labels, \"macro\"]\n",
        "    return df, val_y_true, val_y_pred, val_loss"
      ],
      "cell_type": "code",
      "outputs": [],
      "execution_count": null
    },
    {
      "metadata": {},
      "source": [
        "def train(model, train_dataloader, optimizer, epochs, val_dataloader, labels, dataset):\n",
        "    tq = tqdm(range(epochs))\n",
        "\n",
        "    for epoch in tq:\n",
        "\n",
        "        model.train()\n",
        "        train_y_true, train_y_pred, train_loss = train_epoch(\n",
        "            model, train_dataloader, optimizer\n",
        "        )\n",
        "\n",
        "        model.eval()\n",
        "\n",
        "        df, val_y_true, val_y_pred, val_loss = eval(\n",
        "            model, val_dataloader, labels, dataset\n",
        "        )\n",
        "\n",
        "        wandb.log(\n",
        "            {\n",
        "                \"train_loss\": train_loss,\n",
        "                \"val_loss\": val_loss,\n",
        "                \"f10.5\": df[\"macro\"].loc[0.5],\n",
        "                \"f10.3\": df[\"macro\"].loc[0.3],\n",
        "                \"f10.4\": df[\"macro\"].loc[0.4],\n",
        "            }\n",
        "        )\n",
        "\n",
        "        tq.set_description(f\"train_loss: {train_loss:.4f}, val_loss: {val_loss:.4f}\")\n",
        "\n",
        "    df, val_y_true, val_y_pred, val_loss = eval(model, val_dataloader, labels, dataset)\n",
        "\n",
        "    display(df)\n",
        "\n",
        "    return val_y_true, val_y_pred"
      ],
      "cell_type": "code",
      "outputs": [],
      "execution_count": null
    },
    {
      "metadata": {},
      "source": [
        "torch.cuda.empty_cache()\n",
        "model.cuda()\n",
        "\n",
        "optimizer = Adam(model.parameters(), lr=0.00001)\n",
        "wandb.init(\"mtc-nlp\")"
      ],
      "cell_type": "code",
      "outputs": [
        {
          "output_type": "stream",
          "name": "stderr",
          "text": [
            "\u001b[34m\u001b[1mwandb\u001b[0m: Using wandb-core as the SDK backend. Please refer to https://wandb.me/wandb-core for more information.\n",
            "\u001b[34m\u001b[1mwandb\u001b[0m: Currently logged in as: \u001b[33mseara\u001b[0m. Use \u001b[1m`wandb login --relogin`\u001b[0m to force relogin\n"
          ]
        },
        {
          "output_type": "display_data",
          "data": {
            "application/vnd.jupyter.widget-view+json": {
              "model_id": "193fa55664d84dceb06518479bdcd9e4",
              "version_major": 2,
              "version_minor": 0
            },
            "text/plain": [
              "VBox(children=(Label(value='Waiting for wandb.init()...\\r'), FloatProgress(value=0.01111268869992475, max=1.0)\u2026"
            ]
          },
          "metadata": {}
        },
        {
          "output_type": "display_data",
          "data": {
            "text/html": [
              "Tracking run with wandb version 0.18.0"
            ],
            "text/plain": [
              "<IPython.core.display.HTML object>"
            ]
          },
          "metadata": {}
        },
        {
          "output_type": "display_data",
          "data": {
            "text/html": [
              "Run data is saved locally in <code>/home/seara/Desktop/Github/mtc-film-classification/wandb/run-20240914_184205-8djhefa1</code>"
            ],
            "text/plain": [
              "<IPython.core.display.HTML object>"
            ]
          },
          "metadata": {}
        },
        {
          "output_type": "display_data",
          "data": {
            "text/html": [
              "Syncing run <strong><a href='https://wandb.ai/seara/mtc-film-classification/runs/8djhefa1' target=\"_blank\">desert-cloud-46</a></strong> to <a href='https://wandb.ai/seara/mtc-film-classification' target=\"_blank\">Weights & Biases</a> (<a href='https://wandb.me/run' target=\"_blank\">docs</a>)<br/>"
            ],
            "text/plain": [
              "<IPython.core.display.HTML object>"
            ]
          },
          "metadata": {}
        },
        {
          "output_type": "display_data",
          "data": {
            "text/html": [
              " View project at <a href='https://wandb.ai/seara/mtc-film-classification' target=\"_blank\">https://wandb.ai/seara/mtc-film-classification</a>"
            ],
            "text/plain": [
              "<IPython.core.display.HTML object>"
            ]
          },
          "metadata": {}
        },
        {
          "output_type": "display_data",
          "data": {
            "text/html": [
              " View run at <a href='https://wandb.ai/seara/mtc-film-classification/runs/8djhefa1' target=\"_blank\">https://wandb.ai/seara/mtc-film-classification/runs/8djhefa1</a>"
            ],
            "text/plain": [
              "<IPython.core.display.HTML object>"
            ]
          },
          "metadata": {}
        },
        {
          "output_type": "execute_result",
          "data": {
            "text/html": [
              "<button onClick=\"this.nextSibling.style.display='block';this.style.display='none';\">Display W&B run</button><iframe src='https://wandb.ai/seara/mtc-film-classification/runs/8djhefa1?jupyter=true' style='border:none;width:100%;height:420px;display:none;'></iframe>"
            ],
            "text/plain": [
              "<wandb.sdk.wandb_run.Run at 0x7019eaa49910>"
            ]
          },
          "metadata": {},
          "execution_count": 16
        }
      ],
      "execution_count": null
    },
    {
      "metadata": {},
      "source": [
        "val_y_true, val_y_pred = train(\n",
        "    model=model,\n",
        "    train_dataloader=train_dataloader,\n",
        "    optimizer=optimizer,\n",
        "    epochs=num_epochs,\n",
        "    val_dataloader=val_dataloader,\n",
        "    labels=id2label.values(),\n",
        "    dataset=dataset_test,\n",
        ")\n",
        "wandb.finish()"
      ],
      "cell_type": "code",
      "outputs": [
        {
          "output_type": "display_data",
          "data": {
            "application/vnd.jupyter.widget-view+json": {
              "model_id": "e5e89caa9f9f4175b66e8f84064f986f",
              "version_major": 2,
              "version_minor": 0
            },
            "text/plain": [
              "  0%|          | 0/4 [00:00<?, ?it/s]"
            ]
          },
          "metadata": {}
        },
        {
          "output_type": "display_data",
          "data": {
            "application/vnd.jupyter.widget-view+json": {
              "model_id": "e10ab897d0924e01be777352d739d04d",
              "version_major": 2,
              "version_minor": 0
            },
            "text/plain": [
              "  0%|          | 0/988 [00:00<?, ?it/s]"
            ]
          },
          "metadata": {}
        },
        {
          "output_type": "display_data",
          "data": {
            "application/vnd.jupyter.widget-view+json": {
              "model_id": "d28ac054f4874c1e9f7832cf15c08f78",
              "version_major": 2,
              "version_minor": 0
            },
            "text/plain": [
              "  0%|          | 0/277 [00:00<?, ?it/s]"
            ]
          },
          "metadata": {}
        },
        {
          "output_type": "display_data",
          "data": {
            "application/vnd.jupyter.widget-view+json": {
              "model_id": "e6ac2f6553d44064987e58994bb346ce",
              "version_major": 2,
              "version_minor": 0
            },
            "text/plain": [
              "  0%|          | 0/988 [00:00<?, ?it/s]"
            ]
          },
          "metadata": {}
        },
        {
          "output_type": "display_data",
          "data": {
            "application/vnd.jupyter.widget-view+json": {
              "model_id": "5c0e199f1b4d45b68af5947138f35069",
              "version_major": 2,
              "version_minor": 0
            },
            "text/plain": [
              "  0%|          | 0/277 [00:00<?, ?it/s]"
            ]
          },
          "metadata": {}
        },
        {
          "output_type": "display_data",
          "data": {
            "application/vnd.jupyter.widget-view+json": {
              "model_id": "b7ab20e5e13e4b149023a318719bac06",
              "version_major": 2,
              "version_minor": 0
            },
            "text/plain": [
              "  0%|          | 0/988 [00:00<?, ?it/s]"
            ]
          },
          "metadata": {}
        },
        {
          "output_type": "display_data",
          "data": {
            "application/vnd.jupyter.widget-view+json": {
              "model_id": "8429d5a6610c488ca7ceb56ffbac0aba",
              "version_major": 2,
              "version_minor": 0
            },
            "text/plain": [
              "  0%|          | 0/277 [00:00<?, ?it/s]"
            ]
          },
          "metadata": {}
        },
        {
          "output_type": "display_data",
          "data": {
            "application/vnd.jupyter.widget-view+json": {
              "model_id": "295780a075bf4b15b1e3d415cd450d2f",
              "version_major": 2,
              "version_minor": 0
            },
            "text/plain": [
              "  0%|          | 0/988 [00:00<?, ?it/s]"
            ]
          },
          "metadata": {}
        },
        {
          "output_type": "display_data",
          "data": {
            "application/vnd.jupyter.widget-view+json": {
              "model_id": "1b32b533d27843b392d9354edce9e017",
              "version_major": 2,
              "version_minor": 0
            },
            "text/plain": [
              "  0%|          | 0/277 [00:00<?, ?it/s]"
            ]
          },
          "metadata": {}
        },
        {
          "output_type": "display_data",
          "data": {
            "application/vnd.jupyter.widget-view+json": {
              "model_id": "f81a5bc2fb494ed5bee001a50db69acb",
              "version_major": 2,
              "version_minor": 0
            },
            "text/plain": [
              "  0%|          | 0/277 [00:00<?, ?it/s]"
            ]
          },
          "metadata": {}
        },
        {
          "output_type": "display_data",
          "data": {
            "text/html": [
              "<div>\n",
              "<style scoped>\n",
              "    .dataframe tbody tr th:only-of-type {\n",
              "        vertical-align: middle;\n",
              "    }\n",
              "\n",
              "    .dataframe tbody tr th {\n",
              "        vertical-align: top;\n",
              "    }\n",
              "\n",
              "    .dataframe thead th {\n",
              "        text-align: right;\n",
              "    }\n",
              "</style>\n",
              "<table border=\"1\" class=\"dataframe\">\n",
              "  <thead>\n",
              "    <tr style=\"text-align: right;\">\n",
              "      <th></th>\n",
              "      <th>\u0431\u043e\u0435\u0432\u0438\u043a</th>\n",
              "      <th>\u0434\u0435\u0442\u0435\u043a\u0442\u0438\u0432</th>\n",
              "      <th>\u0434\u0440\u0430\u043c\u0430</th>\n",
              "      <th>\u0438\u0441\u0442\u043e\u0440\u0438\u044f</th>\n",
              "      <th>\u043a\u043e\u043c\u0435\u0434\u0438\u044f</th>\n",
              "      <th>\u043a\u0440\u0438\u043c\u0438\u043d\u0430\u043b</th>\n",
              "      <th>\u043c\u0435\u043b\u043e\u0434\u0440\u0430\u043c\u0430</th>\n",
              "      <th>\u043c\u0443\u043b\u044c\u0442\u0444\u0438\u043b\u044c\u043c</th>\n",
              "      <th>\u043c\u044e\u0437\u0438\u043a\u043b</th>\n",
              "      <th>\u043f\u0440\u0438\u043a\u043b\u044e\u0447\u0435\u043d\u0438\u044f</th>\n",
              "      <th>\u0442\u0440\u0438\u043b\u043b\u0435\u0440</th>\n",
              "      <th>\u0443\u0436\u0430\u0441\u044b</th>\n",
              "      <th>\u0444\u0430\u043d\u0442\u0430\u0441\u0442\u0438\u043a\u0430</th>\n",
              "      <th>\u0444\u044d\u043d\u0442\u0435\u0437\u0438</th>\n",
              "      <th>macro</th>\n",
              "    </tr>\n",
              "  </thead>\n",
              "  <tbody>\n",
              "    <tr>\n",
              "      <th>0.0</th>\n",
              "      <td>0.45</td>\n",
              "      <td>0.21</td>\n",
              "      <td>0.67</td>\n",
              "      <td>0.24</td>\n",
              "      <td>0.50</td>\n",
              "      <td>0.40</td>\n",
              "      <td>0.20</td>\n",
              "      <td>0.21</td>\n",
              "      <td>0.08</td>\n",
              "      <td>0.34</td>\n",
              "      <td>0.45</td>\n",
              "      <td>0.15</td>\n",
              "      <td>0.32</td>\n",
              "      <td>0.24</td>\n",
              "      <td>0.32</td>\n",
              "    </tr>\n",
              "    <tr>\n",
              "      <th>0.1</th>\n",
              "      <td>0.57</td>\n",
              "      <td>0.35</td>\n",
              "      <td>0.68</td>\n",
              "      <td>0.54</td>\n",
              "      <td>0.55</td>\n",
              "      <td>0.64</td>\n",
              "      <td>0.40</td>\n",
              "      <td>0.50</td>\n",
              "      <td>0.00</td>\n",
              "      <td>0.66</td>\n",
              "      <td>0.60</td>\n",
              "      <td>0.47</td>\n",
              "      <td>0.69</td>\n",
              "      <td>0.51</td>\n",
              "      <td>0.51</td>\n",
              "    </tr>\n",
              "    <tr>\n",
              "      <th>0.2</th>\n",
              "      <td>0.65</td>\n",
              "      <td>0.42</td>\n",
              "      <td>0.72</td>\n",
              "      <td>0.38</td>\n",
              "      <td>0.58</td>\n",
              "      <td>0.69</td>\n",
              "      <td>0.53</td>\n",
              "      <td>0.55</td>\n",
              "      <td>0.00</td>\n",
              "      <td>0.62</td>\n",
              "      <td>0.65</td>\n",
              "      <td>0.67</td>\n",
              "      <td>0.81</td>\n",
              "      <td>0.63</td>\n",
              "      <td>0.57</td>\n",
              "    </tr>\n",
              "    <tr>\n",
              "      <th>0.3</th>\n",
              "      <td>0.70</td>\n",
              "      <td>0.27</td>\n",
              "      <td>0.75</td>\n",
              "      <td>0.35</td>\n",
              "      <td>0.60</td>\n",
              "      <td>0.68</td>\n",
              "      <td>0.52</td>\n",
              "      <td>0.42</td>\n",
              "      <td>0.00</td>\n",
              "      <td>0.58</td>\n",
              "      <td>0.64</td>\n",
              "      <td>0.56</td>\n",
              "      <td>0.82</td>\n",
              "      <td>0.58</td>\n",
              "      <td>0.53</td>\n",
              "    </tr>\n",
              "    <tr>\n",
              "      <th>0.4</th>\n",
              "      <td>0.76</td>\n",
              "      <td>0.30</td>\n",
              "      <td>0.72</td>\n",
              "      <td>0.36</td>\n",
              "      <td>0.58</td>\n",
              "      <td>0.70</td>\n",
              "      <td>0.38</td>\n",
              "      <td>0.33</td>\n",
              "      <td>0.00</td>\n",
              "      <td>0.61</td>\n",
              "      <td>0.59</td>\n",
              "      <td>0.62</td>\n",
              "      <td>0.79</td>\n",
              "      <td>0.57</td>\n",
              "      <td>0.52</td>\n",
              "    </tr>\n",
              "    <tr>\n",
              "      <th>0.5</th>\n",
              "      <td>0.76</td>\n",
              "      <td>0.22</td>\n",
              "      <td>0.70</td>\n",
              "      <td>0.36</td>\n",
              "      <td>0.52</td>\n",
              "      <td>0.70</td>\n",
              "      <td>0.32</td>\n",
              "      <td>0.24</td>\n",
              "      <td>0.00</td>\n",
              "      <td>0.56</td>\n",
              "      <td>0.55</td>\n",
              "      <td>0.62</td>\n",
              "      <td>0.76</td>\n",
              "      <td>0.59</td>\n",
              "      <td>0.49</td>\n",
              "    </tr>\n",
              "    <tr>\n",
              "      <th>0.6</th>\n",
              "      <td>0.76</td>\n",
              "      <td>0.13</td>\n",
              "      <td>0.67</td>\n",
              "      <td>0.38</td>\n",
              "      <td>0.39</td>\n",
              "      <td>0.73</td>\n",
              "      <td>0.24</td>\n",
              "      <td>0.13</td>\n",
              "      <td>0.00</td>\n",
              "      <td>0.49</td>\n",
              "      <td>0.38</td>\n",
              "      <td>0.53</td>\n",
              "      <td>0.73</td>\n",
              "      <td>0.54</td>\n",
              "      <td>0.44</td>\n",
              "    </tr>\n",
              "    <tr>\n",
              "      <th>0.7</th>\n",
              "      <td>0.79</td>\n",
              "      <td>0.13</td>\n",
              "      <td>0.59</td>\n",
              "      <td>0.38</td>\n",
              "      <td>0.28</td>\n",
              "      <td>0.78</td>\n",
              "      <td>0.13</td>\n",
              "      <td>0.00</td>\n",
              "      <td>0.00</td>\n",
              "      <td>0.46</td>\n",
              "      <td>0.27</td>\n",
              "      <td>0.46</td>\n",
              "      <td>0.67</td>\n",
              "      <td>0.48</td>\n",
              "      <td>0.39</td>\n",
              "    </tr>\n",
              "    <tr>\n",
              "      <th>0.8</th>\n",
              "      <td>0.69</td>\n",
              "      <td>0.00</td>\n",
              "      <td>0.46</td>\n",
              "      <td>0.22</td>\n",
              "      <td>0.18</td>\n",
              "      <td>0.71</td>\n",
              "      <td>0.13</td>\n",
              "      <td>0.00</td>\n",
              "      <td>0.00</td>\n",
              "      <td>0.35</td>\n",
              "      <td>0.21</td>\n",
              "      <td>0.46</td>\n",
              "      <td>0.59</td>\n",
              "      <td>0.42</td>\n",
              "      <td>0.32</td>\n",
              "    </tr>\n",
              "    <tr>\n",
              "      <th>0.9</th>\n",
              "      <td>0.43</td>\n",
              "      <td>0.00</td>\n",
              "      <td>0.26</td>\n",
              "      <td>0.12</td>\n",
              "      <td>0.10</td>\n",
              "      <td>0.41</td>\n",
              "      <td>0.00</td>\n",
              "      <td>0.00</td>\n",
              "      <td>0.00</td>\n",
              "      <td>0.21</td>\n",
              "      <td>0.06</td>\n",
              "      <td>0.00</td>\n",
              "      <td>0.47</td>\n",
              "      <td>0.40</td>\n",
              "      <td>0.18</td>\n",
              "    </tr>\n",
              "    <tr>\n",
              "      <th>1.0</th>\n",
              "      <td>0.00</td>\n",
              "      <td>0.00</td>\n",
              "      <td>0.00</td>\n",
              "      <td>0.00</td>\n",
              "      <td>0.00</td>\n",
              "      <td>0.00</td>\n",
              "      <td>0.00</td>\n",
              "      <td>0.00</td>\n",
              "      <td>0.00</td>\n",
              "      <td>0.00</td>\n",
              "      <td>0.00</td>\n",
              "      <td>0.00</td>\n",
              "      <td>0.00</td>\n",
              "      <td>0.00</td>\n",
              "      <td>0.00</td>\n",
              "    </tr>\n",
              "  </tbody>\n",
              "</table>\n",
              "</div>"
            ],
            "text/plain": [
              "     \u0431\u043e\u0435\u0432\u0438\u043a  \u0434\u0435\u0442\u0435\u043a\u0442\u0438\u0432  \u0434\u0440\u0430\u043c\u0430  \u0438\u0441\u0442\u043e\u0440\u0438\u044f  \u043a\u043e\u043c\u0435\u0434\u0438\u044f  \u043a\u0440\u0438\u043c\u0438\u043d\u0430\u043b  \u043c\u0435\u043b\u043e\u0434\u0440\u0430\u043c\u0430  \\\n",
              "0.0    0.45      0.21   0.67     0.24     0.50      0.40       0.20   \n",
              "0.1    0.57      0.35   0.68     0.54     0.55      0.64       0.40   \n",
              "0.2    0.65      0.42   0.72     0.38     0.58      0.69       0.53   \n",
              "0.3    0.70      0.27   0.75     0.35     0.60      0.68       0.52   \n",
              "0.4    0.76      0.30   0.72     0.36     0.58      0.70       0.38   \n",
              "0.5    0.76      0.22   0.70     0.36     0.52      0.70       0.32   \n",
              "0.6    0.76      0.13   0.67     0.38     0.39      0.73       0.24   \n",
              "0.7    0.79      0.13   0.59     0.38     0.28      0.78       0.13   \n",
              "0.8    0.69      0.00   0.46     0.22     0.18      0.71       0.13   \n",
              "0.9    0.43      0.00   0.26     0.12     0.10      0.41       0.00   \n",
              "1.0    0.00      0.00   0.00     0.00     0.00      0.00       0.00   \n",
              "\n",
              "     \u043c\u0443\u043b\u044c\u0442\u0444\u0438\u043b\u044c\u043c  \u043c\u044e\u0437\u0438\u043a\u043b  \u043f\u0440\u0438\u043a\u043b\u044e\u0447\u0435\u043d\u0438\u044f  \u0442\u0440\u0438\u043b\u043b\u0435\u0440  \u0443\u0436\u0430\u0441\u044b  \u0444\u0430\u043d\u0442\u0430\u0441\u0442\u0438\u043a\u0430  \u0444\u044d\u043d\u0442\u0435\u0437\u0438  \\\n",
              "0.0        0.21    0.08         0.34     0.45   0.15        0.32     0.24   \n",
              "0.1        0.50    0.00         0.66     0.60   0.47        0.69     0.51   \n",
              "0.2        0.55    0.00         0.62     0.65   0.67        0.81     0.63   \n",
              "0.3        0.42    0.00         0.58     0.64   0.56        0.82     0.58   \n",
              "0.4        0.33    0.00         0.61     0.59   0.62        0.79     0.57   \n",
              "0.5        0.24    0.00         0.56     0.55   0.62        0.76     0.59   \n",
              "0.6        0.13    0.00         0.49     0.38   0.53        0.73     0.54   \n",
              "0.7        0.00    0.00         0.46     0.27   0.46        0.67     0.48   \n",
              "0.8        0.00    0.00         0.35     0.21   0.46        0.59     0.42   \n",
              "0.9        0.00    0.00         0.21     0.06   0.00        0.47     0.40   \n",
              "1.0        0.00    0.00         0.00     0.00   0.00        0.00     0.00   \n",
              "\n",
              "     macro  \n",
              "0.0   0.32  \n",
              "0.1   0.51  \n",
              "0.2   0.57  \n",
              "0.3   0.53  \n",
              "0.4   0.52  \n",
              "0.5   0.49  \n",
              "0.6   0.44  \n",
              "0.7   0.39  \n",
              "0.8   0.32  \n",
              "0.9   0.18  \n",
              "1.0   0.00  "
            ]
          },
          "metadata": {}
        },
        {
          "output_type": "display_data",
          "data": {
            "application/vnd.jupyter.widget-view+json": {
              "model_id": "84cdbff5c1f04e60aba088fc6757e446",
              "version_major": 2,
              "version_minor": 0
            },
            "text/plain": [
              "VBox(children=(Label(value='0.353 MB of 0.353 MB uploaded\\r'), FloatProgress(value=1.0, max=1.0)))"
            ]
          },
          "metadata": {}
        },
        {
          "output_type": "display_data",
          "data": {
            "text/html": [
              "<style>\n",
              "    table.wandb td:nth-child(1) { padding: 0 10px; text-align: left ; width: auto;} td:nth-child(2) {text-align: left ; width: 100%}\n",
              "    .wandb-row { display: flex; flex-direction: row; flex-wrap: wrap; justify-content: flex-start; width: 100% }\n",
              "    .wandb-col { display: flex; flex-direction: column; flex-basis: 100%; flex: 1; padding: 10px; }\n",
              "    </style>\n",
              "<div class=\"wandb-row\"><div class=\"wandb-col\"><h3>Run history:</h3><br/><table class=\"wandb\"><tr><td>f10.3</td><td>\u2581\u2586\u2588\u2587</td></tr><tr><td>f10.4</td><td>\u2581\u2584\u2588\u2588</td></tr><tr><td>f10.5</td><td>\u2581\u2585\u2587\u2588</td></tr><tr><td>train_loss</td><td>\u2588\u2585\u2583\u2581</td></tr><tr><td>val_loss</td><td>\u2587\u2581\u2584\u2588</td></tr></table><br/></div><div class=\"wandb-col\"><h3>Run summary:</h3><br/><table class=\"wandb\"><tr><td>f10.3</td><td>0.53</td></tr><tr><td>f10.4</td><td>0.52</td></tr><tr><td>f10.5</td><td>0.49</td></tr><tr><td>train_loss</td><td>0.17473</td></tr><tr><td>val_loss</td><td>0.39479</td></tr></table><br/></div></div>"
            ],
            "text/plain": [
              "<IPython.core.display.HTML object>"
            ]
          },
          "metadata": {}
        },
        {
          "output_type": "display_data",
          "data": {
            "text/html": [
              " View run <strong style=\"color:#cdcd00\">desert-cloud-46</strong> at: <a href='https://wandb.ai/seara/mtc-film-classification/runs/8djhefa1' target=\"_blank\">https://wandb.ai/seara/mtc-film-classification/runs/8djhefa1</a><br/> View project at: <a href='https://wandb.ai/seara/mtc-film-classification' target=\"_blank\">https://wandb.ai/seara/mtc-film-classification</a><br/>Synced 5 W&B file(s), 0 media file(s), 7 artifact file(s) and 0 other file(s)"
            ],
            "text/plain": [
              "<IPython.core.display.HTML object>"
            ]
          },
          "metadata": {}
        },
        {
          "output_type": "display_data",
          "data": {
            "text/html": [
              "Find logs at: <code>./wandb/run-20240914_184205-8djhefa1/logs</code>"
            ],
            "text/plain": [
              "<IPython.core.display.HTML object>"
            ]
          },
          "metadata": {}
        }
      ],
      "execution_count": null
    },
    {
      "metadata": {},
      "source": [
        "model.cpu()\n",
        "\n",
        "model.save_pretrained(\"models/62-43\", safe_serialization=False)\n",
        "tokenizer.save_pretrained(\"models/62-43\")\n",
        "model.cuda()"
      ],
      "cell_type": "code",
      "outputs": [
        {
          "output_type": "execute_result",
          "data": {
            "text/plain": [
              "BertForSequenceClassification(\n",
              "  (bert): BertModel(\n",
              "    (embeddings): BertEmbeddings(\n",
              "      (word_embeddings): Embedding(120138, 768, padding_idx=0)\n",
              "      (position_embeddings): Embedding(512, 768)\n",
              "      (token_type_embeddings): Embedding(2, 768)\n",
              "      (LayerNorm): LayerNorm((768,), eps=1e-12, elementwise_affine=True)\n",
              "      (dropout): Dropout(p=0.1, inplace=False)\n",
              "    )\n",
              "    (encoder): BertEncoder(\n",
              "      (layer): ModuleList(\n",
              "        (0-11): 12 x BertLayer(\n",
              "          (attention): BertAttention(\n",
              "            (self): BertSdpaSelfAttention(\n",
              "              (query): Linear(in_features=768, out_features=768, bias=True)\n",
              "              (key): Linear(in_features=768, out_features=768, bias=True)\n",
              "              (value): Linear(in_features=768, out_features=768, bias=True)\n",
              "              (dropout): Dropout(p=0.1, inplace=False)\n",
              "            )\n",
              "            (output): BertSelfOutput(\n",
              "              (dense): Linear(in_features=768, out_features=768, bias=True)\n",
              "              (LayerNorm): LayerNorm((768,), eps=1e-12, elementwise_affine=True)\n",
              "              (dropout): Dropout(p=0.1, inplace=False)\n",
              "            )\n",
              "          )\n",
              "          (intermediate): BertIntermediate(\n",
              "            (dense): Linear(in_features=768, out_features=3072, bias=True)\n",
              "            (intermediate_act_fn): GELUActivation()\n",
              "          )\n",
              "          (output): BertOutput(\n",
              "            (dense): Linear(in_features=3072, out_features=768, bias=True)\n",
              "            (LayerNorm): LayerNorm((768,), eps=1e-12, elementwise_affine=True)\n",
              "            (dropout): Dropout(p=0.1, inplace=False)\n",
              "          )\n",
              "        )\n",
              "      )\n",
              "    )\n",
              "    (pooler): BertPooler(\n",
              "      (dense): Linear(in_features=768, out_features=768, bias=True)\n",
              "      (activation): Tanh()\n",
              "    )\n",
              "  )\n",
              "  (dropout): Dropout(p=0.1, inplace=False)\n",
              "  (classifier): Linear(in_features=768, out_features=14, bias=True)\n",
              ")"
            ]
          },
          "metadata": {},
          "execution_count": 41
        }
      ],
      "execution_count": null
    },
    {
      "metadata": {},
      "source": [
        "submission = pd.read_csv(\"data/public_test.csv\")\n",
        "submission[\"\u0416\u0430\u043d\u0440\u044b\"] = \"empty\""
      ],
      "cell_type": "code",
      "outputs": [],
      "execution_count": null
    },
    {
      "metadata": {},
      "source": [
        "submission = preprocess_train(submission)\n",
        "submission"
      ],
      "cell_type": "code",
      "outputs": [
        {
          "output_type": "stream",
          "name": "stdout",
          "text": [
            "movie          False\n",
            "description    False\n",
            "plot            True\n",
            "genres         False\n",
            "dtype: bool\n"
          ]
        },
        {
          "output_type": "display_data",
          "data": {
            "application/vnd.jupyter.widget-view+json": {
              "model_id": "d3c7c3f29d854e75955677c11beacd77",
              "version_major": 2,
              "version_minor": 0
            },
            "text/plain": [
              "VBox(children=(HBox(children=(IntProgress(value=0, description='0.00%', max=30), Label(value='0 / 30'))), HBox\u2026"
            ]
          },
          "metadata": {}
        },
        {
          "output_type": "display_data",
          "data": {
            "image/png": "[encoded data removed]",
            "text/plain": [
              "<Figure size 640x480 with 1 Axes>"
            ]
          },
          "metadata": {}
        },
        {
          "output_type": "execute_result",
          "data": {
            "text/html": [
              "<div>\n",
              "<style scoped>\n",
              "    .dataframe tbody tr th:only-of-type {\n",
              "        vertical-align: middle;\n",
              "    }\n",
              "\n",
              "    .dataframe tbody tr th {\n",
              "        vertical-align: top;\n",
              "    }\n",
              "\n",
              "    .dataframe thead th {\n",
              "        text-align: right;\n",
              "    }\n",
              "</style>\n",
              "<table border=\"1\" class=\"dataframe\">\n",
              "  <thead>\n",
              "    <tr style=\"text-align: right;\">\n",
              "      <th></th>\n",
              "      <th>movie</th>\n",
              "      <th>text</th>\n",
              "      <th>genres</th>\n",
              "    </tr>\n",
              "  </thead>\n",
              "  <tbody>\n",
              "    <tr>\n",
              "      <th>0</th>\n",
              "      <td>\u0423\u0431\u043e\u0439\u043d\u044b\u0435 \u043a\u0430\u043d\u0438\u043a\u0443\u043b\u044b (2010)</td>\n",
              "      <td>\u0414\u0432\u043e\u0435 \u043f\u0440\u043e\u0441\u0442\u044b\u0445 \u0434\u0435\u0440\u0435\u0432\u0435\u043d\u0441\u043a\u0438\u0445 \u043f\u0430\u0440\u043d\u0435\u0439 \u0433\u0435\u0440\u043e\u0439 \u0438 \u043b\u043e\u043a\u0430\u0446\u0438...</td>\n",
              "      <td>empty</td>\n",
              "    </tr>\n",
              "    <tr>\n",
              "      <th>1</th>\n",
              "      <td>\u0422\u0440\u0438 \u0431\u0438\u043b\u0431\u043e\u0440\u0434\u0430 \u043d\u0430 \u0433\u0440\u0430\u043d\u0438\u0446\u0435 \u042d\u0431\u0431\u0438\u043d\u0433\u0430, \u041c\u0438\u0441\u0441\u0443\u0440\u0438 (2017)</td>\n",
              "      <td>\u041f\u043e\u0441\u043b\u0435 \u0442\u043e\u0433\u043e \u043a\u0430\u043a \u0443\u0431\u0438\u0439\u0446\u044b \u0435\u0451 \u0434\u043e\u0447\u0435\u0440\u0438 \u043d\u0435 \u0431\u044b\u043b\u0438 \u043d\u0430\u0439\u0434\u0435\u043d...</td>\n",
              "      <td>empty</td>\n",
              "    </tr>\n",
              "    <tr>\n",
              "      <th>2</th>\n",
              "      <td>\u0413\u043b\u0443\u0431\u043e\u043a\u043e\u0432\u043e\u0434\u043d\u044b\u0439 \u0433\u043e\u0440\u0438\u0437\u043e\u043d\u0442 (2016)</td>\n",
              "      <td>\u0418\u0441\u0442\u043e\u0440\u0438\u044f \u043e \u043a\u0430\u0442\u0430\u0441\u0442\u0440\u043e\u0444\u0435 \u043d\u0430 \u043d\u0435\u0444\u0442\u044f\u043d\u043e\u0439 \u043f\u043b\u0430\u0442\u0444\u043e\u0440\u043c\u0435 \u00ab\u0444\u0438...</td>\n",
              "      <td>empty</td>\n",
              "    </tr>\n",
              "    <tr>\n",
              "      <th>3</th>\n",
              "      <td>\u0413\u043b\u0430\u0432\u043d\u044b\u0439 \u0433\u0435\u0440\u043e\u0439 (2021)</td>\n",
              "      <td>\u041f\u0430\u0440\u0435\u043d\u044c \u0436\u0438\u0432\u0435\u0442 \u0432 \u0438\u0434\u0435\u0430\u043b\u044c\u043d\u043e\u043c \u0434\u043b\u044f \u0441\u0435\u0431\u044f \u043c\u0438\u0440\u0435 \u2014 \u0432 \u043b\u0443\u0447...</td>\n",
              "      <td>empty</td>\n",
              "    </tr>\n",
              "    <tr>\n",
              "      <th>4</th>\n",
              "      <td>\u041c\u0438\u0441\u0442\u0435\u0440 \u0438 \u043c\u0438\u0441\u0441\u0438\u0441 \u0421\u043c\u0438\u0442 (2005)</td>\n",
              "      <td>\u0433\u0435\u0440\u043e\u0439 \u0438 \u0433\u0435\u0440\u043e\u0439, \u0443\u0441\u0442\u0430\u0432\u0448\u0438\u0435 \u043e\u0442 \u043e\u0434\u043d\u043e\u043e\u0431\u0440\u0430\u0437\u0438\u044f \u0431\u0440\u0430\u043a\u0430, ...</td>\n",
              "      <td>empty</td>\n",
              "    </tr>\n",
              "    <tr>\n",
              "      <th>...</th>\n",
              "      <td>...</td>\n",
              "      <td>...</td>\n",
              "      <td>...</td>\n",
              "    </tr>\n",
              "    <tr>\n",
              "      <th>228</th>\n",
              "      <td>\u0411\u0435\u043b\u0430\u044f \u043f\u0442\u0438\u0446\u0430: \u041d\u043e\u0432\u043e\u0435 \u0447\u0443\u0434\u043e (2023)</td>\n",
              "      <td>\u041f\u043e\u0441\u043b\u0435 \u0441\u043e\u0431\u044b\u0442\u0438\u0439 \u00ab\u0427\u0443\u0434\u0430\u00bb \u0433\u0435\u0440\u043e\u0439 \u043d\u0430\u0432\u0441\u0435\u0433\u0434\u0430 \u043f\u043e\u043a\u0438\u043d\u0443\u043b \u0433\u0435...</td>\n",
              "      <td>empty</td>\n",
              "    </tr>\n",
              "    <tr>\n",
              "      <th>229</th>\n",
              "      <td>\u041c\u0430\u043d\u044e\u043d\u044f: \u041f\u0440\u0438\u043a\u043b\u044e\u0447\u0435\u043d\u0438\u044f \u0432 \u041c\u043e\u0441\u043a\u0432\u0435 (2024)</td>\n",
              "      <td>\u0414\u0435\u0432\u043e\u0447\u043a\u0438 \u0432\u043c\u0435\u0441\u0442\u0435 \u0441 \u0433\u0435\u0440\u043e\u0439 \u0435\u0434\u0443\u0442 \u043d\u0430 \u043f\u043e\u0435\u0437\u0434\u0435 \u0432 \u043b\u043e\u043a\u0430\u0446\u0438...</td>\n",
              "      <td>empty</td>\n",
              "    </tr>\n",
              "    <tr>\n",
              "      <th>230</th>\n",
              "      <td>\u041c\u0430\u0434\u0430\u0433\u0430\u0441\u043a\u0430\u0440 (2005)</td>\n",
              "      <td>\u0412 \u0437\u043e\u043e\u043f\u0430\u0440\u043a\u0435 \u043b\u043e\u043a\u0430\u0446\u0438\u044f \u0437\u0435\u0431\u0440\u0430 \u0433\u0435\u0440\u043e\u0439 \u043f\u0440\u0430\u0437\u0434\u043d\u0443\u0435\u0442 \u0434\u0435\u0441\u044f\u0442...</td>\n",
              "      <td>empty</td>\n",
              "    </tr>\n",
              "    <tr>\n",
              "      <th>231</th>\n",
              "      <td>\u0412\u0437\u0430\u043f\u0435\u0440\u0442\u0438 (2020)</td>\n",
              "      <td>\u0416\u0435\u043d\u0449\u0438\u043d\u0430 \u043f\u043e \u0438\u043c\u0435\u043d\u0438 \u0433\u0435\u0440\u043e\u0439 \u043f\u0440\u0435\u0436\u0434\u0435\u0432\u0440\u0435\u043c\u0435\u043d\u043d\u043e \u0440\u043e\u0436\u0430\u0435\u0442 \u0434...</td>\n",
              "      <td>empty</td>\n",
              "    </tr>\n",
              "    <tr>\n",
              "      <th>232</th>\n",
              "      <td>\u0414\u043e\u0431\u0440\u043e \u043f\u043e\u0436\u0430\u043b\u043e\u0432\u0430\u0442\u044c \u0432 Z\u043e\u043c\u0431\u0438\u043b\u044d\u043d\u0434 (2009)</td>\n",
              "      <td>\u041f\u043e\u0441\u043b\u0435 \u0442\u043e\u0433\u043e, \u043a\u0430\u043a \u043b\u043e\u043a\u0430\u0446\u0438\u044f \u043f\u043e\u0434\u0432\u0435\u0440\u0433\u043b\u0430\u0441\u044c \u0437\u043e\u043c\u0431\u0438-\u0430\u043f\u043e\u043a...</td>\n",
              "      <td>empty</td>\n",
              "    </tr>\n",
              "  </tbody>\n",
              "</table>\n",
              "<p>233 rows \u00d7 3 columns</p>\n",
              "</div>"
            ],
            "text/plain": [
              "                                               movie  \\\n",
              "0                            \u0423\u0431\u043e\u0439\u043d\u044b\u0435 \u043a\u0430\u043d\u0438\u043a\u0443\u043b\u044b (2010)   \n",
              "1    \u0422\u0440\u0438 \u0431\u0438\u043b\u0431\u043e\u0440\u0434\u0430 \u043d\u0430 \u0433\u0440\u0430\u043d\u0438\u0446\u0435 \u042d\u0431\u0431\u0438\u043d\u0433\u0430, \u041c\u0438\u0441\u0441\u0443\u0440\u0438 (2017)   \n",
              "2                      \u0413\u043b\u0443\u0431\u043e\u043a\u043e\u0432\u043e\u0434\u043d\u044b\u0439 \u0433\u043e\u0440\u0438\u0437\u043e\u043d\u0442 (2016)   \n",
              "3                               \u0413\u043b\u0430\u0432\u043d\u044b\u0439 \u0433\u0435\u0440\u043e\u0439 (2021)   \n",
              "4                        \u041c\u0438\u0441\u0442\u0435\u0440 \u0438 \u043c\u0438\u0441\u0441\u0438\u0441 \u0421\u043c\u0438\u0442 (2005)   \n",
              "..                                               ...   \n",
              "228                   \u0411\u0435\u043b\u0430\u044f \u043f\u0442\u0438\u0446\u0430: \u041d\u043e\u0432\u043e\u0435 \u0447\u0443\u0434\u043e (2023)   \n",
              "229              \u041c\u0430\u043d\u044e\u043d\u044f: \u041f\u0440\u0438\u043a\u043b\u044e\u0447\u0435\u043d\u0438\u044f \u0432 \u041c\u043e\u0441\u043a\u0432\u0435 (2024)   \n",
              "230                                \u041c\u0430\u0434\u0430\u0433\u0430\u0441\u043a\u0430\u0440 (2005)   \n",
              "231                                  \u0412\u0437\u0430\u043f\u0435\u0440\u0442\u0438 (2020)   \n",
              "232              \u0414\u043e\u0431\u0440\u043e \u043f\u043e\u0436\u0430\u043b\u043e\u0432\u0430\u0442\u044c \u0432 Z\u043e\u043c\u0431\u0438\u043b\u044d\u043d\u0434 (2009)   \n",
              "\n",
              "                                                  text genres  \n",
              "0    \u0414\u0432\u043e\u0435 \u043f\u0440\u043e\u0441\u0442\u044b\u0445 \u0434\u0435\u0440\u0435\u0432\u0435\u043d\u0441\u043a\u0438\u0445 \u043f\u0430\u0440\u043d\u0435\u0439 \u0433\u0435\u0440\u043e\u0439 \u0438 \u043b\u043e\u043a\u0430\u0446\u0438...  empty  \n",
              "1    \u041f\u043e\u0441\u043b\u0435 \u0442\u043e\u0433\u043e \u043a\u0430\u043a \u0443\u0431\u0438\u0439\u0446\u044b \u0435\u0451 \u0434\u043e\u0447\u0435\u0440\u0438 \u043d\u0435 \u0431\u044b\u043b\u0438 \u043d\u0430\u0439\u0434\u0435\u043d...  empty  \n",
              "2    \u0418\u0441\u0442\u043e\u0440\u0438\u044f \u043e \u043a\u0430\u0442\u0430\u0441\u0442\u0440\u043e\u0444\u0435 \u043d\u0430 \u043d\u0435\u0444\u0442\u044f\u043d\u043e\u0439 \u043f\u043b\u0430\u0442\u0444\u043e\u0440\u043c\u0435 \u00ab\u0444\u0438...  empty  \n",
              "3    \u041f\u0430\u0440\u0435\u043d\u044c \u0436\u0438\u0432\u0435\u0442 \u0432 \u0438\u0434\u0435\u0430\u043b\u044c\u043d\u043e\u043c \u0434\u043b\u044f \u0441\u0435\u0431\u044f \u043c\u0438\u0440\u0435 \u2014 \u0432 \u043b\u0443\u0447...  empty  \n",
              "4    \u0433\u0435\u0440\u043e\u0439 \u0438 \u0433\u0435\u0440\u043e\u0439, \u0443\u0441\u0442\u0430\u0432\u0448\u0438\u0435 \u043e\u0442 \u043e\u0434\u043d\u043e\u043e\u0431\u0440\u0430\u0437\u0438\u044f \u0431\u0440\u0430\u043a\u0430, ...  empty  \n",
              "..                                                 ...    ...  \n",
              "228  \u041f\u043e\u0441\u043b\u0435 \u0441\u043e\u0431\u044b\u0442\u0438\u0439 \u00ab\u0427\u0443\u0434\u0430\u00bb \u0433\u0435\u0440\u043e\u0439 \u043d\u0430\u0432\u0441\u0435\u0433\u0434\u0430 \u043f\u043e\u043a\u0438\u043d\u0443\u043b \u0433\u0435...  empty  \n",
              "229  \u0414\u0435\u0432\u043e\u0447\u043a\u0438 \u0432\u043c\u0435\u0441\u0442\u0435 \u0441 \u0433\u0435\u0440\u043e\u0439 \u0435\u0434\u0443\u0442 \u043d\u0430 \u043f\u043e\u0435\u0437\u0434\u0435 \u0432 \u043b\u043e\u043a\u0430\u0446\u0438...  empty  \n",
              "230  \u0412 \u0437\u043e\u043e\u043f\u0430\u0440\u043a\u0435 \u043b\u043e\u043a\u0430\u0446\u0438\u044f \u0437\u0435\u0431\u0440\u0430 \u0433\u0435\u0440\u043e\u0439 \u043f\u0440\u0430\u0437\u0434\u043d\u0443\u0435\u0442 \u0434\u0435\u0441\u044f\u0442...  empty  \n",
              "231  \u0416\u0435\u043d\u0449\u0438\u043d\u0430 \u043f\u043e \u0438\u043c\u0435\u043d\u0438 \u0433\u0435\u0440\u043e\u0439 \u043f\u0440\u0435\u0436\u0434\u0435\u0432\u0440\u0435\u043c\u0435\u043d\u043d\u043e \u0440\u043e\u0436\u0430\u0435\u0442 \u0434...  empty  \n",
              "232  \u041f\u043e\u0441\u043b\u0435 \u0442\u043e\u0433\u043e, \u043a\u0430\u043a \u043b\u043e\u043a\u0430\u0446\u0438\u044f \u043f\u043e\u0434\u0432\u0435\u0440\u0433\u043b\u0430\u0441\u044c \u0437\u043e\u043c\u0431\u0438-\u0430\u043f\u043e\u043a...  empty  \n",
              "\n",
              "[233 rows x 3 columns]"
            ]
          },
          "metadata": {},
          "execution_count": 27
        }
      ],
      "execution_count": null
    },
    {
      "metadata": {},
      "source": [
        "submission = get_chunked_dataframe(submission)\n",
        "submission"
      ],
      "cell_type": "code",
      "outputs": [
        {
          "output_type": "execute_result",
          "data": {
            "text/html": [
              "<div>\n",
              "<style scoped>\n",
              "    .dataframe tbody tr th:only-of-type {\n",
              "        vertical-align: middle;\n",
              "    }\n",
              "\n",
              "    .dataframe tbody tr th {\n",
              "        vertical-align: top;\n",
              "    }\n",
              "\n",
              "    .dataframe thead th {\n",
              "        text-align: right;\n",
              "    }\n",
              "</style>\n",
              "<table border=\"1\" class=\"dataframe\">\n",
              "  <thead>\n",
              "    <tr style=\"text-align: right;\">\n",
              "      <th></th>\n",
              "      <th>movie</th>\n",
              "      <th>text</th>\n",
              "      <th>genres</th>\n",
              "    </tr>\n",
              "  </thead>\n",
              "  <tbody>\n",
              "    <tr>\n",
              "      <th>0</th>\n",
              "      <td>\u0423\u0431\u043e\u0439\u043d\u044b\u0435 \u043a\u0430\u043d\u0438\u043a\u0443\u043b\u044b (2010)</td>\n",
              "      <td>\u0414\u0432\u043e\u0435 \u043f\u0440\u043e\u0441\u0442\u044b\u0445 \u0434\u0435\u0440\u0435\u0432\u0435\u043d\u0441\u043a\u0438\u0445 \u043f\u0430\u0440\u043d\u0435\u0439 \u0433\u0435\u0440\u043e\u0439 \u0438 \u043b\u043e\u043a\u0430\u0446\u0438...</td>\n",
              "      <td>empty</td>\n",
              "    </tr>\n",
              "    <tr>\n",
              "      <th>1</th>\n",
              "      <td>\u0422\u0440\u0438 \u0431\u0438\u043b\u0431\u043e\u0440\u0434\u0430 \u043d\u0430 \u0433\u0440\u0430\u043d\u0438\u0446\u0435 \u042d\u0431\u0431\u0438\u043d\u0433\u0430, \u041c\u0438\u0441\u0441\u0443\u0440\u0438 (2017)</td>\n",
              "      <td>\u041f\u043e\u0441\u043b\u0435 \u0442\u043e\u0433\u043e \u043a\u0430\u043a \u0443\u0431\u0438\u0439\u0446\u044b \u0435\u0451 \u0434\u043e\u0447\u0435\u0440\u0438 \u043d\u0435 \u0431\u044b\u043b\u0438 \u043d\u0430\u0439\u0434\u0435\u043d...</td>\n",
              "      <td>empty</td>\n",
              "    </tr>\n",
              "    <tr>\n",
              "      <th>2</th>\n",
              "      <td>\u0413\u043b\u0443\u0431\u043e\u043a\u043e\u0432\u043e\u0434\u043d\u044b\u0439 \u0433\u043e\u0440\u0438\u0437\u043e\u043d\u0442 (2016)</td>\n",
              "      <td>\u0418\u0441\u0442\u043e\u0440\u0438\u044f \u043e \u043a\u0430\u0442\u0430\u0441\u0442\u0440\u043e\u0444\u0435 \u043d\u0430 \u043d\u0435\u0444\u0442\u044f\u043d\u043e\u0439 \u043f\u043b\u0430\u0442\u0444\u043e\u0440\u043c\u0435 \u00ab\u0444\u0438...</td>\n",
              "      <td>empty</td>\n",
              "    </tr>\n",
              "    <tr>\n",
              "      <th>3</th>\n",
              "      <td>\u0413\u043b\u0430\u0432\u043d\u044b\u0439 \u0433\u0435\u0440\u043e\u0439 (2021)</td>\n",
              "      <td>\u041f\u0430\u0440\u0435\u043d\u044c \u0436\u0438\u0432\u0435\u0442 \u0432 \u0438\u0434\u0435\u0430\u043b\u044c\u043d\u043e\u043c \u0434\u043b\u044f \u0441\u0435\u0431\u044f \u043c\u0438\u0440\u0435 \u2014 \u0432 \u043b\u0443\u0447...</td>\n",
              "      <td>empty</td>\n",
              "    </tr>\n",
              "    <tr>\n",
              "      <th>4</th>\n",
              "      <td>\u041c\u0438\u0441\u0442\u0435\u0440 \u0438 \u043c\u0438\u0441\u0441\u0438\u0441 \u0421\u043c\u0438\u0442 (2005)</td>\n",
              "      <td>\u0433\u0435\u0440\u043e\u0439 \u0438 \u0433\u0435\u0440\u043e\u0439, \u0443\u0441\u0442\u0430\u0432\u0448\u0438\u0435 \u043e\u0442 \u043e\u0434\u043d\u043e\u043e\u0431\u0440\u0430\u0437\u0438\u044f \u0431\u0440\u0430\u043a\u0430, ...</td>\n",
              "      <td>empty</td>\n",
              "    </tr>\n",
              "    <tr>\n",
              "      <th>...</th>\n",
              "      <td>...</td>\n",
              "      <td>...</td>\n",
              "      <td>...</td>\n",
              "    </tr>\n",
              "    <tr>\n",
              "      <th>624</th>\n",
              "      <td>\u0412\u0437\u0430\u043f\u0435\u0440\u0442\u0438 (2020)</td>\n",
              "      <td>\u041f\u043e\u043d\u0438\u043c\u0430\u044f, \u0447\u0442\u043e \u0433\u0435\u0440\u043e\u0439 \u043d\u0435 \u0434\u0430\u0441\u0442 \u0435\u0439 \u0443\u043c\u0435\u0440\u0435\u0442\u044c, \u0433\u0435\u0440\u043e\u0439 \u043f...</td>\n",
              "      <td>empty</td>\n",
              "    </tr>\n",
              "    <tr>\n",
              "      <th>625</th>\n",
              "      <td>\u0412\u0437\u0430\u043f\u0435\u0440\u0442\u0438 (2020)</td>\n",
              "      <td>\u0412 \u043f\u0430\u043b\u0430\u0442\u0435 \u0433\u0435\u0440\u043e\u0439 \u0440\u0430\u0441\u0441\u043a\u0430\u0437\u044b\u0432\u0430\u0435\u0442 \u043a\u043e\u043c\u0443-\u0442\u043e \u043e \u0441\u0432\u043e\u0451\u043c \u043c\u0443...</td>\n",
              "      <td>empty</td>\n",
              "    </tr>\n",
              "    <tr>\n",
              "      <th>626</th>\n",
              "      <td>\u0414\u043e\u0431\u0440\u043e \u043f\u043e\u0436\u0430\u043b\u043e\u0432\u0430\u0442\u044c \u0432 Z\u043e\u043c\u0431\u0438\u043b\u044d\u043d\u0434 (2009)</td>\n",
              "      <td>\u041f\u043e\u0441\u043b\u0435 \u0442\u043e\u0433\u043e, \u043a\u0430\u043a \u043b\u043e\u043a\u0430\u0446\u0438\u044f \u043f\u043e\u0434\u0432\u0435\u0440\u0433\u043b\u0430\u0441\u044c \u0437\u043e\u043c\u0431\u0438-\u0430\u043f\u043e\u043a...</td>\n",
              "      <td>empty</td>\n",
              "    </tr>\n",
              "    <tr>\n",
              "      <th>627</th>\n",
              "      <td>\u0414\u043e\u0431\u0440\u043e \u043f\u043e\u0436\u0430\u043b\u043e\u0432\u0430\u0442\u044c \u0432 Z\u043e\u043c\u0431\u0438\u043b\u044d\u043d\u0434 (2009)</td>\n",
              "      <td>\u0414\u0435\u0432\u0443\u0448\u043a\u0438 \u043e\u0431\u043c\u0430\u043d\u043e\u043c \u0437\u0430\u0431\u0438\u0440\u0430\u044e\u0442 \u0443 \u043d\u0438\u0445 \u0430\u0432\u0442\u043e\u043c\u043e\u0431\u0438\u043b\u044c, \u0447\u0442\u043e...</td>\n",
              "      <td>empty</td>\n",
              "    </tr>\n",
              "    <tr>\n",
              "      <th>628</th>\n",
              "      <td>\u0414\u043e\u0431\u0440\u043e \u043f\u043e\u0436\u0430\u043b\u043e\u0432\u0430\u0442\u044c \u0432 Z\u043e\u043c\u0431\u0438\u043b\u044d\u043d\u0434 (2009)</td>\n",
              "      <td>\u0433\u0435\u0440\u043e\u0439 \u0441\u043d\u0430\u0447\u0430\u043b\u0430 \u043d\u0435 \u0445\u043e\u0447\u0435\u0442 \u0435\u043c\u0443 \u043f\u043e\u043c\u043e\u0433\u0430\u0442\u044c, \u043d\u043e, \u0432\u0438\u0434\u044f ...</td>\n",
              "      <td>empty</td>\n",
              "    </tr>\n",
              "  </tbody>\n",
              "</table>\n",
              "<p>629 rows \u00d7 3 columns</p>\n",
              "</div>"
            ],
            "text/plain": [
              "                                               movie  \\\n",
              "0                            \u0423\u0431\u043e\u0439\u043d\u044b\u0435 \u043a\u0430\u043d\u0438\u043a\u0443\u043b\u044b (2010)   \n",
              "1    \u0422\u0440\u0438 \u0431\u0438\u043b\u0431\u043e\u0440\u0434\u0430 \u043d\u0430 \u0433\u0440\u0430\u043d\u0438\u0446\u0435 \u042d\u0431\u0431\u0438\u043d\u0433\u0430, \u041c\u0438\u0441\u0441\u0443\u0440\u0438 (2017)   \n",
              "2                      \u0413\u043b\u0443\u0431\u043e\u043a\u043e\u0432\u043e\u0434\u043d\u044b\u0439 \u0433\u043e\u0440\u0438\u0437\u043e\u043d\u0442 (2016)   \n",
              "3                               \u0413\u043b\u0430\u0432\u043d\u044b\u0439 \u0433\u0435\u0440\u043e\u0439 (2021)   \n",
              "4                        \u041c\u0438\u0441\u0442\u0435\u0440 \u0438 \u043c\u0438\u0441\u0441\u0438\u0441 \u0421\u043c\u0438\u0442 (2005)   \n",
              "..                                               ...   \n",
              "624                                  \u0412\u0437\u0430\u043f\u0435\u0440\u0442\u0438 (2020)   \n",
              "625                                  \u0412\u0437\u0430\u043f\u0435\u0440\u0442\u0438 (2020)   \n",
              "626              \u0414\u043e\u0431\u0440\u043e \u043f\u043e\u0436\u0430\u043b\u043e\u0432\u0430\u0442\u044c \u0432 Z\u043e\u043c\u0431\u0438\u043b\u044d\u043d\u0434 (2009)   \n",
              "627              \u0414\u043e\u0431\u0440\u043e \u043f\u043e\u0436\u0430\u043b\u043e\u0432\u0430\u0442\u044c \u0432 Z\u043e\u043c\u0431\u0438\u043b\u044d\u043d\u0434 (2009)   \n",
              "628              \u0414\u043e\u0431\u0440\u043e \u043f\u043e\u0436\u0430\u043b\u043e\u0432\u0430\u0442\u044c \u0432 Z\u043e\u043c\u0431\u0438\u043b\u044d\u043d\u0434 (2009)   \n",
              "\n",
              "                                                  text genres  \n",
              "0    \u0414\u0432\u043e\u0435 \u043f\u0440\u043e\u0441\u0442\u044b\u0445 \u0434\u0435\u0440\u0435\u0432\u0435\u043d\u0441\u043a\u0438\u0445 \u043f\u0430\u0440\u043d\u0435\u0439 \u0433\u0435\u0440\u043e\u0439 \u0438 \u043b\u043e\u043a\u0430\u0446\u0438...  empty  \n",
              "1    \u041f\u043e\u0441\u043b\u0435 \u0442\u043e\u0433\u043e \u043a\u0430\u043a \u0443\u0431\u0438\u0439\u0446\u044b \u0435\u0451 \u0434\u043e\u0447\u0435\u0440\u0438 \u043d\u0435 \u0431\u044b\u043b\u0438 \u043d\u0430\u0439\u0434\u0435\u043d...  empty  \n",
              "2    \u0418\u0441\u0442\u043e\u0440\u0438\u044f \u043e \u043a\u0430\u0442\u0430\u0441\u0442\u0440\u043e\u0444\u0435 \u043d\u0430 \u043d\u0435\u0444\u0442\u044f\u043d\u043e\u0439 \u043f\u043b\u0430\u0442\u0444\u043e\u0440\u043c\u0435 \u00ab\u0444\u0438...  empty  \n",
              "3    \u041f\u0430\u0440\u0435\u043d\u044c \u0436\u0438\u0432\u0435\u0442 \u0432 \u0438\u0434\u0435\u0430\u043b\u044c\u043d\u043e\u043c \u0434\u043b\u044f \u0441\u0435\u0431\u044f \u043c\u0438\u0440\u0435 \u2014 \u0432 \u043b\u0443\u0447...  empty  \n",
              "4    \u0433\u0435\u0440\u043e\u0439 \u0438 \u0433\u0435\u0440\u043e\u0439, \u0443\u0441\u0442\u0430\u0432\u0448\u0438\u0435 \u043e\u0442 \u043e\u0434\u043d\u043e\u043e\u0431\u0440\u0430\u0437\u0438\u044f \u0431\u0440\u0430\u043a\u0430, ...  empty  \n",
              "..                                                 ...    ...  \n",
              "624  \u041f\u043e\u043d\u0438\u043c\u0430\u044f, \u0447\u0442\u043e \u0433\u0435\u0440\u043e\u0439 \u043d\u0435 \u0434\u0430\u0441\u0442 \u0435\u0439 \u0443\u043c\u0435\u0440\u0435\u0442\u044c, \u0433\u0435\u0440\u043e\u0439 \u043f...  empty  \n",
              "625  \u0412 \u043f\u0430\u043b\u0430\u0442\u0435 \u0433\u0435\u0440\u043e\u0439 \u0440\u0430\u0441\u0441\u043a\u0430\u0437\u044b\u0432\u0430\u0435\u0442 \u043a\u043e\u043c\u0443-\u0442\u043e \u043e \u0441\u0432\u043e\u0451\u043c \u043c\u0443...  empty  \n",
              "626  \u041f\u043e\u0441\u043b\u0435 \u0442\u043e\u0433\u043e, \u043a\u0430\u043a \u043b\u043e\u043a\u0430\u0446\u0438\u044f \u043f\u043e\u0434\u0432\u0435\u0440\u0433\u043b\u0430\u0441\u044c \u0437\u043e\u043c\u0431\u0438-\u0430\u043f\u043e\u043a...  empty  \n",
              "627  \u0414\u0435\u0432\u0443\u0448\u043a\u0438 \u043e\u0431\u043c\u0430\u043d\u043e\u043c \u0437\u0430\u0431\u0438\u0440\u0430\u044e\u0442 \u0443 \u043d\u0438\u0445 \u0430\u0432\u0442\u043e\u043c\u043e\u0431\u0438\u043b\u044c, \u0447\u0442\u043e...  empty  \n",
              "628  \u0433\u0435\u0440\u043e\u0439 \u0441\u043d\u0430\u0447\u0430\u043b\u0430 \u043d\u0435 \u0445\u043e\u0447\u0435\u0442 \u0435\u043c\u0443 \u043f\u043e\u043c\u043e\u0433\u0430\u0442\u044c, \u043d\u043e, \u0432\u0438\u0434\u044f ...  empty  \n",
              "\n",
              "[629 rows x 3 columns]"
            ]
          },
          "metadata": {},
          "execution_count": 28
        },
        {
          "output_type": "display_data",
          "data": {
            "image/png": "[encoded data removed]",
            "text/plain": [
              "<Figure size 640x480 with 1 Axes>"
            ]
          },
          "metadata": {}
        }
      ],
      "execution_count": null
    },
    {
      "metadata": {},
      "source": [
        "dataset = Dataset.from_pandas(submission[[\"text\"]])\n",
        "dataset = dataset.map(\n",
        "    lambda x: tokenizer(x[\"text\"], truncation=True, max_length=max_length),\n",
        "    batched=True,\n",
        "    remove_columns=[\"text\"],\n",
        ")\n",
        "test_dataloader = DataLoader(\n",
        "    dataset,\n",
        "    batch_size=batch_size,\n",
        "    shuffle=False,\n",
        "    num_workers=num_workers,\n",
        "    collate_fn=data_collator,\n",
        "    pin_memory=pin_memory,\n",
        "    drop_last=drop_last,\n",
        ")\n",
        "\n",
        "\n",
        "def test(model, dataloader):\n",
        "    with torch.inference_mode():\n",
        "        y_pred = []\n",
        "\n",
        "        for batch in tqdm(dataloader):\n",
        "            batch = batch.to(model.device)\n",
        "            output = model(**batch)\n",
        "\n",
        "            y_pred.append(output.logits.cpu())\n",
        "\n",
        "    return torch.sigmoid(torch.cat(y_pred)).numpy()\n",
        "\n",
        "\n",
        "prediction = test(model, test_dataloader)"
      ],
      "cell_type": "code",
      "outputs": [
        {
          "output_type": "display_data",
          "data": {
            "application/vnd.jupyter.widget-view+json": {
              "model_id": "58a13591219a41e38944a19475782bb3",
              "version_major": 2,
              "version_minor": 0
            },
            "text/plain": [
              "Map:   0%|          | 0/629 [00:00<?, ? examples/s]"
            ]
          },
          "metadata": {}
        },
        {
          "output_type": "display_data",
          "data": {
            "application/vnd.jupyter.widget-view+json": {
              "model_id": "4c094f276df54f82800bb95e081c444e",
              "version_major": 2,
              "version_minor": 0
            },
            "text/plain": [
              "  0%|          | 0/315 [00:00<?, ?it/s]"
            ]
          },
          "metadata": {}
        }
      ],
      "execution_count": null
    },
    {
      "metadata": {},
      "source": [
        "submission[\"genres\"] = prediction.tolist()\n",
        "submission"
      ],
      "cell_type": "code",
      "outputs": [
        {
          "output_type": "execute_result",
          "data": {
            "text/html": [
              "<div>\n",
              "<style scoped>\n",
              "    .dataframe tbody tr th:only-of-type {\n",
              "        vertical-align: middle;\n",
              "    }\n",
              "\n",
              "    .dataframe tbody tr th {\n",
              "        vertical-align: top;\n",
              "    }\n",
              "\n",
              "    .dataframe thead th {\n",
              "        text-align: right;\n",
              "    }\n",
              "</style>\n",
              "<table border=\"1\" class=\"dataframe\">\n",
              "  <thead>\n",
              "    <tr style=\"text-align: right;\">\n",
              "      <th></th>\n",
              "      <th>movie</th>\n",
              "      <th>text</th>\n",
              "      <th>genres</th>\n",
              "    </tr>\n",
              "  </thead>\n",
              "  <tbody>\n",
              "    <tr>\n",
              "      <th>0</th>\n",
              "      <td>\u0423\u0431\u043e\u0439\u043d\u044b\u0435 \u043a\u0430\u043d\u0438\u043a\u0443\u043b\u044b (2010)</td>\n",
              "      <td>\u0414\u0432\u043e\u0435 \u043f\u0440\u043e\u0441\u0442\u044b\u0445 \u0434\u0435\u0440\u0435\u0432\u0435\u043d\u0441\u043a\u0438\u0445 \u043f\u0430\u0440\u043d\u0435\u0439 \u0433\u0435\u0440\u043e\u0439 \u0438 \u043b\u043e\u043a\u0430\u0446\u0438...</td>\n",
              "      <td>[0.04949697479605675, 0.020137710496783257, 0....</td>\n",
              "    </tr>\n",
              "    <tr>\n",
              "      <th>1</th>\n",
              "      <td>\u0422\u0440\u0438 \u0431\u0438\u043b\u0431\u043e\u0440\u0434\u0430 \u043d\u0430 \u0433\u0440\u0430\u043d\u0438\u0446\u0435 \u042d\u0431\u0431\u0438\u043d\u0433\u0430, \u041c\u0438\u0441\u0441\u0443\u0440\u0438 (2017)</td>\n",
              "      <td>\u041f\u043e\u0441\u043b\u0435 \u0442\u043e\u0433\u043e \u043a\u0430\u043a \u0443\u0431\u0438\u0439\u0446\u044b \u0435\u0451 \u0434\u043e\u0447\u0435\u0440\u0438 \u043d\u0435 \u0431\u044b\u043b\u0438 \u043d\u0430\u0439\u0434\u0435\u043d...</td>\n",
              "      <td>[0.17003187537193298, 0.3718854784965515, 0.92...</td>\n",
              "    </tr>\n",
              "    <tr>\n",
              "      <th>2</th>\n",
              "      <td>\u0413\u043b\u0443\u0431\u043e\u043a\u043e\u0432\u043e\u0434\u043d\u044b\u0439 \u0433\u043e\u0440\u0438\u0437\u043e\u043d\u0442 (2016)</td>\n",
              "      <td>\u0418\u0441\u0442\u043e\u0440\u0438\u044f \u043e \u043a\u0430\u0442\u0430\u0441\u0442\u0440\u043e\u0444\u0435 \u043d\u0430 \u043d\u0435\u0444\u0442\u044f\u043d\u043e\u0439 \u043f\u043b\u0430\u0442\u0444\u043e\u0440\u043c\u0435 \u00ab\u0444\u0438...</td>\n",
              "      <td>[0.18724659085273743, 0.13813519477844238, 0.8...</td>\n",
              "    </tr>\n",
              "    <tr>\n",
              "      <th>3</th>\n",
              "      <td>\u0413\u043b\u0430\u0432\u043d\u044b\u0439 \u0433\u0435\u0440\u043e\u0439 (2021)</td>\n",
              "      <td>\u041f\u0430\u0440\u0435\u043d\u044c \u0436\u0438\u0432\u0435\u0442 \u0432 \u0438\u0434\u0435\u0430\u043b\u044c\u043d\u043e\u043c \u0434\u043b\u044f \u0441\u0435\u0431\u044f \u043c\u0438\u0440\u0435 \u2014 \u0432 \u043b\u0443\u0447...</td>\n",
              "      <td>[0.6282039880752563, 0.05028577521443367, 0.11...</td>\n",
              "    </tr>\n",
              "    <tr>\n",
              "      <th>4</th>\n",
              "      <td>\u041c\u0438\u0441\u0442\u0435\u0440 \u0438 \u043c\u0438\u0441\u0441\u0438\u0441 \u0421\u043c\u0438\u0442 (2005)</td>\n",
              "      <td>\u0433\u0435\u0440\u043e\u0439 \u0438 \u0433\u0435\u0440\u043e\u0439, \u0443\u0441\u0442\u0430\u0432\u0448\u0438\u0435 \u043e\u0442 \u043e\u0434\u043d\u043e\u043e\u0431\u0440\u0430\u0437\u0438\u044f \u0431\u0440\u0430\u043a\u0430, ...</td>\n",
              "      <td>[0.18474183976650238, 0.045453477650880814, 0....</td>\n",
              "    </tr>\n",
              "    <tr>\n",
              "      <th>...</th>\n",
              "      <td>...</td>\n",
              "      <td>...</td>\n",
              "      <td>...</td>\n",
              "    </tr>\n",
              "    <tr>\n",
              "      <th>624</th>\n",
              "      <td>\u0412\u0437\u0430\u043f\u0435\u0440\u0442\u0438 (2020)</td>\n",
              "      <td>\u041f\u043e\u043d\u0438\u043c\u0430\u044f, \u0447\u0442\u043e \u0433\u0435\u0440\u043e\u0439 \u043d\u0435 \u0434\u0430\u0441\u0442 \u0435\u0439 \u0443\u043c\u0435\u0440\u0435\u0442\u044c, \u0433\u0435\u0440\u043e\u0439 \u043f...</td>\n",
              "      <td>[0.05596473067998886, 0.26611554622650146, 0.7...</td>\n",
              "    </tr>\n",
              "    <tr>\n",
              "      <th>625</th>\n",
              "      <td>\u0412\u0437\u0430\u043f\u0435\u0440\u0442\u0438 (2020)</td>\n",
              "      <td>\u0412 \u043f\u0430\u043b\u0430\u0442\u0435 \u0433\u0435\u0440\u043e\u0439 \u0440\u0430\u0441\u0441\u043a\u0430\u0437\u044b\u0432\u0430\u0435\u0442 \u043a\u043e\u043c\u0443-\u0442\u043e \u043e \u0441\u0432\u043e\u0451\u043c \u043c\u0443...</td>\n",
              "      <td>[0.043554022908210754, 0.4377816915512085, 0.9...</td>\n",
              "    </tr>\n",
              "    <tr>\n",
              "      <th>626</th>\n",
              "      <td>\u0414\u043e\u0431\u0440\u043e \u043f\u043e\u0436\u0430\u043b\u043e\u0432\u0430\u0442\u044c \u0432 Z\u043e\u043c\u0431\u0438\u043b\u044d\u043d\u0434 (2009)</td>\n",
              "      <td>\u041f\u043e\u0441\u043b\u0435 \u0442\u043e\u0433\u043e, \u043a\u0430\u043a \u043b\u043e\u043a\u0430\u0446\u0438\u044f \u043f\u043e\u0434\u0432\u0435\u0440\u0433\u043b\u0430\u0441\u044c \u0437\u043e\u043c\u0431\u0438-\u0430\u043f\u043e\u043a...</td>\n",
              "      <td>[0.9531940221786499, 0.034512344747781754, 0.1...</td>\n",
              "    </tr>\n",
              "    <tr>\n",
              "      <th>627</th>\n",
              "      <td>\u0414\u043e\u0431\u0440\u043e \u043f\u043e\u0436\u0430\u043b\u043e\u0432\u0430\u0442\u044c \u0432 Z\u043e\u043c\u0431\u0438\u043b\u044d\u043d\u0434 (2009)</td>\n",
              "      <td>\u0414\u0435\u0432\u0443\u0448\u043a\u0438 \u043e\u0431\u043c\u0430\u043d\u043e\u043c \u0437\u0430\u0431\u0438\u0440\u0430\u044e\u0442 \u0443 \u043d\u0438\u0445 \u0430\u0432\u0442\u043e\u043c\u043e\u0431\u0438\u043b\u044c, \u0447\u0442\u043e...</td>\n",
              "      <td>[0.3454977571964264, 0.027785954996943474, 0.0...</td>\n",
              "    </tr>\n",
              "    <tr>\n",
              "      <th>628</th>\n",
              "      <td>\u0414\u043e\u0431\u0440\u043e \u043f\u043e\u0436\u0430\u043b\u043e\u0432\u0430\u0442\u044c \u0432 Z\u043e\u043c\u0431\u0438\u043b\u044d\u043d\u0434 (2009)</td>\n",
              "      <td>\u0433\u0435\u0440\u043e\u0439 \u0441\u043d\u0430\u0447\u0430\u043b\u0430 \u043d\u0435 \u0445\u043e\u0447\u0435\u0442 \u0435\u043c\u0443 \u043f\u043e\u043c\u043e\u0433\u0430\u0442\u044c, \u043d\u043e, \u0432\u0438\u0434\u044f ...</td>\n",
              "      <td>[0.43582436442375183, 0.09249266982078552, 0.0...</td>\n",
              "    </tr>\n",
              "  </tbody>\n",
              "</table>\n",
              "<p>629 rows \u00d7 3 columns</p>\n",
              "</div>"
            ],
            "text/plain": [
              "                                               movie  \\\n",
              "0                            \u0423\u0431\u043e\u0439\u043d\u044b\u0435 \u043a\u0430\u043d\u0438\u043a\u0443\u043b\u044b (2010)   \n",
              "1    \u0422\u0440\u0438 \u0431\u0438\u043b\u0431\u043e\u0440\u0434\u0430 \u043d\u0430 \u0433\u0440\u0430\u043d\u0438\u0446\u0435 \u042d\u0431\u0431\u0438\u043d\u0433\u0430, \u041c\u0438\u0441\u0441\u0443\u0440\u0438 (2017)   \n",
              "2                      \u0413\u043b\u0443\u0431\u043e\u043a\u043e\u0432\u043e\u0434\u043d\u044b\u0439 \u0433\u043e\u0440\u0438\u0437\u043e\u043d\u0442 (2016)   \n",
              "3                               \u0413\u043b\u0430\u0432\u043d\u044b\u0439 \u0433\u0435\u0440\u043e\u0439 (2021)   \n",
              "4                        \u041c\u0438\u0441\u0442\u0435\u0440 \u0438 \u043c\u0438\u0441\u0441\u0438\u0441 \u0421\u043c\u0438\u0442 (2005)   \n",
              "..                                               ...   \n",
              "624                                  \u0412\u0437\u0430\u043f\u0435\u0440\u0442\u0438 (2020)   \n",
              "625                                  \u0412\u0437\u0430\u043f\u0435\u0440\u0442\u0438 (2020)   \n",
              "626              \u0414\u043e\u0431\u0440\u043e \u043f\u043e\u0436\u0430\u043b\u043e\u0432\u0430\u0442\u044c \u0432 Z\u043e\u043c\u0431\u0438\u043b\u044d\u043d\u0434 (2009)   \n",
              "627              \u0414\u043e\u0431\u0440\u043e \u043f\u043e\u0436\u0430\u043b\u043e\u0432\u0430\u0442\u044c \u0432 Z\u043e\u043c\u0431\u0438\u043b\u044d\u043d\u0434 (2009)   \n",
              "628              \u0414\u043e\u0431\u0440\u043e \u043f\u043e\u0436\u0430\u043b\u043e\u0432\u0430\u0442\u044c \u0432 Z\u043e\u043c\u0431\u0438\u043b\u044d\u043d\u0434 (2009)   \n",
              "\n",
              "                                                  text  \\\n",
              "0    \u0414\u0432\u043e\u0435 \u043f\u0440\u043e\u0441\u0442\u044b\u0445 \u0434\u0435\u0440\u0435\u0432\u0435\u043d\u0441\u043a\u0438\u0445 \u043f\u0430\u0440\u043d\u0435\u0439 \u0433\u0435\u0440\u043e\u0439 \u0438 \u043b\u043e\u043a\u0430\u0446\u0438...   \n",
              "1    \u041f\u043e\u0441\u043b\u0435 \u0442\u043e\u0433\u043e \u043a\u0430\u043a \u0443\u0431\u0438\u0439\u0446\u044b \u0435\u0451 \u0434\u043e\u0447\u0435\u0440\u0438 \u043d\u0435 \u0431\u044b\u043b\u0438 \u043d\u0430\u0439\u0434\u0435\u043d...   \n",
              "2    \u0418\u0441\u0442\u043e\u0440\u0438\u044f \u043e \u043a\u0430\u0442\u0430\u0441\u0442\u0440\u043e\u0444\u0435 \u043d\u0430 \u043d\u0435\u0444\u0442\u044f\u043d\u043e\u0439 \u043f\u043b\u0430\u0442\u0444\u043e\u0440\u043c\u0435 \u00ab\u0444\u0438...   \n",
              "3    \u041f\u0430\u0440\u0435\u043d\u044c \u0436\u0438\u0432\u0435\u0442 \u0432 \u0438\u0434\u0435\u0430\u043b\u044c\u043d\u043e\u043c \u0434\u043b\u044f \u0441\u0435\u0431\u044f \u043c\u0438\u0440\u0435 \u2014 \u0432 \u043b\u0443\u0447...   \n",
              "4    \u0433\u0435\u0440\u043e\u0439 \u0438 \u0433\u0435\u0440\u043e\u0439, \u0443\u0441\u0442\u0430\u0432\u0448\u0438\u0435 \u043e\u0442 \u043e\u0434\u043d\u043e\u043e\u0431\u0440\u0430\u0437\u0438\u044f \u0431\u0440\u0430\u043a\u0430, ...   \n",
              "..                                                 ...   \n",
              "624  \u041f\u043e\u043d\u0438\u043c\u0430\u044f, \u0447\u0442\u043e \u0433\u0435\u0440\u043e\u0439 \u043d\u0435 \u0434\u0430\u0441\u0442 \u0435\u0439 \u0443\u043c\u0435\u0440\u0435\u0442\u044c, \u0433\u0435\u0440\u043e\u0439 \u043f...   \n",
              "625  \u0412 \u043f\u0430\u043b\u0430\u0442\u0435 \u0433\u0435\u0440\u043e\u0439 \u0440\u0430\u0441\u0441\u043a\u0430\u0437\u044b\u0432\u0430\u0435\u0442 \u043a\u043e\u043c\u0443-\u0442\u043e \u043e \u0441\u0432\u043e\u0451\u043c \u043c\u0443...   \n",
              "626  \u041f\u043e\u0441\u043b\u0435 \u0442\u043e\u0433\u043e, \u043a\u0430\u043a \u043b\u043e\u043a\u0430\u0446\u0438\u044f \u043f\u043e\u0434\u0432\u0435\u0440\u0433\u043b\u0430\u0441\u044c \u0437\u043e\u043c\u0431\u0438-\u0430\u043f\u043e\u043a...   \n",
              "627  \u0414\u0435\u0432\u0443\u0448\u043a\u0438 \u043e\u0431\u043c\u0430\u043d\u043e\u043c \u0437\u0430\u0431\u0438\u0440\u0430\u044e\u0442 \u0443 \u043d\u0438\u0445 \u0430\u0432\u0442\u043e\u043c\u043e\u0431\u0438\u043b\u044c, \u0447\u0442\u043e...   \n",
              "628  \u0433\u0435\u0440\u043e\u0439 \u0441\u043d\u0430\u0447\u0430\u043b\u0430 \u043d\u0435 \u0445\u043e\u0447\u0435\u0442 \u0435\u043c\u0443 \u043f\u043e\u043c\u043e\u0433\u0430\u0442\u044c, \u043d\u043e, \u0432\u0438\u0434\u044f ...   \n",
              "\n",
              "                                                genres  \n",
              "0    [0.04949697479605675, 0.020137710496783257, 0....  \n",
              "1    [0.17003187537193298, 0.3718854784965515, 0.92...  \n",
              "2    [0.18724659085273743, 0.13813519477844238, 0.8...  \n",
              "3    [0.6282039880752563, 0.05028577521443367, 0.11...  \n",
              "4    [0.18474183976650238, 0.045453477650880814, 0....  \n",
              "..                                                 ...  \n",
              "624  [0.05596473067998886, 0.26611554622650146, 0.7...  \n",
              "625  [0.043554022908210754, 0.4377816915512085, 0.9...  \n",
              "626  [0.9531940221786499, 0.034512344747781754, 0.1...  \n",
              "627  [0.3454977571964264, 0.027785954996943474, 0.0...  \n",
              "628  [0.43582436442375183, 0.09249266982078552, 0.0...  \n",
              "\n",
              "[629 rows x 3 columns]"
            ]
          },
          "metadata": {},
          "execution_count": 30
        }
      ],
      "execution_count": null
    },
    {
      "metadata": {},
      "source": [
        "submission = (\n",
        "    submission.groupby(\"movie\")[\"genres\"]\n",
        "    .agg(lambda x: [sum(i) / len(i) for i in zip(*x)])\n",
        "    .reset_index()\n",
        ")\n",
        "\n",
        "# submission = (\n",
        "#     submission.groupby(\"movie\")\n",
        "#     .agg({\"genres\": \"first\"})\n",
        "#     .reset_index()\n",
        "# )\n",
        "\n",
        "\n",
        "# submission[\"text_length\"] = submission[\"text\"].apply(len)\n",
        "\n",
        "# # Now, calculate the weighted sum of the genres probabilities\n",
        "# def weighted_sum(genres, weights):\n",
        "#     # Normalize weights\n",
        "#     normalized_weights = [w / sum(weights) for w in weights]\n",
        "#     # Compute the weighted sum of each genre probability\n",
        "#     return [sum(g * w for g, w in zip(genre_probs, normalized_weights)) for genre_probs in zip(*genres)]\n",
        "\n",
        "# # Apply the new aggregation with weights\n",
        "# submission = (\n",
        "#     submission.groupby(\"movie\").apply(lambda group: pd.Series({\n",
        "#         \"genres\": weighted_sum(group[\"genres\"], group[\"text_length\"])\n",
        "#     })).reset_index()\n",
        "# )\n",
        "\n",
        "\n",
        "submission.columns = [\"\u0424\u0438\u043b\u044c\u043c\", \"\u0416\u0430\u043d\u0440\u044b\"]\n",
        "submission"
      ],
      "cell_type": "code",
      "outputs": [
        {
          "output_type": "execute_result",
          "data": {
            "text/html": [
              "<div>\n",
              "<style scoped>\n",
              "    .dataframe tbody tr th:only-of-type {\n",
              "        vertical-align: middle;\n",
              "    }\n",
              "\n",
              "    .dataframe tbody tr th {\n",
              "        vertical-align: top;\n",
              "    }\n",
              "\n",
              "    .dataframe thead th {\n",
              "        text-align: right;\n",
              "    }\n",
              "</style>\n",
              "<table border=\"1\" class=\"dataframe\">\n",
              "  <thead>\n",
              "    <tr style=\"text-align: right;\">\n",
              "      <th></th>\n",
              "      <th>\u0424\u0438\u043b\u044c\u043c</th>\n",
              "      <th>\u0416\u0430\u043d\u0440\u044b</th>\n",
              "    </tr>\n",
              "  </thead>\n",
              "  <tbody>\n",
              "    <tr>\n",
              "      <th>0</th>\n",
              "      <td>127 \u0447\u0430\u0441\u043e\u0432 (2010)</td>\n",
              "      <td>[0.3345620557665825, 0.11165895313024521, 0.74...</td>\n",
              "    </tr>\n",
              "    <tr>\n",
              "      <th>1</th>\n",
              "      <td>1408 (2007)</td>\n",
              "      <td>[0.06009996775537729, 0.21581990271806717, 0.2...</td>\n",
              "    </tr>\n",
              "    <tr>\n",
              "      <th>2</th>\n",
              "      <td>365 \u0434\u043d\u0435\u0439 (2020)</td>\n",
              "      <td>[0.6580522954463959, 0.033706676214933395, 0.0...</td>\n",
              "    </tr>\n",
              "    <tr>\n",
              "      <th>3</th>\n",
              "      <td>500 \u0434\u043d\u0435\u0439 \u043b\u0435\u0442\u0430 (2009)</td>\n",
              "      <td>[0.04459287412464619, 0.030639370903372765, 0....</td>\n",
              "    </tr>\n",
              "    <tr>\n",
              "      <th>4</th>\n",
              "      <td>57 \u0441\u0435\u043a\u0443\u043d\u0434 (2023)</td>\n",
              "      <td>[0.7215941548347473, 0.2002185583114624, 0.034...</td>\n",
              "    </tr>\n",
              "    <tr>\n",
              "      <th>...</th>\n",
              "      <td>...</td>\n",
              "      <td>...</td>\n",
              "    </tr>\n",
              "    <tr>\n",
              "      <th>117</th>\n",
              "      <td>\u0428\u0435\u0441\u0442\u043e\u0435 \u0447\u0443\u0432\u0441\u0442\u0432\u043e (1999)</td>\n",
              "      <td>[0.11909177961448829, 0.4633779115974903, 0.50...</td>\n",
              "    </tr>\n",
              "    <tr>\n",
              "      <th>118</th>\n",
              "      <td>\u0428\u0440\u044d\u043a (2001)</td>\n",
              "      <td>[0.11149512231349945, 0.046524977311491966, 0....</td>\n",
              "    </tr>\n",
              "    <tr>\n",
              "      <th>119</th>\n",
              "      <td>\u042d\u0431\u0438\u0433\u0435\u0439\u043b (2024)</td>\n",
              "      <td>[0.9785304665565491, 0.06800107657909393, 0.06...</td>\n",
              "    </tr>\n",
              "    <tr>\n",
              "      <th>120</th>\n",
              "      <td>\u042d\u043a\u0432\u0438\u043b\u0438\u0431\u0440\u0438\u0443\u043c (2002)</td>\n",
              "      <td>[0.5024874359369278, 0.3100803541019559, 0.827...</td>\n",
              "    </tr>\n",
              "    <tr>\n",
              "      <th>121</th>\n",
              "      <td>\u042d\u0444\u0444\u0435\u043a\u0442 \u0431\u0430\u0431\u043e\u0447\u043a\u0438 (2003)</td>\n",
              "      <td>[0.15419730295737585, 0.10680038233598073, 0.4...</td>\n",
              "    </tr>\n",
              "  </tbody>\n",
              "</table>\n",
              "<p>122 rows \u00d7 2 columns</p>\n",
              "</div>"
            ],
            "text/plain": [
              "                     \u0424\u0438\u043b\u044c\u043c                                              \u0416\u0430\u043d\u0440\u044b\n",
              "0         127 \u0447\u0430\u0441\u043e\u0432 (2010)  [0.3345620557665825, 0.11165895313024521, 0.74...\n",
              "1              1408 (2007)  [0.06009996775537729, 0.21581990271806717, 0.2...\n",
              "2          365 \u0434\u043d\u0435\u0439 (2020)  [0.6580522954463959, 0.033706676214933395, 0.0...\n",
              "3     500 \u0434\u043d\u0435\u0439 \u043b\u0435\u0442\u0430 (2009)  [0.04459287412464619, 0.030639370903372765, 0....\n",
              "4         57 \u0441\u0435\u043a\u0443\u043d\u0434 (2023)  [0.7215941548347473, 0.2002185583114624, 0.034...\n",
              "..                     ...                                                ...\n",
              "117  \u0428\u0435\u0441\u0442\u043e\u0435 \u0447\u0443\u0432\u0441\u0442\u0432\u043e (1999)  [0.11909177961448829, 0.4633779115974903, 0.50...\n",
              "118            \u0428\u0440\u044d\u043a (2001)  [0.11149512231349945, 0.046524977311491966, 0....\n",
              "119         \u042d\u0431\u0438\u0433\u0435\u0439\u043b (2024)  [0.9785304665565491, 0.06800107657909393, 0.06...\n",
              "120     \u042d\u043a\u0432\u0438\u043b\u0438\u0431\u0440\u0438\u0443\u043c (2002)  [0.5024874359369278, 0.3100803541019559, 0.827...\n",
              "121  \u042d\u0444\u0444\u0435\u043a\u0442 \u0431\u0430\u0431\u043e\u0447\u043a\u0438 (2003)  [0.15419730295737585, 0.10680038233598073, 0.4...\n",
              "\n",
              "[122 rows x 2 columns]"
            ]
          },
          "metadata": {},
          "execution_count": 31
        }
      ],
      "execution_count": null
    },
    {
      "metadata": {},
      "source": [
        "# threshold = 0.3\n",
        "\n",
        "threshold = [0.7, 0.3, 0.25, 0.05, 0.35, 0.7, 0.2, 0.2, 0.01, 0.3, 0.4, 0.4, 0.35, 0.2]\n",
        "predicted_labels = []\n",
        "for pred_ in submission[\"\u0416\u0430\u043d\u0440\u044b\"].to_list():\n",
        "    pred = (np.array(pred_) >= threshold).astype(int)\n",
        "    labels = [id2label[idx] for idx, value in enumerate(pred) if value == 1]\n",
        "    if not labels:\n",
        "        labels = [id2label[np.argmax(pred)]]\n",
        "    predicted_labels.append(labels)"
      ],
      "cell_type": "code",
      "outputs": [],
      "execution_count": null
    },
    {
      "metadata": {},
      "source": [
        "submission[\"\u0416\u0430\u043d\u0440\u044b\"] = predicted_labels\n",
        "submission[\"\u0416\u0430\u043d\u0440\u044b\"] = submission[\"\u0416\u0430\u043d\u0440\u044b\"].apply(lambda x: \", \".join(x))\n",
        "submission.set_index(\"\u0424\u0438\u043b\u044c\u043c\").loc[\n",
        "    pd.read_csv(\"data/sample_submission_seed_0.csv\")[\"\u0424\u0438\u043b\u044c\u043c\"]\n",
        "].to_csv(\"submission.csv\")"
      ],
      "cell_type": "code",
      "outputs": [],
      "execution_count": null
    },
    {
      "metadata": {},
      "source": [],
      "cell_type": "code",
      "outputs": [],
      "execution_count": null
    },
    {
      "metadata": {},
      "source": [],
      "cell_type": "code",
      "outputs": [],
      "execution_count": null
    },
    {
      "metadata": {},
      "source": [],
      "cell_type": "code",
      "outputs": [],
      "execution_count": null
    }
  ]
}
