{
  "nbformat": 4,
  "nbformat_minor": 2,
  "metadata": {},
  "cells": [
    {
      "metadata": {},
      "source": [
        "import os\n",
        "import random\n",
        "import re\n",
        "\n",
        "import numpy as np\n",
        "import pandas as pd\n",
        "import spacy\n",
        "import torch\n",
        "import transformers\n",
        "import wandb\n",
        "from datasets import Dataset, load_dataset\n",
        "from pandarallel import pandarallel\n",
        "from sklearn import metrics\n",
        "from sklearn.metrics import classification_report, roc_auc_score\n",
        "from sklearn.preprocessing import MultiLabelBinarizer\n",
        "from torch import cuda\n",
        "from torch.optim import Adam\n",
        "from torch.utils.data import DataLoader\n",
        "from tqdm import tqdm\n",
        "from tqdm.notebook import tqdm\n",
        "from transformers import (\n",
        "    AutoTokenizer,\n",
        "    BertConfig,\n",
        "    BertForSequenceClassification,\n",
        "    BertModel,\n",
        "    BertTokenizer,\n",
        "    DataCollatorWithPadding,\n",
        "    T5ForConditionalGeneration,\n",
        "    T5Tokenizer,\n",
        ")\n",
        "\n",
        "np.random.seed(42)\n",
        "torch.manual_seed(42)\n",
        "random.seed(42)\n",
        "\n",
        "pandarallel.initialize(progress_bar=True)\n",
        "\n",
        "device = \"cuda\" if cuda.is_available() else \"cpu\"\n",
        "\n",
        "\n",
        "nlp = spacy.load(\"ru_core_news_lg\")"
      ],
      "cell_type": "code",
      "outputs": [
        {
          "output_type": "stream",
          "name": "stdout",
          "text": [
            "INFO: Pandarallel will run on 8 workers.\n",
            "INFO: Pandarallel will use Memory file system to transfer data between the main process and workers.\n"
          ]
        },
        {
          "output_type": "stream",
          "name": "stderr",
          "text": [
            "/home/seara/Desktop/Github/mtc-film-classification/.venv/lib/python3.9/site-packages/spacy/util.py:910: UserWarning: [W095] Model 'ru_core_news_lg' (3.7.0) was trained with spaCy v3.7.0 and may not be 100% compatible with the current version (3.8.0). If you see errors or degraded performance, download a newer compatible model or retrain your custom model with the current spaCy version. For more details and available updates, run: python -m spacy validate\n",
            "  warnings.warn(warn_msg)\n"
          ]
        }
      ],
      "execution_count": null
    },
    {
      "metadata": {},
      "source": [
        "df = pd.read_csv(\"data/train.csv\")\n",
        "df"
      ],
      "cell_type": "code",
      "outputs": [
        {
          "output_type": "execute_result",
          "data": {
            "text/html": [
              "<div>\n",
              "<style scoped>\n",
              "    .dataframe tbody tr th:only-of-type {\n",
              "        vertical-align: middle;\n",
              "    }\n",
              "\n",
              "    .dataframe tbody tr th {\n",
              "        vertical-align: top;\n",
              "    }\n",
              "\n",
              "    .dataframe thead th {\n",
              "        text-align: right;\n",
              "    }\n",
              "</style>\n",
              "<table border=\"1\" class=\"dataframe\">\n",
              "  <thead>\n",
              "    <tr style=\"text-align: right;\">\n",
              "      <th></th>\n",
              "      <th>\u0424\u0438\u043b\u044c\u043c</th>\n",
              "      <th>\u041e\u043f\u0438\u0441\u0430\u043d\u0438\u0435</th>\n",
              "      <th>\u0421\u044e\u0436\u0435\u0442</th>\n",
              "      <th>\u0416\u0430\u043d\u0440\u044b</th>\n",
              "    </tr>\n",
              "  </thead>\n",
              "  <tbody>\n",
              "    <tr>\n",
              "      <th>0</th>\n",
              "      <td>\u0414\u0438\u0432\u0435\u0440\u0433\u0435\u043d\u0442 (2014)</td>\n",
              "      <td>\u0414\u0435\u0439\u0441\u0442\u0432\u0438\u0435 \u0444\u0438\u043b\u044c\u043c\u0430 \u00ab\u0414\u0438\u0432\u0435\u0440\u0433\u0435\u043d\u0442\u00bb \u043f\u0440\u043e\u0438\u0441\u0445\u043e\u0434\u0438\u0442 \u0432 \u043c\u0438\u0440\u0435,...</td>\n",
              "      <td>\u0414\u0435\u0439\u0441\u0442\u0432\u0438\u0435 \u0444\u0438\u043b\u044c\u043c\u0430 \u00ab\u0414\u0438\u0432\u0435\u0440\u0433\u0435\u043d\u0442\u00bb \u043f\u0440\u043e\u0438\u0441\u0445\u043e\u0434\u0438\u0442 \u0432 \u043c\u0438\u0440\u0435,...</td>\n",
              "      <td>\u0444\u0430\u043d\u0442\u0430\u0441\u0442\u0438\u043a\u0430, \u0434\u0435\u0442\u0435\u043a\u0442\u0438\u0432, \u0431\u043e\u0435\u0432\u0438\u043a, \u043c\u0435\u043b\u043e\u0434\u0440\u0430\u043c\u0430</td>\n",
              "    </tr>\n",
              "    <tr>\n",
              "      <th>1</th>\n",
              "      <td>\u041a\u0443\u043d\u0433-\u0444\u0443 \u041f\u0430\u043d\u0434\u0430 4 (2024)</td>\n",
              "      <td>\u041e\u0434\u043d\u0430\u0436\u0434\u044b \u043d\u043e\u0447\u044c\u044e \u043d\u0430 \u0432\u0435\u0440\u0448\u0438\u043d\u0435 \u0433\u043e\u0440\u044b \u0432\u043e\u0437\u043b\u0435 \u043a\u0430\u043c\u0435\u043d\u043e\u043b\u043e\u043c\u043d...</td>\n",
              "      <td>\u041e\u0434\u043d\u0430\u0436\u0434\u044b \u043d\u043e\u0447\u044c\u044e \u043d\u0430 \u0432\u0435\u0440\u0448\u0438\u043d\u0435 \u0433\u043e\u0440\u044b \u0432\u043e\u0437\u043b\u0435 \u043a\u0430\u043c\u0435\u043d\u043e\u043b\u043e\u043c\u043d...</td>\n",
              "      <td>\u043c\u0443\u043b\u044c\u0442\u0444\u0438\u043b\u044c\u043c, \u0444\u044d\u043d\u0442\u0435\u0437\u0438, \u0431\u043e\u0435\u0432\u0438\u043a, \u043a\u043e\u043c\u0435\u0434\u0438\u044f, \u043f\u0440\u0438\u043a\u043b\u044e\u0447\u0435\u043d\u0438\u044f</td>\n",
              "    </tr>\n",
              "    <tr>\n",
              "      <th>2</th>\n",
              "      <td>2046 (2004)</td>\n",
              "      <td>\u0427\u043e\u0443 \u0432\u043e\u0437\u0432\u0440\u0430\u0449\u0430\u0435\u0442\u0441\u044f \u0432 \u0413\u043e\u043d\u043a\u043e\u043d\u0433 \u043f\u043e\u0441\u043b\u0435 \u043d\u0435\u0441\u043a\u043e\u043b\u044c\u043a\u0438\u0445 \u043b\u0435...</td>\n",
              "      <td>\u0427\u043e\u0443 \u0432\u043e\u0437\u0432\u0440\u0430\u0449\u0430\u0435\u0442\u0441\u044f \u0432 \u0413\u043e\u043d\u043a\u043e\u043d\u0433 \u043f\u043e\u0441\u043b\u0435 \u043d\u0435\u0441\u043a\u043e\u043b\u044c\u043a\u0438\u0445 \u043b\u0435...</td>\n",
              "      <td>\u0444\u0430\u043d\u0442\u0430\u0441\u0442\u0438\u043a\u0430, \u0434\u0440\u0430\u043c\u0430, \u043c\u0435\u043b\u043e\u0434\u0440\u0430\u043c\u0430</td>\n",
              "    </tr>\n",
              "    <tr>\n",
              "      <th>3</th>\n",
              "      <td>\u041f\u043e\u043b\u0438\u0446\u0435\u0439\u0441\u043a\u0438\u0439 \u0438\u0437 \u0411\u0435\u0432\u0435\u0440\u043b\u0438-\u0425\u0438\u043b\u043b\u0437: \u0410\u043a\u0441\u0435\u043b\u044c \u0424\u043e\u0443\u043b\u0438 (2024)</td>\n",
              "      <td>\u0410\u043a\u0441\u0435\u043b\u044c \u0424\u043e\u0443\u043b\u0438 \u0432\u0435\u0440\u043d\u0443\u043b\u0441\u044f \u0432 \u0411\u0435\u0432\u0435\u0440\u043b\u0438-\u0425\u0438\u043b\u043b\u0437 \u043f\u043e\u0441\u043b\u0435 \u0442\u043e...</td>\n",
              "      <td>\u0410\u043a\u0441\u0435\u043b\u044c \u0424\u043e\u0443\u043b\u0438 \u0432\u0435\u0440\u043d\u0443\u043b\u0441\u044f \u0432 \u0411\u0435\u0432\u0435\u0440\u043b\u0438-\u0425\u0438\u043b\u043b\u0437 \u043f\u043e\u0441\u043b\u0435 \u0442\u043e...</td>\n",
              "      <td>\u0431\u043e\u0435\u0432\u0438\u043a, \u043a\u043e\u043c\u0435\u0434\u0438\u044f, \u043a\u0440\u0438\u043c\u0438\u043d\u0430\u043b, \u0434\u0435\u0442\u0435\u043a\u0442\u0438\u0432</td>\n",
              "    </tr>\n",
              "    <tr>\n",
              "      <th>4</th>\n",
              "      <td>\u0417\u043d\u0430\u043a\u043e\u043c\u044c\u0442\u0435\u0441\u044c, \u0414\u0436\u043e \u0411\u043b\u044d\u043a (1998)</td>\n",
              "      <td>\u0418\u0441\u0442\u043e\u0440\u0438\u044f \u043e\u0431 \u0410\u043d\u0433\u0435\u043b\u0435 \u0421\u043c\u0435\u0440\u0442\u0438, \u043a\u043e\u0442\u043e\u0440\u044b\u0439 \u0440\u0435\u0448\u0430\u0435\u0442 \u0432\u0437\u044f\u0442\u044c...</td>\n",
              "      <td>\u0418\u0441\u0442\u043e\u0440\u0438\u044f \u043e\u0431 \u0410\u043d\u0433\u0435\u043b\u0435 \u0421\u043c\u0435\u0440\u0442\u0438, \u043a\u043e\u0442\u043e\u0440\u044b\u0439 \u0440\u0435\u0448\u0430\u0435\u0442 \u0432\u0437\u044f\u0442\u044c...</td>\n",
              "      <td>\u043c\u0435\u043b\u043e\u0434\u0440\u0430\u043c\u0430, \u0444\u044d\u043d\u0442\u0435\u0437\u0438, \u0434\u0440\u0430\u043c\u0430</td>\n",
              "    </tr>\n",
              "    <tr>\n",
              "      <th>...</th>\n",
              "      <td>...</td>\n",
              "      <td>...</td>\n",
              "      <td>...</td>\n",
              "      <td>...</td>\n",
              "    </tr>\n",
              "    <tr>\n",
              "      <th>566</th>\n",
              "      <td>\u0410\u043f\u043e\u043a\u0430\u043b\u0438\u043f\u0441\u0438\u0441 (2006)</td>\n",
              "      <td>\u0412 1517 \u0433\u043e\u0434\u0443 \u043d\u0430 \u043f\u043e\u043b\u0443\u043e\u0441\u0442\u0440\u043e\u0432\u0435 \u042e\u043a\u0430\u0442\u0430\u043d \u043f\u043b\u0435\u043c\u044f \u041b\u0430\u043f\u044b \u042f...</td>\n",
              "      <td>1517 \u0433\u043e\u0434. \u041f\u043e\u043b\u0443\u043e\u0441\u0442\u0440\u043e\u0432 \u042e\u043a\u0430\u0442\u0430\u043d. \u0413\u0440\u0443\u043f\u043f\u0430 \u043e\u0445\u043e\u0442\u043d\u0438\u043a\u043e\u0432 ...</td>\n",
              "      <td>\u0431\u043e\u0435\u0432\u0438\u043a, \u0442\u0440\u0438\u043b\u043b\u0435\u0440, \u0434\u0440\u0430\u043c\u0430, \u043f\u0440\u0438\u043a\u043b\u044e\u0447\u0435\u043d\u0438\u044f</td>\n",
              "    </tr>\n",
              "    <tr>\n",
              "      <th>567</th>\n",
              "      <td>\u041b\u0451\u0434 3 (2024)</td>\n",
              "      <td>\u041d\u0430\u0434\u044f, \u0441\u0442\u0430\u0432\u0448\u0430\u044f \u0444\u0438\u0433\u0443\u0440\u0438\u0441\u0442\u043a\u043e\u0439, \u0441\u0442\u0440\u0435\u043c\u0438\u0442\u0441\u044f \u0432\u044b\u0438\u0433\u0440\u0430\u0442\u044c ...</td>\n",
              "      <td>\u0424\u0438\u043b\u044c\u043c \u043d\u0430\u0447\u0438\u043d\u0430\u0435\u0442\u0441\u044f \u0441 \u0438\u0441\u0442\u043e\u0440\u0438\u0438 \u0432\u0437\u0440\u043e\u0441\u043b\u0435\u043d\u0438\u044f \u0434\u043e\u0447\u0435\u0440\u0438 \u0410...</td>\n",
              "      <td>\u043c\u044e\u0437\u0438\u043a\u043b, \u043c\u0435\u043b\u043e\u0434\u0440\u0430\u043c\u0430</td>\n",
              "    </tr>\n",
              "    <tr>\n",
              "      <th>568</th>\n",
              "      <td>\u0414\u0430\u0441\u0442\u0443\u0440 (2023)</td>\n",
              "      <td>\u041d\u043e\u0432\u043e\u0438\u0441\u043f\u0435\u0447\u0435\u043d\u043d\u0430\u044f \u043d\u0435\u0432\u0435\u0441\u0442\u0430, \u043a\u043e\u0442\u043e\u0440\u0443\u044e \u0432\u044b\u0434\u0430\u043b\u0438 \u0437\u0430\u043c\u0443\u0436 \u043f...</td>\n",
              "      <td>NaN</td>\n",
              "      <td>\u0443\u0436\u0430\u0441\u044b, \u0444\u0430\u043d\u0442\u0430\u0441\u0442\u0438\u043a\u0430</td>\n",
              "    </tr>\n",
              "    <tr>\n",
              "      <th>569</th>\n",
              "      <td>\u041d\u0435 \u0433\u043e\u0432\u043e\u0440\u0438 \u043d\u0438\u043a\u043e\u043c\u0443 (2024)</td>\n",
              "      <td>\u041f\u0430\u0440\u0430 \u0432\u043c\u0435\u0441\u0442\u0435 \u0441 \u0434\u043e\u0447\u0435\u0440\u044c\u044e \u043f\u043e\u043b\u0443\u0447\u0430\u044e\u0442 \u043f\u0440\u0438\u0433\u043b\u0430\u0448\u0435\u043d\u0438\u0435 \u043e\u0442 ...</td>\n",
              "      <td>\u041f\u0430\u0440\u0430 \u0432\u043c\u0435\u0441\u0442\u0435 \u0441 \u0434\u043e\u0447\u0435\u0440\u044c\u044e \u043f\u043e\u043b\u0443\u0447\u0430\u044e\u0442 \u043f\u0440\u0438\u0433\u043b\u0430\u0448\u0435\u043d\u0438\u0435 \u043e\u0442 ...</td>\n",
              "      <td>\u0442\u0440\u0438\u043b\u043b\u0435\u0440, \u0434\u0440\u0430\u043c\u0430</td>\n",
              "    </tr>\n",
              "    <tr>\n",
              "      <th>570</th>\n",
              "      <td>\u041f\u0440\u0438\u043d\u0446\u0435\u0441\u0441\u0430 \u041c\u043e\u043d\u043e\u043d\u043e\u043a\u0435 (1997)</td>\n",
              "      <td>\u0421\u044e\u0436\u0435\u0442 \u0444\u0438\u043b\u044c\u043c\u0430 \u0440\u0430\u0437\u0432\u043e\u0440\u0430\u0447\u0438\u0432\u0430\u0435\u0442\u0441\u044f \u0432\u043e \u0432\u0440\u0435\u043c\u0435\u043d\u0430 \u043f\u0435\u0440\u0438\u043e\u0434...</td>\n",
              "      <td>\u041a\u043e\u0433\u0434\u0430-\u0442\u043e \u044d\u0442\u0443 \u0437\u0435\u043c\u043b\u044e \u0443\u043a\u0440\u044b\u0432\u0430\u043b \u043b\u0435\u0441, \u0433\u0434\u0435 \u0441 \u043d\u0435\u0437\u0430\u043f\u0430\u043c\u044f...</td>\n",
              "      <td>\u043c\u0443\u043b\u044c\u0442\u0444\u0438\u043b\u044c\u043c, \u0444\u044d\u043d\u0442\u0435\u0437\u0438, \u0431\u043e\u0435\u0432\u0438\u043a, \u0434\u0440\u0430\u043c\u0430, \u043f\u0440\u0438\u043a\u043b\u044e\u0447\u0435\u043d\u0438\u044f</td>\n",
              "    </tr>\n",
              "  </tbody>\n",
              "</table>\n",
              "<p>571 rows \u00d7 4 columns</p>\n",
              "</div>"
            ],
            "text/plain": [
              "                                                 \u0424\u0438\u043b\u044c\u043c  \\\n",
              "0                                     \u0414\u0438\u0432\u0435\u0440\u0433\u0435\u043d\u0442 (2014)   \n",
              "1                               \u041a\u0443\u043d\u0433-\u0444\u0443 \u041f\u0430\u043d\u0434\u0430 4 (2024)   \n",
              "2                                          2046 (2004)   \n",
              "3    \u041f\u043e\u043b\u0438\u0446\u0435\u0439\u0441\u043a\u0438\u0439 \u0438\u0437 \u0411\u0435\u0432\u0435\u0440\u043b\u0438-\u0425\u0438\u043b\u043b\u0437: \u0410\u043a\u0441\u0435\u043b\u044c \u0424\u043e\u0443\u043b\u0438 (2024)   \n",
              "4                         \u0417\u043d\u0430\u043a\u043e\u043c\u044c\u0442\u0435\u0441\u044c, \u0414\u0436\u043e \u0411\u043b\u044d\u043a (1998)   \n",
              "..                                                 ...   \n",
              "566                                 \u0410\u043f\u043e\u043a\u0430\u043b\u0438\u043f\u0441\u0438\u0441 (2006)   \n",
              "567                                       \u041b\u0451\u0434 3 (2024)   \n",
              "568                                      \u0414\u0430\u0441\u0442\u0443\u0440 (2023)   \n",
              "569                            \u041d\u0435 \u0433\u043e\u0432\u043e\u0440\u0438 \u043d\u0438\u043a\u043e\u043c\u0443 (2024)   \n",
              "570                          \u041f\u0440\u0438\u043d\u0446\u0435\u0441\u0441\u0430 \u041c\u043e\u043d\u043e\u043d\u043e\u043a\u0435 (1997)   \n",
              "\n",
              "                                              \u041e\u043f\u0438\u0441\u0430\u043d\u0438\u0435  \\\n",
              "0    \u0414\u0435\u0439\u0441\u0442\u0432\u0438\u0435 \u0444\u0438\u043b\u044c\u043c\u0430 \u00ab\u0414\u0438\u0432\u0435\u0440\u0433\u0435\u043d\u0442\u00bb \u043f\u0440\u043e\u0438\u0441\u0445\u043e\u0434\u0438\u0442 \u0432 \u043c\u0438\u0440\u0435,...   \n",
              "1    \u041e\u0434\u043d\u0430\u0436\u0434\u044b \u043d\u043e\u0447\u044c\u044e \u043d\u0430 \u0432\u0435\u0440\u0448\u0438\u043d\u0435 \u0433\u043e\u0440\u044b \u0432\u043e\u0437\u043b\u0435 \u043a\u0430\u043c\u0435\u043d\u043e\u043b\u043e\u043c\u043d...   \n",
              "2    \u0427\u043e\u0443 \u0432\u043e\u0437\u0432\u0440\u0430\u0449\u0430\u0435\u0442\u0441\u044f \u0432 \u0413\u043e\u043d\u043a\u043e\u043d\u0433 \u043f\u043e\u0441\u043b\u0435 \u043d\u0435\u0441\u043a\u043e\u043b\u044c\u043a\u0438\u0445 \u043b\u0435...   \n",
              "3    \u0410\u043a\u0441\u0435\u043b\u044c \u0424\u043e\u0443\u043b\u0438 \u0432\u0435\u0440\u043d\u0443\u043b\u0441\u044f \u0432 \u0411\u0435\u0432\u0435\u0440\u043b\u0438-\u0425\u0438\u043b\u043b\u0437 \u043f\u043e\u0441\u043b\u0435 \u0442\u043e...   \n",
              "4    \u0418\u0441\u0442\u043e\u0440\u0438\u044f \u043e\u0431 \u0410\u043d\u0433\u0435\u043b\u0435 \u0421\u043c\u0435\u0440\u0442\u0438, \u043a\u043e\u0442\u043e\u0440\u044b\u0439 \u0440\u0435\u0448\u0430\u0435\u0442 \u0432\u0437\u044f\u0442\u044c...   \n",
              "..                                                 ...   \n",
              "566  \u0412 1517 \u0433\u043e\u0434\u0443 \u043d\u0430 \u043f\u043e\u043b\u0443\u043e\u0441\u0442\u0440\u043e\u0432\u0435 \u042e\u043a\u0430\u0442\u0430\u043d \u043f\u043b\u0435\u043c\u044f \u041b\u0430\u043f\u044b \u042f...   \n",
              "567  \u041d\u0430\u0434\u044f, \u0441\u0442\u0430\u0432\u0448\u0430\u044f \u0444\u0438\u0433\u0443\u0440\u0438\u0441\u0442\u043a\u043e\u0439, \u0441\u0442\u0440\u0435\u043c\u0438\u0442\u0441\u044f \u0432\u044b\u0438\u0433\u0440\u0430\u0442\u044c ...   \n",
              "568  \u041d\u043e\u0432\u043e\u0438\u0441\u043f\u0435\u0447\u0435\u043d\u043d\u0430\u044f \u043d\u0435\u0432\u0435\u0441\u0442\u0430, \u043a\u043e\u0442\u043e\u0440\u0443\u044e \u0432\u044b\u0434\u0430\u043b\u0438 \u0437\u0430\u043c\u0443\u0436 \u043f...   \n",
              "569  \u041f\u0430\u0440\u0430 \u0432\u043c\u0435\u0441\u0442\u0435 \u0441 \u0434\u043e\u0447\u0435\u0440\u044c\u044e \u043f\u043e\u043b\u0443\u0447\u0430\u044e\u0442 \u043f\u0440\u0438\u0433\u043b\u0430\u0448\u0435\u043d\u0438\u0435 \u043e\u0442 ...   \n",
              "570  \u0421\u044e\u0436\u0435\u0442 \u0444\u0438\u043b\u044c\u043c\u0430 \u0440\u0430\u0437\u0432\u043e\u0440\u0430\u0447\u0438\u0432\u0430\u0435\u0442\u0441\u044f \u0432\u043e \u0432\u0440\u0435\u043c\u0435\u043d\u0430 \u043f\u0435\u0440\u0438\u043e\u0434...   \n",
              "\n",
              "                                                 \u0421\u044e\u0436\u0435\u0442  \\\n",
              "0    \u0414\u0435\u0439\u0441\u0442\u0432\u0438\u0435 \u0444\u0438\u043b\u044c\u043c\u0430 \u00ab\u0414\u0438\u0432\u0435\u0440\u0433\u0435\u043d\u0442\u00bb \u043f\u0440\u043e\u0438\u0441\u0445\u043e\u0434\u0438\u0442 \u0432 \u043c\u0438\u0440\u0435,...   \n",
              "1    \u041e\u0434\u043d\u0430\u0436\u0434\u044b \u043d\u043e\u0447\u044c\u044e \u043d\u0430 \u0432\u0435\u0440\u0448\u0438\u043d\u0435 \u0433\u043e\u0440\u044b \u0432\u043e\u0437\u043b\u0435 \u043a\u0430\u043c\u0435\u043d\u043e\u043b\u043e\u043c\u043d...   \n",
              "2    \u0427\u043e\u0443 \u0432\u043e\u0437\u0432\u0440\u0430\u0449\u0430\u0435\u0442\u0441\u044f \u0432 \u0413\u043e\u043d\u043a\u043e\u043d\u0433 \u043f\u043e\u0441\u043b\u0435 \u043d\u0435\u0441\u043a\u043e\u043b\u044c\u043a\u0438\u0445 \u043b\u0435...   \n",
              "3    \u0410\u043a\u0441\u0435\u043b\u044c \u0424\u043e\u0443\u043b\u0438 \u0432\u0435\u0440\u043d\u0443\u043b\u0441\u044f \u0432 \u0411\u0435\u0432\u0435\u0440\u043b\u0438-\u0425\u0438\u043b\u043b\u0437 \u043f\u043e\u0441\u043b\u0435 \u0442\u043e...   \n",
              "4    \u0418\u0441\u0442\u043e\u0440\u0438\u044f \u043e\u0431 \u0410\u043d\u0433\u0435\u043b\u0435 \u0421\u043c\u0435\u0440\u0442\u0438, \u043a\u043e\u0442\u043e\u0440\u044b\u0439 \u0440\u0435\u0448\u0430\u0435\u0442 \u0432\u0437\u044f\u0442\u044c...   \n",
              "..                                                 ...   \n",
              "566  1517 \u0433\u043e\u0434. \u041f\u043e\u043b\u0443\u043e\u0441\u0442\u0440\u043e\u0432 \u042e\u043a\u0430\u0442\u0430\u043d. \u0413\u0440\u0443\u043f\u043f\u0430 \u043e\u0445\u043e\u0442\u043d\u0438\u043a\u043e\u0432 ...   \n",
              "567  \u0424\u0438\u043b\u044c\u043c \u043d\u0430\u0447\u0438\u043d\u0430\u0435\u0442\u0441\u044f \u0441 \u0438\u0441\u0442\u043e\u0440\u0438\u0438 \u0432\u0437\u0440\u043e\u0441\u043b\u0435\u043d\u0438\u044f \u0434\u043e\u0447\u0435\u0440\u0438 \u0410...   \n",
              "568                                                NaN   \n",
              "569  \u041f\u0430\u0440\u0430 \u0432\u043c\u0435\u0441\u0442\u0435 \u0441 \u0434\u043e\u0447\u0435\u0440\u044c\u044e \u043f\u043e\u043b\u0443\u0447\u0430\u044e\u0442 \u043f\u0440\u0438\u0433\u043b\u0430\u0448\u0435\u043d\u0438\u0435 \u043e\u0442 ...   \n",
              "570  \u041a\u043e\u0433\u0434\u0430-\u0442\u043e \u044d\u0442\u0443 \u0437\u0435\u043c\u043b\u044e \u0443\u043a\u0440\u044b\u0432\u0430\u043b \u043b\u0435\u0441, \u0433\u0434\u0435 \u0441 \u043d\u0435\u0437\u0430\u043f\u0430\u043c\u044f...   \n",
              "\n",
              "                                                 \u0416\u0430\u043d\u0440\u044b  \n",
              "0              \u0444\u0430\u043d\u0442\u0430\u0441\u0442\u0438\u043a\u0430, \u0434\u0435\u0442\u0435\u043a\u0442\u0438\u0432, \u0431\u043e\u0435\u0432\u0438\u043a, \u043c\u0435\u043b\u043e\u0434\u0440\u0430\u043c\u0430  \n",
              "1    \u043c\u0443\u043b\u044c\u0442\u0444\u0438\u043b\u044c\u043c, \u0444\u044d\u043d\u0442\u0435\u0437\u0438, \u0431\u043e\u0435\u0432\u0438\u043a, \u043a\u043e\u043c\u0435\u0434\u0438\u044f, \u043f\u0440\u0438\u043a\u043b\u044e\u0447\u0435\u043d\u0438\u044f  \n",
              "2                         \u0444\u0430\u043d\u0442\u0430\u0441\u0442\u0438\u043a\u0430, \u0434\u0440\u0430\u043c\u0430, \u043c\u0435\u043b\u043e\u0434\u0440\u0430\u043c\u0430  \n",
              "3                  \u0431\u043e\u0435\u0432\u0438\u043a, \u043a\u043e\u043c\u0435\u0434\u0438\u044f, \u043a\u0440\u0438\u043c\u0438\u043d\u0430\u043b, \u0434\u0435\u0442\u0435\u043a\u0442\u0438\u0432  \n",
              "4                            \u043c\u0435\u043b\u043e\u0434\u0440\u0430\u043c\u0430, \u0444\u044d\u043d\u0442\u0435\u0437\u0438, \u0434\u0440\u0430\u043c\u0430  \n",
              "..                                                 ...  \n",
              "566                \u0431\u043e\u0435\u0432\u0438\u043a, \u0442\u0440\u0438\u043b\u043b\u0435\u0440, \u0434\u0440\u0430\u043c\u0430, \u043f\u0440\u0438\u043a\u043b\u044e\u0447\u0435\u043d\u0438\u044f  \n",
              "567                                  \u043c\u044e\u0437\u0438\u043a\u043b, \u043c\u0435\u043b\u043e\u0434\u0440\u0430\u043c\u0430  \n",
              "568                                  \u0443\u0436\u0430\u0441\u044b, \u0444\u0430\u043d\u0442\u0430\u0441\u0442\u0438\u043a\u0430  \n",
              "569                                     \u0442\u0440\u0438\u043b\u043b\u0435\u0440, \u0434\u0440\u0430\u043c\u0430  \n",
              "570    \u043c\u0443\u043b\u044c\u0442\u0444\u0438\u043b\u044c\u043c, \u0444\u044d\u043d\u0442\u0435\u0437\u0438, \u0431\u043e\u0435\u0432\u0438\u043a, \u0434\u0440\u0430\u043c\u0430, \u043f\u0440\u0438\u043a\u043b\u044e\u0447\u0435\u043d\u0438\u044f  \n",
              "\n",
              "[571 rows x 4 columns]"
            ]
          },
          "metadata": {},
          "execution_count": 2
        }
      ],
      "execution_count": null
    },
    {
      "metadata": {},
      "source": [
        "df = df.rename(\n",
        "    {\"\u0424\u0438\u043b\u044c\u043c\": \"movie\", \"\u0421\u044e\u0436\u0435\u0442\": \"plot\", \"\u0416\u0430\u043d\u0440\u044b\": \"genres\", \"\u041e\u043f\u0438\u0441\u0430\u043d\u0438\u0435\": \"description\"},\n",
        "    axis=1,\n",
        ")\n",
        "# df[\"plot\"] = df[\"plot\"].fillna(df[\"description\"])\n",
        "df.isnull().any()"
      ],
      "cell_type": "code",
      "outputs": [
        {
          "output_type": "execute_result",
          "data": {
            "text/plain": [
              "movie          False\n",
              "description    False\n",
              "plot            True\n",
              "genres         False\n",
              "dtype: bool"
            ]
          },
          "metadata": {},
          "execution_count": 3
        }
      ],
      "execution_count": null
    },
    {
      "metadata": {},
      "source": [
        "df[\"genres\"] = df[\"genres\"].apply(lambda x: x.split(\", \"))\n",
        "mlb = MultiLabelBinarizer()\n",
        "y = mlb.fit_transform(df[\"genres\"])\n",
        "df[\"target\"] = y.tolist()\n",
        "df = df.drop(\"genres\", axis=1)\n",
        "\n",
        "\n",
        "def clear_text(text):\n",
        "    text = text.replace(\"\\n\", \" \")\n",
        "    text = text.replace(\"\\t\", \" \")\n",
        "    text = text.replace(\"\\xa0\", \" \")\n",
        "    return \" \".join(text.split())\n",
        "\n",
        "\n",
        "df[\"plot\"] = df[\"plot\"].apply(lambda x: clear_text(x) if pd.notna(x) else x)\n",
        "df[\"description\"] = df[\"description\"].apply(clear_text)"
      ],
      "cell_type": "code",
      "outputs": [],
      "execution_count": null
    },
    {
      "metadata": {},
      "source": [
        "df[\"plot_desc\"] = df.apply(\n",
        "    lambda row: (\n",
        "        row[\"plot\"] + \" \" + row[\"description\"]\n",
        "        if pd.notna(row[\"plot\"])\n",
        "        else row[\"description\"]\n",
        "    ),\n",
        "    axis=1,\n",
        ")"
      ],
      "cell_type": "code",
      "outputs": [],
      "execution_count": null
    },
    {
      "metadata": {},
      "source": [
        "MODEL_NAME = \"cointegrated/rut5-base-absum\"\n",
        "model = T5ForConditionalGeneration.from_pretrained(MODEL_NAME)\n",
        "tokenizer = T5Tokenizer.from_pretrained(MODEL_NAME)\n",
        "model.cuda()\n",
        "model.eval()\n",
        "\n",
        "\n",
        "def summarize(\n",
        "    text,\n",
        "    n_words=None,\n",
        "    compression=None,\n",
        "    max_length=10000,\n",
        "    num_beams=3,\n",
        "    do_sample=False,\n",
        "    repetition_penalty=10.0,\n",
        "    **kwargs,\n",
        "):\n",
        "    \"\"\"\n",
        "    Summarize the text\n",
        "    The following parameters are mutually exclusive:\n",
        "    - n_words (int) is an approximate number of words to generate.\n",
        "    - compression (float) is an approximate length ratio of summary and original text.\n",
        "    \"\"\"\n",
        "    if n_words:\n",
        "        text = f\"[{n_words}] \" + text\n",
        "    elif compression:\n",
        "        text = f\"[{compression:.1g}] \" + text\n",
        "    x = tokenizer(text, return_tensors=\"pt\", padding=True).to(model.device)\n",
        "    with torch.inference_mode():\n",
        "        out = model.generate(\n",
        "            **x,\n",
        "            max_length=max_length,\n",
        "            num_beams=num_beams,\n",
        "            do_sample=do_sample,\n",
        "            repetition_penalty=repetition_penalty,\n",
        "            **kwargs,\n",
        "        )\n",
        "    return tokenizer.decode(out[0], skip_special_tokens=True)"
      ],
      "cell_type": "code",
      "outputs": [
        {
          "output_type": "stream",
          "name": "stderr",
          "text": [
            "/home/seara/Desktop/Github/mtc-film-classification/.venv/lib/python3.9/site-packages/transformers/tokenization_utils_base.py:1601: FutureWarning: `clean_up_tokenization_spaces` was not set. It will be set to `True` by default. This behavior will be depracted in transformers v4.45, and will be then set to `False` by default. For more details check this issue: https://github.com/huggingface/transformers/issues/31884\n",
            "  warnings.warn(\n"
          ]
        }
      ],
      "execution_count": null
    },
    {
      "metadata": {},
      "source": [
        "df[\"plot_desc\"][5]"
      ],
      "cell_type": "code",
      "outputs": [
        {
          "output_type": "execute_result",
          "data": {
            "text/plain": [
              "'\u0423 \u0414\u0436\u0435\u0441\u0441\u0430 \u0410\u0430\u0440\u043e\u043d\u0441\u0430, \u0437\u0430\u043c\u043a\u043d\u0443\u0442\u043e\u0433\u043e \u0432 \u0441\u0435\u0431\u0435 \u043c\u0430\u043b\u044c\u0447\u0438\u043a\u0430, \u0441\u043e\u0432\u0441\u0435\u043c \u043d\u0435\u0442 \u0434\u0440\u0443\u0437\u0435\u0439. \u0412 \u0448\u043a\u043e\u043b\u0435 \u0435\u0433\u043e \u043f\u043e\u0441\u0442\u043e\u044f\u043d\u043d\u043e \u0437\u0430\u0434\u0438\u0440\u0430\u044e\u0442, \u0441\u0435\u043c\u044c\u044f, \u0432 \u043a\u043e\u0442\u043e\u0440\u043e\u0439, \u043a\u0440\u043e\u043c\u0435 \u043d\u0435\u0433\u043e, \u0435\u0441\u0442\u044c \u0434\u0432\u0435 \u0441\u0442\u0430\u0440\u0448\u0438\u0435 \u0438 \u0434\u0432\u0435 \u043c\u043b\u0430\u0434\u0448\u0438\u0435 \u0441\u0435\u0441\u0442\u0440\u044b, \u0441\u0442\u0435\u0441\u043d\u0435\u043d\u0430 \u0432 \u0441\u0440\u0435\u0434\u0441\u0442\u0432\u0430\u0445, \u0430 \u0441 \u043e\u0442\u0446\u043e\u043c \u0443 \u043d\u0435\u0433\u043e \u043e\u0447\u0435\u043d\u044c \u0442\u0440\u0443\u0434\u043d\u044b\u0435 \u043e\u0442\u043d\u043e\u0448\u0435\u043d\u0438\u044f. \u0416\u0435\u043b\u0430\u044f \u0445\u043e\u0442\u044c \u0432 \u0447\u0451\u043c-\u0442\u043e \u0441\u0442\u0430\u0442\u044c \u043f\u0435\u0440\u0432\u044b\u043c, \u043e\u043d \u043f\u0440\u0438\u043d\u0438\u043c\u0430\u0435\u0442 \u0443\u0447\u0430\u0441\u0442\u0438\u0435 \u0432 \u0448\u043a\u043e\u043b\u044c\u043d\u044b\u0445 \u0441\u043e\u0441\u0442\u044f\u0437\u0430\u043d\u0438\u044f\u0445 \u043f\u043e \u0431\u0435\u0433\u0443, \u043d\u043e \u0435\u0433\u043e \u043e\u0431\u0433\u043e\u043d\u044f\u0435\u0442 \u0434\u0435\u0432\u043e\u0447\u043a\u0430 \u043f\u043e \u0438\u043c\u0435\u043d\u0438 \u041b\u0435\u0441\u043b\u0438, \u043a\u043e\u0442\u043e\u0440\u0430\u044f \u0442\u043e\u043b\u044c\u043a\u043e \u0447\u0442\u043e \u043f\u0435\u0440\u0435\u0432\u0435\u043b\u0430\u0441\u044c \u0432 \u0438\u0445 \u043a\u043b\u0430\u0441\u0441. \u0415\u0451 \u0441\u0435\u043c\u044c\u044f \u043f\u0435\u0440\u0435\u0435\u0445\u0430\u043b\u0430 \u0432 \u043f\u0440\u0438\u0433\u043e\u0440\u043e\u0434, \u0433\u0434\u0435 \u0436\u0438\u0432\u0443\u0442 \u0410\u0430\u0440\u043e\u043d\u0441\u044b, \u0438 \u043f\u043e\u0441\u0435\u043b\u0438\u043b\u0430\u0441\u044c \u0441 \u043d\u0438\u043c\u0438 \u043f\u043e \u0441\u043e\u0441\u0435\u0434\u0441\u0442\u0432\u0443. \u041b\u0435\u0441\u043b\u0438, \u043a\u0430\u043a \u0438 \u0414\u0436\u0435\u0441\u0441, \u0442\u043e\u0436\u0435 \u0441\u0442\u0430\u043d\u043e\u0432\u0438\u0442\u0441\u044f \u0431\u0435\u043b\u043e\u0439 \u0432\u043e\u0440\u043e\u043d\u043e\u0439 \u0438\u0437-\u0437\u0430 \u0441\u0432\u043e\u0435\u0433\u043e \u043d\u0435\u0437\u0430\u0432\u0438\u0441\u0438\u043c\u043e\u0433\u043e \u0445\u0430\u0440\u0430\u043a\u0442\u0435\u0440\u0430. \u0412\u0441\u043a\u043e\u0440\u0435 \u043e\u043d\u0438 \u0441\u0442\u0430\u043d\u043e\u0432\u044f\u0442\u0441\u044f \u043b\u0443\u0447\u0448\u0438\u043c\u0438 \u0434\u0440\u0443\u0437\u044c\u044f\u043c\u0438 \u0438 \u0440\u0430\u0441\u043a\u0440\u044b\u0432\u0430\u044e\u0442 \u0434\u0440\u0443\u0433 \u0434\u0440\u0443\u0433\u0443 \u0441\u0432\u043e\u0438 \u0441\u0435\u043a\u0440\u0435\u0442\u044b: \u0414\u0436\u0435\u0441\u0441 \u043f\u043e\u043a\u0430\u0437\u044b\u0432\u0430\u0435\u0442 \u041b\u0435\u0441\u043b\u0438 \u0441\u0432\u043e\u0438 \u0440\u0438\u0441\u0443\u043d\u043a\u0438, \u0430 \u043e\u043d\u0430 \u0440\u0430\u0441\u0441\u043a\u0430\u0437\u044b\u0432\u0430\u0435\u0442 \u0435\u043c\u0443 \u0441\u0432\u043e\u0438 \u0432\u044b\u0434\u0443\u043c\u043a\u0438. \u0412\u043e \u0432\u0440\u0435\u043c\u044f \u043f\u0440\u043e\u0433\u0443\u043b\u043a\u0438 \u043f\u043e \u043b\u0435\u0441\u0443 \u043e\u043d\u0438 \u043f\u0435\u0440\u0435\u0431\u0438\u0440\u0430\u044e\u0442\u0441\u044f \u0447\u0435\u0440\u0435\u0437 \u043f\u0440\u043e\u0442\u0435\u043a\u0430\u044e\u0449\u0443\u044e \u0442\u0430\u043c \u0440\u0435\u0447\u043a\u0443 \u043d\u0430 \u0442\u0430\u0440\u0437\u0430\u043d\u043a\u0435 \u0438 \u043e\u0431\u043d\u0430\u0440\u0443\u0436\u0438\u0432\u0430\u044e\u0442 \u043d\u0430 \u0434\u0440\u0443\u0433\u043e\u0439 \u0441\u0442\u043e\u0440\u043e\u043d\u0435 \u0437\u0430\u0431\u0440\u043e\u0448\u0435\u043d\u043d\u044b\u0439 \u0434\u043e\u043c\u0438\u043a \u043d\u0430 \u0434\u0435\u0440\u0435\u0432\u0435. \u042d\u0442\u043e\u0442 \u0434\u043e\u043c\u0438\u043a \u0441\u0442\u0430\u043d\u043e\u0432\u0438\u0442\u0441\u044f \u0438\u0445 \u0441\u0435\u043a\u0440\u0435\u0442\u043d\u044b\u043c \u043c\u0435\u0441\u0442\u043e\u043c, \u043e \u043a\u043e\u0442\u043e\u0440\u043e\u043c \u0437\u043d\u0430\u044e\u0442 \u043b\u0438\u0448\u044c \u043e\u043d\u0438 \u0434\u0432\u043e\u0435. \u0417\u0434\u0435\u0441\u044c \u043e\u043d\u0438 \u0441\u043e\u0437\u0434\u0430\u044e\u0442 \u0446\u0435\u043b\u044b\u0439 \u0441\u043a\u0430\u0437\u043e\u0447\u043d\u044b\u0439 \u043c\u0438\u0440 \u0438 \u043d\u0430\u0437\u044b\u0432\u0430\u044e\u0442 \u0435\u0433\u043e \u0422\u0435\u0440\u0430\u0431\u0438\u0442\u0438\u0435\u0439. \u0412 \u0448\u043a\u043e\u043b\u0435 \u0414\u0436\u0435\u0441\u0441 \u0438 \u041b\u0435\u0441\u043b\u0438 \u043e\u0431\u044a\u0435\u0434\u0438\u043d\u044f\u044e\u0442\u0441\u044f \u043f\u0440\u043e\u0442\u0438\u0432 \u043a\u043e\u043c\u043f\u0430\u043d\u0438\u0438 \u0441\u0442\u0430\u0440\u0448\u0438\u0445 \u0443\u0447\u0435\u043d\u0438\u0446 \u0432\u043e \u0433\u043b\u0430\u0432\u0435 \u0441 \u0414\u0436\u0435\u043d\u0438\u0441 \u042d\u0439\u0432\u0435\u0440\u0438, \u043a\u043e\u0442\u043e\u0440\u044b\u0435 \u0432\u044b\u043c\u043e\u0433\u0430\u044e\u0442 \u0443 \u0431\u043e\u043b\u0435\u0435 \u0441\u043b\u0430\u0431\u044b\u0445 \u043f\u043e \u0441\u0440\u0430\u0432\u043d\u0435\u043d\u0438\u044e \u0441 \u043d\u0438\u043c\u0438 \u043c\u043b\u0430\u0434\u0448\u0435\u043a\u043b\u0430\u0441\u0441\u043d\u0438\u043a\u043e\u0432 \u0434\u0435\u043d\u044c\u0433\u0438 \u0437\u0430 \u0442\u0443\u0430\u043b\u0435\u0442 \u0438 \u0432 \u0446\u0435\u043b\u043e\u043c \u0432\u0435\u0434\u0443\u0442 \u0441\u0435\u0431\u044f \u0433\u0430\u0434\u043a\u043e. \u0422\u0430\u043a\u0436\u0435 \u0414\u0436\u0435\u0441\u0441 \u0438 \u041b\u0435\u0441\u043b\u0438, \u0441\u0442\u0440\u0435\u043c\u044f\u0441\u044c \u043f\u0440\u0435\u043e\u0434\u043e\u043b\u0435\u0442\u044c \u0441\u0432\u043e\u0439 \u0441\u0442\u0440\u0430\u0445 \u043a \u043d\u0430\u0441\u0442\u043e\u044f\u0449\u0438\u043c \u0448\u043a\u043e\u043b\u044c\u043d\u044b\u043c \u043e\u0431\u0438\u0434\u0447\u0438\u043a\u0430\u043c, \u0432\u043e\u043e\u0431\u0440\u0430\u0436\u0430\u044e\u0442, \u0447\u0442\u043e \u0432 \u0422\u0435\u0440\u0430\u0431\u0438\u0442\u0438\u0438 \u0435\u0441\u0442\u044c \u0430\u043d\u0430\u043b\u043e\u0433\u0438 \u044d\u0442\u0438\u0445 \u043e\u0431\u0438\u0434\u0447\u0438\u043a\u043e\u0432 \u0438 \u0447\u0442\u043e \u044d\u0442\u0438\u0445 \u0432\u0440\u0430\u0433\u043e\u0432 \u0438\u043c \u043b\u0435\u0433\u043a\u043e \u043f\u043e\u0431\u043e\u0440\u043e\u0442\u044c. \u041d\u0430 \u0434\u0435\u043d\u044c \u0440\u043e\u0436\u0434\u0435\u043d\u0438\u044f \u043c\u0430\u043b\u044c\u0447\u0438\u043a \u043f\u043e\u043b\u0443\u0447\u0430\u0435\u0442 \u043e\u0442 \u043f\u043e\u0434\u0440\u0443\u0433\u0438 \u043d\u0430\u0431\u043e\u0440 \u043a\u0440\u0430\u0441\u043e\u043a. \u0412 \u043e\u0442\u0432\u0435\u0442 \u0414\u0436\u0435\u0441\u0441 \u0434\u0430\u0440\u0438\u0442 \u041b\u0435\u0441\u043b\u0438 \u0441\u043e\u0431\u0430\u043a\u0443, \u043e \u043a\u043e\u0442\u043e\u0440\u043e\u0439 \u0442\u0430 \u0434\u0430\u0432\u043d\u043e \u043c\u0435\u0447\u0442\u0430\u043b\u0430. \u0412 \u044d\u0442\u043e\u0442 \u0436\u0435 \u0434\u0435\u043d\u044c \u043e\u043d\u0438 \u0432\u043e\u043e\u0431\u0440\u0430\u0436\u0430\u044e\u0442, \u0447\u0442\u043e \u043d\u0430\u0445\u043e\u0434\u044f\u0442 \u0432 \u0422\u0435\u0440\u0430\u0431\u0438\u0442\u0438\u0438 \u0433\u0438\u0433\u0430\u043d\u0442\u0441\u043a\u043e\u0433\u043e \u0442\u0440\u043e\u043b\u043b\u044f, \u0438 \u043e\u043d \u043f\u044b\u0442\u0430\u0435\u0442\u0441\u044f \u0438\u0445 \u043f\u043e\u0439\u043c\u0430\u0442\u044c, \u043d\u043e \u043e\u043d\u0438 \u0435\u0433\u043e \u043e\u0434\u043e\u043b\u0435\u0432\u0430\u044e\u0442. \u041f\u043e \u043d\u0435\u043a\u043e\u0442\u043e\u0440\u044b\u043c \u0434\u0435\u0442\u0430\u043b\u044f\u043c \u0441\u0442\u0430\u043d\u043e\u0432\u0438\u0442\u0441\u044f \u044f\u0441\u043d\u043e, \u0447\u0442\u043e \u043f\u0440\u043e\u0442\u043e\u0442\u0438\u043f\u043e\u043c \u044d\u0442\u043e\u0433\u043e \u0442\u0440\u043e\u043b\u043b\u044f \u044f\u0432\u043b\u044f\u0435\u0442\u0441\u044f \u0414\u0436\u0435\u043d\u0438\u0441. \u0417\u0430\u0442\u0435\u043c \u0414\u0436\u0435\u0441\u0441 \u0438 \u041b\u0435\u0441\u043b\u0438 \u0440\u0435\u0448\u0430\u044e\u0442 \u043e\u0442\u043e\u043c\u0441\u0442\u0438\u0442\u044c \u0435\u0439 \u0432 \u0448\u043a\u043e\u043b\u0435 \u0437\u0430 \u0442\u043e, \u0447\u0442\u043e \u043e\u043d\u0430 \u0443\u043a\u0440\u0430\u043b\u0430 \u043f\u0438\u0440\u043e\u0436\u043d\u044b\u0435 \u0443 \u043c\u043b\u0430\u0434\u0448\u0435\u0439 \u0441\u0435\u0441\u0442\u0440\u044b \u0414\u0436\u0435\u0441\u0441\u0430, \u041c\u044d\u0439 \u0411\u0435\u043b\u043b\u044c. \u041e\u043d\u0438 \u043f\u0438\u0448\u0443\u0442 \u0414\u0436\u0435\u043d\u0438\u0441 \u044f\u043a\u043e\u0431\u044b \u043b\u044e\u0431\u043e\u0432\u043d\u0443\u044e \u0437\u0430\u043f\u0438\u0441\u043a\u0443 \u043e\u0442 \u043f\u0430\u0440\u043d\u044f, \u043a\u043e\u0442\u043e\u0440\u044b\u0439 \u0435\u0439 \u043d\u0440\u0430\u0432\u0438\u0442\u0441\u044f, \u0438 \u0432 \u0438\u0442\u043e\u0433\u0435 \u043e\u043d\u0430 \u0447\u0443\u0432\u0441\u0442\u0432\u0443\u0435\u0442 \u043e\u043f\u0443\u0441\u0442\u043e\u0448\u0435\u043d\u0438\u0435 \u0438 \u0433\u043e\u0440\u0435\u0447\u044c, \u043f\u043e\u043d\u044f\u0432, \u0447\u0442\u043e \u043e\u043d \u043d\u0438\u0447\u0435\u0433\u043e \u043d\u0435 \u043f\u0438\u0441\u0430\u043b. \u041f\u043e\u0437\u0436\u0435 \u0432\u044b\u044f\u0441\u043d\u044f\u0435\u0442\u0441\u044f, \u0447\u0442\u043e \u0414\u0436\u0435\u043d\u0438\u0441 \u0441\u0432\u043e\u0438\u043c \u043f\u043e\u0432\u0435\u0434\u0435\u043d\u0438\u0435\u043c \u0432\u044b\u043c\u0435\u0449\u0430\u043b\u0430 \u0441\u0442\u0440\u0430\u0445 \u0438 \u043e\u0431\u0438\u0434\u0443 \u043d\u0430 \u043e\u0442\u0446\u0430, \u043f\u043e\u0442\u043e\u043c\u0443 \u0447\u0442\u043e \u043e\u043d \u0447\u0430\u0441\u0442\u043e \u0438\u0437\u0431\u0438\u0432\u0430\u043b \u0435\u0451. \u0422\u0435\u043f\u0435\u0440\u044c \u0438\u0437-\u0437\u0430 \u043d\u0435\u0434\u0430\u0432\u043d\u0435\u0433\u043e \u0433\u0440\u043e\u043c\u043a\u043e\u0433\u043e \u0441\u043a\u0430\u043d\u0434\u0430\u043b\u0430 \u0432 \u0438\u0445 \u0434\u043e\u043c\u0435 \u043e\u0431 \u044d\u0442\u043e\u043c \u0437\u043d\u0430\u044e\u0442 \u0432\u0441\u0435 \u0435\u0451 \u0440\u043e\u0432\u0435\u0441\u043d\u0438\u043a\u0438, \u0438 \u043f\u043e \u0448\u043a\u043e\u043b\u0435 \u0445\u043e\u0434\u044f\u0442 \u043d\u0435\u043f\u0440\u0438\u044f\u0442\u043d\u044b\u0435 \u0441\u043f\u043b\u0435\u0442\u043d\u0438. \u041b\u0435\u0441\u043b\u0438 \u043f\u043e \u043f\u0440\u043e\u0441\u044c\u0431\u0435 \u0414\u0436\u0435\u0441\u0441\u0430 \u043f\u043e\u043c\u043e\u0433\u0430\u0435\u0442 \u0414\u0436\u0435\u043d\u0438\u0441 \u0441\u043f\u0440\u0430\u0432\u0438\u0442\u044c\u0441\u044f \u0441 \u044d\u0442\u0438\u043c\u0438 \u0442\u0440\u0443\u0434\u043d\u043e\u0441\u0442\u044f\u043c\u0438, \u0438, \u0441\u043b\u0435\u0434\u0443\u044f \u0441\u043e\u0432\u0435\u0442\u0443 \u041b\u0435\u0441\u043b\u0438, \u0414\u0436\u0435\u043d\u0438\u0441 \u0440\u0435\u0448\u0430\u0435\u0442 \u043d\u0435 \u043e\u0431\u0440\u0430\u0449\u0430\u0442\u044c \u043d\u0430 \u0441\u043f\u043b\u0435\u0442\u043d\u0438 \u0432\u043d\u0438\u043c\u0430\u043d\u0438\u044f. \u041f\u043e\u0441\u043b\u0435 \u044d\u0442\u043e\u0433\u043e \u0434\u0440\u0443\u0437\u044c\u044f \u0441\u043d\u043e\u0432\u0430 \u0432\u0441\u0442\u0440\u0435\u0447\u0430\u044e\u0442 \u0432 \u0422\u0435\u0440\u0430\u0431\u0438\u0442\u0438\u0438 \u0442\u0440\u043e\u043b\u043b\u044f, \u0438 \u043d\u0430 \u044d\u0442\u043e\u0442 \u0440\u0430\u0437 \u043e\u043d \u043f\u043e\u043c\u043e\u0433\u0430\u0435\u0442 \u0438\u043c \u0438\u0437\u0431\u0435\u0436\u0430\u0442\u044c \u043e\u043f\u0430\u0441\u043d\u043e\u0441\u0442\u0438. \u0421\u043f\u0443\u0441\u0442\u044f \u043a\u0430\u043a\u043e\u0435-\u0442\u043e \u0432\u0440\u0435\u043c\u044f \u0443\u0447\u0438\u0442\u0435\u043b\u044c\u043d\u0438\u0446\u0430 \u043c\u0443\u0437\u044b\u043a\u0438 \u043c\u0438\u0441\u0441 \u042d\u0434\u043c\u0443\u043d\u0434\u0441, \u0434\u043e\u0431\u0440\u0430\u044f \u0438 \u0443\u043c\u043d\u0430\u044f \u043c\u043e\u043b\u043e\u0434\u0430\u044f \u0436\u0435\u043d\u0449\u0438\u043d\u0430, \u043f\u0440\u0438\u0433\u043b\u0430\u0448\u0430\u0435\u0442 \u0414\u0436\u0435\u0441\u0441\u0430 \u0441\u044a\u0435\u0437\u0434\u0438\u0442\u044c \u0432\u043c\u0435\u0441\u0442\u0435 \u0441 \u043d\u0435\u0439 \u0432 \u043c\u0443\u0437\u0435\u0439 \u0438\u0437\u043e\u0431\u0440\u0430\u0437\u0438\u0442\u0435\u043b\u044c\u043d\u043e\u0433\u043e \u0438\u0441\u043a\u0443\u0441\u0441\u0442\u0432\u0430, \u043f\u043e\u0442\u043e\u043c\u0443 \u0447\u0442\u043e \u0437\u043d\u0430\u0435\u0442, \u043a\u0430\u043a \u043e\u043d \u043b\u044e\u0431\u0438\u0442 \u0440\u0438\u0441\u043e\u0432\u0430\u0442\u044c. \u0414\u0436\u0435\u0441\u0441 \u0441\u043e\u0433\u043b\u0430\u0448\u0430\u0435\u0442\u0441\u044f \u0438, \u043d\u0435\u043c\u043d\u043e\u0433\u043e \u043f\u043e\u0434\u0443\u043c\u0430\u0432, \u043d\u0435 \u0437\u043e\u0432\u0451\u0442 \u041b\u0435\u0441\u043b\u0438 \u0432 \u043f\u043e\u0435\u0437\u0434\u043a\u0443, \u0442\u0430\u043a \u0447\u0442\u043e \u043e\u043d \u043f\u0440\u043e\u0432\u043e\u0434\u0438\u0442 \u0437\u0430\u043c\u0435\u0447\u0430\u0442\u0435\u043b\u044c\u043d\u044b\u0439 \u0434\u0435\u043d\u044c \u0432\u0434\u0432\u043e\u0451\u043c \u0441 \u043c\u0438\u0441\u0441 \u042d\u0434\u043c\u0443\u043d\u0434\u0441. \u0412\u0435\u0440\u043d\u0443\u0432\u0448\u0438\u0441\u044c, \u043e\u043d \u0443\u0437\u043d\u0430\u0451\u0442 \u0441\u0442\u0440\u0430\u0448\u043d\u0443\u044e \u043d\u043e\u0432\u043e\u0441\u0442\u044c: \u043f\u043e\u043a\u0430 \u043e\u043d \u0431\u044b\u043b \u0432 \u043c\u0443\u0437\u0435\u0435, \u041b\u0435\u0441\u043b\u0438 \u043e\u0442\u043f\u0440\u0430\u0432\u0438\u043b\u0430\u0441\u044c \u0432 \u0422\u0435\u0440\u0430\u0431\u0438\u0442\u0438\u044e \u043e\u0434\u043d\u0430 \u0438 \u043f\u043e\u043f\u044b\u0442\u0430\u043b\u0430\u0441\u044c \u043f\u0435\u0440\u0435\u0431\u0440\u0430\u0442\u044c\u0441\u044f \u0447\u0435\u0440\u0435\u0437 \u0440\u0435\u0447\u043a\u0443, \u043e\u0434\u043d\u0430\u043a\u043e \u0442\u0430\u0440\u0437\u0430\u043d\u043a\u0430 \u043e\u0431\u043e\u0440\u0432\u0430\u043b\u0430\u0441\u044c, \u0438 \u0434\u0435\u0432\u043e\u0447\u043a\u0430, \u0443\u043f\u0430\u0432 \u0438 \u0443\u0434\u0430\u0440\u0438\u0432\u0448\u0438\u0441\u044c \u0433\u043e\u043b\u043e\u0432\u043e\u0439 \u043e \u043a\u0430\u043c\u0435\u043d\u044c, \u0443\u0442\u043e\u043d\u0443\u043b\u0430. \u0414\u0436\u0435\u0441\u0441 \u0442\u044f\u0436\u0435\u043b\u043e \u043f\u0435\u0440\u0435\u0436\u0438\u0432\u0430\u0435\u0442 \u043f\u043e\u0442\u0435\u0440\u044e. \u041e\u043d \u0432\u0438\u043d\u0438\u0442 \u0441\u0435\u0431\u044f \u0432 \u0441\u043c\u0435\u0440\u0442\u0438 \u041b\u0435\u0441\u043b\u0438, \u0441\u0447\u0438\u0442\u0430\u044f, \u0447\u0442\u043e \u0435\u0441\u043b\u0438 \u0431\u044b \u043e\u043d \u043f\u0440\u0438\u0433\u043b\u0430\u0441\u0438\u043b \u0435\u0451 \u0441 \u0441\u043e\u0431\u043e\u0439 \u0432 \u043c\u0443\u0437\u0435\u0439, \u0442\u043e \u0442\u0440\u0430\u0433\u0435\u0434\u0438\u0438 \u0431\u044b \u043d\u0435 \u0441\u043b\u0443\u0447\u0438\u043b\u043e\u0441\u044c. \u041e\u043d \u043f\u0440\u0438\u0445\u043e\u0434\u0438\u0442 \u0432 \u0438\u0445 \u0442\u0430\u0439\u043d\u043e\u0435 \u043c\u0435\u0441\u0442\u043e \u0432 \u043b\u0435\u0441\u0443 \u0438, \u0436\u0435\u043b\u0430\u044f \u0432\u0435\u0440\u043d\u0443\u0442\u044c \u041b\u0435\u0441\u043b\u0438, \u0437\u043e\u0432\u0451\u0442 \u0435\u0451 \u0432 \u043d\u0430\u0434\u0435\u0436\u0434\u0435 \u043d\u0430 \u0435\u0451 \u0447\u0443\u0434\u0435\u0441\u043d\u043e\u0435 \u0432\u043e\u0441\u043a\u0440\u0435\u0448\u0435\u043d\u0438\u0435 \u0432 \u0438\u0445 \u0432\u043e\u043b\u0448\u0435\u0431\u043d\u043e\u0439 \u0441\u0442\u0440\u0430\u043d\u0435. \u0422\u0430\u043c \u0435\u0433\u043e \u0434\u043e\u0433\u043e\u043d\u044f\u0435\u0442 \u0438 \u0443\u0442\u0435\u0448\u0430\u0435\u0442 \u043e\u0442\u0435\u0446, \u0443\u0432\u0435\u0440\u044f\u044f, \u0447\u0442\u043e \u043e\u043d \u043d\u0438 \u0432 \u0447\u0451\u043c \u043d\u0435 \u0432\u0438\u043d\u043e\u0432\u0430\u0442, \u0438 \u043e\u043d\u0438 \u043d\u0430\u043a\u043e\u043d\u0435\u0446 \u043d\u0430\u0445\u043e\u0434\u044f\u0442 \u0434\u0440\u0443\u0433 \u0441 \u0434\u0440\u0443\u0433\u043e\u043c \u043e\u0431\u0449\u0438\u0439 \u044f\u0437\u044b\u043a. \u041a\u043e\u0433\u0434\u0430 \u0441\u043e\u0432\u0435\u0440\u0448\u0435\u043d\u043d\u043e \u0440\u0430\u0437\u0434\u0430\u0432\u043b\u0435\u043d\u043d\u043e\u0433\u043e \u0414\u0436\u0435\u0441\u0441\u0430 \u0432 \u043e\u0447\u0435\u0440\u0435\u0434\u043d\u043e\u0439 \u0440\u0430\u0437 \u0437\u0430\u0434\u0435\u0432\u0430\u0435\u0442 \u043e\u0434\u043d\u043e\u043a\u043b\u0430\u0441\u0441\u043d\u0438\u043a, \u043d\u0430\u043c\u0435\u043a\u0430\u044f \u043d\u0430 \u0441\u043c\u0435\u0440\u0442\u044c \u041b\u0435\u0441\u043b\u0438, \u0414\u0436\u0435\u0441\u0441 \u0443\u0434\u0430\u0440\u044f\u0435\u0442 \u0435\u0433\u043e \u043d\u0430 \u0433\u043b\u0430\u0437\u0430\u0445 \u0443 \u0432\u0441\u0435\u0433\u043e \u043a\u043b\u0430\u0441\u0441\u0430 \u0438 \u0441\u0442\u0440\u043e\u0433\u043e\u0439 \u0443\u0447\u0438\u0442\u0435\u043b\u044c\u043d\u0438\u0446\u044b. \u041e\u043d\u0430 \u043e\u0442\u043f\u0440\u0430\u0432\u043b\u044f\u0435\u0442 \u0435\u0433\u043e \u0432 \u043a\u043e\u0440\u0438\u0434\u043e\u0440 \u0438 \u0440\u0430\u0437\u0433\u043e\u0432\u0430\u0440\u0438\u0432\u0430\u0435\u0442 \u0441 \u043d\u0438\u043c \u043f\u043e \u0434\u0443\u0448\u0430\u043c; \u043e\u043a\u0430\u0437\u044b\u0432\u0430\u0435\u0442\u0441\u044f, \u043e\u043d\u0430 \u043d\u0435 \u0441\u043e\u0431\u0438\u0440\u0430\u0435\u0442\u0441\u044f \u0440\u0443\u0433\u0430\u0442\u044c \u0435\u0433\u043e \u0438 \u043f\u043e\u043d\u0438\u043c\u0430\u0435\u0442 \u0435\u0433\u043e \u0447\u0443\u0432\u0441\u0442\u0432\u0430, \u0442\u0430\u043a \u043a\u0430\u043a \u0441\u0430\u043c\u0430 \u0432\u0438\u0434\u0435\u043b\u0430, \u043a\u0430\u043a\u0438\u043c \u043d\u0435\u043e\u0431\u044b\u043a\u043d\u043e\u0432\u0435\u043d\u043d\u044b\u043c \u0443\u0447\u0435\u043d\u0438\u043a\u043e\u043c \u0431\u044b\u043b\u0430 \u041b\u0435\u0441\u043b\u0438. \u041f\u043e\u0441\u043b\u0435 \u0443\u0440\u043e\u043a\u043e\u0432 \u0414\u0436\u0435\u0441\u0441\u0443 \u0441\u0442\u0430\u0432\u044f\u0442 \u043f\u043e\u0434\u043d\u043e\u0436\u043a\u0443, \u043d\u043e \u0414\u0436\u0435\u043d\u0438\u0441 \u0437\u0430\u043c\u0435\u0447\u0430\u0435\u0442 \u044d\u0442\u043e \u0438 \u0432 \u043e\u0442\u043c\u0435\u0441\u0442\u043a\u0443 \u0440\u0430\u0437\u0431\u0438\u0432\u0430\u0435\u0442 \u0445\u0443\u043b\u0438\u0433\u0430\u043d\u0443 \u043d\u043e\u0441, \u043f\u043e\u043a\u0430\u0437\u044b\u0432\u0430\u044f \u0414\u0436\u0435\u0441\u0441\u0443, \u0447\u0442\u043e \u043e\u043d\u0430 \u0432\u044b\u0441\u043e\u043a\u043e \u0446\u0435\u043d\u0438\u0442 \u043f\u0430\u043c\u044f\u0442\u044c \u043e \u041b\u0435\u0441\u043b\u0438. \u0420\u043e\u0434\u0438\u0442\u0435\u043b\u0438 \u041b\u0435\u0441\u043b\u0438, \u043d\u0435 \u0432 \u0441\u043e\u0441\u0442\u043e\u044f\u043d\u0438\u0438 \u0437\u0434\u0435\u0441\u044c \u043e\u0441\u0442\u0430\u0432\u0430\u0442\u044c\u0441\u044f, \u043f\u0440\u043e\u0434\u0430\u044e\u0442 \u0434\u043e\u043c \u0438 \u0443\u0435\u0437\u0436\u0430\u044e\u0442. \u041f\u043e\u043f\u0440\u043e\u0441\u0438\u0432 \u043d\u0430\u043f\u043e\u0441\u043b\u0435\u0434\u043e\u043a \u0443 \u043c\u0438\u0441\u0442\u0435\u0440\u0430 \u0411\u0451\u0440\u043a\u0430 \u0440\u0430\u0437\u0440\u0435\u0448\u0435\u043d\u0438\u0435 \u0432\u0437\u044f\u0442\u044c \u0434\u043e\u0441\u043a\u0438 \u0443 \u0438\u0445 \u043a\u0440\u044b\u043b\u044c\u0446\u0430, \u0414\u0436\u0435\u0441\u0441 \u0441\u0442\u0440\u043e\u0438\u0442 \u043c\u043e\u0441\u0442 \u0447\u0435\u0440\u0435\u0437 \u0440\u0435\u043a\u0443 \u043d\u0430 \u0443\u043f\u0430\u0432\u0448\u0435\u043c \u0431\u043e\u043b\u044c\u0448\u043e\u043c \u0434\u0435\u0440\u0435\u0432\u0435 \u0438 \u043f\u0440\u0438\u0433\u043b\u0430\u0448\u0430\u0435\u0442 \u0432 \u0441\u043a\u0430\u0437\u043e\u0447\u043d\u043e\u0435 \u043f\u0443\u0442\u0435\u0448\u0435\u0441\u0442\u0432\u0438\u0435 \u041c\u044d\u0439 \u0411\u0435\u043b\u043b\u044c, \u043a\u043e\u0442\u043e\u0440\u0430\u044f \u0442\u043e\u0436\u0435 \u0434\u0440\u0443\u0436\u0438\u043b\u0430 \u0441 \u041b\u0435\u0441\u043b\u0438. \u0420\u0430\u043d\u044c\u0448\u0435 \u043e\u043d \u0432\u0441\u0435\u0433\u0434\u0430 \u043e\u0442\u043a\u0430\u0437\u044b\u0432\u0430\u043b\u0441\u044f \u0431\u0440\u0430\u0442\u044c \u0435\u0451 \u0432 \u043b\u0435\u0441, \u043f\u043e\u0442\u043e\u043c\u0443 \u0447\u0442\u043e \u0441\u0447\u0438\u0442\u0430\u043b \u0422\u0435\u0440\u0430\u0431\u0438\u0442\u0438\u044e \u043c\u0435\u0441\u0442\u043e\u043c, \u0434\u043e\u0441\u0442\u0443\u043f\u043d\u044b\u043c \u0442\u043e\u043b\u044c\u043a\u043e \u041b\u0435\u0441\u043b\u0438 \u0438 \u0435\u043c\u0443, \u043d\u043e \u0442\u0435\u043f\u0435\u0440\u044c \u043e\u043d \u043b\u0438\u0447\u043d\u043e \u043f\u0440\u0438\u0432\u043e\u0434\u0438\u0442 \u0441\u044e\u0434\u0430 \u0441\u0435\u0441\u0442\u0440\u0443 \u0438 \u043e\u0431\u044a\u044f\u0432\u043b\u044f\u0435\u0442 \u0435\u0451 \u043d\u043e\u0432\u043e\u0439 \u043a\u043e\u0440\u043e\u043b\u0435\u0432\u043e\u0439 \u0422\u0435\u0440\u0430\u0431\u0438\u0442\u0438\u0438. \u0421\u0430\u043c \u0436\u0435 \u043e\u043d \u043f\u043e \u043f\u0440\u043e\u0441\u044c\u0431\u0435 \u041c\u044d\u0439 \u0411\u0435\u043b\u043b\u044c \u0441\u0442\u0430\u043d\u043e\u0432\u0438\u0442\u0441\u044f \u0437\u0434\u0435\u0441\u044c \u043a\u043e\u0440\u043e\u043b\u0451\u043c. \u0412 \u043f\u044f\u0442\u043e\u043c \u043a\u043b\u0430\u0441\u0441\u0435 \u0414\u0436\u0435\u0441\u0441\u0430 \u0410\u0430\u0440\u043e\u043d\u0441 \u043c\u0435\u0447\u0442\u0430\u0435\u0442 \u0441\u0442\u0430\u0442\u044c \u0441\u0430\u043c\u044b\u043c \u0431\u044b\u0441\u0442\u0440\u044b\u043c \u0431\u0435\u0433\u0443\u043d\u043e\u043c, \u043d\u043e \u0435\u0433\u043e \u043d\u0430\u0434\u0435\u0436\u0434\u044b \u0440\u0443\u0448\u0430\u0442\u0441\u044f, \u043a\u043e\u0433\u0434\u0430 \u043d\u043e\u0432\u0435\u043d\u044c\u043a\u0430\u044f \u041b\u0435\u0441\u043b\u0438 \u0411\u0435\u0440\u043a \u0432\u044b\u0438\u0433\u0440\u044b\u0432\u0430\u0435\u0442 \u0441\u043e\u0440\u0435\u0432\u043d\u043e\u0432\u0430\u043d\u0438\u044f. \u041d\u0435\u0441\u043c\u043e\u0442\u0440\u044f \u043d\u0430 \u043d\u0430\u0447\u0430\u043b\u044c\u043d\u044b\u0435 \u0440\u0430\u0437\u043d\u043e\u0433\u043b\u0430\u0441\u0438\u044f, \u043c\u0435\u0436\u0434\u0443 \u043d\u0438\u043c\u0438 \u0437\u0430\u0432\u044f\u0437\u044b\u0432\u0430\u0435\u0442\u0441\u044f \u043a\u0440\u0435\u043f\u043a\u0430\u044f \u0434\u0440\u0443\u0436\u0431\u0430, \u0438 \u0432\u043c\u0435\u0441\u0442\u0435 \u043e\u043d\u0438 \u043e\u0431\u043d\u0430\u0440\u0443\u0436\u0438\u0432\u0430\u044e\u0442 \u0432\u043e\u043b\u0448\u0435\u0431\u043d\u043e\u0435 \u0446\u0430\u0440\u0441\u0442\u0432\u043e \u0432 \u043b\u0435\u0441\u0443. \u0412 \u044d\u0442\u043e\u043c \u0442\u0430\u0439\u043d\u043e\u043c \u043c\u0435\u0441\u0442\u0435 \u043e\u043d\u0438 \u0441\u0442\u0430\u043d\u043e\u0432\u044f\u0442\u0441\u044f \u043a\u043e\u0440\u043e\u043b\u0435\u043c \u0438 \u043a\u043e\u0440\u043e\u043b\u0435\u0432\u043e\u0439, \u0441\u043e\u0437\u0434\u0430\u0432\u0430\u044f \u0441\u043e\u0431\u0441\u0442\u0432\u0435\u043d\u043d\u044b\u0439 \u043c\u0438\u0440 \u0438 \u0441\u0431\u0435\u0433\u0430\u044f \u043e\u0442 \u043f\u0440\u043e\u0431\u043b\u0435\u043c \u0440\u0435\u0430\u043b\u044c\u043d\u043e\u0439 \u0436\u0438\u0437\u043d\u0438.'"
            ]
          },
          "metadata": {},
          "execution_count": 11
        }
      ],
      "execution_count": null
    },
    {
      "metadata": {},
      "source": [
        "summarize(df[\"plot_desc\"][5], compression=0.1)"
      ],
      "cell_type": "code",
      "outputs": [
        {
          "output_type": "execute_result",
          "data": {
            "text/plain": [
              "'\u0412 \u0448\u043a\u043e\u043b\u0435 \u0443 \u0414\u0436\u0435\u0441\u0441\u0430 \u0410\u0430\u0440\u043e\u043d\u0441\u0430 \u0441\u043e\u0432\u0441\u0435\u043c \u043d\u0435\u0442 \u0434\u0440\u0443\u0437\u0435\u0439. \u041e\u043d\u0438 \u043e\u0431\u044a\u0435\u0434\u0438\u043d\u044f\u044e\u0442\u0441\u044f \u043f\u0440\u043e\u0442\u0438\u0432 \u043a\u043e\u043c\u043f\u0430\u043d\u0438\u0438 \u0441\u0442\u0430\u0440\u0448\u0438\u0445 \u0443\u0447\u0435\u043d\u0438\u0446 \u0432\u043e \u0433\u043b\u0430\u0432\u0435 \u0441 \u0414\u0436\u0435\u043d\u0438\u0441 \u042d\u0439\u0432\u0435\u0440\u0438, \u043a\u043e\u0442\u043e\u0440\u044b\u0435 \u0432\u044b\u043c\u043e\u0433\u0430\u044e\u0442 \u0443 \u0431\u043e\u043b\u0435\u0435 \u0441\u043b\u0430\u0431\u044b\u0445 \u043f\u043e \u0441\u0440\u0430\u0432\u043d\u0435\u043d\u0438\u044e \u0441 \u043d\u0438\u043c\u0438 \u043c\u043b\u0430\u0434\u0448\u0435\u043a\u043b\u0430\u0441\u0441\u043d\u0438\u043a\u043e\u0432.'"
            ]
          },
          "metadata": {},
          "execution_count": 19
        }
      ],
      "execution_count": null
    },
    {
      "metadata": {},
      "source": [],
      "cell_type": "code",
      "outputs": [
        {
          "output_type": "execute_result",
          "data": {
            "text/plain": [
              "'\u0414\u0435\u0439\u0441\u0442\u0432\u0438\u0435 \u0444\u0438\u043b\u044c\u043c\u0430 \u00ab\u0414\u0438\u0432\u0435\u0440\u0433\u0435\u043d\u0442\u00bb \u043f\u0440\u043e\u0438\u0441\u0445\u043e\u0434\u0438\u0442 \u0432 \u043c\u0438\u0440\u0435, \u043f\u0435\u0440\u0435\u0436\u0438\u0432\u0448\u0435\u043c \u0433\u043b\u043e\u0431\u0430\u043b\u044c\u043d\u0443\u044e \u0432\u043e\u0439\u043d\u0443, \u0432 \u0444\u0443\u0442\u0443\u0440\u0438\u0441\u0442\u0438\u0447\u0435\u0441\u043a\u043e\u043c \u0427\u0438\u043a\u0430\u0433\u043e, \u0433\u0434\u0435 \u043e\u0431\u0449\u0435\u0441\u0442\u0432\u043e \u0440\u0430\u0437\u0434\u0435\u043b\u0435\u043d\u043e \u043d\u0430 \u043f\u044f\u0442\u044c \u0444\u0440\u0430\u043a\u0446\u0438\u0439: \u00ab\u042d\u0440\u0443\u0434\u0438\u0446\u0438\u044f\u00bb (Erudite), \u00ab\u0414\u0440\u0443\u0436\u0435\u043b\u044e\u0431\u0438\u0435\u00bb (Amity), \u00ab\u0418\u0441\u043a\u0440\u0435\u043d\u043d\u043e\u0441\u0442\u044c\u00bb (Candor), \u00ab\u041e\u0442\u0440\u0435\u0447\u0435\u043d\u0438\u0435\u00bb (Abnegation) \u0438 \u00ab\u0411\u0435\u0441\u0441\u0442\u0440\u0430\u0448\u0438\u0435\u00bb (Dauntless). \u041a\u0430\u0436\u0434\u0430\u044f \u0438\u0437 \u043d\u0438\u0445 \u043e\u0431\u044a\u0435\u0434\u0438\u043d\u044f\u0435\u0442 \u0432 \u0441\u0435\u0431\u0435 \u043f\u0440\u0435\u0434\u0441\u0442\u0430\u0432\u0438\u0442\u0435\u043b\u0435\u0439 \u043e\u043f\u0440\u0435\u0434\u0435\u043b\u0451\u043d\u043d\u043e\u0433\u043e \u0442\u0438\u043f\u0430. \u041a\u0430\u0436\u0434\u044b\u0439 \u0432\u0437\u0440\u043e\u0441\u043b\u044b\u0439 \u0436\u0438\u0442\u0435\u043b\u044c, \u0434\u043e\u0441\u0442\u0438\u0433\u0448\u0438\u0439 16 \u043b\u0435\u0442, \u0434\u043e\u043b\u0436\u0435\u043d \u043f\u0440\u043e\u0439\u0442\u0438 \u0442\u0435\u0441\u0442, \u0447\u0442\u043e\u0431\u044b \u043e\u043f\u0440\u0435\u0434\u0435\u043b\u0438\u0442\u044c, \u043a \u043a\u0430\u043a\u043e\u0439 \u0444\u0440\u0430\u043a\u0446\u0438\u0438 \u043e\u043d \u043f\u0440\u0438\u043d\u0430\u0434\u043b\u0435\u0436\u0438\u0442, \u0430 \u043d\u0430 \u043f\u043e\u0441\u0432\u044f\u0449\u0435\u043d\u0438\u0438 \u043b\u0438\u0431\u043e \u0434\u043e\u0432\u0435\u0440\u0438\u0442\u044c\u0441\u044f \u0442\u0435\u0441\u0442\u0443 \u0438 \u043e\u0441\u0442\u0430\u0442\u044c\u0441\u044f \u0432 \u0441\u0432\u043e\u0435\u0439 \u0444\u0440\u0430\u043a\u0446\u0438\u0438, \u043b\u0438\u0431\u043e \u043f\u043e \u0437\u043e\u0432\u0443 \u0434\u0443\u0448\u0438 \u0432\u044b\u0431\u0440\u0430\u0442\u044c \u0434\u0440\u0443\u0433\u0443\u044e \u0444\u0440\u0430\u043a\u0446\u0438\u044e. \u0413\u043b\u0430\u0432\u043d\u0430\u044f \u0433\u0435\u0440\u043e\u0438\u043d\u044f \u0411\u0435\u0430\u0442\u0440\u0438\u0441 \u041f\u0440\u0430\u0439\u043e\u0440, \u043f\u0440\u043e\u0445\u043e\u0434\u044f \u0442\u0435\u0441\u0442, \u043e\u0431\u043d\u0430\u0440\u0443\u0436\u0438\u043b\u0430, \u0447\u0442\u043e \u0435\u0439 \u043f\u043e\u0434\u0445\u043e\u0434\u044f\u0442 \u0441\u0440\u0430\u0437\u0443 \u0432\u0441\u0435 \u0444\u0440\u0430\u043a\u0446\u0438\u0438. \u0422\u0430\u043a\u0438\u0445 \u043b\u044e\u0434\u0435\u0439 \u043d\u0430\u0437\u044b\u0432\u0430\u044e\u0442 \u0434\u0438\u0432\u0435\u0440\u0433\u0435\u043d\u0442\u0430\u043c\u0438. \u041e\u0431\u0449\u0435\u0441\u0442\u0432\u043e \u043e\u0447\u0435\u043d\u044c \u0431\u043e\u044f\u043b\u043e\u0441\u044c \u0434\u0438\u0432\u0435\u0440\u0433\u0435\u043d\u0442\u043e\u0432, \u0438\u0431\u043e \u043e\u043d\u0438 \u043d\u0435 \u0443\u043c\u0435\u044e\u0442 \u043f\u043e\u0434\u0447\u0438\u043d\u044f\u0442\u044c\u0441\u044f \u0438 \u043d\u0435\u0441\u0442\u0430\u043d\u0434\u0430\u0440\u0442\u043d\u043e \u043c\u044b\u0441\u043b\u044f\u0442. \u041d\u0435 \u043f\u0440\u0438\u0437\u043d\u0430\u0432\u0430\u044f\u0441\u044c, \u0411\u0435\u0430\u0442\u0440\u0438\u0441 \u0432\u044b\u0431\u0438\u0440\u0430\u0435\u0442 \u00ab\u0411\u0435\u0441\u0441\u0442\u0440\u0430\u0448\u0438\u0435\u00bb, \u043f\u043e\u0442\u043e\u043c\u0443 \u0447\u0442\u043e \u0432\u0441\u0435\u0433\u0434\u0430 \u0432\u043e\u0441\u0445\u0438\u0449\u0430\u043b\u0430\u0441\u044c \u044d\u0442\u043e\u0439 \u0444\u0440\u0430\u043a\u0446\u0438\u0435\u0439. \u0412 \u0440\u0435\u0437\u0443\u043b\u044c\u0442\u0430\u0442\u0435 \u043e\u043d\u0430 \u043f\u0440\u0438\u043e\u0431\u0440\u0435\u0442\u0430\u0435\u0442 \u043d\u043e\u0432\u044b\u0439 \u0434\u043e\u043c, \u043d\u043e\u0432\u044b\u0445 \u0434\u0440\u0443\u0437\u0435\u0439 \u2014 \u041a\u0440\u0438\u0441\u0442\u0438\u043d\u0443, \u0423\u0438\u043b\u043b\u0430 \u0438 \u0410\u043b\u0430 \u2014 \u0438 \u043d\u043e\u0432\u043e\u0433\u043e \u0432\u0440\u0430\u0433\u0430 \u041f\u0438\u0442\u0435\u0440\u0430, \u0432\u043b\u044e\u0431\u043b\u044f\u0435\u0442\u0441\u044f \u0432 \u0441\u0432\u043e\u0435\u0433\u043e \u0438\u043d\u0441\u0442\u0440\u0443\u043a\u0442\u043e\u0440\u0430 \u0424\u043e\u0440\u0430 \u0438 \u043c\u0435\u043d\u044f\u0435\u0442 \u0441\u0432\u043e\u0451 \u0438\u043c\u044f \u043d\u0430 \u0422\u0440\u0438\u0441. \u041f\u0435\u0440\u0432\u0430\u044f \u043f\u043e\u0434\u0433\u043e\u0442\u043e\u0432\u043a\u0430 \u0434\u0430\u0451\u0442\u0441\u044f \u0422\u0440\u0438\u0441 \u0434\u043e\u0432\u043e\u043b\u044c\u043d\u043e \u0442\u044f\u0436\u0435\u043b\u043e. \u041e\u043d\u0430 \u0434\u0432\u0430 \u0440\u0430\u0437\u0430 \u043f\u0440\u043e\u0438\u0433\u0440\u0430\u043b\u0430 \u0431\u043e\u0439, \u0431\u044b\u043b\u0430 \u0438\u0441\u043a\u043b\u044e\u0447\u0435\u043d\u0430 \u0438\u0437 \u0444\u0440\u0430\u043a\u0446\u0438\u0438, \u043d\u043e \u0432\u0441\u0451 \u0436\u0435 \u0435\u0439 \u0443\u0434\u0430\u043b\u043e\u0441\u044c \u043e\u0441\u0442\u0430\u0442\u044c\u0441\u044f \u0438 \u0434\u043e\u0431\u0438\u0442\u044c\u0441\u044f \u0443\u0432\u0430\u0436\u0435\u043d\u0438\u044f. \u0412\u0442\u043e\u0440\u0430\u044f \u043f\u043e\u0434\u0433\u043e\u0442\u043e\u0432\u043a\u0430 \u0432\u043a\u043b\u044e\u0447\u0430\u043b\u0430 \u0432 \u0441\u0435\u0431\u044f \u043f\u0440\u0435\u043e\u0434\u043e\u043b\u0435\u043d\u0438\u0435 \u0441\u0432\u043e\u0438\u0445 \u0441\u043a\u0440\u044b\u0442\u044b\u0445 \u0441\u0442\u0440\u0430\u0445\u043e\u0432. \u0422\u0440\u0438\u0441 \u0441\u043f\u0440\u0430\u0432\u043b\u044f\u043b\u0430\u0441\u044c \u0433\u043e\u0440\u0430\u0437\u0434\u043e \u0431\u044b\u0441\u0442\u0440\u0435\u0435 \u043e\u0441\u0442\u0430\u043b\u044c\u043d\u044b\u0445, \u0438 \u044d\u0442\u043e \u043d\u0430\u0441\u0442\u043e\u0440\u043e\u0436\u0438\u043b\u043e \u0424\u043e\u0440\u0430. \u041f\u043e\u0441\u043b\u0435 \u0442\u0435\u0441\u0442\u0430 \u0422\u043e\u0440\u0438 \u043f\u043e\u0432\u0435\u0434\u0430\u043b\u0430 \u0435\u0439 \u0438\u0441\u0442\u043e\u0440\u0438\u044e \u043e \u0441\u0432\u043e\u0451\u043c \u0431\u0440\u0430\u0442\u0435, \u043a\u043e\u0442\u043e\u0440\u044b\u0439 \u0442\u043e\u0436\u0435 \u0431\u044b\u0441\u0442\u0440\u043e \u0441\u043f\u0440\u0430\u0432\u043b\u044f\u043b\u0441\u044f \u0441 \u0442\u0435\u0441\u0442\u043e\u043c, \u043d\u043e \u043f\u043e\u0441\u043b\u0435 \u0438\u0442\u043e\u0433\u043e\u0432\u043e\u0433\u043e \u0442\u0435\u0441\u0442\u0430 \u0435\u0433\u043e \u0443\u0431\u0438\u043b\u0438. \u0412 \u043e\u0442\u0447\u0430\u044f\u043d\u0438\u0438 \u0422\u0440\u0438\u0441 \u043e\u0442\u043f\u0440\u0430\u0432\u043b\u044f\u0435\u0442\u0441\u044f \u0432 \u00ab\u042d\u0440\u0443\u0434\u0438\u0446\u0438\u044e\u00bb \u043a \u0441\u0432\u043e\u0435\u043c\u0443 \u0431\u0440\u0430\u0442\u0443 \u041a\u0430\u043b\u0435\u0431\u0443. \u0422\u043e\u0442 \u0441\u0447\u0438\u0442\u0430\u0435\u0442, \u0447\u0442\u043e \u043e\u0431\u0449\u0435\u0441\u0442\u0432\u043e\u043c \u0434\u043e\u043b\u0436\u043d\u044b \u0443\u043f\u0440\u0430\u0432\u043b\u044f\u0442\u044c \u044d\u0440\u0443\u0434\u0438\u0442\u044b, \u0422\u0440\u0438\u0441 \u043e\u0431\u0438\u0436\u0430\u0435\u0442\u0441\u044f \u043d\u0430 \u0431\u0440\u0430\u0442\u0430. \u041a\u043e\u0433\u0434\u0430 \u0422\u0440\u0438\u0441 \u0432\u043e\u0437\u0432\u0440\u0430\u0449\u0430\u0435\u0442\u0441\u044f \u0434\u043e\u043c\u043e\u0439, \u043d\u0430 \u043d\u0435\u0451 \u043d\u0430\u043f\u0430\u0434\u0430\u044e\u0442 \u0442\u0440\u0438 \u0447\u0435\u043b\u043e\u0432\u0435\u043a\u0430, \u043e\u0442\u0432\u043e\u0434\u044f\u0442 \u043a \u043f\u0440\u043e\u043f\u0430\u0441\u0442\u0438 \u0438 \u043f\u044b\u0442\u0430\u044e\u0442\u0441\u044f \u0435\u0451 \u0441\u0431\u0440\u043e\u0441\u0438\u0442\u044c. \u0422\u0440\u0438\u0441 \u0440\u0430\u0437\u043e\u0431\u043b\u0430\u0447\u0430\u0435\u0442 \u043e\u0434\u043d\u043e\u0433\u043e \u0438\u0437 \u043d\u0438\u0445 \u2014 \u0410\u043b\u0430, \u043d\u043e \u043f\u043e\u044f\u0432\u043b\u044f\u0435\u0442\u0441\u044f \u0424\u043e\u0440 \u0438 \u0441\u043f\u0430\u0441\u0430\u0435\u0442 \u0435\u0451. \u041d\u0430 \u0441\u043b\u0435\u0434\u0443\u044e\u0449\u0438\u0439 \u0434\u0435\u043d\u044c \u0410\u043b \u043f\u044b\u0442\u0430\u0435\u0442\u0441\u044f \u043f\u0440\u043e\u0441\u0438\u0442\u044c \u043f\u0440\u043e\u0449\u0435\u043d\u0438\u044f \u0443 \u0422\u0440\u0438\u0441, \u043d\u043e \u0442\u0430 \u043f\u0440\u0435\u0434\u0443\u043f\u0440\u0435\u0436\u0434\u0430\u0435\u0442 \u0435\u0433\u043e, \u0447\u0442\u043e \u0443\u0431\u044c\u0451\u0442, \u0435\u0441\u043b\u0438 \u043e\u043d \u043f\u043e\u0434\u043e\u0439\u0434\u0451\u0442 \u043a \u043d\u0435\u0439 \u0435\u0449\u0451 \u0440\u0430\u0437, \u043f\u043e\u0441\u043b\u0435 \u0447\u0435\u0433\u043e \u0410\u043b \u043a\u043e\u043d\u0447\u0430\u0435\u0442 \u0436\u0438\u0437\u043d\u044c \u0441\u0430\u043c\u043e\u0443\u0431\u0438\u0439\u0441\u0442\u0432\u043e\u043c, \u043f\u0440\u044b\u0433\u043d\u0443\u0432 \u0432 \u043f\u0440\u043e\u043f\u0430\u0441\u0442\u044c. \u0422\u0440\u0438\u0441 \u0432\u0438\u043d\u0438\u0442 \u0441\u0435\u0431\u044f \u0432 \u0441\u0430\u043c\u043e\u0443\u0431\u0438\u0439\u0441\u0442\u0432\u0435 \u0410\u043b\u0430, \u043e\u0434\u043d\u0430\u043a\u043e \u0424\u043e\u0440 \u0435\u0451 \u0443\u0441\u043f\u043e\u043a\u0430\u0438\u0432\u0430\u0435\u0442 \u0438 \u043f\u0440\u0435\u0434\u043b\u0430\u0433\u0430\u0435\u0442 \u0435\u0439 \u043f\u043e\u0442\u0440\u0435\u043d\u0438\u0440\u043e\u0432\u0430\u0442\u044c\u0441\u044f \u043d\u0430 \u0435\u0433\u043e \u0441\u0442\u0440\u0430\u0445\u0430\u0445, \u0438 \u0447\u0442\u043e\u0431\u044b \u0432 \u0434\u0430\u043b\u044c\u043d\u0435\u0439\u0448\u0435\u043c \u0422\u0440\u0438\u0441 \u043d\u0435 \u0440\u0430\u0437\u043e\u0431\u043b\u0430\u0447\u0438\u043b\u0438, \u043e\u043d\u0430 \u0434\u043e\u043b\u0436\u043d\u0430 \u043f\u0440\u0435\u043e\u0434\u043e\u043b\u0435\u0432\u0430\u0442\u044c \u0441\u0432\u043e\u0438 \u0441\u0442\u0440\u0430\u0445\u0438 \u043d\u0435 \u043a\u0430\u043a \u0434\u0438\u0432\u0435\u0440\u0433\u0435\u043d\u0442, \u0430 \u043a\u0430\u043a \u0431\u0435\u0441\u0441\u0442\u0440\u0430\u0448\u043d\u0430\u044f. \u041d\u0430\u043a\u0430\u043d\u0443\u043d\u0435 \u0438\u0442\u043e\u0433\u043e\u0432\u043e\u0433\u043e \u0442\u0435\u0441\u0442\u0430 \u0424\u043e\u0440 \u043f\u043e\u043a\u0430\u0437\u044b\u0432\u0430\u0435\u0442 \u0435\u0439 \u00ab\u0421\u044b\u0432\u043e\u0440\u043e\u0442\u043a\u0443 \u043c\u043e\u0434\u0435\u043b\u0438\u0440\u043e\u0432\u0430\u043d\u0438\u044f\u00bb, \u043a\u043e\u0442\u043e\u0440\u0430\u044f \u043f\u043e\u0437\u0432\u043e\u043b\u044f\u0435\u0442 \u0443\u043f\u0440\u0430\u0432\u043b\u044f\u0442\u044c \u0447\u0435\u043b\u043e\u0432\u0435\u043a\u043e\u043c \u0447\u0435\u0440\u0435\u0437 \u043a\u043e\u043c\u043f\u044c\u044e\u0442\u0435\u0440. \u041f\u043e\u0441\u043b\u0435 \u0442\u0435\u0441\u0442\u0430 \u0432\u0441\u0435\u043c \u043d\u043e\u0432\u044b\u043c \u0447\u043b\u0435\u043d\u0430\u043c \u00ab\u0411\u0435\u0441\u0441\u0442\u0440\u0430\u0448\u0438\u044f\u00bb \u0441\u0434\u0435\u043b\u0430\u043b\u0438 \u0443\u043a\u043e\u043b, \u043f\u043e\u044f\u0441\u043d\u0438\u0432, \u0447\u0442\u043e \u0432\u0436\u0438\u0432\u043b\u044f\u044e\u0442 \u00ab\u0434\u0430\u0442\u0447\u0438\u043a \u0441\u043b\u0435\u0436\u0435\u043d\u0438\u044f\u00bb. \u041d\u0430 \u0441\u043b\u0435\u0434\u0443\u044e\u0449\u0435\u0435 \u0443\u0442\u0440\u043e \u0422\u0440\u0438\u0441 \u043e\u0431\u043d\u0430\u0440\u0443\u0436\u0438\u0432\u0430\u0435\u0442, \u0447\u0442\u043e \u0432\u0441\u0435 \u0431\u0435\u0441\u0441\u0442\u0440\u0430\u0448\u043d\u044b\u0435 \u0432\u0435\u0434\u0443\u0442 \u0441\u0435\u0431\u044f \u0441\u0442\u0440\u0430\u043d\u043d\u043e. \u041e\u043a\u0430\u0437\u044b\u0432\u0430\u0435\u0442\u0441\u044f, \u044d\u0442\u043e \u0431\u044b\u043b \u043d\u0435 \u0434\u0430\u0442\u0447\u0438\u043a \u0441\u043b\u0435\u0436\u0435\u043d\u0438\u044f, \u0430 \u0441\u044b\u0432\u043e\u0440\u043e\u0442\u043a\u0430 \u043c\u043e\u0434\u0435\u043b\u0438\u0440\u043e\u0432\u0430\u043d\u0438\u044f, \u043a\u043e\u0442\u043e\u0440\u0430\u044f \u043d\u0435 \u043f\u043e\u0434\u0435\u0439\u0441\u0442\u0432\u043e\u0432\u0430\u043b\u0430 \u043d\u0430 \u0422\u0440\u0438\u0441. \u041d\u0430\u043f\u0440\u0430\u0432\u043b\u044f\u044f\u0441\u044c \u043d\u0430 \u043f\u043e\u0435\u0437\u0434\u0435 \u0441 \u043e\u0441\u0442\u0430\u043b\u044c\u043d\u044b\u043c\u0438 \u0431\u0435\u0441\u0441\u0442\u0440\u0430\u0448\u043d\u044b\u043c\u0438 \u0432\u043e \u0444\u0440\u0430\u043a\u0446\u0438\u044e \u00ab\u041e\u0442\u0440\u0435\u0447\u0435\u043d\u0438\u0435\u00bb, \u0422\u0440\u0438\u0441 \u0432\u0441\u0442\u0440\u0435\u0447\u0430\u0435\u0442 \u0424\u043e\u0440\u0430, \u043a\u0430\u043a \u043e\u043a\u0430\u0437\u0430\u043b\u043e\u0441\u044c, \u00ab\u0441\u044b\u0432\u043e\u0440\u043e\u0442\u043a\u0430\u00bb \u043d\u0435 \u043f\u043e\u0434\u0435\u0439\u0441\u0442\u0432\u043e\u0432\u0430\u043b\u0430 \u0438 \u043d\u0430 \u043d\u0435\u0433\u043e. \u041f\u043e \u043f\u0440\u0438\u0431\u044b\u0442\u0438\u0438 \u0431\u0435\u0441\u0441\u0442\u0440\u0430\u0448\u043d\u044b\u0435 \u0441\u0442\u0430\u043b\u0438 \u0443\u0431\u0438\u0432\u0430\u0442\u044c \u0436\u0438\u0442\u0435\u043b\u0435\u0439 \u00ab\u041e\u0442\u0440\u0435\u0447\u0435\u043d\u0438\u044f\u00bb. \u0422\u0440\u0438\u0441 \u0438 \u0424\u043e\u0440 \u043f\u0440\u0438\u0442\u0432\u043e\u0440\u044f\u044e\u0442\u0441\u044f, \u0431\u0443\u0434\u0442\u043e \u0438\u043c\u0438 \u0443\u043f\u0440\u0430\u0432\u043b\u044f\u044e\u0442, \u043d\u043e \u0438\u0445 \u0440\u0430\u0441\u0441\u0435\u043a\u0440\u0435\u0447\u0438\u0432\u0430\u044e\u0442 \u0438 \u043e\u0442\u0432\u043e\u0434\u044f\u0442 \u043a \u0414\u0436\u0430\u043d\u0438\u043d, \u043a\u043e\u0442\u043e\u0440\u0430\u044f \u0441\u0442\u043e\u0438\u0442 \u0437\u0430 \u0432\u0441\u0435\u043c \u043f\u0440\u043e\u0438\u0441\u0445\u043e\u0434\u044f\u0449\u0438\u043c. \u041e\u043d\u0430 \u0441\u0447\u0438\u0442\u0430\u0435\u0442, \u0447\u0442\u043e \u043e\u0431\u0449\u0435\u0441\u0442\u0432\u043e\u043c \u0434\u043e\u043b\u0436\u043d\u0430 \u0443\u043f\u0440\u0430\u0432\u043b\u044f\u0442\u044c \u00ab\u042d\u0440\u0443\u0434\u0438\u0446\u0438\u044f\u00bb, \u0430 \u043e\u0442 \u00ab\u041e\u0442\u0440\u0435\u0447\u0435\u043d\u0438\u044f\u00bb \u043d\u0443\u0436\u043d\u043e \u0438\u0437\u0431\u0430\u0432\u0438\u0442\u044c\u0441\u044f. \u041e\u0440\u0443\u0436\u0438\u0435\u043c \u0443\u043c\u0435\u044e\u0442 \u0432\u043b\u0430\u0434\u0435\u0442\u044c \u0442\u043e\u043b\u044c\u043a\u043e \u0431\u0435\u0441\u0441\u0442\u0440\u0430\u0448\u043d\u044b\u0435, \u043d\u043e \u043e\u043d\u0438 \u043d\u0438 \u0437\u0430 \u0447\u0442\u043e \u043d\u0435 \u0441\u043e\u0433\u043b\u0430\u0441\u044f\u0442\u0441\u044f \u0443\u0431\u0438\u0432\u0430\u0442\u044c \u043e\u0442\u0440\u0435\u0447\u0435\u043d\u043d\u044b\u0445, \u043f\u043e\u044d\u0442\u043e\u043c\u0443 \u0432 \u00ab\u042d\u0440\u0443\u0434\u0438\u0446\u0438\u0438\u00bb \u0441\u043e\u0437\u0434\u0430\u043b\u0438 \u0441\u044b\u0432\u043e\u0440\u043e\u0442\u043a\u0443 \u043c\u043e\u0434\u0435\u043b\u0438\u0440\u043e\u0432\u0430\u043d\u0438\u044f, \u0447\u0442\u043e\u0431\u044b \u043c\u043e\u0436\u043d\u043e \u0431\u044b\u043b\u043e \u0438\u043c\u0438 \u0443\u043f\u0440\u0430\u0432\u043b\u044f\u0442\u044c \u0447\u0435\u0440\u0435\u0437 \u0433\u043b\u0430\u0432\u043d\u044b\u0439 \u043a\u043e\u043c\u043f\u044c\u044e\u0442\u0435\u0440. \u0424\u043e\u0440\u0430 \u0443\u0432\u043e\u0437\u044f\u0442, \u0430 \u0422\u0440\u0438\u0441 \u043f\u0440\u0438\u043a\u0430\u0437\u044b\u0432\u0430\u044e\u0442 \u043a\u0430\u0437\u043d\u0438\u0442\u044c, \u043d\u043e \u0435\u0451 \u0441\u043f\u0430\u0441\u0430\u0435\u0442 \u0435\u0451 \u043c\u0430\u0442\u044c. \u0412\u0434\u0432\u043e\u0435\u043c \u043e\u043d\u0438 \u043f\u044b\u0442\u0430\u044e\u0442\u0441\u044f \u0434\u043e\u0431\u0440\u0430\u0442\u044c\u0441\u044f \u0434\u043e \u0443\u0431\u0435\u0436\u0438\u0449\u0430, \u043d\u043e \u043c\u0430\u0442\u044c \u0422\u0440\u0438\u0441 \u0440\u0430\u043d\u044f\u0442, \u0438 \u043e\u043d\u0430 \u0443\u043c\u0438\u0440\u0430\u0435\u0442. \u0414\u043e\u0431\u0440\u0430\u0432\u0448\u0438\u0441\u044c \u0434\u043e \u0443\u0431\u0435\u0436\u0438\u0449\u0430, \u0422\u0440\u0438\u0441, \u0435\u0451 \u043e\u0442\u0435\u0446, \u041a\u0430\u043b\u0435\u0431 \u0438 \u041c\u0430\u0440\u043a\u0443\u0441 \u2014 \u043e\u0442\u0435\u0446 \u0424\u043e\u0440\u0430 \u0438 \u043b\u0438\u0434\u0435\u0440 \u00ab\u041e\u0442\u0440\u0435\u0447\u0435\u043d\u0438\u044f\u00bb \u2014 \u0440\u0435\u0448\u0430\u044e\u0442 \u043e\u0441\u0442\u0430\u043d\u043e\u0432\u0438\u0442\u044c \u0431\u0435\u0441\u0441\u0442\u0440\u0430\u0448\u043d\u044b\u0445. \u041e\u043d\u0438 \u043e\u0442\u043f\u0440\u0430\u0432\u043b\u044f\u044e\u0442\u0441\u044f \u0432 \u00ab\u0411\u0435\u0441\u0441\u0442\u0440\u0430\u0448\u0438\u0435\u00bb, \u0431\u0435\u0440\u0443\u0442 \u0432 \u043f\u043b\u0435\u043d \u041f\u0438\u0442\u0435\u0440\u0430, \u043a\u043e\u0442\u043e\u0440\u044b\u0439 \u043f\u0440\u043e\u0432\u043e\u0434\u0438\u0442 \u0438\u0445 \u043a \u0433\u043b\u0430\u0432\u043d\u043e\u043c\u0443 \u043a\u043e\u043c\u043f\u044c\u044e\u0442\u0435\u0440\u0443, \u043e\u0442\u043a\u0443\u0434\u0430 \u0443\u043f\u0440\u0430\u0432\u043b\u044f\u044e\u0442 \u0431\u0435\u0441\u0441\u0442\u0440\u0430\u0448\u043d\u044b\u043c\u0438, \u043d\u043e \u043f\u043e \u043f\u0443\u0442\u0438 \u043f\u043e\u0433\u0438\u0431\u0430\u0435\u0442 \u043e\u0442\u0435\u0446 \u0422\u0440\u0438\u0441. \u0414\u043e\u0431\u0440\u0430\u0432\u0448\u0438\u0441\u044c \u043a \u043a\u043e\u043c\u043f\u044c\u044e\u0442\u0435\u0440\u0443, \u0422\u0440\u0438\u0441 \u043d\u0430\u0445\u043e\u0434\u0438\u0442 \u0424\u043e\u0440\u0430, \u043d\u043e \u043e\u043d \u043e\u043a\u0430\u0437\u0430\u043b\u0441\u044f \u043f\u043e\u0434 \u0441\u044b\u0432\u043e\u0440\u043e\u0442\u043a\u043e\u0439. \u0414\u0436\u0430\u043d\u0438\u043d \u043f\u0440\u0438\u043a\u0430\u0437\u044b\u0432\u0430\u0435\u0442 \u0424\u043e\u0440\u0443 \u0443\u0431\u0438\u0442\u044c \u0422\u0440\u0438\u0441, \u043d\u043e \u043e\u043d\u0430 \u043f\u0440\u0438\u0432\u043e\u0434\u0438\u0442 \u0435\u0433\u043e \u0432 \u0447\u0443\u0432\u0441\u0442\u0432\u043e, \u0438 \u043e\u043d\u0438 \u0437\u0430\u0441\u0442\u0430\u0432\u043b\u044f\u044e\u0442 \u0414\u0436\u0430\u043d\u0438\u043d \u0441\u0442\u0435\u0440\u0435\u0442\u044c \u043f\u0440\u043e\u0433\u0440\u0430\u043c\u043c\u0443 \u043c\u043e\u0434\u0435\u043b\u0438\u0440\u043e\u0432\u0430\u043d\u0438\u044f, \u043f\u043e\u0441\u043b\u0435 \u0447\u0435\u0433\u043e \u0432\u0441\u0435 \u0431\u0435\u0441\u0441\u0442\u0440\u0430\u0448\u043d\u044b\u0435 \u0441\u043d\u043e\u0432\u0430 \u043f\u0440\u0438\u0445\u043e\u0434\u044f\u0442 \u0432 \u0447\u0443\u0432\u0441\u0442\u0432\u043e. \u0412 \u0444\u0438\u043d\u0430\u043b\u0435 \u0424\u043e\u0440, \u0422\u0440\u0438\u0441, \u041a\u0430\u043b\u0435\u0431, \u041f\u0438\u0442\u0435\u0440 \u0438 \u041c\u0430\u0440\u043a\u0443\u0441 \u0441\u0430\u0434\u044f\u0442\u0441\u044f \u0432 \u043f\u043e\u0435\u0437\u0434 \u0438 \u0435\u0434\u0443\u0442 \u0434\u043e \u043a\u043e\u043d\u0435\u0447\u043d\u043e\u0439 \u0441\u0442\u0430\u043d\u0446\u0438\u0438. \u0414\u0435\u0439\u0441\u0442\u0432\u0438\u0435 \u0444\u0438\u043b\u044c\u043c\u0430 \u00ab\u0414\u0438\u0432\u0435\u0440\u0433\u0435\u043d\u0442\u00bb \u043f\u0440\u043e\u0438\u0441\u0445\u043e\u0434\u0438\u0442 \u0432 \u043c\u0438\u0440\u0435, \u043f\u0435\u0440\u0435\u0436\u0438\u0432\u0448\u0435\u043c \u0433\u043b\u043e\u0431\u0430\u043b\u044c\u043d\u0443\u044e \u0432\u043e\u0439\u043d\u0443, \u0432 \u0444\u0443\u0442\u0443\u0440\u0438\u0441\u0442\u0438\u0447\u0435\u0441\u043a\u043e\u043c \u0427\u0438\u043a\u0430\u0433\u043e, \u0433\u0434\u0435 \u043e\u0431\u0449\u0435\u0441\u0442\u0432\u043e \u0440\u0430\u0437\u0434\u0435\u043b\u0435\u043d\u043e \u043d\u0430 \u043f\u044f\u0442\u044c \u0444\u0440\u0430\u043a\u0446\u0438\u0439: \u00ab\u042d\u0440\u0443\u0434\u0438\u0446\u0438\u044f\u00bb (Erudite), \u00ab\u0414\u0440\u0443\u0436\u0435\u043b\u044e\u0431\u0438\u0435\u00bb (Amity), \u00ab\u0418\u0441\u043a\u0440\u0435\u043d\u043d\u043e\u0441\u0442\u044c\u00bb (Candor), \u00ab\u041e\u0442\u0440\u0435\u0447\u0435\u043d\u0438\u0435\u00bb (Abnegation) \u0438 \u00ab\u0411\u0435\u0441\u0441\u0442\u0440\u0430\u0448\u0438\u0435\u00bb (Dauntless). \u041a\u0430\u0436\u0434\u0430\u044f \u0438\u0437 \u043d\u0438\u0445 \u043e\u0431\u044a\u0435\u0434\u0438\u043d\u044f\u0435\u0442 \u0432 \u0441\u0435\u0431\u0435 \u043f\u0440\u0435\u0434\u0441\u0442\u0430\u0432\u0438\u0442\u0435\u043b\u0435\u0439 \u043e\u043f\u0440\u0435\u0434\u0435\u043b\u0451\u043d\u043d\u043e\u0433\u043e \u0442\u0438\u043f\u0430. \u041a\u0430\u0436\u0434\u044b\u0439 \u0432\u0437\u0440\u043e\u0441\u043b\u044b\u0439 \u0436\u0438\u0442\u0435\u043b\u044c, \u0434\u043e\u0441\u0442\u0438\u0433\u0448\u0438\u0439 16 \u043b\u0435\u0442, \u0434\u043e\u043b\u0436\u0435\u043d \u043f\u0440\u043e\u0439\u0442\u0438 \u0442\u0435\u0441\u0442, \u0447\u0442\u043e\u0431\u044b \u043e\u043f\u0440\u0435\u0434\u0435\u043b\u0438\u0442\u044c, \u043a \u043a\u0430\u043a\u043e\u0439 \u0444\u0440\u0430\u043a\u0446\u0438\u0438 \u043e\u043d \u043f\u0440\u0438\u043d\u0430\u0434\u043b\u0435\u0436\u0438\u0442, \u0430 \u043d\u0430 \u043f\u043e\u0441\u0432\u044f\u0449\u0435\u043d\u0438\u0438 \u043b\u0438\u0431\u043e \u0434\u043e\u0432\u0435\u0440\u0438\u0442\u044c\u0441\u044f \u0442\u0435\u0441\u0442\u0443 \u0438 \u043e\u0441\u0442\u0430\u0442\u044c\u0441\u044f \u0432 \u0441\u0432\u043e\u0435\u0439 \u0444\u0440\u0430\u043a\u0446\u0438\u0438, \u043b\u0438\u0431\u043e \u043f\u043e \u0437\u043e\u0432\u0443 \u0434\u0443\u0448\u0438 \u0432\u044b\u0431\u0440\u0430\u0442\u044c \u0434\u0440\u0443\u0433\u0443\u044e \u0444\u0440\u0430\u043a\u0446\u0438\u044e. \u0413\u043b\u0430\u0432\u043d\u0430\u044f \u0433\u0435\u0440\u043e\u0438\u043d\u044f \u0411\u0435\u0430\u0442\u0440\u0438\u0441 \u041f\u0440\u0430\u0439\u043e\u0440, \u043f\u0440\u043e\u0445\u043e\u0434\u044f \u0442\u0435\u0441\u0442, \u043e\u0431\u043d\u0430\u0440\u0443\u0436\u0438\u043b\u0430, \u0447\u0442\u043e \u0435\u0439 \u043f\u043e\u0434\u0445\u043e\u0434\u044f\u0442 \u0441\u0440\u0430\u0437\u0443 \u0432\u0441\u0435 \u0444\u0440\u0430\u043a\u0446\u0438\u0438. \u0422\u0430\u043a\u0438\u0445 \u043b\u044e\u0434\u0435\u0439 \u043d\u0430\u0437\u044b\u0432\u0430\u044e\u0442 \u0434\u0438\u0432\u0435\u0440\u0433\u0435\u043d\u0442\u0430\u043c\u0438. \u041e\u0431\u0449\u0435\u0441\u0442\u0432\u043e \u043e\u0447\u0435\u043d\u044c \u0431\u043e\u044f\u043b\u043e\u0441\u044c \u0434\u0438\u0432\u0435\u0440\u0433\u0435\u043d\u0442\u043e\u0432, \u0438\u0431\u043e \u043e\u043d\u0438 \u043d\u0435 \u0443\u043c\u0435\u044e\u0442 \u043f\u043e\u0434\u0447\u0438\u043d\u044f\u0442\u044c\u0441\u044f \u0438 \u043d\u0435\u0441\u0442\u0430\u043d\u0434\u0430\u0440\u0442\u043d\u043e \u043c\u044b\u0441\u043b\u044f\u0442. \u041d\u0435 \u043f\u0440\u0438\u0437\u043d\u0430\u0432\u0430\u044f\u0441\u044c, \u0411\u0435\u0430\u0442\u0440\u0438\u0441 \u0432\u044b\u0431\u0438\u0440\u0430\u0435\u0442 \u00ab\u0411\u0435\u0441\u0441\u0442\u0440\u0430\u0448\u0438\u0435\u00bb, \u043f\u043e\u0442\u043e\u043c\u0443 \u0447\u0442\u043e \u0432\u0441\u0435\u0433\u0434\u0430 \u0432\u043e\u0441\u0445\u0438\u0449\u0430\u043b\u0430\u0441\u044c \u044d\u0442\u043e\u0439 \u0444\u0440\u0430\u043a\u0446\u0438\u0435\u0439. \u0412 \u0440\u0435\u0437\u0443\u043b\u044c\u0442\u0430\u0442\u0435 \u043e\u043d\u0430 \u043f\u0440\u0438\u043e\u0431\u0440\u0435\u0442\u0430\u0435\u0442 \u043d\u043e\u0432\u044b\u0439 \u0434\u043e\u043c, \u043d\u043e\u0432\u044b\u0445 \u0434\u0440\u0443\u0437\u0435\u0439 \u2014 \u041a\u0440\u0438\u0441\u0442\u0438\u043d\u0443, \u0423\u0438\u043b\u043b\u0430 \u0438 \u0410\u043b\u0430 \u2014 \u0438 \u043d\u043e\u0432\u043e\u0433\u043e \u0432\u0440\u0430\u0433\u0430 \u041f\u0438\u0442\u0435\u0440\u0430, \u0432\u043b\u044e\u0431\u043b\u044f\u0435\u0442\u0441\u044f \u0432 \u0441\u0432\u043e\u0435\u0433\u043e \u0438\u043d\u0441\u0442\u0440\u0443\u043a\u0442\u043e\u0440\u0430 \u0424\u043e\u0440\u0430 \u0438 \u043c\u0435\u043d\u044f\u0435\u0442 \u0441\u0432\u043e\u0451 \u0438\u043c\u044f \u043d\u0430 \u0422\u0440\u0438\u0441.'"
            ]
          },
          "metadata": {},
          "execution_count": 7
        }
      ],
      "execution_count": null
    },
    {
      "metadata": {},
      "source": [],
      "cell_type": "code",
      "outputs": [],
      "execution_count": null
    },
    {
      "metadata": {},
      "source": [
        "df[\"plot_summary\"] = df[\"plot\"].apply(lambda x: summarize(x, n_words=100))"
      ],
      "cell_type": "code",
      "outputs": [
        {
          "output_type": "execute_result",
          "data": {
            "text/html": [
              "<div>\n",
              "<style scoped>\n",
              "    .dataframe tbody tr th:only-of-type {\n",
              "        vertical-align: middle;\n",
              "    }\n",
              "\n",
              "    .dataframe tbody tr th {\n",
              "        vertical-align: top;\n",
              "    }\n",
              "\n",
              "    .dataframe thead th {\n",
              "        text-align: right;\n",
              "    }\n",
              "</style>\n",
              "<table border=\"1\" class=\"dataframe\">\n",
              "  <thead>\n",
              "    <tr style=\"text-align: right;\">\n",
              "      <th></th>\n",
              "      <th>movie</th>\n",
              "      <th>description</th>\n",
              "      <th>plot</th>\n",
              "      <th>target</th>\n",
              "    </tr>\n",
              "  </thead>\n",
              "  <tbody>\n",
              "    <tr>\n",
              "      <th>0</th>\n",
              "      <td>\u0414\u0438\u0432\u0435\u0440\u0433\u0435\u043d\u0442 (2014)</td>\n",
              "      <td>\u0414\u0435\u0439\u0441\u0442\u0432\u0438\u0435 \u0444\u0438\u043b\u044c\u043c\u0430 \u00ab\u0414\u0438\u0432\u0435\u0440\u0433\u0435\u043d\u0442\u00bb \u043f\u0440\u043e\u0438\u0441\u0445\u043e\u0434\u0438\u0442 \u0432 \u043c\u0438\u0440\u0435,...</td>\n",
              "      <td>\u0414\u0435\u0439\u0441\u0442\u0432\u0438\u0435 \u0444\u0438\u043b\u044c\u043c\u0430 \u00ab\u0414\u0438\u0432\u0435\u0440\u0433\u0435\u043d\u0442\u00bb \u043f\u0440\u043e\u0438\u0441\u0445\u043e\u0434\u0438\u0442 \u0432 \u043c\u0438\u0440\u0435,...</td>\n",
              "      <td>[1, 1, 0, 0, 0, 0, 1, 0, 0, 0, 0, 0, 1, 0]</td>\n",
              "    </tr>\n",
              "    <tr>\n",
              "      <th>1</th>\n",
              "      <td>\u041a\u0443\u043d\u0433-\u0444\u0443 \u041f\u0430\u043d\u0434\u0430 4 (2024)</td>\n",
              "      <td>\u041e\u0434\u043d\u0430\u0436\u0434\u044b \u043d\u043e\u0447\u044c\u044e \u043d\u0430 \u0432\u0435\u0440\u0448\u0438\u043d\u0435 \u0433\u043e\u0440\u044b \u0432\u043e\u0437\u043b\u0435 \u043a\u0430\u043c\u0435\u043d\u043e\u043b\u043e\u043c\u043d...</td>\n",
              "      <td>\u041e\u0434\u043d\u0430\u0436\u0434\u044b \u043d\u043e\u0447\u044c\u044e \u043d\u0430 \u0432\u0435\u0440\u0448\u0438\u043d\u0435 \u0433\u043e\u0440\u044b \u0432\u043e\u0437\u043b\u0435 \u043a\u0430\u043c\u0435\u043d\u043e\u043b\u043e\u043c\u043d...</td>\n",
              "      <td>[1, 0, 0, 0, 1, 0, 0, 1, 0, 1, 0, 0, 0, 1]</td>\n",
              "    </tr>\n",
              "    <tr>\n",
              "      <th>2</th>\n",
              "      <td>2046 (2004)</td>\n",
              "      <td>\u0427\u043e\u0443 \u0432\u043e\u0437\u0432\u0440\u0430\u0449\u0430\u0435\u0442\u0441\u044f \u0432 \u0413\u043e\u043d\u043a\u043e\u043d\u0433 \u043f\u043e\u0441\u043b\u0435 \u043d\u0435\u0441\u043a\u043e\u043b\u044c\u043a\u0438\u0445 \u043b\u0435...</td>\n",
              "      <td>\u0427\u043e\u0443 \u0432\u043e\u0437\u0432\u0440\u0430\u0449\u0430\u0435\u0442\u0441\u044f \u0432 \u0413\u043e\u043d\u043a\u043e\u043d\u0433 \u043f\u043e\u0441\u043b\u0435 \u043d\u0435\u0441\u043a\u043e\u043b\u044c\u043a\u0438\u0445 \u043b\u0435...</td>\n",
              "      <td>[0, 0, 1, 0, 0, 0, 1, 0, 0, 0, 0, 0, 1, 0]</td>\n",
              "    </tr>\n",
              "    <tr>\n",
              "      <th>3</th>\n",
              "      <td>\u041f\u043e\u043b\u0438\u0446\u0435\u0439\u0441\u043a\u0438\u0439 \u0438\u0437 \u0411\u0435\u0432\u0435\u0440\u043b\u0438-\u0425\u0438\u043b\u043b\u0437: \u0410\u043a\u0441\u0435\u043b\u044c \u0424\u043e\u0443\u043b\u0438 (2024)</td>\n",
              "      <td>\u0410\u043a\u0441\u0435\u043b\u044c \u0424\u043e\u0443\u043b\u0438 \u0432\u0435\u0440\u043d\u0443\u043b\u0441\u044f \u0432 \u0411\u0435\u0432\u0435\u0440\u043b\u0438-\u0425\u0438\u043b\u043b\u0437 \u043f\u043e\u0441\u043b\u0435 \u0442\u043e...</td>\n",
              "      <td>\u0410\u043a\u0441\u0435\u043b\u044c \u0424\u043e\u0443\u043b\u0438 \u0432\u0435\u0440\u043d\u0443\u043b\u0441\u044f \u0432 \u0411\u0435\u0432\u0435\u0440\u043b\u0438-\u0425\u0438\u043b\u043b\u0437 \u043f\u043e\u0441\u043b\u0435 \u0442\u043e...</td>\n",
              "      <td>[1, 1, 0, 0, 1, 1, 0, 0, 0, 0, 0, 0, 0, 0]</td>\n",
              "    </tr>\n",
              "    <tr>\n",
              "      <th>4</th>\n",
              "      <td>\u0417\u043d\u0430\u043a\u043e\u043c\u044c\u0442\u0435\u0441\u044c, \u0414\u0436\u043e \u0411\u043b\u044d\u043a (1998)</td>\n",
              "      <td>\u0418\u0441\u0442\u043e\u0440\u0438\u044f \u043e\u0431 \u0410\u043d\u0433\u0435\u043b\u0435 \u0421\u043c\u0435\u0440\u0442\u0438, \u043a\u043e\u0442\u043e\u0440\u044b\u0439 \u0440\u0435\u0448\u0430\u0435\u0442 \u0432\u0437\u044f\u0442\u044c...</td>\n",
              "      <td>\u0418\u0441\u0442\u043e\u0440\u0438\u044f \u043e\u0431 \u0410\u043d\u0433\u0435\u043b\u0435 \u0421\u043c\u0435\u0440\u0442\u0438, \u043a\u043e\u0442\u043e\u0440\u044b\u0439 \u0440\u0435\u0448\u0430\u0435\u0442 \u0432\u0437\u044f\u0442\u044c...</td>\n",
              "      <td>[0, 0, 1, 0, 0, 0, 1, 0, 0, 0, 0, 0, 0, 1]</td>\n",
              "    </tr>\n",
              "    <tr>\n",
              "      <th>...</th>\n",
              "      <td>...</td>\n",
              "      <td>...</td>\n",
              "      <td>...</td>\n",
              "      <td>...</td>\n",
              "    </tr>\n",
              "    <tr>\n",
              "      <th>566</th>\n",
              "      <td>\u0410\u043f\u043e\u043a\u0430\u043b\u0438\u043f\u0441\u0438\u0441 (2006)</td>\n",
              "      <td>\u0412 1517 \u0433\u043e\u0434\u0443 \u043d\u0430 \u043f\u043e\u043b\u0443\u043e\u0441\u0442\u0440\u043e\u0432\u0435 \u042e\u043a\u0430\u0442\u0430\u043d \u043f\u043b\u0435\u043c\u044f \u041b\u0430\u043f\u044b \u042f...</td>\n",
              "      <td>1517 \u0433\u043e\u0434. \u041f\u043e\u043b\u0443\u043e\u0441\u0442\u0440\u043e\u0432 \u042e\u043a\u0430\u0442\u0430\u043d. \u0413\u0440\u0443\u043f\u043f\u0430 \u043e\u0445\u043e\u0442\u043d\u0438\u043a\u043e\u0432 ...</td>\n",
              "      <td>[1, 0, 1, 0, 0, 0, 0, 0, 0, 1, 1, 0, 0, 0]</td>\n",
              "    </tr>\n",
              "    <tr>\n",
              "      <th>567</th>\n",
              "      <td>\u041b\u0451\u0434 3 (2024)</td>\n",
              "      <td>\u041d\u0430\u0434\u044f, \u0441\u0442\u0430\u0432\u0448\u0430\u044f \u0444\u0438\u0433\u0443\u0440\u0438\u0441\u0442\u043a\u043e\u0439, \u0441\u0442\u0440\u0435\u043c\u0438\u0442\u0441\u044f \u0432\u044b\u0438\u0433\u0440\u0430\u0442\u044c ...</td>\n",
              "      <td>\u0424\u0438\u043b\u044c\u043c \u043d\u0430\u0447\u0438\u043d\u0430\u0435\u0442\u0441\u044f \u0441 \u0438\u0441\u0442\u043e\u0440\u0438\u0438 \u0432\u0437\u0440\u043e\u0441\u043b\u0435\u043d\u0438\u044f \u0434\u043e\u0447\u0435\u0440\u0438 \u0410...</td>\n",
              "      <td>[0, 0, 0, 0, 0, 0, 1, 0, 1, 0, 0, 0, 0, 0]</td>\n",
              "    </tr>\n",
              "    <tr>\n",
              "      <th>568</th>\n",
              "      <td>\u0414\u0430\u0441\u0442\u0443\u0440 (2023)</td>\n",
              "      <td>\u041d\u043e\u0432\u043e\u0438\u0441\u043f\u0435\u0447\u0435\u043d\u043d\u0430\u044f \u043d\u0435\u0432\u0435\u0441\u0442\u0430, \u043a\u043e\u0442\u043e\u0440\u0443\u044e \u0432\u044b\u0434\u0430\u043b\u0438 \u0437\u0430\u043c\u0443\u0436 \u043f...</td>\n",
              "      <td>\u041d\u043e\u0432\u043e\u0438\u0441\u043f\u0435\u0447\u0435\u043d\u043d\u0430\u044f \u043d\u0435\u0432\u0435\u0441\u0442\u0430, \u043a\u043e\u0442\u043e\u0440\u0443\u044e \u0432\u044b\u0434\u0430\u043b\u0438 \u0437\u0430\u043c\u0443\u0436 \u043f...</td>\n",
              "      <td>[0, 0, 0, 0, 0, 0, 0, 0, 0, 0, 0, 1, 1, 0]</td>\n",
              "    </tr>\n",
              "    <tr>\n",
              "      <th>569</th>\n",
              "      <td>\u041d\u0435 \u0433\u043e\u0432\u043e\u0440\u0438 \u043d\u0438\u043a\u043e\u043c\u0443 (2024)</td>\n",
              "      <td>\u041f\u0430\u0440\u0430 \u0432\u043c\u0435\u0441\u0442\u0435 \u0441 \u0434\u043e\u0447\u0435\u0440\u044c\u044e \u043f\u043e\u043b\u0443\u0447\u0430\u044e\u0442 \u043f\u0440\u0438\u0433\u043b\u0430\u0448\u0435\u043d\u0438\u0435 \u043e\u0442 ...</td>\n",
              "      <td>\u041f\u0430\u0440\u0430 \u0432\u043c\u0435\u0441\u0442\u0435 \u0441 \u0434\u043e\u0447\u0435\u0440\u044c\u044e \u043f\u043e\u043b\u0443\u0447\u0430\u044e\u0442 \u043f\u0440\u0438\u0433\u043b\u0430\u0448\u0435\u043d\u0438\u0435 \u043e\u0442 ...</td>\n",
              "      <td>[0, 0, 1, 0, 0, 0, 0, 0, 0, 0, 1, 0, 0, 0]</td>\n",
              "    </tr>\n",
              "    <tr>\n",
              "      <th>570</th>\n",
              "      <td>\u041f\u0440\u0438\u043d\u0446\u0435\u0441\u0441\u0430 \u041c\u043e\u043d\u043e\u043d\u043e\u043a\u0435 (1997)</td>\n",
              "      <td>\u0421\u044e\u0436\u0435\u0442 \u0444\u0438\u043b\u044c\u043c\u0430 \u0440\u0430\u0437\u0432\u043e\u0440\u0430\u0447\u0438\u0432\u0430\u0435\u0442\u0441\u044f \u0432\u043e \u0432\u0440\u0435\u043c\u0435\u043d\u0430 \u043f\u0435\u0440\u0438\u043e\u0434...</td>\n",
              "      <td>\u041a\u043e\u0433\u0434\u0430-\u0442\u043e \u044d\u0442\u0443 \u0437\u0435\u043c\u043b\u044e \u0443\u043a\u0440\u044b\u0432\u0430\u043b \u043b\u0435\u0441, \u0433\u0434\u0435 \u0441 \u043d\u0435\u0437\u0430\u043f\u0430\u043c\u044f...</td>\n",
              "      <td>[1, 0, 1, 0, 0, 0, 0, 1, 0, 1, 0, 0, 0, 1]</td>\n",
              "    </tr>\n",
              "  </tbody>\n",
              "</table>\n",
              "<p>571 rows \u00d7 4 columns</p>\n",
              "</div>"
            ],
            "text/plain": [
              "                                                 movie  \\\n",
              "0                                     \u0414\u0438\u0432\u0435\u0440\u0433\u0435\u043d\u0442 (2014)   \n",
              "1                               \u041a\u0443\u043d\u0433-\u0444\u0443 \u041f\u0430\u043d\u0434\u0430 4 (2024)   \n",
              "2                                          2046 (2004)   \n",
              "3    \u041f\u043e\u043b\u0438\u0446\u0435\u0439\u0441\u043a\u0438\u0439 \u0438\u0437 \u0411\u0435\u0432\u0435\u0440\u043b\u0438-\u0425\u0438\u043b\u043b\u0437: \u0410\u043a\u0441\u0435\u043b\u044c \u0424\u043e\u0443\u043b\u0438 (2024)   \n",
              "4                         \u0417\u043d\u0430\u043a\u043e\u043c\u044c\u0442\u0435\u0441\u044c, \u0414\u0436\u043e \u0411\u043b\u044d\u043a (1998)   \n",
              "..                                                 ...   \n",
              "566                                 \u0410\u043f\u043e\u043a\u0430\u043b\u0438\u043f\u0441\u0438\u0441 (2006)   \n",
              "567                                       \u041b\u0451\u0434 3 (2024)   \n",
              "568                                      \u0414\u0430\u0441\u0442\u0443\u0440 (2023)   \n",
              "569                            \u041d\u0435 \u0433\u043e\u0432\u043e\u0440\u0438 \u043d\u0438\u043a\u043e\u043c\u0443 (2024)   \n",
              "570                          \u041f\u0440\u0438\u043d\u0446\u0435\u0441\u0441\u0430 \u041c\u043e\u043d\u043e\u043d\u043e\u043a\u0435 (1997)   \n",
              "\n",
              "                                           description  \\\n",
              "0    \u0414\u0435\u0439\u0441\u0442\u0432\u0438\u0435 \u0444\u0438\u043b\u044c\u043c\u0430 \u00ab\u0414\u0438\u0432\u0435\u0440\u0433\u0435\u043d\u0442\u00bb \u043f\u0440\u043e\u0438\u0441\u0445\u043e\u0434\u0438\u0442 \u0432 \u043c\u0438\u0440\u0435,...   \n",
              "1    \u041e\u0434\u043d\u0430\u0436\u0434\u044b \u043d\u043e\u0447\u044c\u044e \u043d\u0430 \u0432\u0435\u0440\u0448\u0438\u043d\u0435 \u0433\u043e\u0440\u044b \u0432\u043e\u0437\u043b\u0435 \u043a\u0430\u043c\u0435\u043d\u043e\u043b\u043e\u043c\u043d...   \n",
              "2    \u0427\u043e\u0443 \u0432\u043e\u0437\u0432\u0440\u0430\u0449\u0430\u0435\u0442\u0441\u044f \u0432 \u0413\u043e\u043d\u043a\u043e\u043d\u0433 \u043f\u043e\u0441\u043b\u0435 \u043d\u0435\u0441\u043a\u043e\u043b\u044c\u043a\u0438\u0445 \u043b\u0435...   \n",
              "3    \u0410\u043a\u0441\u0435\u043b\u044c \u0424\u043e\u0443\u043b\u0438 \u0432\u0435\u0440\u043d\u0443\u043b\u0441\u044f \u0432 \u0411\u0435\u0432\u0435\u0440\u043b\u0438-\u0425\u0438\u043b\u043b\u0437 \u043f\u043e\u0441\u043b\u0435 \u0442\u043e...   \n",
              "4    \u0418\u0441\u0442\u043e\u0440\u0438\u044f \u043e\u0431 \u0410\u043d\u0433\u0435\u043b\u0435 \u0421\u043c\u0435\u0440\u0442\u0438, \u043a\u043e\u0442\u043e\u0440\u044b\u0439 \u0440\u0435\u0448\u0430\u0435\u0442 \u0432\u0437\u044f\u0442\u044c...   \n",
              "..                                                 ...   \n",
              "566  \u0412 1517 \u0433\u043e\u0434\u0443 \u043d\u0430 \u043f\u043e\u043b\u0443\u043e\u0441\u0442\u0440\u043e\u0432\u0435 \u042e\u043a\u0430\u0442\u0430\u043d \u043f\u043b\u0435\u043c\u044f \u041b\u0430\u043f\u044b \u042f...   \n",
              "567  \u041d\u0430\u0434\u044f, \u0441\u0442\u0430\u0432\u0448\u0430\u044f \u0444\u0438\u0433\u0443\u0440\u0438\u0441\u0442\u043a\u043e\u0439, \u0441\u0442\u0440\u0435\u043c\u0438\u0442\u0441\u044f \u0432\u044b\u0438\u0433\u0440\u0430\u0442\u044c ...   \n",
              "568  \u041d\u043e\u0432\u043e\u0438\u0441\u043f\u0435\u0447\u0435\u043d\u043d\u0430\u044f \u043d\u0435\u0432\u0435\u0441\u0442\u0430, \u043a\u043e\u0442\u043e\u0440\u0443\u044e \u0432\u044b\u0434\u0430\u043b\u0438 \u0437\u0430\u043c\u0443\u0436 \u043f...   \n",
              "569  \u041f\u0430\u0440\u0430 \u0432\u043c\u0435\u0441\u0442\u0435 \u0441 \u0434\u043e\u0447\u0435\u0440\u044c\u044e \u043f\u043e\u043b\u0443\u0447\u0430\u044e\u0442 \u043f\u0440\u0438\u0433\u043b\u0430\u0448\u0435\u043d\u0438\u0435 \u043e\u0442 ...   \n",
              "570  \u0421\u044e\u0436\u0435\u0442 \u0444\u0438\u043b\u044c\u043c\u0430 \u0440\u0430\u0437\u0432\u043e\u0440\u0430\u0447\u0438\u0432\u0430\u0435\u0442\u0441\u044f \u0432\u043e \u0432\u0440\u0435\u043c\u0435\u043d\u0430 \u043f\u0435\u0440\u0438\u043e\u0434...   \n",
              "\n",
              "                                                  plot  \\\n",
              "0    \u0414\u0435\u0439\u0441\u0442\u0432\u0438\u0435 \u0444\u0438\u043b\u044c\u043c\u0430 \u00ab\u0414\u0438\u0432\u0435\u0440\u0433\u0435\u043d\u0442\u00bb \u043f\u0440\u043e\u0438\u0441\u0445\u043e\u0434\u0438\u0442 \u0432 \u043c\u0438\u0440\u0435,...   \n",
              "1    \u041e\u0434\u043d\u0430\u0436\u0434\u044b \u043d\u043e\u0447\u044c\u044e \u043d\u0430 \u0432\u0435\u0440\u0448\u0438\u043d\u0435 \u0433\u043e\u0440\u044b \u0432\u043e\u0437\u043b\u0435 \u043a\u0430\u043c\u0435\u043d\u043e\u043b\u043e\u043c\u043d...   \n",
              "2    \u0427\u043e\u0443 \u0432\u043e\u0437\u0432\u0440\u0430\u0449\u0430\u0435\u0442\u0441\u044f \u0432 \u0413\u043e\u043d\u043a\u043e\u043d\u0433 \u043f\u043e\u0441\u043b\u0435 \u043d\u0435\u0441\u043a\u043e\u043b\u044c\u043a\u0438\u0445 \u043b\u0435...   \n",
              "3    \u0410\u043a\u0441\u0435\u043b\u044c \u0424\u043e\u0443\u043b\u0438 \u0432\u0435\u0440\u043d\u0443\u043b\u0441\u044f \u0432 \u0411\u0435\u0432\u0435\u0440\u043b\u0438-\u0425\u0438\u043b\u043b\u0437 \u043f\u043e\u0441\u043b\u0435 \u0442\u043e...   \n",
              "4    \u0418\u0441\u0442\u043e\u0440\u0438\u044f \u043e\u0431 \u0410\u043d\u0433\u0435\u043b\u0435 \u0421\u043c\u0435\u0440\u0442\u0438, \u043a\u043e\u0442\u043e\u0440\u044b\u0439 \u0440\u0435\u0448\u0430\u0435\u0442 \u0432\u0437\u044f\u0442\u044c...   \n",
              "..                                                 ...   \n",
              "566  1517 \u0433\u043e\u0434. \u041f\u043e\u043b\u0443\u043e\u0441\u0442\u0440\u043e\u0432 \u042e\u043a\u0430\u0442\u0430\u043d. \u0413\u0440\u0443\u043f\u043f\u0430 \u043e\u0445\u043e\u0442\u043d\u0438\u043a\u043e\u0432 ...   \n",
              "567  \u0424\u0438\u043b\u044c\u043c \u043d\u0430\u0447\u0438\u043d\u0430\u0435\u0442\u0441\u044f \u0441 \u0438\u0441\u0442\u043e\u0440\u0438\u0438 \u0432\u0437\u0440\u043e\u0441\u043b\u0435\u043d\u0438\u044f \u0434\u043e\u0447\u0435\u0440\u0438 \u0410...   \n",
              "568  \u041d\u043e\u0432\u043e\u0438\u0441\u043f\u0435\u0447\u0435\u043d\u043d\u0430\u044f \u043d\u0435\u0432\u0435\u0441\u0442\u0430, \u043a\u043e\u0442\u043e\u0440\u0443\u044e \u0432\u044b\u0434\u0430\u043b\u0438 \u0437\u0430\u043c\u0443\u0436 \u043f...   \n",
              "569  \u041f\u0430\u0440\u0430 \u0432\u043c\u0435\u0441\u0442\u0435 \u0441 \u0434\u043e\u0447\u0435\u0440\u044c\u044e \u043f\u043e\u043b\u0443\u0447\u0430\u044e\u0442 \u043f\u0440\u0438\u0433\u043b\u0430\u0448\u0435\u043d\u0438\u0435 \u043e\u0442 ...   \n",
              "570  \u041a\u043e\u0433\u0434\u0430-\u0442\u043e \u044d\u0442\u0443 \u0437\u0435\u043c\u043b\u044e \u0443\u043a\u0440\u044b\u0432\u0430\u043b \u043b\u0435\u0441, \u0433\u0434\u0435 \u0441 \u043d\u0435\u0437\u0430\u043f\u0430\u043c\u044f...   \n",
              "\n",
              "                                         target  \n",
              "0    [1, 1, 0, 0, 0, 0, 1, 0, 0, 0, 0, 0, 1, 0]  \n",
              "1    [1, 0, 0, 0, 1, 0, 0, 1, 0, 1, 0, 0, 0, 1]  \n",
              "2    [0, 0, 1, 0, 0, 0, 1, 0, 0, 0, 0, 0, 1, 0]  \n",
              "3    [1, 1, 0, 0, 1, 1, 0, 0, 0, 0, 0, 0, 0, 0]  \n",
              "4    [0, 0, 1, 0, 0, 0, 1, 0, 0, 0, 0, 0, 0, 1]  \n",
              "..                                          ...  \n",
              "566  [1, 0, 1, 0, 0, 0, 0, 0, 0, 1, 1, 0, 0, 0]  \n",
              "567  [0, 0, 0, 0, 0, 0, 1, 0, 1, 0, 0, 0, 0, 0]  \n",
              "568  [0, 0, 0, 0, 0, 0, 0, 0, 0, 0, 0, 1, 1, 0]  \n",
              "569  [0, 0, 1, 0, 0, 0, 0, 0, 0, 0, 1, 0, 0, 0]  \n",
              "570  [1, 0, 1, 0, 0, 0, 0, 1, 0, 1, 0, 0, 0, 1]  \n",
              "\n",
              "[571 rows x 4 columns]"
            ]
          },
          "metadata": {},
          "execution_count": 8
        }
      ],
      "execution_count": null
    },
    {
      "metadata": {},
      "source": [],
      "cell_type": "code",
      "outputs": [],
      "execution_count": null
    },
    {
      "metadata": {},
      "source": [
        "def replace_entities(text):\n",
        "    doc = nlp(text)\n",
        "    modified_text = text\n",
        "    for ent in doc.ents:\n",
        "        if ent.label_ == \"PER\":\n",
        "            modified_text = modified_text.replace(ent.text, \"\u0433\u0435\u0440\u043e\u0439\")\n",
        "        elif ent.label_ == \"LOC\":\n",
        "            modified_text = modified_text.replace(ent.text, \"\u043b\u043e\u043a\u0430\u0446\u0438\u044f\")\n",
        "    return modified_text\n",
        "\n",
        "\n",
        "text = \"\u0410\u043a\u0441\u0451\u043b\u044c \u0424\u043e\u0443\u043b\u0438 \u0432\u0435\u0440\u043d\u0443\u043b\u0441\u044f \u0432 \u0444\u0438\u043b\u044c\u043c \u041f\u043e\u043b\u0438\u0446\u0435\u0439\u0441\u043a\u0438\u0439 \u0438\u0437 \u0411\u0435\u0432\u0435\u0440\u043b\u0438-\u0425\u0438\u043b\u043b\u0437\"\n",
        "processed_text = replace_entities(text)\n",
        "print(processed_text)"
      ],
      "cell_type": "code",
      "outputs": [
        {
          "output_type": "stream",
          "name": "stdout",
          "text": [
            "\u0433\u0435\u0440\u043e\u0439 \u0432\u0435\u0440\u043d\u0443\u043b\u0441\u044f \u0432 \u0444\u0438\u043b\u044c\u043c \u041f\u043e\u043b\u0438\u0446\u0435\u0439\u0441\u043a\u0438\u0439 \u0438\u0437 \u043b\u043e\u043a\u0430\u0446\u0438\u044f\n"
          ]
        }
      ],
      "execution_count": null
    },
    {
      "metadata": {},
      "source": [
        "df[\"description\"] = df[\"description\"].parallel_apply(lambda x: replace_entities(x))\n",
        "df[\"plot\"] = df[\"plot\"].parallel_apply(lambda x: replace_entities(x))"
      ],
      "cell_type": "code",
      "outputs": [
        {
          "output_type": "display_data",
          "data": {
            "application/vnd.jupyter.widget-view+json": {
              "model_id": "df8b066179af4b71951173100845ee29",
              "version_major": 2,
              "version_minor": 0
            },
            "text/plain": [
              "VBox(children=(HBox(children=(IntProgress(value=0, description='0.00%', max=72), Label(value='0 / 72'))), HBox\u2026"
            ]
          },
          "metadata": {}
        },
        {
          "output_type": "display_data",
          "data": {
            "application/vnd.jupyter.widget-view+json": {
              "model_id": "c052b46f9af341608439347809945a8f",
              "version_major": 2,
              "version_minor": 0
            },
            "text/plain": [
              "VBox(children=(HBox(children=(IntProgress(value=0, description='0.00%', max=72), Label(value='0 / 72'))), HBox\u2026"
            ]
          },
          "metadata": {}
        }
      ],
      "execution_count": null
    },
    {
      "metadata": {},
      "source": [
        "def remove_film_name_from_text(text, film_title):\n",
        "\n",
        "    film_title_clean = re.sub(r\"\\(.*?\\)\", \"\", film_title).strip()\n",
        "    text = text.replace(film_title, \"\u0444\u0438\u043b\u044c\u043c\")\n",
        "    text = text.replace(film_title_clean, \"\u0444\u0438\u043b\u044c\u043c\")\n",
        "    return \" \".join(text.split())\n",
        "\n",
        "\n",
        "remove_film_name_from_text(\n",
        "    \"\u0414\u0435\u0439\u0441\u0442\u0432\u0438\u0435 \u0444\u0438\u043b\u044c\u043c\u0430 \u00ab\u0414\u0438\u0432\u0435\u0440\u0433\u0435\u043d\u0442\u00bb \u043f\u0440\u043e\u0438\u0441\u0445\u043e\u0434\u0438\u0442 \u0432 \u043c\u0438\u0440\u0435,\", \"\u0414\u0438\u0432\u0435\u0440\u0433\u0435\u043d\u0442 (2014)\"\n",
        ")"
      ],
      "cell_type": "code",
      "outputs": [
        {
          "output_type": "stream",
          "name": "stdout",
          "text": [
            "46 42\n"
          ]
        },
        {
          "output_type": "execute_result",
          "data": {
            "text/plain": [
              "'\u0414\u0435\u0439\u0441\u0442\u0432\u0438\u0435 \u0444\u0438\u043b\u044c\u043c\u0430 \u00ab\u0444\u0438\u043b\u044c\u043c\u00bb \u043f\u0440\u043e\u0438\u0441\u0445\u043e\u0434\u0438\u0442 \u0432 \u043c\u0438\u0440\u0435,'"
            ]
          },
          "metadata": {},
          "execution_count": 7
        }
      ],
      "execution_count": null
    },
    {
      "metadata": {},
      "source": [
        "df[\"description\"] = df.apply(\n",
        "    lambda x: remove_film_name_from_text(x[\"description\"], x[\"movie\"]), axis=1\n",
        ")\n",
        "df[\"plot\"] = df.apply(lambda x: remove_film_name_from_text(x[\"plot\"], x[\"movie\"]), axis=1)"
      ],
      "cell_type": "code",
      "outputs": [
        {
          "output_type": "stream",
          "name": "stdout",
          "text": [
            "1016 1012\n",
            "190 190\n",
            "1019 1023\n",
            "195 195\n",
            "939 939\n",
            "372 372\n",
            "281 281\n",
            "235 235\n",
            "214 214\n",
            "465 465\n",
            "520 520\n",
            "640 640\n",
            "316 316\n",
            "1276 1276\n",
            "365 365\n",
            "573 573\n",
            "79 79\n",
            "479 471\n",
            "522 522\n",
            "520 520\n",
            "555 555\n",
            "579 579\n",
            "527 527\n",
            "541 541\n",
            "343 343\n",
            "168 168\n",
            "476 476\n",
            "439 439\n",
            "634 634\n",
            "461 461\n",
            "319 319\n",
            "575 575\n",
            "323 323\n",
            "681 681\n",
            "412 412\n",
            "419 419\n",
            "586 586\n",
            "304 304\n",
            "371 371\n",
            "131 131\n",
            "279 279\n",
            "140 140\n",
            "228 228\n",
            "859 859\n",
            "557 557\n",
            "575 575\n",
            "323 323\n",
            "550 550\n",
            "422 422\n",
            "498 498\n",
            "491 491\n",
            "338 338\n",
            "395 395\n",
            "567 567\n",
            "235 235\n",
            "662 662\n",
            "403 403\n",
            "419 419\n",
            "290 290\n",
            "324 324\n",
            "407 407\n",
            "318 318\n",
            "396 396\n",
            "389 389\n",
            "302 302\n",
            "386 386\n",
            "372 372\n",
            "303 303\n",
            "635 635\n",
            "242 242\n",
            "330 330\n",
            "312 312\n",
            "462 462\n",
            "597 597\n",
            "323 323\n",
            "526 526\n",
            "1137 1137\n",
            "529 529\n",
            "530 530\n",
            "403 403\n",
            "287 287\n",
            "406 406\n",
            "361 361\n",
            "550 550\n",
            "179 179\n",
            "393 393\n",
            "283 274\n",
            "228 228\n",
            "759 759\n",
            "592 592\n",
            "564 564\n",
            "374 374\n",
            "341 341\n",
            "442 442\n",
            "396 396\n",
            "186 186\n",
            "490 490\n",
            "181 181\n",
            "460 460\n",
            "678 678\n",
            "290 290\n",
            "183 183\n",
            "808 808\n",
            "321 321\n",
            "308 308\n",
            "123 123\n",
            "1003 1003\n",
            "521 521\n",
            "167 167\n",
            "865 865\n",
            "259 259\n",
            "441 441\n",
            "258 258\n",
            "476 476\n",
            "885 885\n",
            "240 240\n",
            "263 263\n",
            "354 354\n",
            "383 383\n",
            "457 457\n",
            "717 717\n",
            "468 468\n",
            "574 574\n",
            "404 404\n",
            "567 567\n",
            "1067 1067\n",
            "218 218\n",
            "486 486\n",
            "475 475\n",
            "499 499\n",
            "296 296\n",
            "393 393\n",
            "166 166\n",
            "415 415\n",
            "570 570\n",
            "141 141\n",
            "369 369\n",
            "314 314\n",
            "421 421\n",
            "572 572\n",
            "450 450\n",
            "312 312\n",
            "627 627\n",
            "495 495\n",
            "138 138\n",
            "82 82\n",
            "466 466\n",
            "314 314\n",
            "355 354\n",
            "610 610\n",
            "577 577\n",
            "316 316\n",
            "426 426\n",
            "353 353\n",
            "371 371\n",
            "674 674\n",
            "557 557\n",
            "655 650\n",
            "461 461\n",
            "732 732\n",
            "1315 1315\n",
            "264 264\n",
            "157 157\n",
            "270 270\n",
            "825 825\n",
            "286 286\n",
            "514 514\n",
            "505 505\n",
            "559 559\n",
            "499 499\n",
            "319 319\n",
            "633 633\n",
            "145 145\n",
            "525 525\n",
            "413 413\n",
            "400 400\n",
            "571 571\n",
            "558 558\n",
            "252 252\n",
            "827 827\n",
            "529 529\n",
            "349 349\n",
            "343 343\n",
            "226 226\n",
            "266 266\n",
            "511 511\n",
            "404 404\n",
            "673 673\n",
            "304 304\n",
            "462 462\n",
            "311 311\n",
            "277 277\n",
            "335 335\n",
            "379 379\n",
            "365 365\n",
            "588 588\n",
            "336 336\n",
            "160 160\n",
            "454 454\n",
            "241 241\n",
            "357 357\n",
            "682 682\n",
            "346 346\n",
            "623 623\n",
            "570 570\n",
            "295 295\n",
            "1175 1175\n",
            "448 448\n",
            "517 517\n",
            "297 297\n",
            "432 432\n",
            "475 475\n",
            "570 570\n",
            "263 263\n",
            "443 443\n",
            "435 435\n",
            "417 417\n",
            "373 373\n",
            "217 217\n",
            "390 390\n",
            "463 463\n",
            "385 385\n",
            "454 454\n",
            "316 316\n",
            "823 823\n",
            "454 454\n",
            "376 376\n",
            "320 320\n",
            "370 370\n",
            "369 369\n",
            "823 823\n",
            "147 147\n",
            "868 868\n",
            "400 400\n",
            "533 533\n",
            "435 435\n",
            "851 851\n",
            "395 395\n",
            "546 546\n",
            "221 221\n",
            "238 238\n",
            "517 517\n",
            "393 393\n",
            "144 144\n",
            "447 447\n",
            "493 493\n",
            "424 424\n",
            "125 125\n",
            "487 487\n",
            "407 407\n",
            "298 298\n",
            "281 281\n",
            "88 88\n",
            "252 252\n",
            "646 646\n",
            "662 662\n",
            "471 471\n",
            "229 229\n",
            "1130 1130\n",
            "264 264\n",
            "708 708\n",
            "502 502\n",
            "610 610\n",
            "394 394\n",
            "330 330\n",
            "359 359\n",
            "540 540\n",
            "299 299\n",
            "305 305\n",
            "544 544\n",
            "541 541\n",
            "364 364\n",
            "304 304\n",
            "102 102\n",
            "522 522\n",
            "137 137\n",
            "292 292\n",
            "334 334\n",
            "1416 1416\n",
            "408 408\n",
            "251 251\n",
            "441 441\n",
            "184 184\n",
            "567 567\n",
            "511 511\n",
            "353 353\n",
            "299 299\n",
            "370 370\n",
            "361 361\n",
            "428 428\n",
            "668 668\n",
            "460 460\n",
            "235 235\n",
            "282 282\n",
            "450 450\n",
            "106 106\n",
            "402 402\n",
            "450 450\n",
            "367 367\n",
            "287 287\n",
            "458 458\n",
            "291 291\n",
            "193 193\n",
            "468 468\n",
            "691 691\n",
            "650 650\n",
            "183 183\n",
            "496 496\n",
            "496 496\n",
            "168 168\n",
            "260 260\n",
            "304 304\n",
            "239 239\n",
            "636 636\n",
            "967 967\n",
            "641 641\n",
            "802 802\n",
            "399 399\n",
            "219 219\n",
            "143 143\n",
            "406 406\n",
            "431 431\n",
            "363 363\n",
            "315 315\n",
            "690 690\n",
            "349 349\n",
            "388 388\n",
            "453 453\n",
            "402 402\n",
            "582 582\n",
            "544 544\n",
            "554 554\n",
            "413 413\n",
            "398 398\n",
            "275 275\n",
            "234 234\n",
            "535 535\n",
            "383 383\n",
            "567 567\n",
            "422 422\n",
            "202 202\n",
            "174 174\n",
            "443 443\n",
            "468 468\n",
            "355 355\n",
            "413 413\n",
            "307 306\n",
            "153 153\n",
            "801 801\n",
            "292 292\n",
            "284 284\n",
            "703 703\n",
            "349 349\n",
            "139 139\n",
            "550 550\n",
            "326 326\n",
            "165 165\n",
            "293 293\n",
            "322 322\n",
            "179 179\n",
            "483 483\n",
            "485 485\n",
            "1628 1628\n",
            "359 359\n",
            "145 145\n",
            "378 378\n",
            "366 366\n",
            "505 505\n",
            "440 440\n",
            "196 196\n",
            "406 406\n",
            "371 371\n",
            "344 344\n",
            "473 473\n",
            "240 240\n",
            "748 748\n",
            "325 325\n",
            "1151 1151\n",
            "558 558\n",
            "721 721\n",
            "261 261\n",
            "843 843\n",
            "438 438\n",
            "436 436\n",
            "731 731\n",
            "262 262\n",
            "527 527\n",
            "368 368\n",
            "456 456\n",
            "522 522\n",
            "522 522\n",
            "409 409\n",
            "534 535\n",
            "630 630\n",
            "354 354\n",
            "586 586\n",
            "252 252\n",
            "584 584\n",
            "116 116\n",
            "659 659\n",
            "252 252\n",
            "378 378\n",
            "329 329\n",
            "377 377\n",
            "508 508\n",
            "617 617\n",
            "346 346\n",
            "347 347\n",
            "612 612\n",
            "644 644\n",
            "266 266\n",
            "591 591\n",
            "435 435\n",
            "552 552\n",
            "537 537\n",
            "261 261\n",
            "526 526\n",
            "271 271\n",
            "369 369\n",
            "792 792\n",
            "611 611\n",
            "1707 1707\n",
            "473 473\n",
            "221 221\n",
            "413 413\n",
            "365 365\n",
            "135 135\n",
            "658 658\n",
            "393 393\n",
            "567 567\n",
            "596 596\n",
            "257 257\n",
            "498 498\n",
            "143 143\n",
            "693 693\n",
            "456 456\n",
            "239 239\n",
            "700 700\n",
            "538 538\n",
            "467 467\n",
            "432 432\n",
            "334 334\n",
            "570 570\n",
            "502 502\n",
            "472 472\n",
            "148 148\n",
            "381 381\n",
            "364 364\n",
            "296 296\n",
            "565 565\n",
            "473 473\n",
            "140 140\n",
            "444 444\n",
            "572 572\n",
            "1231 1231\n",
            "475 475\n",
            "617 617\n",
            "306 306\n",
            "418 418\n",
            "676 676\n",
            "638 638\n",
            "506 506\n",
            "623 623\n",
            "292 292\n",
            "509 509\n",
            "565 565\n",
            "451 451\n",
            "527 527\n",
            "238 238\n",
            "886 886\n",
            "493 493\n",
            "255 255\n",
            "755 755\n",
            "444 444\n",
            "710 710\n",
            "894 894\n",
            "148 148\n",
            "343 343\n",
            "544 544\n",
            "488 488\n",
            "453 453\n",
            "449 449\n",
            "133 133\n",
            "344 344\n",
            "467 467\n",
            "620 620\n",
            "239 239\n",
            "194 194\n",
            "326 326\n",
            "563 563\n",
            "921 921\n",
            "447 447\n",
            "249 249\n",
            "469 469\n",
            "491 491\n",
            "351 351\n",
            "335 335\n",
            "343 343\n",
            "210 210\n",
            "139 139\n",
            "510 510\n",
            "343 343\n",
            "481 481\n",
            "143 143\n",
            "266 266\n",
            "725 725\n",
            "439 439\n",
            "467 467\n",
            "495 495\n",
            "123 123\n",
            "359 359\n",
            "334 334\n",
            "625 625\n",
            "456 456\n",
            "392 392\n",
            "79 79\n",
            "409 409\n",
            "342 342\n",
            "626 626\n",
            "400 400\n",
            "272 272\n",
            "359 359\n",
            "635 635\n",
            "328 328\n",
            "175 175\n",
            "311 311\n",
            "484 484\n",
            "363 363\n",
            "242 242\n",
            "491 491\n",
            "452 452\n",
            "413 413\n",
            "231 231\n",
            "569 569\n",
            "339 339\n",
            "573 573\n",
            "733 733\n",
            "568 568\n",
            "195 195\n",
            "510 510\n",
            "602 602\n",
            "680 680\n",
            "246 246\n",
            "537 537\n",
            "378 378\n",
            "129 129\n",
            "184 184\n",
            "539 539\n",
            "510 510\n",
            "685 685\n",
            "351 351\n",
            "464 464\n",
            "341 341\n",
            "194 194\n",
            "384 384\n",
            "289 289\n",
            "655 655\n",
            "409 409\n",
            "805 805\n",
            "588 588\n",
            "307 307\n",
            "781 781\n",
            "389 389\n",
            "407 407\n",
            "213 213\n",
            "389 389\n",
            "434 434\n",
            "421 421\n",
            "114 114\n",
            "139 139\n",
            "424 424\n",
            "3995 3991\n",
            "4495 4495\n",
            "1018 1022\n",
            "195 195\n",
            "3085 3085\n",
            "4385 4385\n",
            "281 281\n",
            "239 239\n",
            "3029 3027\n",
            "3946 3946\n",
            "5382 5382\n",
            "5009 5009\n",
            "316 316\n",
            "8008 8008\n",
            "365 365\n",
            "8207 8207\n",
            "79 79\n",
            "5436 5436\n",
            "2569 2569\n",
            "4718 4718\n",
            "7768 7768\n",
            "3696 3696\n",
            "527 527\n",
            "4523 4523\n",
            "3625 3625\n",
            "4129 4129\n",
            "5937 5937\n",
            "439 439\n",
            "1476 1476\n",
            "6361 6361\n",
            "3504 3504\n",
            "3789 3789\n",
            "323 323\n",
            "2130 2111\n",
            "308 308\n",
            "2316 2316\n",
            "5123 5123\n",
            "3600 3600\n",
            "4506 4506\n",
            "3776 3776\n",
            "8122 8122\n",
            "249 249\n",
            "228 228\n",
            "859 859\n",
            "5592 5592\n",
            "575 575\n",
            "323 323\n",
            "4124 4124\n",
            "422 422\n",
            "498 498\n",
            "491 491\n",
            "500 500\n",
            "1238 1238\n",
            "4404 4404\n",
            "4533 4533\n",
            "1567 1567\n",
            "3317 3317\n",
            "7452 7452\n",
            "3283 3283\n",
            "4499 4499\n",
            "4543 4543\n",
            "318 318\n",
            "1826 1826\n",
            "4833 4833\n",
            "302 302\n",
            "386 386\n",
            "3526 3526\n",
            "4299 4299\n",
            "860 860\n",
            "242 242\n",
            "330 330\n",
            "312 312\n",
            "2118 2118\n",
            "597 597\n",
            "5848 5848\n",
            "3340 3340\n",
            "5422 5422\n",
            "6938 6938\n",
            "3335 3335\n",
            "2944 2944\n",
            "2514 2514\n",
            "5328 5328\n",
            "361 361\n",
            "3036 3036\n",
            "179 179\n",
            "136 136\n",
            "1779 1761\n",
            "4806 4806\n",
            "2729 2729\n",
            "592 592\n",
            "1776 1776\n",
            "4505 4498\n",
            "5820 5820\n",
            "3971 3971\n",
            "269 269\n",
            "4997 4997\n",
            "2406 2406\n",
            "184 184\n",
            "3529 3529\n",
            "2106 2106\n",
            "290 290\n",
            "3131 3131\n",
            "1326 1326\n",
            "145 145\n",
            "276 276\n",
            "127 127\n",
            "5413 5413\n",
            "521 521\n",
            "4423 4423\n",
            "4589 4589\n",
            "3811 3811\n",
            "4541 4541\n",
            "4708 4708\n",
            "522 522\n",
            "890 890\n",
            "240 240\n",
            "6963 6963\n",
            "3211 3211\n",
            "5604 5604\n",
            "410 410\n",
            "7061 7041\n",
            "3765 3765\n",
            "1553 1553\n",
            "8220 8220\n",
            "3704 3704\n",
            "5000 4986\n",
            "218 218\n",
            "299 299\n",
            "1336 1336\n",
            "499 499\n",
            "3271 3271\n",
            "393 393\n",
            "4252 4252\n",
            "6225 6225\n",
            "2612 2612\n",
            "131 131\n",
            "5373 5373\n",
            "1366 1366\n",
            "3011 3011\n",
            "2296 2296\n",
            "450 450\n",
            "312 312\n",
            "3997 3997\n",
            "4726 4726\n",
            "5029 5029\n",
            "82 82\n",
            "466 466\n",
            "5247 5247\n",
            "3104 3104\n",
            "609 609\n",
            "4762 4762\n",
            "319 319\n",
            "426 426\n",
            "657 657\n",
            "390 390\n",
            "5643 5643\n",
            "6087 6087\n",
            "7722 7722\n",
            "3977 3977\n",
            "3283 3283\n",
            "1319 1319\n",
            "4283 4283\n",
            "158 158\n",
            "270 270\n",
            "825 825\n",
            "9066 9066\n",
            "6447 6447\n",
            "4324 4324\n",
            "5983 5983\n",
            "104 104\n",
            "3871 3871\n",
            "7335 7335\n",
            "145 145\n",
            "4458 4458\n",
            "4532 4532\n",
            "400 400\n",
            "5040 5040\n",
            "3145 3116\n",
            "4720 4720\n",
            "4929 4929\n",
            "529 529\n",
            "4951 4951\n",
            "343 343\n",
            "6640 6640\n",
            "269 269\n",
            "7625 7625\n",
            "4114 4114\n",
            "673 673\n",
            "2283 2283\n",
            "462 462\n",
            "1547 1547\n",
            "4307 4307\n",
            "1564 1564\n",
            "6656 6656\n",
            "5698 5686\n",
            "5105 5105\n",
            "4757 4757\n",
            "5883 5883\n",
            "3986 3986\n",
            "241 241\n",
            "2791 2791\n",
            "4467 4467\n",
            "346 346\n",
            "3543 3543\n",
            "2173 2173\n",
            "3219 3219\n",
            "4885 4885\n",
            "448 448\n",
            "1946 1942\n",
            "297 297\n",
            "432 432\n",
            "475 475\n",
            "6117 6117\n",
            "263 263\n",
            "3687 3687\n",
            "435 435\n",
            "4223 4223\n",
            "4870 4870\n",
            "220 220\n",
            "4862 4862\n",
            "2740 2740\n",
            "385 385\n",
            "454 454\n",
            "316 316\n",
            "9046 9046\n",
            "4792 4792\n",
            "379 379\n",
            "320 320\n",
            "3095 3095\n",
            "6774 6774\n",
            "4714 4714\n",
            "2920 2920\n",
            "3387 3387\n",
            "4527 4527\n",
            "4054 4054\n",
            "2440 2440\n",
            "6099 6099\n",
            "3405 3405\n",
            "7646 7646\n",
            "6438 6438\n",
            "4798 4798\n",
            "2787 2787\n",
            "393 393\n",
            "144 144\n",
            "447 447\n",
            "1716 1716\n",
            "4061 4061\n",
            "128 128\n",
            "3967 3967\n",
            "3885 3885\n",
            "143 143\n",
            "6367 6359\n",
            "88 88\n",
            "4231 4231\n",
            "4566 4566\n",
            "662 662\n",
            "471 471\n",
            "4295 4295\n",
            "3879 3879\n",
            "264 264\n",
            "3123 3123\n",
            "3135 3135\n",
            "4278 4278\n",
            "4556 4556\n",
            "4471 4471\n",
            "540 540\n",
            "540 540\n",
            "4286 4286\n",
            "2187 2187\n",
            "544 544\n",
            "1614 1614\n",
            "364 364\n",
            "2942 2942\n",
            "105 105\n",
            "522 522\n",
            "151 151\n",
            "8342 8342\n",
            "334 334\n",
            "1416 1416\n",
            "4451 4451\n",
            "251 251\n",
            "5786 5786\n",
            "3356 3356\n",
            "3475 3475\n",
            "4346 4346\n",
            "353 353\n",
            "299 299\n",
            "370 370\n",
            "6875 6875\n",
            "3894 3894\n",
            "3873 3873\n",
            "2642 2642\n",
            "3869 3869\n",
            "282 282\n",
            "4108 4108\n",
            "106 106\n",
            "9395 9395\n",
            "1416 1416\n",
            "367 367\n",
            "4082 4082\n",
            "3468 3468\n",
            "12605 12605\n",
            "211 211\n",
            "2781 2781\n",
            "2547 2547\n",
            "649 649\n",
            "183 183\n",
            "496 496\n",
            "4170 4170\n",
            "3841 3841\n",
            "5061 5061\n",
            "5353 5353\n",
            "239 239\n",
            "4752 4752\n",
            "969 969\n",
            "12063 12063\n",
            "802 802\n",
            "588 588\n",
            "5321 5321\n",
            "8098 8098\n",
            "3317 3317\n",
            "431 431\n",
            "4156 4156\n",
            "2960 2960\n",
            "4873 4873\n",
            "331 331\n",
            "3184 3184\n",
            "760 760\n",
            "5539 5539\n",
            "3455 3455\n",
            "7823 7823\n",
            "554 554\n",
            "421 421\n",
            "445 445\n",
            "3718 3718\n",
            "234 234\n",
            "6235 6235\n",
            "3037 3037\n",
            "4001 4001\n",
            "422 422\n",
            "995 995\n",
            "78 78\n",
            "2331 2331\n",
            "4285 4285\n",
            "268 268\n",
            "413 413\n",
            "10058 10058\n",
            "153 153\n",
            "2836 2836\n",
            "292 292\n",
            "3413 3413\n",
            "6362 6362\n",
            "3771 3771\n",
            "271 271\n",
            "4674 4674\n",
            "5985 5985\n",
            "165 165\n",
            "4303 4303\n",
            "693 693\n",
            "4153 4153\n",
            "4959 4959\n",
            "3618 3618\n",
            "1628 1628\n",
            "4836 4836\n",
            "6584 6584\n",
            "4045 4045\n",
            "366 366\n",
            "4401 4401\n",
            "7498 7498\n",
            "5574 5568\n",
            "8262 8262\n",
            "371 371\n",
            "2304 2304\n",
            "3185 3185\n",
            "240 240\n",
            "2814 2814\n",
            "9182 9182\n",
            "3990 3990\n",
            "3566 3566\n",
            "2135 2135\n",
            "261 261\n",
            "1391 1391\n",
            "3220 3220\n",
            "4378 4378\n",
            "2340 2340\n",
            "2642 2642\n",
            "527 527\n",
            "6363 6363\n",
            "2582 2582\n",
            "5238 5238\n",
            "3041 3041\n",
            "441 441\n",
            "6671 6671\n",
            "630 630\n",
            "3517 3517\n",
            "3583 3583\n",
            "5057 5057\n",
            "5099 5099\n",
            "116 116\n",
            "9532 9532\n",
            "5294 5294\n",
            "941 941\n",
            "4744 4744\n",
            "376 376\n",
            "2694 2694\n",
            "3923 3923\n",
            "346 346\n",
            "3961 3961\n",
            "611 611\n",
            "3212 3212\n",
            "3612 3612\n",
            "6713 6713\n",
            "4619 4619\n",
            "552 552\n",
            "4026 4026\n",
            "5468 5468\n",
            "5458 5458\n",
            "3387 3387\n",
            "3958 3958\n",
            "4378 4378\n",
            "3178 3178\n",
            "1709 1709\n",
            "3564 3564\n",
            "259 259\n",
            "4003 4003\n",
            "3295 3295\n",
            "135 135\n",
            "2914 2914\n",
            "5578 5578\n",
            "3700 3700\n",
            "6839 6839\n",
            "257 257\n",
            "1096 1096\n",
            "143 143\n",
            "693 693\n",
            "456 456\n",
            "239 239\n",
            "700 700\n",
            "6223 6223\n",
            "8185 8185\n",
            "4930 4930\n",
            "2343 2343\n",
            "2388 2380\n",
            "502 502\n",
            "3086 3086\n",
            "148 148\n",
            "6867 6855\n",
            "5210 5210\n",
            "296 296\n",
            "2351 2351\n",
            "6890 6890\n",
            "3140 3140\n",
            "7241 7241\n",
            "2800 2800\n",
            "3836 3836\n",
            "475 475\n",
            "285 285\n",
            "306 306\n",
            "2689 2689\n",
            "5175 5175\n",
            "638 638\n",
            "3965 3965\n",
            "2366 2366\n",
            "298 298\n",
            "4964 4964\n",
            "4916 4916\n",
            "7079 7079\n",
            "10158 10158\n",
            "3500 3500\n",
            "1286 1286\n",
            "493 493\n",
            "274 274\n",
            "757 757\n",
            "4293 4287\n",
            "4149 4149\n",
            "894 894\n",
            "148 148\n",
            "6313 6313\n",
            "4961 4961\n",
            "4250 4250\n",
            "4020 4020\n",
            "449 449\n",
            "133 133\n",
            "344 344\n",
            "4333 4333\n",
            "3434 3434\n",
            "239 239\n",
            "194 194\n",
            "5589 5589\n",
            "563 563\n",
            "6451 6451\n",
            "447 447\n",
            "3477 3477\n",
            "468 468\n",
            "4101 4101\n",
            "351 351\n",
            "3550 3550\n",
            "3738 3738\n",
            "210 210\n",
            "139 139\n",
            "3219 3219\n",
            "4622 4622\n",
            "481 481\n",
            "256 256\n",
            "5044 5044\n",
            "1775 1775\n",
            "8957 8957\n",
            "3510 3510\n",
            "6201 6201\n",
            "138 138\n",
            "3490 3490\n",
            "3937 3937\n",
            "4304 4304\n",
            "2675 2675\n",
            "5100 5100\n",
            "82 82\n",
            "409 409\n",
            "3918 3907\n",
            "3321 3321\n",
            "400 400\n",
            "8480 8480\n",
            "5454 5454\n",
            "5986 5985\n",
            "5114 5114\n",
            "370 370\n",
            "4644 4644\n",
            "4832 4832\n",
            "4323 4323\n",
            "242 242\n",
            "491 491\n",
            "459 459\n",
            "4508 4508\n",
            "14715 14715\n",
            "2622 2622\n",
            "4485 4485\n",
            "4003 4003\n",
            "732 732\n",
            "4518 4518\n",
            "7357 7357\n",
            "2947 2947\n",
            "3076 3076\n",
            "1819 1819\n",
            "3842 3842\n",
            "3257 3257\n",
            "378 378\n",
            "4550 4550\n",
            "188 188\n",
            "539 539\n",
            "509 509\n",
            "5207 5207\n",
            "7702 7702\n",
            "4438 4438\n",
            "6650 6650\n",
            "194 194\n",
            "6626 6626\n",
            "289 289\n",
            "2027 2027\n",
            "10615 10615\n",
            "2950 2950\n",
            "588 588\n",
            "337 337\n",
            "3904 3904\n",
            "3862 3862\n",
            "407 407\n",
            "216 216\n",
            "1933 1933\n",
            "3715 3715\n",
            "1731 1731\n",
            "114 114\n",
            "143 143\n",
            "5050 5050\n"
          ]
        }
      ],
      "execution_count": null
    },
    {
      "metadata": {},
      "source": [
        "df"
      ],
      "cell_type": "code",
      "outputs": [
        {
          "output_type": "execute_result",
          "data": {
            "text/html": [
              "<div>\n",
              "<style scoped>\n",
              "    .dataframe tbody tr th:only-of-type {\n",
              "        vertical-align: middle;\n",
              "    }\n",
              "\n",
              "    .dataframe tbody tr th {\n",
              "        vertical-align: top;\n",
              "    }\n",
              "\n",
              "    .dataframe thead th {\n",
              "        text-align: right;\n",
              "    }\n",
              "</style>\n",
              "<table border=\"1\" class=\"dataframe\">\n",
              "  <thead>\n",
              "    <tr style=\"text-align: right;\">\n",
              "      <th></th>\n",
              "      <th>movie</th>\n",
              "      <th>description</th>\n",
              "      <th>plot</th>\n",
              "      <th>target</th>\n",
              "    </tr>\n",
              "  </thead>\n",
              "  <tbody>\n",
              "    <tr>\n",
              "      <th>0</th>\n",
              "      <td>\u0414\u0438\u0432\u0435\u0440\u0433\u0435\u043d\u0442 (2014)</td>\n",
              "      <td>\u0414\u0435\u0439\u0441\u0442\u0432\u0438\u0435 \u0444\u0438\u043b\u044c\u043c\u0430 \u00ab\u0444\u0438\u043b\u044c\u043c\u00bb \u043f\u0440\u043e\u0438\u0441\u0445\u043e\u0434\u0438\u0442 \u0432 \u043c\u0438\u0440\u0435, \u043f\u0435\u0440...</td>\n",
              "      <td>\u0414\u0435\u0439\u0441\u0442\u0432\u0438\u0435 \u0444\u0438\u043b\u044c\u043c\u0430 \u00ab\u0444\u0438\u043b\u044c\u043c\u00bb \u043f\u0440\u043e\u0438\u0441\u0445\u043e\u0434\u0438\u0442 \u0432 \u043c\u0438\u0440\u0435, \u043f\u0435\u0440...</td>\n",
              "      <td>[1, 1, 0, 0, 0, 0, 1, 0, 0, 0, 0, 0, 1, 0]</td>\n",
              "    </tr>\n",
              "    <tr>\n",
              "      <th>1</th>\n",
              "      <td>\u041a\u0443\u043d\u0433-\u0444\u0443 \u041f\u0430\u043d\u0434\u0430 4 (2024)</td>\n",
              "      <td>\u041e\u0434\u043d\u0430\u0436\u0434\u044b \u043d\u043e\u0447\u044c\u044e \u043d\u0430 \u0432\u0435\u0440\u0448\u0438\u043d\u0435 \u0433\u043e\u0440\u044b \u0432\u043e\u0437\u043b\u0435 \u043a\u0430\u043c\u0435\u043d\u043e\u043b\u043e\u043c\u043d...</td>\n",
              "      <td>\u041e\u0434\u043d\u0430\u0436\u0434\u044b \u043d\u043e\u0447\u044c\u044e \u043d\u0430 \u0432\u0435\u0440\u0448\u0438\u043d\u0435 \u0433\u043e\u0440\u044b \u0432\u043e\u0437\u043b\u0435 \u043a\u0430\u043c\u0435\u043d\u043e\u043b\u043e\u043c\u043d...</td>\n",
              "      <td>[1, 0, 0, 0, 1, 0, 0, 1, 0, 1, 0, 0, 0, 1]</td>\n",
              "    </tr>\n",
              "    <tr>\n",
              "      <th>2</th>\n",
              "      <td>2046 (2004)</td>\n",
              "      <td>\u0433\u0435\u0440\u043e\u0439 \u0432\u043e\u0437\u0432\u0440\u0430\u0449\u0430\u0435\u0442\u0441\u044f \u0432 \u043b\u043e\u043a\u0430\u0446\u0438\u044f \u043f\u043e\u0441\u043b\u0435 \u043d\u0435\u0441\u043a\u043e\u043b\u044c\u043a\u0438\u0445 ...</td>\n",
              "      <td>\u0433\u0435\u0440\u043e\u0439 \u0432\u043e\u0437\u0432\u0440\u0430\u0449\u0430\u0435\u0442\u0441\u044f \u0432 \u043b\u043e\u043a\u0430\u0446\u0438\u044f \u043f\u043e\u0441\u043b\u0435 \u043d\u0435\u0441\u043a\u043e\u043b\u044c\u043a\u0438\u0445 ...</td>\n",
              "      <td>[0, 0, 1, 0, 0, 0, 1, 0, 0, 0, 0, 0, 1, 0]</td>\n",
              "    </tr>\n",
              "    <tr>\n",
              "      <th>3</th>\n",
              "      <td>\u041f\u043e\u043b\u0438\u0446\u0435\u0439\u0441\u043a\u0438\u0439 \u0438\u0437 \u0411\u0435\u0432\u0435\u0440\u043b\u0438-\u0425\u0438\u043b\u043b\u0437: \u0410\u043a\u0441\u0435\u043b\u044c \u0424\u043e\u0443\u043b\u0438 (2024)</td>\n",
              "      <td>\u0433\u0435\u0440\u043e\u0439 \u0432\u0435\u0440\u043d\u0443\u043b\u0441\u044f \u0432 \u043b\u043e\u043a\u0430\u0446\u0438\u044f \u043f\u043e\u0441\u043b\u0435 \u0442\u043e\u0433\u043e, \u043a\u0430\u043a \u0436\u0438\u0437\u043d\u044c...</td>\n",
              "      <td>\u0433\u0435\u0440\u043e\u0439 \u0432\u0435\u0440\u043d\u0443\u043b\u0441\u044f \u0432 \u043b\u043e\u043a\u0430\u0446\u0438\u044f \u043f\u043e\u0441\u043b\u0435 \u0442\u043e\u0433\u043e, \u043a\u0430\u043a \u0436\u0438\u0437\u043d\u044c...</td>\n",
              "      <td>[1, 1, 0, 0, 1, 1, 0, 0, 0, 0, 0, 0, 0, 0]</td>\n",
              "    </tr>\n",
              "    <tr>\n",
              "      <th>4</th>\n",
              "      <td>\u0417\u043d\u0430\u043a\u043e\u043c\u044c\u0442\u0435\u0441\u044c, \u0414\u0436\u043e \u0411\u043b\u044d\u043a (1998)</td>\n",
              "      <td>\u0418\u0441\u0442\u043e\u0440\u0438\u044f \u043e\u0431 \u0433\u0435\u0440\u043e\u0439, \u043a\u043e\u0442\u043e\u0440\u044b\u0439 \u0440\u0435\u0448\u0430\u0435\u0442 \u0432\u0437\u044f\u0442\u044c \u043e\u0442\u043f\u0443\u0441\u043a ...</td>\n",
              "      <td>\u0418\u0441\u0442\u043e\u0440\u0438\u044f \u043e\u0431 \u0433\u0435\u0440\u043e\u0439, \u043a\u043e\u0442\u043e\u0440\u044b\u0439 \u0440\u0435\u0448\u0430\u0435\u0442 \u0432\u0437\u044f\u0442\u044c \u043e\u0442\u043f\u0443\u0441\u043a ...</td>\n",
              "      <td>[0, 0, 1, 0, 0, 0, 1, 0, 0, 0, 0, 0, 0, 1]</td>\n",
              "    </tr>\n",
              "    <tr>\n",
              "      <th>...</th>\n",
              "      <td>...</td>\n",
              "      <td>...</td>\n",
              "      <td>...</td>\n",
              "      <td>...</td>\n",
              "    </tr>\n",
              "    <tr>\n",
              "      <th>566</th>\n",
              "      <td>\u0410\u043f\u043e\u043a\u0430\u043b\u0438\u043f\u0441\u0438\u0441 (2006)</td>\n",
              "      <td>\u0412 1517 \u0433\u043e\u0434\u0443 \u043d\u0430 \u043f\u043e\u043b\u0443\u043e\u0441\u0442\u0440\u043e\u0432\u0435 \u043b\u043e\u043a\u0430\u0446\u0438\u044f \u043f\u043b\u0435\u043c\u044f \u0433\u0435\u0440\u043e\u0439...</td>\n",
              "      <td>1517 \u0433\u043e\u0434. \u041f\u043e\u043b\u0443\u043e\u0441\u0442\u0440\u043e\u0432 \u043b\u043e\u043a\u0430\u0446\u0438\u044f. \u0413\u0440\u0443\u043f\u043f\u0430 \u043e\u0445\u043e\u0442\u043d\u0438\u043a\u043e\u0432...</td>\n",
              "      <td>[1, 0, 1, 0, 0, 0, 0, 0, 0, 1, 1, 0, 0, 0]</td>\n",
              "    </tr>\n",
              "    <tr>\n",
              "      <th>567</th>\n",
              "      <td>\u041b\u0451\u0434 3 (2024)</td>\n",
              "      <td>\u0433\u0435\u0440\u043e\u0439, \u0441\u0442\u0430\u0432\u0448\u0430\u044f \u0444\u0438\u0433\u0443\u0440\u0438\u0441\u0442\u043a\u043e\u0439, \u0441\u0442\u0440\u0435\u043c\u0438\u0442\u0441\u044f \u0432\u044b\u0438\u0433\u0440\u0430\u0442\u044c...</td>\n",
              "      <td>\u0424\u0438\u043b\u044c\u043c \u043d\u0430\u0447\u0438\u043d\u0430\u0435\u0442\u0441\u044f \u0441 \u0438\u0441\u0442\u043e\u0440\u0438\u0438 \u0432\u0437\u0440\u043e\u0441\u043b\u0435\u043d\u0438\u044f \u0434\u043e\u0447\u0435\u0440\u0438 \u0433...</td>\n",
              "      <td>[0, 0, 0, 0, 0, 0, 1, 0, 1, 0, 0, 0, 0, 0]</td>\n",
              "    </tr>\n",
              "    <tr>\n",
              "      <th>568</th>\n",
              "      <td>\u0414\u0430\u0441\u0442\u0443\u0440 (2023)</td>\n",
              "      <td>\u041d\u043e\u0432\u043e\u0438\u0441\u043f\u0435\u0447\u0435\u043d\u043d\u0430\u044f \u043d\u0435\u0432\u0435\u0441\u0442\u0430, \u043a\u043e\u0442\u043e\u0440\u0443\u044e \u0432\u044b\u0434\u0430\u043b\u0438 \u0437\u0430\u043c\u0443\u0436 \u043f...</td>\n",
              "      <td>\u041d\u043e\u0432\u043e\u0438\u0441\u043f\u0435\u0447\u0435\u043d\u043d\u0430\u044f \u043d\u0435\u0432\u0435\u0441\u0442\u0430, \u043a\u043e\u0442\u043e\u0440\u0443\u044e \u0432\u044b\u0434\u0430\u043b\u0438 \u0437\u0430\u043c\u0443\u0436 \u043f...</td>\n",
              "      <td>[0, 0, 0, 0, 0, 0, 0, 0, 0, 0, 0, 1, 1, 0]</td>\n",
              "    </tr>\n",
              "    <tr>\n",
              "      <th>569</th>\n",
              "      <td>\u041d\u0435 \u0433\u043e\u0432\u043e\u0440\u0438 \u043d\u0438\u043a\u043e\u043c\u0443 (2024)</td>\n",
              "      <td>\u041f\u0430\u0440\u0430 \u0432\u043c\u0435\u0441\u0442\u0435 \u0441 \u0434\u043e\u0447\u0435\u0440\u044c\u044e \u043f\u043e\u043b\u0443\u0447\u0430\u044e\u0442 \u043f\u0440\u0438\u0433\u043b\u0430\u0448\u0435\u043d\u0438\u0435 \u043e\u0442 ...</td>\n",
              "      <td>\u041f\u0430\u0440\u0430 \u0432\u043c\u0435\u0441\u0442\u0435 \u0441 \u0434\u043e\u0447\u0435\u0440\u044c\u044e \u043f\u043e\u043b\u0443\u0447\u0430\u044e\u0442 \u043f\u0440\u0438\u0433\u043b\u0430\u0448\u0435\u043d\u0438\u0435 \u043e\u0442 ...</td>\n",
              "      <td>[0, 0, 1, 0, 0, 0, 0, 0, 0, 0, 1, 0, 0, 0]</td>\n",
              "    </tr>\n",
              "    <tr>\n",
              "      <th>570</th>\n",
              "      <td>\u041f\u0440\u0438\u043d\u0446\u0435\u0441\u0441\u0430 \u041c\u043e\u043d\u043e\u043d\u043e\u043a\u0435 (1997)</td>\n",
              "      <td>\u0421\u044e\u0436\u0435\u0442 \u0444\u0438\u043b\u044c\u043c\u0430 \u0440\u0430\u0437\u0432\u043e\u0440\u0430\u0447\u0438\u0432\u0430\u0435\u0442\u0441\u044f \u0432\u043e \u0432\u0440\u0435\u043c\u0435\u043d\u0430 \u043f\u0435\u0440\u0438\u043e\u0434...</td>\n",
              "      <td>\u041a\u043e\u0433\u0434\u0430-\u0442\u043e \u044d\u0442\u0443 \u0437\u0435\u043c\u043b\u044e \u0443\u043a\u0440\u044b\u0432\u0430\u043b \u043b\u0435\u0441, \u0433\u0434\u0435 \u0441 \u043d\u0435\u0437\u0430\u043f\u0430\u043c\u044f...</td>\n",
              "      <td>[1, 0, 1, 0, 0, 0, 0, 1, 0, 1, 0, 0, 0, 1]</td>\n",
              "    </tr>\n",
              "  </tbody>\n",
              "</table>\n",
              "<p>571 rows \u00d7 4 columns</p>\n",
              "</div>"
            ],
            "text/plain": [
              "                                                 movie  \\\n",
              "0                                     \u0414\u0438\u0432\u0435\u0440\u0433\u0435\u043d\u0442 (2014)   \n",
              "1                               \u041a\u0443\u043d\u0433-\u0444\u0443 \u041f\u0430\u043d\u0434\u0430 4 (2024)   \n",
              "2                                          2046 (2004)   \n",
              "3    \u041f\u043e\u043b\u0438\u0446\u0435\u0439\u0441\u043a\u0438\u0439 \u0438\u0437 \u0411\u0435\u0432\u0435\u0440\u043b\u0438-\u0425\u0438\u043b\u043b\u0437: \u0410\u043a\u0441\u0435\u043b\u044c \u0424\u043e\u0443\u043b\u0438 (2024)   \n",
              "4                         \u0417\u043d\u0430\u043a\u043e\u043c\u044c\u0442\u0435\u0441\u044c, \u0414\u0436\u043e \u0411\u043b\u044d\u043a (1998)   \n",
              "..                                                 ...   \n",
              "566                                 \u0410\u043f\u043e\u043a\u0430\u043b\u0438\u043f\u0441\u0438\u0441 (2006)   \n",
              "567                                       \u041b\u0451\u0434 3 (2024)   \n",
              "568                                      \u0414\u0430\u0441\u0442\u0443\u0440 (2023)   \n",
              "569                            \u041d\u0435 \u0433\u043e\u0432\u043e\u0440\u0438 \u043d\u0438\u043a\u043e\u043c\u0443 (2024)   \n",
              "570                          \u041f\u0440\u0438\u043d\u0446\u0435\u0441\u0441\u0430 \u041c\u043e\u043d\u043e\u043d\u043e\u043a\u0435 (1997)   \n",
              "\n",
              "                                           description  \\\n",
              "0    \u0414\u0435\u0439\u0441\u0442\u0432\u0438\u0435 \u0444\u0438\u043b\u044c\u043c\u0430 \u00ab\u0444\u0438\u043b\u044c\u043c\u00bb \u043f\u0440\u043e\u0438\u0441\u0445\u043e\u0434\u0438\u0442 \u0432 \u043c\u0438\u0440\u0435, \u043f\u0435\u0440...   \n",
              "1    \u041e\u0434\u043d\u0430\u0436\u0434\u044b \u043d\u043e\u0447\u044c\u044e \u043d\u0430 \u0432\u0435\u0440\u0448\u0438\u043d\u0435 \u0433\u043e\u0440\u044b \u0432\u043e\u0437\u043b\u0435 \u043a\u0430\u043c\u0435\u043d\u043e\u043b\u043e\u043c\u043d...   \n",
              "2    \u0433\u0435\u0440\u043e\u0439 \u0432\u043e\u0437\u0432\u0440\u0430\u0449\u0430\u0435\u0442\u0441\u044f \u0432 \u043b\u043e\u043a\u0430\u0446\u0438\u044f \u043f\u043e\u0441\u043b\u0435 \u043d\u0435\u0441\u043a\u043e\u043b\u044c\u043a\u0438\u0445 ...   \n",
              "3    \u0433\u0435\u0440\u043e\u0439 \u0432\u0435\u0440\u043d\u0443\u043b\u0441\u044f \u0432 \u043b\u043e\u043a\u0430\u0446\u0438\u044f \u043f\u043e\u0441\u043b\u0435 \u0442\u043e\u0433\u043e, \u043a\u0430\u043a \u0436\u0438\u0437\u043d\u044c...   \n",
              "4    \u0418\u0441\u0442\u043e\u0440\u0438\u044f \u043e\u0431 \u0433\u0435\u0440\u043e\u0439, \u043a\u043e\u0442\u043e\u0440\u044b\u0439 \u0440\u0435\u0448\u0430\u0435\u0442 \u0432\u0437\u044f\u0442\u044c \u043e\u0442\u043f\u0443\u0441\u043a ...   \n",
              "..                                                 ...   \n",
              "566  \u0412 1517 \u0433\u043e\u0434\u0443 \u043d\u0430 \u043f\u043e\u043b\u0443\u043e\u0441\u0442\u0440\u043e\u0432\u0435 \u043b\u043e\u043a\u0430\u0446\u0438\u044f \u043f\u043b\u0435\u043c\u044f \u0433\u0435\u0440\u043e\u0439...   \n",
              "567  \u0433\u0435\u0440\u043e\u0439, \u0441\u0442\u0430\u0432\u0448\u0430\u044f \u0444\u0438\u0433\u0443\u0440\u0438\u0441\u0442\u043a\u043e\u0439, \u0441\u0442\u0440\u0435\u043c\u0438\u0442\u0441\u044f \u0432\u044b\u0438\u0433\u0440\u0430\u0442\u044c...   \n",
              "568  \u041d\u043e\u0432\u043e\u0438\u0441\u043f\u0435\u0447\u0435\u043d\u043d\u0430\u044f \u043d\u0435\u0432\u0435\u0441\u0442\u0430, \u043a\u043e\u0442\u043e\u0440\u0443\u044e \u0432\u044b\u0434\u0430\u043b\u0438 \u0437\u0430\u043c\u0443\u0436 \u043f...   \n",
              "569  \u041f\u0430\u0440\u0430 \u0432\u043c\u0435\u0441\u0442\u0435 \u0441 \u0434\u043e\u0447\u0435\u0440\u044c\u044e \u043f\u043e\u043b\u0443\u0447\u0430\u044e\u0442 \u043f\u0440\u0438\u0433\u043b\u0430\u0448\u0435\u043d\u0438\u0435 \u043e\u0442 ...   \n",
              "570  \u0421\u044e\u0436\u0435\u0442 \u0444\u0438\u043b\u044c\u043c\u0430 \u0440\u0430\u0437\u0432\u043e\u0440\u0430\u0447\u0438\u0432\u0430\u0435\u0442\u0441\u044f \u0432\u043e \u0432\u0440\u0435\u043c\u0435\u043d\u0430 \u043f\u0435\u0440\u0438\u043e\u0434...   \n",
              "\n",
              "                                                  plot  \\\n",
              "0    \u0414\u0435\u0439\u0441\u0442\u0432\u0438\u0435 \u0444\u0438\u043b\u044c\u043c\u0430 \u00ab\u0444\u0438\u043b\u044c\u043c\u00bb \u043f\u0440\u043e\u0438\u0441\u0445\u043e\u0434\u0438\u0442 \u0432 \u043c\u0438\u0440\u0435, \u043f\u0435\u0440...   \n",
              "1    \u041e\u0434\u043d\u0430\u0436\u0434\u044b \u043d\u043e\u0447\u044c\u044e \u043d\u0430 \u0432\u0435\u0440\u0448\u0438\u043d\u0435 \u0433\u043e\u0440\u044b \u0432\u043e\u0437\u043b\u0435 \u043a\u0430\u043c\u0435\u043d\u043e\u043b\u043e\u043c\u043d...   \n",
              "2    \u0433\u0435\u0440\u043e\u0439 \u0432\u043e\u0437\u0432\u0440\u0430\u0449\u0430\u0435\u0442\u0441\u044f \u0432 \u043b\u043e\u043a\u0430\u0446\u0438\u044f \u043f\u043e\u0441\u043b\u0435 \u043d\u0435\u0441\u043a\u043e\u043b\u044c\u043a\u0438\u0445 ...   \n",
              "3    \u0433\u0435\u0440\u043e\u0439 \u0432\u0435\u0440\u043d\u0443\u043b\u0441\u044f \u0432 \u043b\u043e\u043a\u0430\u0446\u0438\u044f \u043f\u043e\u0441\u043b\u0435 \u0442\u043e\u0433\u043e, \u043a\u0430\u043a \u0436\u0438\u0437\u043d\u044c...   \n",
              "4    \u0418\u0441\u0442\u043e\u0440\u0438\u044f \u043e\u0431 \u0433\u0435\u0440\u043e\u0439, \u043a\u043e\u0442\u043e\u0440\u044b\u0439 \u0440\u0435\u0448\u0430\u0435\u0442 \u0432\u0437\u044f\u0442\u044c \u043e\u0442\u043f\u0443\u0441\u043a ...   \n",
              "..                                                 ...   \n",
              "566  1517 \u0433\u043e\u0434. \u041f\u043e\u043b\u0443\u043e\u0441\u0442\u0440\u043e\u0432 \u043b\u043e\u043a\u0430\u0446\u0438\u044f. \u0413\u0440\u0443\u043f\u043f\u0430 \u043e\u0445\u043e\u0442\u043d\u0438\u043a\u043e\u0432...   \n",
              "567  \u0424\u0438\u043b\u044c\u043c \u043d\u0430\u0447\u0438\u043d\u0430\u0435\u0442\u0441\u044f \u0441 \u0438\u0441\u0442\u043e\u0440\u0438\u0438 \u0432\u0437\u0440\u043e\u0441\u043b\u0435\u043d\u0438\u044f \u0434\u043e\u0447\u0435\u0440\u0438 \u0433...   \n",
              "568  \u041d\u043e\u0432\u043e\u0438\u0441\u043f\u0435\u0447\u0435\u043d\u043d\u0430\u044f \u043d\u0435\u0432\u0435\u0441\u0442\u0430, \u043a\u043e\u0442\u043e\u0440\u0443\u044e \u0432\u044b\u0434\u0430\u043b\u0438 \u0437\u0430\u043c\u0443\u0436 \u043f...   \n",
              "569  \u041f\u0430\u0440\u0430 \u0432\u043c\u0435\u0441\u0442\u0435 \u0441 \u0434\u043e\u0447\u0435\u0440\u044c\u044e \u043f\u043e\u043b\u0443\u0447\u0430\u044e\u0442 \u043f\u0440\u0438\u0433\u043b\u0430\u0448\u0435\u043d\u0438\u0435 \u043e\u0442 ...   \n",
              "570  \u041a\u043e\u0433\u0434\u0430-\u0442\u043e \u044d\u0442\u0443 \u0437\u0435\u043c\u043b\u044e \u0443\u043a\u0440\u044b\u0432\u0430\u043b \u043b\u0435\u0441, \u0433\u0434\u0435 \u0441 \u043d\u0435\u0437\u0430\u043f\u0430\u043c\u044f...   \n",
              "\n",
              "                                         target  \n",
              "0    [1, 1, 0, 0, 0, 0, 1, 0, 0, 0, 0, 0, 1, 0]  \n",
              "1    [1, 0, 0, 0, 1, 0, 0, 1, 0, 1, 0, 0, 0, 1]  \n",
              "2    [0, 0, 1, 0, 0, 0, 1, 0, 0, 0, 0, 0, 1, 0]  \n",
              "3    [1, 1, 0, 0, 1, 1, 0, 0, 0, 0, 0, 0, 0, 0]  \n",
              "4    [0, 0, 1, 0, 0, 0, 1, 0, 0, 0, 0, 0, 0, 1]  \n",
              "..                                          ...  \n",
              "566  [1, 0, 1, 0, 0, 0, 0, 0, 0, 1, 1, 0, 0, 0]  \n",
              "567  [0, 0, 0, 0, 0, 0, 1, 0, 1, 0, 0, 0, 0, 0]  \n",
              "568  [0, 0, 0, 0, 0, 0, 0, 0, 0, 0, 0, 1, 1, 0]  \n",
              "569  [0, 0, 1, 0, 0, 0, 0, 0, 0, 0, 1, 0, 0, 0]  \n",
              "570  [1, 0, 1, 0, 0, 0, 0, 1, 0, 1, 0, 0, 0, 1]  \n",
              "\n",
              "[571 rows x 4 columns]"
            ]
          },
          "metadata": {},
          "execution_count": 9
        }
      ],
      "execution_count": null
    },
    {
      "metadata": {},
      "source": [
        "df = df.drop(\"movie\", axis=1)"
      ],
      "cell_type": "code",
      "outputs": [],
      "execution_count": null
    },
    {
      "metadata": {},
      "source": [
        "df[\"description\"].apply(len).max()"
      ],
      "cell_type": "code",
      "outputs": [
        {
          "output_type": "execute_result",
          "data": {
            "text/plain": [
              "1707"
            ]
          },
          "metadata": {},
          "execution_count": 11
        }
      ],
      "execution_count": null
    },
    {
      "metadata": {},
      "source": [
        "df[\"plot\"].apply(len).max()"
      ],
      "cell_type": "code",
      "outputs": [
        {
          "output_type": "execute_result",
          "data": {
            "text/plain": [
              "14681"
            ]
          },
          "metadata": {},
          "execution_count": 12
        }
      ],
      "execution_count": null
    },
    {
      "metadata": {},
      "source": [
        "max_length = 2048\n",
        "num_labels = len(mlb.classes_)\n",
        "label2id = dict(zip(mlb.classes_, range(num_labels)))\n",
        "id2label = dict(zip(range(num_labels), mlb.classes_))\n",
        "model = \"cointegrated/rubert-tiny2\"\n",
        "problem_type = \"multi_label_classification\"\n",
        "batch_size = 16\n",
        "pin_memory = False\n",
        "drop_last = False\n",
        "num_workers = 4\n",
        "shuffle = True\n",
        "val_size = int(len(df) * 0.1)\n",
        "num_epochs = 30\n",
        "\n",
        "\n",
        "os.environ[\"TOKENIZERS_PARALLELISM\"] = \"false\"\n",
        "os.environ[\"TRANSFORMERS_NO_ADVISORY_WARNINGS\"] = \"true\""
      ],
      "cell_type": "code",
      "outputs": [],
      "execution_count": null
    },
    {
      "metadata": {},
      "source": [
        "tokenizer = AutoTokenizer.from_pretrained(model)\n",
        "\n",
        "model = BertForSequenceClassification.from_pretrained(\n",
        "    model,\n",
        "    num_labels=num_labels,\n",
        "    problem_type=problem_type,\n",
        "    label2id=label2id,\n",
        "    id2label=id2label,\n",
        ")"
      ],
      "cell_type": "code",
      "outputs": [
        {
          "output_type": "stream",
          "name": "stderr",
          "text": [
            "/home/seara/Desktop/Github/mtc-film-classification/.venv/lib/python3.9/site-packages/transformers/tokenization_utils_base.py:1601: FutureWarning: `clean_up_tokenization_spaces` was not set. It will be set to `True` by default. This behavior will be depracted in transformers v4.45, and will be then set to `False` by default. For more details check this issue: https://github.com/huggingface/transformers/issues/31884\n",
            "  warnings.warn(\n",
            "Some weights of BertForSequenceClassification were not initialized from the model checkpoint at cointegrated/rubert-tiny2 and are newly initialized: ['classifier.bias', 'classifier.weight']\n",
            "You should probably TRAIN this model on a down-stream task to be able to use it for predictions and inference.\n"
          ]
        }
      ],
      "execution_count": null
    },
    {
      "metadata": {},
      "source": [
        "dataset = Dataset.from_pandas(df)\n",
        "dataset = dataset.map(\n",
        "    lambda x: tokenizer(\n",
        "        x[\"description\"], x[\"plot\"], truncation=True, max_length=max_length\n",
        "    ),\n",
        "    batched=True,\n",
        ")\n",
        "dataset = dataset.map(\n",
        "    lambda x: {\"label\": [float(y) for y in x[\"target\"]]},\n",
        "    batched=False,\n",
        "    remove_columns=[\"description\", \"plot\", \"target\"],\n",
        ")"
      ],
      "cell_type": "code",
      "outputs": [
        {
          "output_type": "display_data",
          "data": {
            "application/vnd.jupyter.widget-view+json": {
              "model_id": "6144fbe9387d48ad99a4f4867412e53f",
              "version_major": 2,
              "version_minor": 0
            },
            "text/plain": [
              "Map:   0%|          | 0/571 [00:00<?, ? examples/s]"
            ]
          },
          "metadata": {}
        },
        {
          "output_type": "display_data",
          "data": {
            "application/vnd.jupyter.widget-view+json": {
              "model_id": "30d652bb65d9403598be72016da3e7b8",
              "version_major": 2,
              "version_minor": 0
            },
            "text/plain": [
              "Map:   0%|          | 0/571 [00:00<?, ? examples/s]"
            ]
          },
          "metadata": {}
        }
      ],
      "execution_count": null
    },
    {
      "metadata": {},
      "source": [
        "data_collator = DataCollatorWithPadding(tokenizer)\n",
        "\n",
        "\n",
        "train_val = dataset.train_test_split(test_size=val_size)  # 10% of full dataset\n",
        "\n",
        "train_dataloader = DataLoader(\n",
        "    train_val[\"train\"],\n",
        "    batch_size=batch_size,\n",
        "    shuffle=shuffle,\n",
        "    num_workers=num_workers,\n",
        "    collate_fn=data_collator,\n",
        "    pin_memory=pin_memory,\n",
        "    drop_last=drop_last,\n",
        ")\n",
        "\n",
        "val_dataloader = DataLoader(\n",
        "    train_val[\"test\"],\n",
        "    batch_size=batch_size,\n",
        "    shuffle=False,\n",
        "    num_workers=num_workers,\n",
        "    collate_fn=data_collator,\n",
        "    pin_memory=pin_memory,\n",
        "    drop_last=drop_last,\n",
        ")"
      ],
      "cell_type": "code",
      "outputs": [],
      "execution_count": null
    },
    {
      "metadata": {},
      "source": [
        "THRESHOLD = 0.5\n",
        "\n",
        "\n",
        "def get_report_multilabel(y_true, y_pred, target_names, output_dict):\n",
        "    return classification_report(\n",
        "        y_true,\n",
        "        y_pred >= THRESHOLD,\n",
        "        target_names=target_names,\n",
        "        output_dict=output_dict,\n",
        "        zero_division=0,\n",
        "    )"
      ],
      "cell_type": "code",
      "outputs": [],
      "execution_count": null
    },
    {
      "metadata": {},
      "source": [
        "def predict(model, dataloader):\n",
        "    with torch.inference_mode():\n",
        "        y_true = []\n",
        "        y_pred = []\n",
        "        val_loss = 0\n",
        "\n",
        "        for batch in tqdm(dataloader):\n",
        "            batch = batch.to(model.device)\n",
        "            output = model(**batch)\n",
        "            loss = output.loss\n",
        "\n",
        "            val_loss += loss.item() * batch[\"input_ids\"].size(0)\n",
        "            y_true.append(batch.labels.cpu())\n",
        "            y_pred.append(output.logits.cpu())\n",
        "\n",
        "        val_loss = val_loss / len(dataloader.dataset)\n",
        "\n",
        "    return (\n",
        "        torch.cat(y_true).numpy(),\n",
        "        torch.sigmoid(torch.cat(y_pred)).numpy(),\n",
        "        val_loss,\n",
        "    )\n",
        "\n",
        "\n",
        "def train_epoch(model, train_dataloader, optimizer):\n",
        "    y_true = []\n",
        "    y_pred = []\n",
        "    train_loss = 0\n",
        "\n",
        "    for batch in tqdm(train_dataloader):\n",
        "        optimizer.zero_grad()\n",
        "        batch = batch.to(model.device)\n",
        "        output = model(**batch)\n",
        "        loss = output.loss\n",
        "        loss.backward()\n",
        "        optimizer.step()\n",
        "\n",
        "        train_loss += loss.item() * batch[\"input_ids\"].size(0)\n",
        "        y_true.append(batch.labels.detach().cpu())\n",
        "        y_pred.append(output.logits.detach().cpu())\n",
        "\n",
        "    train_loss = train_loss / len(train_dataloader.dataset)\n",
        "    return (\n",
        "        torch.cat(y_true).numpy(),\n",
        "        torch.sigmoid(torch.cat(y_pred)).numpy(),\n",
        "        train_loss,\n",
        "    )\n",
        "\n",
        "\n",
        "def eval(model, val_dataloader, labels):\n",
        "    model.eval()\n",
        "    val_y_true, val_y_pred, val_loss = predict(model, val_dataloader)\n",
        "    report_dict = get_report_multilabel(val_y_true, val_y_pred, labels, True)\n",
        "    df = pd.DataFrame(report_dict)\n",
        "    df = df.round(2)\n",
        "    return df"
      ],
      "cell_type": "code",
      "outputs": [],
      "execution_count": null
    },
    {
      "metadata": {},
      "source": [
        "def train(model, train_dataloader, optimizer, epochs, val_dataloader, labels):\n",
        "    tq = tqdm(range(epochs))\n",
        "\n",
        "    for epoch in tq:\n",
        "\n",
        "        model.train()\n",
        "        train_y_true, train_y_pred, train_loss = train_epoch(\n",
        "            model, train_dataloader, optimizer\n",
        "        )\n",
        "\n",
        "        model.eval()\n",
        "        val_y_true, val_y_pred, val_loss = predict(model, val_dataloader)\n",
        "\n",
        "        tq.set_description(f\"train_loss: {train_loss:.4f}, val_loss: {val_loss:.4f}\")\n",
        "\n",
        "    df = eval(model, val_dataloader, labels)\n",
        "    print(df)\n",
        "\n",
        "    return val_y_true, val_y_pred"
      ],
      "cell_type": "code",
      "outputs": [],
      "execution_count": null
    },
    {
      "metadata": {},
      "source": [
        "del nlp\n",
        "\n",
        "torch.cuda.empty_cache()\n",
        "model.cuda()\n",
        "\n",
        "optimizer = Adam(model.parameters(), lr=0.00001)\n",
        "\n",
        "val_y_true, val_y_pred = train(\n",
        "    model=model,\n",
        "    train_dataloader=train_dataloader,\n",
        "    optimizer=optimizer,\n",
        "    epochs=num_epochs,\n",
        "    val_dataloader=val_dataloader,\n",
        "    labels=id2label.values(),\n",
        ")"
      ],
      "cell_type": "code",
      "outputs": [
        {
          "output_type": "display_data",
          "data": {
            "application/vnd.jupyter.widget-view+json": {
              "model_id": "a3459af0959a497d9de30d757cd39045",
              "version_major": 2,
              "version_minor": 0
            },
            "text/plain": [
              "  0%|          | 0/30 [00:00<?, ?it/s]"
            ]
          },
          "metadata": {}
        },
        {
          "output_type": "display_data",
          "data": {
            "application/vnd.jupyter.widget-view+json": {
              "model_id": "b985a427021a436292e09a3e33f7e186",
              "version_major": 2,
              "version_minor": 0
            },
            "text/plain": [
              "  0%|          | 0/33 [00:00<?, ?it/s]"
            ]
          },
          "metadata": {}
        },
        {
          "output_type": "display_data",
          "data": {
            "application/vnd.jupyter.widget-view+json": {
              "model_id": "fe505a71d7864fefa082973ac265a82c",
              "version_major": 2,
              "version_minor": 0
            },
            "text/plain": [
              "  0%|          | 0/4 [00:00<?, ?it/s]"
            ]
          },
          "metadata": {}
        },
        {
          "output_type": "display_data",
          "data": {
            "application/vnd.jupyter.widget-view+json": {
              "model_id": "fe84a17d5e18424596d4c4850111f715",
              "version_major": 2,
              "version_minor": 0
            },
            "text/plain": [
              "  0%|          | 0/33 [00:00<?, ?it/s]"
            ]
          },
          "metadata": {}
        },
        {
          "output_type": "display_data",
          "data": {
            "application/vnd.jupyter.widget-view+json": {
              "model_id": "cc31f6f782ab43a7848cb92c3b2932c6",
              "version_major": 2,
              "version_minor": 0
            },
            "text/plain": [
              "  0%|          | 0/4 [00:00<?, ?it/s]"
            ]
          },
          "metadata": {}
        },
        {
          "output_type": "display_data",
          "data": {
            "application/vnd.jupyter.widget-view+json": {
              "model_id": "6f901ee52f814e9986f0880fc67d5921",
              "version_major": 2,
              "version_minor": 0
            },
            "text/plain": [
              "  0%|          | 0/33 [00:00<?, ?it/s]"
            ]
          },
          "metadata": {}
        },
        {
          "output_type": "display_data",
          "data": {
            "application/vnd.jupyter.widget-view+json": {
              "model_id": "49316a7b7c514743915b6a0e26629168",
              "version_major": 2,
              "version_minor": 0
            },
            "text/plain": [
              "  0%|          | 0/4 [00:00<?, ?it/s]"
            ]
          },
          "metadata": {}
        },
        {
          "output_type": "display_data",
          "data": {
            "application/vnd.jupyter.widget-view+json": {
              "model_id": "f8bdd42cbb3449859ce5f1cdb3c75d69",
              "version_major": 2,
              "version_minor": 0
            },
            "text/plain": [
              "  0%|          | 0/33 [00:00<?, ?it/s]"
            ]
          },
          "metadata": {}
        },
        {
          "output_type": "display_data",
          "data": {
            "application/vnd.jupyter.widget-view+json": {
              "model_id": "a39ecc4c8a7f46f2a30cca7802f93a6e",
              "version_major": 2,
              "version_minor": 0
            },
            "text/plain": [
              "  0%|          | 0/4 [00:00<?, ?it/s]"
            ]
          },
          "metadata": {}
        },
        {
          "output_type": "display_data",
          "data": {
            "application/vnd.jupyter.widget-view+json": {
              "model_id": "ad334a58763640fe9d935dfd87853a5f",
              "version_major": 2,
              "version_minor": 0
            },
            "text/plain": [
              "  0%|          | 0/33 [00:00<?, ?it/s]"
            ]
          },
          "metadata": {}
        },
        {
          "output_type": "display_data",
          "data": {
            "application/vnd.jupyter.widget-view+json": {
              "model_id": "d5c0004bc8474646814d6a8f3761bc6a",
              "version_major": 2,
              "version_minor": 0
            },
            "text/plain": [
              "  0%|          | 0/4 [00:00<?, ?it/s]"
            ]
          },
          "metadata": {}
        },
        {
          "output_type": "display_data",
          "data": {
            "application/vnd.jupyter.widget-view+json": {
              "model_id": "f762fd8b9e994fccb9ced0ac76d93a0d",
              "version_major": 2,
              "version_minor": 0
            },
            "text/plain": [
              "  0%|          | 0/33 [00:00<?, ?it/s]"
            ]
          },
          "metadata": {}
        },
        {
          "output_type": "display_data",
          "data": {
            "application/vnd.jupyter.widget-view+json": {
              "model_id": "e5521d2677034559b9aac148f22504f4",
              "version_major": 2,
              "version_minor": 0
            },
            "text/plain": [
              "  0%|          | 0/4 [00:00<?, ?it/s]"
            ]
          },
          "metadata": {}
        },
        {
          "output_type": "display_data",
          "data": {
            "application/vnd.jupyter.widget-view+json": {
              "model_id": "df26b61a342b4307988dd737574522ee",
              "version_major": 2,
              "version_minor": 0
            },
            "text/plain": [
              "  0%|          | 0/33 [00:00<?, ?it/s]"
            ]
          },
          "metadata": {}
        },
        {
          "output_type": "display_data",
          "data": {
            "application/vnd.jupyter.widget-view+json": {
              "model_id": "da116bdf1da7438ab6bcd21519c64b34",
              "version_major": 2,
              "version_minor": 0
            },
            "text/plain": [
              "  0%|          | 0/4 [00:00<?, ?it/s]"
            ]
          },
          "metadata": {}
        },
        {
          "output_type": "display_data",
          "data": {
            "application/vnd.jupyter.widget-view+json": {
              "model_id": "075b48ef00864106abe49743ce05b7d8",
              "version_major": 2,
              "version_minor": 0
            },
            "text/plain": [
              "  0%|          | 0/33 [00:00<?, ?it/s]"
            ]
          },
          "metadata": {}
        },
        {
          "output_type": "display_data",
          "data": {
            "application/vnd.jupyter.widget-view+json": {
              "model_id": "612c68014cf14f2884bd2eee1d0b99a3",
              "version_major": 2,
              "version_minor": 0
            },
            "text/plain": [
              "  0%|          | 0/4 [00:00<?, ?it/s]"
            ]
          },
          "metadata": {}
        },
        {
          "output_type": "display_data",
          "data": {
            "application/vnd.jupyter.widget-view+json": {
              "model_id": "43111ee590ab48fa8aa5609e1e5bcb03",
              "version_major": 2,
              "version_minor": 0
            },
            "text/plain": [
              "  0%|          | 0/33 [00:00<?, ?it/s]"
            ]
          },
          "metadata": {}
        },
        {
          "output_type": "display_data",
          "data": {
            "application/vnd.jupyter.widget-view+json": {
              "model_id": "15cc91040ab049179d7ec7ec813ad002",
              "version_major": 2,
              "version_minor": 0
            },
            "text/plain": [
              "  0%|          | 0/4 [00:00<?, ?it/s]"
            ]
          },
          "metadata": {}
        },
        {
          "output_type": "display_data",
          "data": {
            "application/vnd.jupyter.widget-view+json": {
              "model_id": "ba7eac391f67448cb3c89d251cd396ad",
              "version_major": 2,
              "version_minor": 0
            },
            "text/plain": [
              "  0%|          | 0/33 [00:00<?, ?it/s]"
            ]
          },
          "metadata": {}
        },
        {
          "output_type": "display_data",
          "data": {
            "application/vnd.jupyter.widget-view+json": {
              "model_id": "fee2f02eaf6e4a2980b50e85bcc35002",
              "version_major": 2,
              "version_minor": 0
            },
            "text/plain": [
              "  0%|          | 0/4 [00:00<?, ?it/s]"
            ]
          },
          "metadata": {}
        },
        {
          "output_type": "display_data",
          "data": {
            "application/vnd.jupyter.widget-view+json": {
              "model_id": "dc2ccb105b0445a1801372bf4c63f22e",
              "version_major": 2,
              "version_minor": 0
            },
            "text/plain": [
              "  0%|          | 0/33 [00:00<?, ?it/s]"
            ]
          },
          "metadata": {}
        },
        {
          "output_type": "display_data",
          "data": {
            "application/vnd.jupyter.widget-view+json": {
              "model_id": "f967523be15f4510a5b71a8e33016440",
              "version_major": 2,
              "version_minor": 0
            },
            "text/plain": [
              "  0%|          | 0/4 [00:00<?, ?it/s]"
            ]
          },
          "metadata": {}
        },
        {
          "output_type": "display_data",
          "data": {
            "application/vnd.jupyter.widget-view+json": {
              "model_id": "d056bebf8b584b71978ec6047e38e2ac",
              "version_major": 2,
              "version_minor": 0
            },
            "text/plain": [
              "  0%|          | 0/33 [00:00<?, ?it/s]"
            ]
          },
          "metadata": {}
        },
        {
          "output_type": "display_data",
          "data": {
            "application/vnd.jupyter.widget-view+json": {
              "model_id": "853efbfb766d4ff2bb5f70077e3b3367",
              "version_major": 2,
              "version_minor": 0
            },
            "text/plain": [
              "  0%|          | 0/4 [00:00<?, ?it/s]"
            ]
          },
          "metadata": {}
        },
        {
          "output_type": "display_data",
          "data": {
            "application/vnd.jupyter.widget-view+json": {
              "model_id": "741150512b1144f28342a238d481bfab",
              "version_major": 2,
              "version_minor": 0
            },
            "text/plain": [
              "  0%|          | 0/33 [00:00<?, ?it/s]"
            ]
          },
          "metadata": {}
        },
        {
          "output_type": "display_data",
          "data": {
            "application/vnd.jupyter.widget-view+json": {
              "model_id": "68b92dd6ec484d99bff0672fa124e342",
              "version_major": 2,
              "version_minor": 0
            },
            "text/plain": [
              "  0%|          | 0/4 [00:00<?, ?it/s]"
            ]
          },
          "metadata": {}
        },
        {
          "output_type": "display_data",
          "data": {
            "application/vnd.jupyter.widget-view+json": {
              "model_id": "60bf948fa9d74393a67713fe817fe1fa",
              "version_major": 2,
              "version_minor": 0
            },
            "text/plain": [
              "  0%|          | 0/33 [00:00<?, ?it/s]"
            ]
          },
          "metadata": {}
        },
        {
          "output_type": "display_data",
          "data": {
            "application/vnd.jupyter.widget-view+json": {
              "model_id": "4727df45cd214c768a7ea61d1197edf6",
              "version_major": 2,
              "version_minor": 0
            },
            "text/plain": [
              "  0%|          | 0/4 [00:00<?, ?it/s]"
            ]
          },
          "metadata": {}
        },
        {
          "output_type": "display_data",
          "data": {
            "application/vnd.jupyter.widget-view+json": {
              "model_id": "9af102d728254a0eb64fa568fcbc0f6d",
              "version_major": 2,
              "version_minor": 0
            },
            "text/plain": [
              "  0%|          | 0/33 [00:00<?, ?it/s]"
            ]
          },
          "metadata": {}
        },
        {
          "output_type": "display_data",
          "data": {
            "application/vnd.jupyter.widget-view+json": {
              "model_id": "2d8dd2d3ad144b98808c96bd542f1b36",
              "version_major": 2,
              "version_minor": 0
            },
            "text/plain": [
              "  0%|          | 0/4 [00:00<?, ?it/s]"
            ]
          },
          "metadata": {}
        },
        {
          "output_type": "display_data",
          "data": {
            "application/vnd.jupyter.widget-view+json": {
              "model_id": "9fc9a80775f14192a769fd21fabaa0e5",
              "version_major": 2,
              "version_minor": 0
            },
            "text/plain": [
              "  0%|          | 0/33 [00:00<?, ?it/s]"
            ]
          },
          "metadata": {}
        },
        {
          "output_type": "display_data",
          "data": {
            "application/vnd.jupyter.widget-view+json": {
              "model_id": "89529923d536478e97b5771fe6862d79",
              "version_major": 2,
              "version_minor": 0
            },
            "text/plain": [
              "  0%|          | 0/4 [00:00<?, ?it/s]"
            ]
          },
          "metadata": {}
        },
        {
          "output_type": "display_data",
          "data": {
            "application/vnd.jupyter.widget-view+json": {
              "model_id": "7c2062a7dc5a4d0eb3b4fb004bf0a629",
              "version_major": 2,
              "version_minor": 0
            },
            "text/plain": [
              "  0%|          | 0/33 [00:00<?, ?it/s]"
            ]
          },
          "metadata": {}
        },
        {
          "output_type": "display_data",
          "data": {
            "application/vnd.jupyter.widget-view+json": {
              "model_id": "f91548acf29c445d9c901fb8753a64b4",
              "version_major": 2,
              "version_minor": 0
            },
            "text/plain": [
              "  0%|          | 0/4 [00:00<?, ?it/s]"
            ]
          },
          "metadata": {}
        },
        {
          "output_type": "display_data",
          "data": {
            "application/vnd.jupyter.widget-view+json": {
              "model_id": "8b8f292436f64c568843850cb5474709",
              "version_major": 2,
              "version_minor": 0
            },
            "text/plain": [
              "  0%|          | 0/33 [00:00<?, ?it/s]"
            ]
          },
          "metadata": {}
        },
        {
          "output_type": "display_data",
          "data": {
            "application/vnd.jupyter.widget-view+json": {
              "model_id": "2d665bca40c446fb84f7b6ea4e025ade",
              "version_major": 2,
              "version_minor": 0
            },
            "text/plain": [
              "  0%|          | 0/4 [00:00<?, ?it/s]"
            ]
          },
          "metadata": {}
        },
        {
          "output_type": "display_data",
          "data": {
            "application/vnd.jupyter.widget-view+json": {
              "model_id": "829240da52214c3a9a44a7a1608c1ae4",
              "version_major": 2,
              "version_minor": 0
            },
            "text/plain": [
              "  0%|          | 0/33 [00:00<?, ?it/s]"
            ]
          },
          "metadata": {}
        },
        {
          "output_type": "display_data",
          "data": {
            "application/vnd.jupyter.widget-view+json": {
              "model_id": "ece88b230242417a84c4d6ba34cdbbaa",
              "version_major": 2,
              "version_minor": 0
            },
            "text/plain": [
              "  0%|          | 0/4 [00:00<?, ?it/s]"
            ]
          },
          "metadata": {}
        },
        {
          "output_type": "display_data",
          "data": {
            "application/vnd.jupyter.widget-view+json": {
              "model_id": "4a6e90d13f764e3b96fcc86cb2b072a4",
              "version_major": 2,
              "version_minor": 0
            },
            "text/plain": [
              "  0%|          | 0/33 [00:00<?, ?it/s]"
            ]
          },
          "metadata": {}
        },
        {
          "output_type": "display_data",
          "data": {
            "application/vnd.jupyter.widget-view+json": {
              "model_id": "9946793a3d4e4a9b8a485dca63f74b15",
              "version_major": 2,
              "version_minor": 0
            },
            "text/plain": [
              "  0%|          | 0/4 [00:00<?, ?it/s]"
            ]
          },
          "metadata": {}
        },
        {
          "output_type": "display_data",
          "data": {
            "application/vnd.jupyter.widget-view+json": {
              "model_id": "db55c37757ec446db57227af55a1bf66",
              "version_major": 2,
              "version_minor": 0
            },
            "text/plain": [
              "  0%|          | 0/33 [00:00<?, ?it/s]"
            ]
          },
          "metadata": {}
        },
        {
          "output_type": "display_data",
          "data": {
            "application/vnd.jupyter.widget-view+json": {
              "model_id": "d17b4666f92e42b2adc0205c01e9cb7b",
              "version_major": 2,
              "version_minor": 0
            },
            "text/plain": [
              "  0%|          | 0/4 [00:00<?, ?it/s]"
            ]
          },
          "metadata": {}
        },
        {
          "output_type": "display_data",
          "data": {
            "application/vnd.jupyter.widget-view+json": {
              "model_id": "ce6b5e5412ab44abbf6a258875d82f1d",
              "version_major": 2,
              "version_minor": 0
            },
            "text/plain": [
              "  0%|          | 0/33 [00:00<?, ?it/s]"
            ]
          },
          "metadata": {}
        },
        {
          "output_type": "display_data",
          "data": {
            "application/vnd.jupyter.widget-view+json": {
              "model_id": "bd4baf609bc34cc7bc2d1d14428f6565",
              "version_major": 2,
              "version_minor": 0
            },
            "text/plain": [
              "  0%|          | 0/4 [00:00<?, ?it/s]"
            ]
          },
          "metadata": {}
        },
        {
          "output_type": "display_data",
          "data": {
            "application/vnd.jupyter.widget-view+json": {
              "model_id": "9f782a1d6d7f4584a3b2d652eea742ad",
              "version_major": 2,
              "version_minor": 0
            },
            "text/plain": [
              "  0%|          | 0/33 [00:00<?, ?it/s]"
            ]
          },
          "metadata": {}
        },
        {
          "output_type": "display_data",
          "data": {
            "application/vnd.jupyter.widget-view+json": {
              "model_id": "2260b62561d74bffb73d4d792006896c",
              "version_major": 2,
              "version_minor": 0
            },
            "text/plain": [
              "  0%|          | 0/4 [00:00<?, ?it/s]"
            ]
          },
          "metadata": {}
        },
        {
          "output_type": "display_data",
          "data": {
            "application/vnd.jupyter.widget-view+json": {
              "model_id": "b7b966ee582045f993e8accb31fa1375",
              "version_major": 2,
              "version_minor": 0
            },
            "text/plain": [
              "  0%|          | 0/33 [00:00<?, ?it/s]"
            ]
          },
          "metadata": {}
        },
        {
          "output_type": "display_data",
          "data": {
            "application/vnd.jupyter.widget-view+json": {
              "model_id": "17b15932c47949a79faacb2b25ca0b8f",
              "version_major": 2,
              "version_minor": 0
            },
            "text/plain": [
              "  0%|          | 0/4 [00:00<?, ?it/s]"
            ]
          },
          "metadata": {}
        },
        {
          "output_type": "display_data",
          "data": {
            "application/vnd.jupyter.widget-view+json": {
              "model_id": "f3ff66ce8ade473eaa8962029add499b",
              "version_major": 2,
              "version_minor": 0
            },
            "text/plain": [
              "  0%|          | 0/33 [00:00<?, ?it/s]"
            ]
          },
          "metadata": {}
        },
        {
          "output_type": "display_data",
          "data": {
            "application/vnd.jupyter.widget-view+json": {
              "model_id": "5c48506dd6e848f792df7de393a9f45a",
              "version_major": 2,
              "version_minor": 0
            },
            "text/plain": [
              "  0%|          | 0/4 [00:00<?, ?it/s]"
            ]
          },
          "metadata": {}
        },
        {
          "output_type": "display_data",
          "data": {
            "application/vnd.jupyter.widget-view+json": {
              "model_id": "958487a797f74dedae4bba07310d6cc6",
              "version_major": 2,
              "version_minor": 0
            },
            "text/plain": [
              "  0%|          | 0/33 [00:00<?, ?it/s]"
            ]
          },
          "metadata": {}
        },
        {
          "output_type": "display_data",
          "data": {
            "application/vnd.jupyter.widget-view+json": {
              "model_id": "73c208009bf3405897e2abdb37b48a5a",
              "version_major": 2,
              "version_minor": 0
            },
            "text/plain": [
              "  0%|          | 0/4 [00:00<?, ?it/s]"
            ]
          },
          "metadata": {}
        },
        {
          "output_type": "display_data",
          "data": {
            "application/vnd.jupyter.widget-view+json": {
              "model_id": "3eeb97e0dd054ca4996ad5a91462aed7",
              "version_major": 2,
              "version_minor": 0
            },
            "text/plain": [
              "  0%|          | 0/33 [00:00<?, ?it/s]"
            ]
          },
          "metadata": {}
        },
        {
          "output_type": "display_data",
          "data": {
            "application/vnd.jupyter.widget-view+json": {
              "model_id": "4a77fa50f09e4bc4bbf87b3e02979c6b",
              "version_major": 2,
              "version_minor": 0
            },
            "text/plain": [
              "  0%|          | 0/4 [00:00<?, ?it/s]"
            ]
          },
          "metadata": {}
        },
        {
          "output_type": "display_data",
          "data": {
            "application/vnd.jupyter.widget-view+json": {
              "model_id": "66f8628ec53c4b18bce1a28c990ffaf3",
              "version_major": 2,
              "version_minor": 0
            },
            "text/plain": [
              "  0%|          | 0/33 [00:00<?, ?it/s]"
            ]
          },
          "metadata": {}
        },
        {
          "output_type": "display_data",
          "data": {
            "application/vnd.jupyter.widget-view+json": {
              "model_id": "9103f43df9f54ae68bbcf05dffd5e187",
              "version_major": 2,
              "version_minor": 0
            },
            "text/plain": [
              "  0%|          | 0/4 [00:00<?, ?it/s]"
            ]
          },
          "metadata": {}
        },
        {
          "output_type": "display_data",
          "data": {
            "application/vnd.jupyter.widget-view+json": {
              "model_id": "a64b006dfbf546cca9b449730a84dd90",
              "version_major": 2,
              "version_minor": 0
            },
            "text/plain": [
              "  0%|          | 0/33 [00:00<?, ?it/s]"
            ]
          },
          "metadata": {}
        },
        {
          "output_type": "display_data",
          "data": {
            "application/vnd.jupyter.widget-view+json": {
              "model_id": "5a54ff090eeb45889d26bd7ee8ace6d8",
              "version_major": 2,
              "version_minor": 0
            },
            "text/plain": [
              "  0%|          | 0/4 [00:00<?, ?it/s]"
            ]
          },
          "metadata": {}
        },
        {
          "output_type": "display_data",
          "data": {
            "application/vnd.jupyter.widget-view+json": {
              "model_id": "3069d501a4954ad6bacc884b3d7b1e07",
              "version_major": 2,
              "version_minor": 0
            },
            "text/plain": [
              "  0%|          | 0/33 [00:00<?, ?it/s]"
            ]
          },
          "metadata": {}
        },
        {
          "output_type": "display_data",
          "data": {
            "application/vnd.jupyter.widget-view+json": {
              "model_id": "6aa5a405100f4125a34659b435a65b47",
              "version_major": 2,
              "version_minor": 0
            },
            "text/plain": [
              "  0%|          | 0/4 [00:00<?, ?it/s]"
            ]
          },
          "metadata": {}
        },
        {
          "output_type": "display_data",
          "data": {
            "application/vnd.jupyter.widget-view+json": {
              "model_id": "1f2c3db57bb24bedad3884c85f9ba4fb",
              "version_major": 2,
              "version_minor": 0
            },
            "text/plain": [
              "  0%|          | 0/4 [00:00<?, ?it/s]"
            ]
          },
          "metadata": {}
        },
        {
          "output_type": "stream",
          "name": "stdout",
          "text": [
            "               0    1      2    3     4     5    6    7    8     9    10   11  \\\n",
            "precision   1.00  0.0   0.39  0.0   0.0   0.0  0.0  0.0  0.0   0.0   0.0  0.0   \n",
            "recall      0.05  0.0   0.76  0.0   0.0   0.0  0.0  0.0  0.0   0.0   0.0  0.0   \n",
            "f1-score    0.09  0.0   0.52  0.0   0.0   0.0  0.0  0.0  0.0   0.0   0.0  0.0   \n",
            "support    22.00  5.0  21.00  7.0  22.0  12.0  6.0  6.0  3.0  16.0  14.0  6.0   \n",
            "\n",
            "             12   13  micro avg  macro avg  weighted avg  samples avg  \n",
            "precision   0.0  0.0       0.40       0.10          0.19         0.30  \n",
            "recall      0.0  0.0       0.11       0.06          0.11         0.12  \n",
            "f1-score    0.0  0.0       0.17       0.04          0.08         0.16  \n",
            "support    11.0  9.0     160.00     160.00        160.00       160.00  \n"
          ]
        }
      ],
      "execution_count": null
    },
    {
      "metadata": {},
      "source": [
        "submission = pd.read_csv(\"data/public_test.csv\")\n",
        "submission"
      ],
      "cell_type": "code",
      "outputs": [
        {
          "output_type": "execute_result",
          "data": {
            "text/html": [
              "<div>\n",
              "<style scoped>\n",
              "    .dataframe tbody tr th:only-of-type {\n",
              "        vertical-align: middle;\n",
              "    }\n",
              "\n",
              "    .dataframe tbody tr th {\n",
              "        vertical-align: top;\n",
              "    }\n",
              "\n",
              "    .dataframe thead th {\n",
              "        text-align: right;\n",
              "    }\n",
              "</style>\n",
              "<table border=\"1\" class=\"dataframe\">\n",
              "  <thead>\n",
              "    <tr style=\"text-align: right;\">\n",
              "      <th></th>\n",
              "      <th>\u0424\u0438\u043b\u044c\u043c</th>\n",
              "      <th>\u041e\u043f\u0438\u0441\u0430\u043d\u0438\u0435</th>\n",
              "      <th>\u0421\u044e\u0436\u0435\u0442</th>\n",
              "    </tr>\n",
              "  </thead>\n",
              "  <tbody>\n",
              "    <tr>\n",
              "      <th>0</th>\n",
              "      <td>\u0423\u0431\u043e\u0439\u043d\u044b\u0435 \u043a\u0430\u043d\u0438\u043a\u0443\u043b\u044b (2010)</td>\n",
              "      <td>\u0414\u0432\u043e\u0435 \u043f\u0440\u043e\u0441\u0442\u044b\u0445 \u0434\u0435\u0440\u0435\u0432\u0435\u043d\u0441\u043a\u0438\u0445 \u043f\u0430\u0440\u043d\u0435\u0439 \u0414\u0435\u0439\u043b \u0438 \u0422\u0430\u043a\u0435\u0440 \u0435...</td>\n",
              "      <td>\u0414\u0432\u043e\u0435 \u043f\u0440\u043e\u0441\u0442\u044b\u0445 \u0434\u0435\u0440\u0435\u0432\u0435\u043d\u0441\u043a\u0438\u0445 \u043f\u0430\u0440\u043d\u0435\u0439 \u0414\u0435\u0439\u043b \u0438 \u0422\u0430\u043a\u0435\u0440 \u0435...</td>\n",
              "    </tr>\n",
              "    <tr>\n",
              "      <th>1</th>\n",
              "      <td>\u0422\u0440\u0438 \u0431\u0438\u043b\u0431\u043e\u0440\u0434\u0430 \u043d\u0430 \u0433\u0440\u0430\u043d\u0438\u0446\u0435 \u042d\u0431\u0431\u0438\u043d\u0433\u0430, \u041c\u0438\u0441\u0441\u0443\u0440\u0438 (2017)</td>\n",
              "      <td>\u041f\u043e\u0441\u043b\u0435 \u0442\u043e\u0433\u043e \u043a\u0430\u043a \u0443\u0431\u0438\u0439\u0446\u044b \u0435\u0451 \u0434\u043e\u0447\u0435\u0440\u0438 \u043d\u0435 \u0431\u044b\u043b\u0438 \u043d\u0430\u0439\u0434\u0435\u043d...</td>\n",
              "      <td>\u0412 \u0432\u044b\u043c\u044b\u0448\u043b\u0435\u043d\u043d\u043e\u043c \u0433\u043e\u0440\u043e\u0434\u0435 \u042d\u0431\u0431\u0438\u043d\u0433, \u0448\u0442\u0430\u0442 \u041c\u0438\u0441\u0441\u0443\u0440\u0438, \u041c\u0438\u043b...</td>\n",
              "    </tr>\n",
              "    <tr>\n",
              "      <th>2</th>\n",
              "      <td>\u0413\u043b\u0443\u0431\u043e\u043a\u043e\u0432\u043e\u0434\u043d\u044b\u0439 \u0433\u043e\u0440\u0438\u0437\u043e\u043d\u0442 (2016)</td>\n",
              "      <td>\u0418\u0441\u0442\u043e\u0440\u0438\u044f \u043e \u043a\u0430\u0442\u0430\u0441\u0442\u0440\u043e\u0444\u0435 \u043d\u0430 \u043d\u0435\u0444\u0442\u044f\u043d\u043e\u0439 \u043f\u043b\u0430\u0442\u0444\u043e\u0440\u043c\u0435 \u00ab\u0413\u043b...</td>\n",
              "      <td>20 \u0430\u043f\u0440\u0435\u043b\u044f 2010\u00a0\u0433\u043e\u0434\u0430 Deepwater Horizon, \u043d\u0435\u0444\u0442\u044f\u043d\u0430...</td>\n",
              "    </tr>\n",
              "    <tr>\n",
              "      <th>3</th>\n",
              "      <td>\u0413\u043b\u0430\u0432\u043d\u044b\u0439 \u0433\u0435\u0440\u043e\u0439 (2021)</td>\n",
              "      <td>\u041f\u0430\u0440\u0435\u043d\u044c \u0436\u0438\u0432\u0435\u0442 \u0432 \u0438\u0434\u0435\u0430\u043b\u044c\u043d\u043e\u043c \u0434\u043b\u044f \u0441\u0435\u0431\u044f \u043c\u0438\u0440\u0435 \u2014 \u0432 \u043b\u0443\u0447...</td>\n",
              "      <td>\u041f\u0430\u0440\u0435\u043d\u044c\u00a0\u2014 \u043d\u0435\u0438\u0433\u0440\u043e\u0432\u043e\u0439 \u043f\u0435\u0440\u0441\u043e\u043d\u0430\u0436 (NPC) \u0432 \u00ab\u0424\u0440\u0438 \u0421\u0438\u0442\u0438\u00bb...</td>\n",
              "    </tr>\n",
              "    <tr>\n",
              "      <th>4</th>\n",
              "      <td>\u041c\u0438\u0441\u0442\u0435\u0440 \u0438 \u043c\u0438\u0441\u0441\u0438\u0441 \u0421\u043c\u0438\u0442 (2005)</td>\n",
              "      <td>\u0414\u0436\u043e\u043d \u0438 \u0414\u0436\u0435\u0439\u043d, \u0443\u0441\u0442\u0430\u0432\u0448\u0438\u0435 \u043e\u0442 \u043e\u0434\u043d\u043e\u043e\u0431\u0440\u0430\u0437\u0438\u044f \u0431\u0440\u0430\u043a\u0430, \u0441...</td>\n",
              "      <td>\u0418\u043d\u0436\u0435\u043d\u0435\u0440-\u0441\u0442\u0440\u043e\u0438\u0442\u0435\u043b\u044c \u0414\u0436\u043e\u043d (\u0411\u0440\u044d\u0434 \u041f\u0438\u0442\u0442) \u0438 \u0441\u043f\u0435\u0446\u0438\u0430\u043b\u0438\u0441...</td>\n",
              "    </tr>\n",
              "    <tr>\n",
              "      <th>...</th>\n",
              "      <td>...</td>\n",
              "      <td>...</td>\n",
              "      <td>...</td>\n",
              "    </tr>\n",
              "    <tr>\n",
              "      <th>117</th>\n",
              "      <td>\u0411\u0435\u043b\u0430\u044f \u043f\u0442\u0438\u0446\u0430: \u041d\u043e\u0432\u043e\u0435 \u0447\u0443\u0434\u043e (2023)</td>\n",
              "      <td>\u0414\u0436\u0443\u043b\u0438\u0430\u043d\u0430 \u041e\u043b\u0431\u0430\u043d\u0441\u0430 \u0438\u0441\u043a\u043b\u044e\u0447\u0438\u043b\u0438 \u0438\u0437 \u0448\u043a\u043e\u043b\u044b \u0437\u0430 \u0436\u0435\u0441\u0442\u043e\u043a\u043e...</td>\n",
              "      <td>\u041f\u043e\u0441\u043b\u0435 \u0441\u043e\u0431\u044b\u0442\u0438\u0439 \u00ab\u0427\u0443\u0434\u0430\u00bb \u0414\u0436\u0443\u043b\u0438\u0430\u043d \u043d\u0430\u0432\u0441\u0435\u0433\u0434\u0430 \u043f\u043e\u043a\u0438\u043d\u0443\u043b ...</td>\n",
              "    </tr>\n",
              "    <tr>\n",
              "      <th>118</th>\n",
              "      <td>\u041c\u0430\u043d\u044e\u043d\u044f: \u041f\u0440\u0438\u043a\u043b\u044e\u0447\u0435\u043d\u0438\u044f \u0432 \u041c\u043e\u0441\u043a\u0432\u0435 (2024)</td>\n",
              "      <td>\u0414\u0435\u0432\u043e\u0447\u043a\u0438 \u0432\u043c\u0435\u0441\u0442\u0435 \u0441 \u0411\u0430 \u0435\u0434\u0443\u0442 \u043d\u0430 \u043f\u043e\u0435\u0437\u0434\u0435 \u0432 \u041c\u043e\u0441\u043a\u0432\u0443, \u0447...</td>\n",
              "      <td>\u0414\u0435\u0432\u043e\u0447\u043a\u0438 \u0432\u043c\u0435\u0441\u0442\u0435 \u0441 \u0411\u0430 \u0435\u0434\u0443\u0442 \u043d\u0430 \u043f\u043e\u0435\u0437\u0434\u0435 \u0432 \u041c\u043e\u0441\u043a\u0432\u0443, \u0447...</td>\n",
              "    </tr>\n",
              "    <tr>\n",
              "      <th>119</th>\n",
              "      <td>\u041c\u0430\u0434\u0430\u0433\u0430\u0441\u043a\u0430\u0440 (2005)</td>\n",
              "      <td>\u0412 \u0437\u043e\u043e\u043f\u0430\u0440\u043a\u0435 \u0426\u0435\u043d\u0442\u0440\u0430\u043b\u044c\u043d\u043e\u0433\u043e \u043f\u0430\u0440\u043a\u0430 \u0437\u0435\u0431\u0440\u0430 \u041c\u0430\u0440\u0442\u0438 \u043f\u0440\u0430\u0437...</td>\n",
              "      <td>\u0412 \u0437\u043e\u043e\u043f\u0430\u0440\u043a\u0435 \u0426\u0435\u043d\u0442\u0440\u0430\u043b\u044c\u043d\u043e\u0433\u043e \u043f\u0430\u0440\u043a\u0430 \u0437\u0435\u0431\u0440\u0430 \u041c\u0430\u0440\u0442\u0438 \u043f\u0440\u0430\u0437...</td>\n",
              "    </tr>\n",
              "    <tr>\n",
              "      <th>120</th>\n",
              "      <td>\u0412\u0437\u0430\u043f\u0435\u0440\u0442\u0438 (2020)</td>\n",
              "      <td>\u0414\u0438\u0430\u043d\u0430 \u0428\u0435\u0440\u043c\u0430\u043d, \u0433\u0438\u043f\u0435\u0440\u0437\u0430\u0431\u043e\u0442\u043b\u0438\u0432\u0430\u044f \u043c\u0430\u0442\u044c-\u043e\u0434\u0438\u043d\u043e\u0447\u043a\u0430, \u0432...</td>\n",
              "      <td>\u0416\u0435\u043d\u0449\u0438\u043d\u0430 \u043f\u043e \u0438\u043c\u0435\u043d\u0438 \u0414\u0438\u0430\u043d\u0430 \u0428\u0435\u0440\u043c\u0430\u043d \u043f\u0440\u0435\u0436\u0434\u0435\u0432\u0440\u0435\u043c\u0435\u043d\u043d\u043e \u0440...</td>\n",
              "    </tr>\n",
              "    <tr>\n",
              "      <th>121</th>\n",
              "      <td>\u0414\u043e\u0431\u0440\u043e \u043f\u043e\u0436\u0430\u043b\u043e\u0432\u0430\u0442\u044c \u0432 Z\u043e\u043c\u0431\u0438\u043b\u044d\u043d\u0434 (2009)</td>\n",
              "      <td>\u041f\u043e\u0441\u043b\u0435 \u0437\u043e\u043c\u0431\u0438-\u0430\u043f\u043e\u043a\u0430\u043b\u0438\u043f\u0441\u0438\u0441\u0430 \u043d\u0435\u0431\u043e\u043b\u044c\u0448\u0430\u044f \u0433\u0440\u0443\u043f\u043f\u0430 \u0432\u044b\u0436\u0438...</td>\n",
              "      <td>\u041f\u043e\u0441\u043b\u0435 \u0442\u043e\u0433\u043e, \u043a\u0430\u043a \u0417\u0435\u043c\u043b\u044f \u043f\u043e\u0434\u0432\u0435\u0440\u0433\u043b\u0430\u0441\u044c \u0437\u043e\u043c\u0431\u0438-\u0430\u043f\u043e\u043a\u0430\u043b...</td>\n",
              "    </tr>\n",
              "  </tbody>\n",
              "</table>\n",
              "<p>122 rows \u00d7 3 columns</p>\n",
              "</div>"
            ],
            "text/plain": [
              "                                               \u0424\u0438\u043b\u044c\u043c  \\\n",
              "0                            \u0423\u0431\u043e\u0439\u043d\u044b\u0435 \u043a\u0430\u043d\u0438\u043a\u0443\u043b\u044b (2010)   \n",
              "1    \u0422\u0440\u0438 \u0431\u0438\u043b\u0431\u043e\u0440\u0434\u0430 \u043d\u0430 \u0433\u0440\u0430\u043d\u0438\u0446\u0435 \u042d\u0431\u0431\u0438\u043d\u0433\u0430, \u041c\u0438\u0441\u0441\u0443\u0440\u0438 (2017)   \n",
              "2                      \u0413\u043b\u0443\u0431\u043e\u043a\u043e\u0432\u043e\u0434\u043d\u044b\u0439 \u0433\u043e\u0440\u0438\u0437\u043e\u043d\u0442 (2016)   \n",
              "3                               \u0413\u043b\u0430\u0432\u043d\u044b\u0439 \u0433\u0435\u0440\u043e\u0439 (2021)   \n",
              "4                        \u041c\u0438\u0441\u0442\u0435\u0440 \u0438 \u043c\u0438\u0441\u0441\u0438\u0441 \u0421\u043c\u0438\u0442 (2005)   \n",
              "..                                               ...   \n",
              "117                   \u0411\u0435\u043b\u0430\u044f \u043f\u0442\u0438\u0446\u0430: \u041d\u043e\u0432\u043e\u0435 \u0447\u0443\u0434\u043e (2023)   \n",
              "118              \u041c\u0430\u043d\u044e\u043d\u044f: \u041f\u0440\u0438\u043a\u043b\u044e\u0447\u0435\u043d\u0438\u044f \u0432 \u041c\u043e\u0441\u043a\u0432\u0435 (2024)   \n",
              "119                                \u041c\u0430\u0434\u0430\u0433\u0430\u0441\u043a\u0430\u0440 (2005)   \n",
              "120                                  \u0412\u0437\u0430\u043f\u0435\u0440\u0442\u0438 (2020)   \n",
              "121              \u0414\u043e\u0431\u0440\u043e \u043f\u043e\u0436\u0430\u043b\u043e\u0432\u0430\u0442\u044c \u0432 Z\u043e\u043c\u0431\u0438\u043b\u044d\u043d\u0434 (2009)   \n",
              "\n",
              "                                              \u041e\u043f\u0438\u0441\u0430\u043d\u0438\u0435  \\\n",
              "0    \u0414\u0432\u043e\u0435 \u043f\u0440\u043e\u0441\u0442\u044b\u0445 \u0434\u0435\u0440\u0435\u0432\u0435\u043d\u0441\u043a\u0438\u0445 \u043f\u0430\u0440\u043d\u0435\u0439 \u0414\u0435\u0439\u043b \u0438 \u0422\u0430\u043a\u0435\u0440 \u0435...   \n",
              "1    \u041f\u043e\u0441\u043b\u0435 \u0442\u043e\u0433\u043e \u043a\u0430\u043a \u0443\u0431\u0438\u0439\u0446\u044b \u0435\u0451 \u0434\u043e\u0447\u0435\u0440\u0438 \u043d\u0435 \u0431\u044b\u043b\u0438 \u043d\u0430\u0439\u0434\u0435\u043d...   \n",
              "2    \u0418\u0441\u0442\u043e\u0440\u0438\u044f \u043e \u043a\u0430\u0442\u0430\u0441\u0442\u0440\u043e\u0444\u0435 \u043d\u0430 \u043d\u0435\u0444\u0442\u044f\u043d\u043e\u0439 \u043f\u043b\u0430\u0442\u0444\u043e\u0440\u043c\u0435 \u00ab\u0413\u043b...   \n",
              "3    \u041f\u0430\u0440\u0435\u043d\u044c \u0436\u0438\u0432\u0435\u0442 \u0432 \u0438\u0434\u0435\u0430\u043b\u044c\u043d\u043e\u043c \u0434\u043b\u044f \u0441\u0435\u0431\u044f \u043c\u0438\u0440\u0435 \u2014 \u0432 \u043b\u0443\u0447...   \n",
              "4    \u0414\u0436\u043e\u043d \u0438 \u0414\u0436\u0435\u0439\u043d, \u0443\u0441\u0442\u0430\u0432\u0448\u0438\u0435 \u043e\u0442 \u043e\u0434\u043d\u043e\u043e\u0431\u0440\u0430\u0437\u0438\u044f \u0431\u0440\u0430\u043a\u0430, \u0441...   \n",
              "..                                                 ...   \n",
              "117  \u0414\u0436\u0443\u043b\u0438\u0430\u043d\u0430 \u041e\u043b\u0431\u0430\u043d\u0441\u0430 \u0438\u0441\u043a\u043b\u044e\u0447\u0438\u043b\u0438 \u0438\u0437 \u0448\u043a\u043e\u043b\u044b \u0437\u0430 \u0436\u0435\u0441\u0442\u043e\u043a\u043e...   \n",
              "118  \u0414\u0435\u0432\u043e\u0447\u043a\u0438 \u0432\u043c\u0435\u0441\u0442\u0435 \u0441 \u0411\u0430 \u0435\u0434\u0443\u0442 \u043d\u0430 \u043f\u043e\u0435\u0437\u0434\u0435 \u0432 \u041c\u043e\u0441\u043a\u0432\u0443, \u0447...   \n",
              "119  \u0412 \u0437\u043e\u043e\u043f\u0430\u0440\u043a\u0435 \u0426\u0435\u043d\u0442\u0440\u0430\u043b\u044c\u043d\u043e\u0433\u043e \u043f\u0430\u0440\u043a\u0430 \u0437\u0435\u0431\u0440\u0430 \u041c\u0430\u0440\u0442\u0438 \u043f\u0440\u0430\u0437...   \n",
              "120  \u0414\u0438\u0430\u043d\u0430 \u0428\u0435\u0440\u043c\u0430\u043d, \u0433\u0438\u043f\u0435\u0440\u0437\u0430\u0431\u043e\u0442\u043b\u0438\u0432\u0430\u044f \u043c\u0430\u0442\u044c-\u043e\u0434\u0438\u043d\u043e\u0447\u043a\u0430, \u0432...   \n",
              "121  \u041f\u043e\u0441\u043b\u0435 \u0437\u043e\u043c\u0431\u0438-\u0430\u043f\u043e\u043a\u0430\u043b\u0438\u043f\u0441\u0438\u0441\u0430 \u043d\u0435\u0431\u043e\u043b\u044c\u0448\u0430\u044f \u0433\u0440\u0443\u043f\u043f\u0430 \u0432\u044b\u0436\u0438...   \n",
              "\n",
              "                                                 \u0421\u044e\u0436\u0435\u0442  \n",
              "0    \u0414\u0432\u043e\u0435 \u043f\u0440\u043e\u0441\u0442\u044b\u0445 \u0434\u0435\u0440\u0435\u0432\u0435\u043d\u0441\u043a\u0438\u0445 \u043f\u0430\u0440\u043d\u0435\u0439 \u0414\u0435\u0439\u043b \u0438 \u0422\u0430\u043a\u0435\u0440 \u0435...  \n",
              "1    \u0412 \u0432\u044b\u043c\u044b\u0448\u043b\u0435\u043d\u043d\u043e\u043c \u0433\u043e\u0440\u043e\u0434\u0435 \u042d\u0431\u0431\u0438\u043d\u0433, \u0448\u0442\u0430\u0442 \u041c\u0438\u0441\u0441\u0443\u0440\u0438, \u041c\u0438\u043b...  \n",
              "2    20 \u0430\u043f\u0440\u0435\u043b\u044f 2010\u00a0\u0433\u043e\u0434\u0430 Deepwater Horizon, \u043d\u0435\u0444\u0442\u044f\u043d\u0430...  \n",
              "3    \u041f\u0430\u0440\u0435\u043d\u044c\u00a0\u2014 \u043d\u0435\u0438\u0433\u0440\u043e\u0432\u043e\u0439 \u043f\u0435\u0440\u0441\u043e\u043d\u0430\u0436 (NPC) \u0432 \u00ab\u0424\u0440\u0438 \u0421\u0438\u0442\u0438\u00bb...  \n",
              "4    \u0418\u043d\u0436\u0435\u043d\u0435\u0440-\u0441\u0442\u0440\u043e\u0438\u0442\u0435\u043b\u044c \u0414\u0436\u043e\u043d (\u0411\u0440\u044d\u0434 \u041f\u0438\u0442\u0442) \u0438 \u0441\u043f\u0435\u0446\u0438\u0430\u043b\u0438\u0441...  \n",
              "..                                                 ...  \n",
              "117  \u041f\u043e\u0441\u043b\u0435 \u0441\u043e\u0431\u044b\u0442\u0438\u0439 \u00ab\u0427\u0443\u0434\u0430\u00bb \u0414\u0436\u0443\u043b\u0438\u0430\u043d \u043d\u0430\u0432\u0441\u0435\u0433\u0434\u0430 \u043f\u043e\u043a\u0438\u043d\u0443\u043b ...  \n",
              "118  \u0414\u0435\u0432\u043e\u0447\u043a\u0438 \u0432\u043c\u0435\u0441\u0442\u0435 \u0441 \u0411\u0430 \u0435\u0434\u0443\u0442 \u043d\u0430 \u043f\u043e\u0435\u0437\u0434\u0435 \u0432 \u041c\u043e\u0441\u043a\u0432\u0443, \u0447...  \n",
              "119  \u0412 \u0437\u043e\u043e\u043f\u0430\u0440\u043a\u0435 \u0426\u0435\u043d\u0442\u0440\u0430\u043b\u044c\u043d\u043e\u0433\u043e \u043f\u0430\u0440\u043a\u0430 \u0437\u0435\u0431\u0440\u0430 \u041c\u0430\u0440\u0442\u0438 \u043f\u0440\u0430\u0437...  \n",
              "120  \u0416\u0435\u043d\u0449\u0438\u043d\u0430 \u043f\u043e \u0438\u043c\u0435\u043d\u0438 \u0414\u0438\u0430\u043d\u0430 \u0428\u0435\u0440\u043c\u0430\u043d \u043f\u0440\u0435\u0436\u0434\u0435\u0432\u0440\u0435\u043c\u0435\u043d\u043d\u043e \u0440...  \n",
              "121  \u041f\u043e\u0441\u043b\u0435 \u0442\u043e\u0433\u043e, \u043a\u0430\u043a \u0417\u0435\u043c\u043b\u044f \u043f\u043e\u0434\u0432\u0435\u0440\u0433\u043b\u0430\u0441\u044c \u0437\u043e\u043c\u0431\u0438-\u0430\u043f\u043e\u043a\u0430\u043b...  \n",
              "\n",
              "[122 rows x 3 columns]"
            ]
          },
          "metadata": {},
          "execution_count": 24
        }
      ],
      "execution_count": null
    },
    {
      "metadata": {},
      "source": [
        "nlp = spacy.load(\"ru_core_news_lg\")\n",
        "\n",
        "submission = submission.rename(\n",
        "    {\"\u0424\u0438\u043b\u044c\u043c\": \"movie\", \"\u0421\u044e\u0436\u0435\u0442\": \"plot\", \"\u0416\u0430\u043d\u0440\u044b\": \"genres\", \"\u041e\u043f\u0438\u0441\u0430\u043d\u0438\u0435\": \"description\"},\n",
        "    axis=1,\n",
        ")\n",
        "submission[\"plot\"] = submission[\"plot\"].fillna(submission[\"description\"])\n",
        "\n",
        "\n",
        "submission[\"description\"] = submission[\"description\"].parallel_apply(\n",
        "    lambda x: replace_entities(x)\n",
        ")\n",
        "submission[\"plot\"] = submission[\"plot\"].parallel_apply(lambda x: replace_entities(x))\n",
        "\n",
        "submission[\"description\"] = submission.apply(\n",
        "    lambda x: remove_film_name_from_text(x[\"description\"], x[\"movie\"]), axis=1\n",
        ")\n",
        "submission[\"plot\"] = submission.apply(\n",
        "    lambda x: remove_film_name_from_text(x[\"plot\"], x[\"movie\"]), axis=1\n",
        ")\n",
        "\n",
        "submission = submission.drop(\"movie\", axis=1)"
      ],
      "cell_type": "code",
      "outputs": [
        {
          "output_type": "stream",
          "name": "stderr",
          "text": [
            "/home/seara/Desktop/Github/mtc-film-classification/.venv/lib/python3.9/site-packages/spacy/util.py:910: UserWarning: [W095] Model 'ru_core_news_lg' (3.7.0) was trained with spaCy v3.7.0 and may not be 100% compatible with the current version (3.8.0). If you see errors or degraded performance, download a newer compatible model or retrain your custom model with the current spaCy version. For more details and available updates, run: python -m spacy validate\n",
            "  warnings.warn(warn_msg)\n"
          ]
        },
        {
          "output_type": "display_data",
          "data": {
            "application/vnd.jupyter.widget-view+json": {
              "model_id": "ed73b1c853074e3783e87db71dc51f98",
              "version_major": 2,
              "version_minor": 0
            },
            "text/plain": [
              "VBox(children=(HBox(children=(IntProgress(value=0, description='0.00%', max=16), Label(value='0 / 16'))), HBox\u2026"
            ]
          },
          "metadata": {}
        },
        {
          "output_type": "display_data",
          "data": {
            "application/vnd.jupyter.widget-view+json": {
              "model_id": "364eb2afed3646d99428ffa78d7f0713",
              "version_major": 2,
              "version_minor": 0
            },
            "text/plain": [
              "VBox(children=(HBox(children=(IntProgress(value=0, description='0.00%', max=16), Label(value='0 / 16'))), HBox\u2026"
            ]
          },
          "metadata": {}
        },
        {
          "output_type": "stream",
          "name": "stdout",
          "text": [
            "287 287\n",
            "641 641\n",
            "298 281\n",
            "645 645\n",
            "406 406\n",
            "278 278\n",
            "368 368\n",
            "484 484\n",
            "264 264\n",
            "704 704\n",
            "618 618\n",
            "501 501\n",
            "219 219\n",
            "607 607\n",
            "296 296\n",
            "520 520\n",
            "260 260\n",
            "300 300\n",
            "151 151\n",
            "529 529\n",
            "581 581\n",
            "354 354\n",
            "299 299\n",
            "350 350\n",
            "619 619\n",
            "383 383\n",
            "1144 1144\n",
            "642 642\n",
            "474 474\n",
            "306 306\n",
            "447 447\n",
            "254 254\n",
            "216 216\n",
            "379 377\n",
            "352 352\n",
            "354 354\n",
            "220 220\n",
            "721 721\n",
            "508 508\n",
            "356 356\n",
            "316 312\n",
            "538 538\n",
            "458 458\n",
            "480 480\n",
            "436 436\n",
            "1117 1117\n",
            "630 630\n",
            "416 416\n",
            "186 186\n",
            "595 595\n",
            "807 807\n",
            "363 363\n",
            "572 572\n",
            "451 451\n",
            "771 771\n",
            "381 381\n",
            "160 160\n",
            "158 158\n",
            "437 437\n",
            "351 351\n",
            "213 213\n",
            "449 449\n",
            "520 520\n",
            "404 404\n",
            "393 393\n",
            "693 693\n",
            "592 592\n",
            "522 522\n",
            "443 443\n",
            "408 408\n",
            "437 437\n",
            "342 342\n",
            "672 672\n",
            "535 535\n",
            "410 410\n",
            "499 499\n",
            "452 452\n",
            "596 592\n",
            "322 322\n",
            "877 875\n",
            "578 578\n",
            "423 423\n",
            "270 270\n",
            "760 757\n",
            "250 250\n",
            "398 398\n",
            "548 548\n",
            "831 831\n",
            "479 479\n",
            "350 350\n",
            "150 150\n",
            "362 362\n",
            "258 258\n",
            "347 347\n",
            "616 616\n",
            "1281 1281\n",
            "369 369\n",
            "254 254\n",
            "272 272\n",
            "335 335\n",
            "466 466\n",
            "540 540\n",
            "367 367\n",
            "526 526\n",
            "463 463\n",
            "128 128\n",
            "261 261\n",
            "468 467\n",
            "345 345\n",
            "148 148\n",
            "426 426\n",
            "553 553\n",
            "291 288\n",
            "479 479\n",
            "387 387\n",
            "256 257\n",
            "479 479\n",
            "293 293\n",
            "972 972\n",
            "1035 1035\n",
            "574 574\n",
            "195 195\n",
            "2553 2553\n",
            "4488 4488\n",
            "4363 4363\n",
            "4159 4159\n",
            "4489 4489\n",
            "5611 5611\n",
            "8712 8712\n",
            "7006 7006\n",
            "2931 2931\n",
            "704 704\n",
            "3748 3748\n",
            "3710 3710\n",
            "223 223\n",
            "5427 5427\n",
            "296 296\n",
            "6266 6266\n",
            "4545 4545\n",
            "4596 4596\n",
            "3557 3557\n",
            "7035 7035\n",
            "3029 3029\n",
            "8849 8849\n",
            "303 303\n",
            "359 359\n",
            "3168 3168\n",
            "6299 6299\n",
            "5569 5569\n",
            "4553 4553\n",
            "1845 1845\n",
            "5049 5049\n",
            "4264 4264\n",
            "254 254\n",
            "216 216\n",
            "9982 9964\n",
            "8102 8102\n",
            "5725 5725\n",
            "220 220\n",
            "4920 4920\n",
            "3956 3956\n",
            "4623 4623\n",
            "316 312\n",
            "2423 2423\n",
            "5885 5885\n",
            "2959 2959\n",
            "2181 2181\n",
            "1119 1119\n",
            "849 849\n",
            "4394 4394\n",
            "186 186\n",
            "2953 2953\n",
            "1772 1772\n",
            "367 367\n",
            "9536 9536\n",
            "7536 7536\n",
            "3112 3112\n",
            "4667 4667\n",
            "160 160\n",
            "162 162\n",
            "437 437\n",
            "900 900\n",
            "3165 3165\n",
            "4987 4987\n",
            "1737 1737\n",
            "4825 4825\n",
            "3765 3765\n",
            "5493 5493\n",
            "592 592\n",
            "2080 2080\n",
            "443 443\n",
            "3665 3656\n",
            "4243 4243\n",
            "6351 6351\n",
            "5571 5571\n",
            "6490 6490\n",
            "2520 2520\n",
            "2727 2727\n",
            "4167 4167\n",
            "2610 2610\n",
            "3782 3782\n",
            "874 872\n",
            "1869 1869\n",
            "3539 3534\n",
            "2303 2303\n",
            "6548 6548\n",
            "253 253\n",
            "2265 2265\n",
            "8921 8921\n",
            "1899 1899\n",
            "4156 4156\n",
            "4624 4624\n",
            "150 150\n",
            "6116 6116\n",
            "4344 4344\n",
            "1284 1284\n",
            "6118 6115\n",
            "1283 1283\n",
            "4085 4085\n",
            "4473 4473\n",
            "6680 6680\n",
            "335 335\n",
            "4116 4116\n",
            "4685 4685\n",
            "4095 4095\n",
            "3765 3765\n",
            "7772 7772\n",
            "137 137\n",
            "3694 3687\n",
            "6246 6242\n",
            "4812 4812\n",
            "148 148\n",
            "6708 6708\n",
            "2284 2284\n",
            "291 288\n",
            "3806 3806\n",
            "4557 4557\n",
            "2293 2297\n",
            "6890 6890\n",
            "292 292\n",
            "6362 6362\n",
            "3492 3492\n",
            "4278 4278\n",
            "2223 2223\n"
          ]
        }
      ],
      "execution_count": null
    },
    {
      "metadata": {},
      "source": [
        "dataset = Dataset.from_pandas(submission)\n",
        "dataset = dataset.map(\n",
        "    lambda x: tokenizer(\n",
        "        x[\"description\"], x[\"plot\"], truncation=True, max_length=max_length\n",
        "    ),\n",
        "    batched=True,\n",
        "    remove_columns=[\"description\", \"plot\"],\n",
        ")\n",
        "\n",
        "test_dataloader = DataLoader(\n",
        "    dataset,\n",
        "    batch_size=batch_size,\n",
        "    shuffle=False,\n",
        "    num_workers=num_workers,\n",
        "    collate_fn=data_collator,\n",
        "    pin_memory=pin_memory,\n",
        "    drop_last=drop_last,\n",
        ")\n",
        "\n",
        "\n",
        "def test(model, dataloader):\n",
        "    with torch.inference_mode():\n",
        "        y_pred = []\n",
        "\n",
        "        for batch in tqdm(dataloader):\n",
        "            batch = batch.to(model.device)\n",
        "            output = model(**batch)\n",
        "\n",
        "            y_pred.append(output.logits.cpu())\n",
        "\n",
        "    return torch.sigmoid(torch.cat(y_pred)).numpy()"
      ],
      "cell_type": "code",
      "outputs": [
        {
          "output_type": "display_data",
          "data": {
            "application/vnd.jupyter.widget-view+json": {
              "model_id": "c8f9a7ba9c2a4466a1c620b5a03819d6",
              "version_major": 2,
              "version_minor": 0
            },
            "text/plain": [
              "Map:   0%|          | 0/122 [00:00<?, ? examples/s]"
            ]
          },
          "metadata": {}
        }
      ],
      "execution_count": null
    },
    {
      "metadata": {},
      "source": [
        "prediction = test(model, test_dataloader)"
      ],
      "cell_type": "code",
      "outputs": [
        {
          "output_type": "display_data",
          "data": {
            "application/vnd.jupyter.widget-view+json": {
              "model_id": "2495410dfb2c4146b9627d12f61b199d",
              "version_major": 2,
              "version_minor": 0
            },
            "text/plain": [
              "  0%|          | 0/8 [00:00<?, ?it/s]"
            ]
          },
          "metadata": {}
        }
      ],
      "execution_count": null
    },
    {
      "metadata": {},
      "source": [
        "binary_predictions = (prediction >= 0.05).astype(int)\n",
        "\n",
        "# Get the predicted labels for each sample\n",
        "predicted_labels = []\n",
        "for pred in binary_predictions:\n",
        "    labels = [id2label[idx] for idx, value in enumerate(pred) if value == 1]\n",
        "    predicted_labels.append(labels)"
      ],
      "cell_type": "code",
      "outputs": [
        {
          "output_type": "error",
          "ename": "NameError",
          "evalue": "name 'prediction' is not defined",
          "traceback": [
            "\u001b[0;31m---------------------------------------------------------------------------\u001b[0m",
            "\u001b[0;31mNameError\u001b[0m                                 Traceback (most recent call last)",
            "Cell \u001b[0;32mIn[1], line 1\u001b[0m\n\u001b[0;32m----> 1\u001b[0m binary_predictions \u001b[38;5;241m=\u001b[39m (\u001b[43mprediction\u001b[49m \u001b[38;5;241m>\u001b[39m\u001b[38;5;241m=\u001b[39m \u001b[38;5;241m0.05\u001b[39m)\u001b[38;5;241m.\u001b[39mastype(\u001b[38;5;28mint\u001b[39m)\n\u001b[1;32m      3\u001b[0m \u001b[38;5;66;03m# Get the predicted labels for each sample\u001b[39;00m\n\u001b[1;32m      4\u001b[0m predicted_labels \u001b[38;5;241m=\u001b[39m []\n",
            "\u001b[0;31mNameError\u001b[0m: name 'prediction' is not defined"
          ]
        }
      ],
      "execution_count": null
    },
    {
      "metadata": {},
      "source": [
        "submission = pd.read_csv(\"data/sample_submission_seed_0.csv\")\n",
        "submission[\"\u0416\u0430\u043d\u0440\u044b\"] = predicted_labels\n",
        "submission[\"\u0416\u0430\u043d\u0440\u044b\"] = submission[\"\u0416\u0430\u043d\u0440\u044b\"].apply(lambda x: \", \".join(x))"
      ],
      "cell_type": "code",
      "outputs": [],
      "execution_count": null
    },
    {
      "metadata": {},
      "source": [
        "submission.to_csv(\"rubert_tiny_2.csv\", index=False)"
      ],
      "cell_type": "code",
      "outputs": [],
      "execution_count": null
    },
    {
      "metadata": {},
      "source": [],
      "cell_type": "code",
      "outputs": [],
      "execution_count": null
    }
  ]
}
