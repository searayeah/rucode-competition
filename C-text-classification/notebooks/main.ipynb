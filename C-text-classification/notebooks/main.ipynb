{
  "nbformat": 4,
  "nbformat_minor": 2,
  "metadata": {},
  "cells": [
    {
      "metadata": {},
      "source": [
        "import os\n",
        "import random\n",
        "\n",
        "import numpy as np\n",
        "import pandas as pd\n",
        "import torch\n",
        "import transformers\n",
        "import wandb\n",
        "from datasets import Dataset, load_dataset\n",
        "from sklearn import metrics\n",
        "from sklearn.metrics import classification_report, roc_auc_score\n",
        "from sklearn.preprocessing import MultiLabelBinarizer\n",
        "from torch import cuda\n",
        "from torch.optim import Adam\n",
        "from torch.utils.data import DataLoader\n",
        "from tqdm import tqdm\n",
        "from tqdm.notebook import tqdm\n",
        "from transformers import (\n",
        "    AutoTokenizer,\n",
        "    BertConfig,\n",
        "    BertForSequenceClassification,\n",
        "    BertModel,\n",
        "    BertTokenizer,\n",
        "    DataCollatorWithPadding,\n",
        ")\n",
        "\n",
        "np.random.seed(42)\n",
        "torch.manual_seed(42)\n",
        "random.seed(42)\n",
        "\n",
        "\n",
        "device = \"cuda\" if cuda.is_available() else \"cpu\""
      ],
      "cell_type": "code",
      "outputs": [],
      "execution_count": null
    },
    {
      "metadata": {},
      "source": [
        "df = pd.read_csv(\"data/train.csv\")\n",
        "df"
      ],
      "cell_type": "code",
      "outputs": [
        {
          "output_type": "execute_result",
          "data": {
            "text/html": [
              "<div>\n",
              "<style scoped>\n",
              "    .dataframe tbody tr th:only-of-type {\n",
              "        vertical-align: middle;\n",
              "    }\n",
              "\n",
              "    .dataframe tbody tr th {\n",
              "        vertical-align: top;\n",
              "    }\n",
              "\n",
              "    .dataframe thead th {\n",
              "        text-align: right;\n",
              "    }\n",
              "</style>\n",
              "<table border=\"1\" class=\"dataframe\">\n",
              "  <thead>\n",
              "    <tr style=\"text-align: right;\">\n",
              "      <th></th>\n",
              "      <th>\u0424\u0438\u043b\u044c\u043c</th>\n",
              "      <th>\u041e\u043f\u0438\u0441\u0430\u043d\u0438\u0435</th>\n",
              "      <th>\u0421\u044e\u0436\u0435\u0442</th>\n",
              "      <th>\u0416\u0430\u043d\u0440\u044b</th>\n",
              "    </tr>\n",
              "  </thead>\n",
              "  <tbody>\n",
              "    <tr>\n",
              "      <th>0</th>\n",
              "      <td>\u0414\u0438\u0432\u0435\u0440\u0433\u0435\u043d\u0442 (2014)</td>\n",
              "      <td>\u0414\u0435\u0439\u0441\u0442\u0432\u0438\u0435 \u0444\u0438\u043b\u044c\u043c\u0430 \u00ab\u0414\u0438\u0432\u0435\u0440\u0433\u0435\u043d\u0442\u00bb \u043f\u0440\u043e\u0438\u0441\u0445\u043e\u0434\u0438\u0442 \u0432 \u043c\u0438\u0440\u0435,...</td>\n",
              "      <td>\u0414\u0435\u0439\u0441\u0442\u0432\u0438\u0435 \u0444\u0438\u043b\u044c\u043c\u0430 \u00ab\u0414\u0438\u0432\u0435\u0440\u0433\u0435\u043d\u0442\u00bb \u043f\u0440\u043e\u0438\u0441\u0445\u043e\u0434\u0438\u0442 \u0432 \u043c\u0438\u0440\u0435,...</td>\n",
              "      <td>\u0444\u0430\u043d\u0442\u0430\u0441\u0442\u0438\u043a\u0430, \u0434\u0435\u0442\u0435\u043a\u0442\u0438\u0432, \u0431\u043e\u0435\u0432\u0438\u043a, \u043c\u0435\u043b\u043e\u0434\u0440\u0430\u043c\u0430</td>\n",
              "    </tr>\n",
              "    <tr>\n",
              "      <th>1</th>\n",
              "      <td>\u041a\u0443\u043d\u0433-\u0444\u0443 \u041f\u0430\u043d\u0434\u0430 4 (2024)</td>\n",
              "      <td>\u041e\u0434\u043d\u0430\u0436\u0434\u044b \u043d\u043e\u0447\u044c\u044e \u043d\u0430 \u0432\u0435\u0440\u0448\u0438\u043d\u0435 \u0433\u043e\u0440\u044b \u0432\u043e\u0437\u043b\u0435 \u043a\u0430\u043c\u0435\u043d\u043e\u043b\u043e\u043c\u043d...</td>\n",
              "      <td>\u041e\u0434\u043d\u0430\u0436\u0434\u044b \u043d\u043e\u0447\u044c\u044e \u043d\u0430 \u0432\u0435\u0440\u0448\u0438\u043d\u0435 \u0433\u043e\u0440\u044b \u0432\u043e\u0437\u043b\u0435 \u043a\u0430\u043c\u0435\u043d\u043e\u043b\u043e\u043c\u043d...</td>\n",
              "      <td>\u043c\u0443\u043b\u044c\u0442\u0444\u0438\u043b\u044c\u043c, \u0444\u044d\u043d\u0442\u0435\u0437\u0438, \u0431\u043e\u0435\u0432\u0438\u043a, \u043a\u043e\u043c\u0435\u0434\u0438\u044f, \u043f\u0440\u0438\u043a\u043b\u044e\u0447\u0435\u043d\u0438\u044f</td>\n",
              "    </tr>\n",
              "    <tr>\n",
              "      <th>2</th>\n",
              "      <td>2046 (2004)</td>\n",
              "      <td>\u0427\u043e\u0443 \u0432\u043e\u0437\u0432\u0440\u0430\u0449\u0430\u0435\u0442\u0441\u044f \u0432 \u0413\u043e\u043d\u043a\u043e\u043d\u0433 \u043f\u043e\u0441\u043b\u0435 \u043d\u0435\u0441\u043a\u043e\u043b\u044c\u043a\u0438\u0445 \u043b\u0435...</td>\n",
              "      <td>\u0427\u043e\u0443 \u0432\u043e\u0437\u0432\u0440\u0430\u0449\u0430\u0435\u0442\u0441\u044f \u0432 \u0413\u043e\u043d\u043a\u043e\u043d\u0433 \u043f\u043e\u0441\u043b\u0435 \u043d\u0435\u0441\u043a\u043e\u043b\u044c\u043a\u0438\u0445 \u043b\u0435...</td>\n",
              "      <td>\u0444\u0430\u043d\u0442\u0430\u0441\u0442\u0438\u043a\u0430, \u0434\u0440\u0430\u043c\u0430, \u043c\u0435\u043b\u043e\u0434\u0440\u0430\u043c\u0430</td>\n",
              "    </tr>\n",
              "    <tr>\n",
              "      <th>3</th>\n",
              "      <td>\u041f\u043e\u043b\u0438\u0446\u0435\u0439\u0441\u043a\u0438\u0439 \u0438\u0437 \u0411\u0435\u0432\u0435\u0440\u043b\u0438-\u0425\u0438\u043b\u043b\u0437: \u0410\u043a\u0441\u0435\u043b\u044c \u0424\u043e\u0443\u043b\u0438 (2024)</td>\n",
              "      <td>\u0410\u043a\u0441\u0435\u043b\u044c \u0424\u043e\u0443\u043b\u0438 \u0432\u0435\u0440\u043d\u0443\u043b\u0441\u044f \u0432 \u0411\u0435\u0432\u0435\u0440\u043b\u0438-\u0425\u0438\u043b\u043b\u0437 \u043f\u043e\u0441\u043b\u0435 \u0442\u043e...</td>\n",
              "      <td>\u0410\u043a\u0441\u0435\u043b\u044c \u0424\u043e\u0443\u043b\u0438 \u0432\u0435\u0440\u043d\u0443\u043b\u0441\u044f \u0432 \u0411\u0435\u0432\u0435\u0440\u043b\u0438-\u0425\u0438\u043b\u043b\u0437 \u043f\u043e\u0441\u043b\u0435 \u0442\u043e...</td>\n",
              "      <td>\u0431\u043e\u0435\u0432\u0438\u043a, \u043a\u043e\u043c\u0435\u0434\u0438\u044f, \u043a\u0440\u0438\u043c\u0438\u043d\u0430\u043b, \u0434\u0435\u0442\u0435\u043a\u0442\u0438\u0432</td>\n",
              "    </tr>\n",
              "    <tr>\n",
              "      <th>4</th>\n",
              "      <td>\u0417\u043d\u0430\u043a\u043e\u043c\u044c\u0442\u0435\u0441\u044c, \u0414\u0436\u043e \u0411\u043b\u044d\u043a (1998)</td>\n",
              "      <td>\u0418\u0441\u0442\u043e\u0440\u0438\u044f \u043e\u0431 \u0410\u043d\u0433\u0435\u043b\u0435 \u0421\u043c\u0435\u0440\u0442\u0438, \u043a\u043e\u0442\u043e\u0440\u044b\u0439 \u0440\u0435\u0448\u0430\u0435\u0442 \u0432\u0437\u044f\u0442\u044c...</td>\n",
              "      <td>\u0418\u0441\u0442\u043e\u0440\u0438\u044f \u043e\u0431 \u0410\u043d\u0433\u0435\u043b\u0435 \u0421\u043c\u0435\u0440\u0442\u0438, \u043a\u043e\u0442\u043e\u0440\u044b\u0439 \u0440\u0435\u0448\u0430\u0435\u0442 \u0432\u0437\u044f\u0442\u044c...</td>\n",
              "      <td>\u043c\u0435\u043b\u043e\u0434\u0440\u0430\u043c\u0430, \u0444\u044d\u043d\u0442\u0435\u0437\u0438, \u0434\u0440\u0430\u043c\u0430</td>\n",
              "    </tr>\n",
              "    <tr>\n",
              "      <th>...</th>\n",
              "      <td>...</td>\n",
              "      <td>...</td>\n",
              "      <td>...</td>\n",
              "      <td>...</td>\n",
              "    </tr>\n",
              "    <tr>\n",
              "      <th>566</th>\n",
              "      <td>\u0410\u043f\u043e\u043a\u0430\u043b\u0438\u043f\u0441\u0438\u0441 (2006)</td>\n",
              "      <td>\u0412 1517 \u0433\u043e\u0434\u0443 \u043d\u0430 \u043f\u043e\u043b\u0443\u043e\u0441\u0442\u0440\u043e\u0432\u0435 \u042e\u043a\u0430\u0442\u0430\u043d \u043f\u043b\u0435\u043c\u044f \u041b\u0430\u043f\u044b \u042f...</td>\n",
              "      <td>1517 \u0433\u043e\u0434. \u041f\u043e\u043b\u0443\u043e\u0441\u0442\u0440\u043e\u0432 \u042e\u043a\u0430\u0442\u0430\u043d. \u0413\u0440\u0443\u043f\u043f\u0430 \u043e\u0445\u043e\u0442\u043d\u0438\u043a\u043e\u0432 ...</td>\n",
              "      <td>\u0431\u043e\u0435\u0432\u0438\u043a, \u0442\u0440\u0438\u043b\u043b\u0435\u0440, \u0434\u0440\u0430\u043c\u0430, \u043f\u0440\u0438\u043a\u043b\u044e\u0447\u0435\u043d\u0438\u044f</td>\n",
              "    </tr>\n",
              "    <tr>\n",
              "      <th>567</th>\n",
              "      <td>\u041b\u0451\u0434 3 (2024)</td>\n",
              "      <td>\u041d\u0430\u0434\u044f, \u0441\u0442\u0430\u0432\u0448\u0430\u044f \u0444\u0438\u0433\u0443\u0440\u0438\u0441\u0442\u043a\u043e\u0439, \u0441\u0442\u0440\u0435\u043c\u0438\u0442\u0441\u044f \u0432\u044b\u0438\u0433\u0440\u0430\u0442\u044c ...</td>\n",
              "      <td>\u0424\u0438\u043b\u044c\u043c \u043d\u0430\u0447\u0438\u043d\u0430\u0435\u0442\u0441\u044f \u0441 \u0438\u0441\u0442\u043e\u0440\u0438\u0438 \u0432\u0437\u0440\u043e\u0441\u043b\u0435\u043d\u0438\u044f \u0434\u043e\u0447\u0435\u0440\u0438 \u0410...</td>\n",
              "      <td>\u043c\u044e\u0437\u0438\u043a\u043b, \u043c\u0435\u043b\u043e\u0434\u0440\u0430\u043c\u0430</td>\n",
              "    </tr>\n",
              "    <tr>\n",
              "      <th>568</th>\n",
              "      <td>\u0414\u0430\u0441\u0442\u0443\u0440 (2023)</td>\n",
              "      <td>\u041d\u043e\u0432\u043e\u0438\u0441\u043f\u0435\u0447\u0435\u043d\u043d\u0430\u044f \u043d\u0435\u0432\u0435\u0441\u0442\u0430, \u043a\u043e\u0442\u043e\u0440\u0443\u044e \u0432\u044b\u0434\u0430\u043b\u0438 \u0437\u0430\u043c\u0443\u0436 \u043f...</td>\n",
              "      <td>NaN</td>\n",
              "      <td>\u0443\u0436\u0430\u0441\u044b, \u0444\u0430\u043d\u0442\u0430\u0441\u0442\u0438\u043a\u0430</td>\n",
              "    </tr>\n",
              "    <tr>\n",
              "      <th>569</th>\n",
              "      <td>\u041d\u0435 \u0433\u043e\u0432\u043e\u0440\u0438 \u043d\u0438\u043a\u043e\u043c\u0443 (2024)</td>\n",
              "      <td>\u041f\u0430\u0440\u0430 \u0432\u043c\u0435\u0441\u0442\u0435 \u0441 \u0434\u043e\u0447\u0435\u0440\u044c\u044e \u043f\u043e\u043b\u0443\u0447\u0430\u044e\u0442 \u043f\u0440\u0438\u0433\u043b\u0430\u0448\u0435\u043d\u0438\u0435 \u043e\u0442 ...</td>\n",
              "      <td>\u041f\u0430\u0440\u0430 \u0432\u043c\u0435\u0441\u0442\u0435 \u0441 \u0434\u043e\u0447\u0435\u0440\u044c\u044e \u043f\u043e\u043b\u0443\u0447\u0430\u044e\u0442 \u043f\u0440\u0438\u0433\u043b\u0430\u0448\u0435\u043d\u0438\u0435 \u043e\u0442 ...</td>\n",
              "      <td>\u0442\u0440\u0438\u043b\u043b\u0435\u0440, \u0434\u0440\u0430\u043c\u0430</td>\n",
              "    </tr>\n",
              "    <tr>\n",
              "      <th>570</th>\n",
              "      <td>\u041f\u0440\u0438\u043d\u0446\u0435\u0441\u0441\u0430 \u041c\u043e\u043d\u043e\u043d\u043e\u043a\u0435 (1997)</td>\n",
              "      <td>\u0421\u044e\u0436\u0435\u0442 \u0444\u0438\u043b\u044c\u043c\u0430 \u0440\u0430\u0437\u0432\u043e\u0440\u0430\u0447\u0438\u0432\u0430\u0435\u0442\u0441\u044f \u0432\u043e \u0432\u0440\u0435\u043c\u0435\u043d\u0430 \u043f\u0435\u0440\u0438\u043e\u0434...</td>\n",
              "      <td>\u041a\u043e\u0433\u0434\u0430-\u0442\u043e \u044d\u0442\u0443 \u0437\u0435\u043c\u043b\u044e \u0443\u043a\u0440\u044b\u0432\u0430\u043b \u043b\u0435\u0441, \u0433\u0434\u0435 \u0441 \u043d\u0435\u0437\u0430\u043f\u0430\u043c\u044f...</td>\n",
              "      <td>\u043c\u0443\u043b\u044c\u0442\u0444\u0438\u043b\u044c\u043c, \u0444\u044d\u043d\u0442\u0435\u0437\u0438, \u0431\u043e\u0435\u0432\u0438\u043a, \u0434\u0440\u0430\u043c\u0430, \u043f\u0440\u0438\u043a\u043b\u044e\u0447\u0435\u043d\u0438\u044f</td>\n",
              "    </tr>\n",
              "  </tbody>\n",
              "</table>\n",
              "<p>571 rows \u00d7 4 columns</p>\n",
              "</div>"
            ],
            "text/plain": [
              "                                                 \u0424\u0438\u043b\u044c\u043c  \\\n",
              "0                                     \u0414\u0438\u0432\u0435\u0440\u0433\u0435\u043d\u0442 (2014)   \n",
              "1                               \u041a\u0443\u043d\u0433-\u0444\u0443 \u041f\u0430\u043d\u0434\u0430 4 (2024)   \n",
              "2                                          2046 (2004)   \n",
              "3    \u041f\u043e\u043b\u0438\u0446\u0435\u0439\u0441\u043a\u0438\u0439 \u0438\u0437 \u0411\u0435\u0432\u0435\u0440\u043b\u0438-\u0425\u0438\u043b\u043b\u0437: \u0410\u043a\u0441\u0435\u043b\u044c \u0424\u043e\u0443\u043b\u0438 (2024)   \n",
              "4                         \u0417\u043d\u0430\u043a\u043e\u043c\u044c\u0442\u0435\u0441\u044c, \u0414\u0436\u043e \u0411\u043b\u044d\u043a (1998)   \n",
              "..                                                 ...   \n",
              "566                                 \u0410\u043f\u043e\u043a\u0430\u043b\u0438\u043f\u0441\u0438\u0441 (2006)   \n",
              "567                                       \u041b\u0451\u0434 3 (2024)   \n",
              "568                                      \u0414\u0430\u0441\u0442\u0443\u0440 (2023)   \n",
              "569                            \u041d\u0435 \u0433\u043e\u0432\u043e\u0440\u0438 \u043d\u0438\u043a\u043e\u043c\u0443 (2024)   \n",
              "570                          \u041f\u0440\u0438\u043d\u0446\u0435\u0441\u0441\u0430 \u041c\u043e\u043d\u043e\u043d\u043e\u043a\u0435 (1997)   \n",
              "\n",
              "                                              \u041e\u043f\u0438\u0441\u0430\u043d\u0438\u0435  \\\n",
              "0    \u0414\u0435\u0439\u0441\u0442\u0432\u0438\u0435 \u0444\u0438\u043b\u044c\u043c\u0430 \u00ab\u0414\u0438\u0432\u0435\u0440\u0433\u0435\u043d\u0442\u00bb \u043f\u0440\u043e\u0438\u0441\u0445\u043e\u0434\u0438\u0442 \u0432 \u043c\u0438\u0440\u0435,...   \n",
              "1    \u041e\u0434\u043d\u0430\u0436\u0434\u044b \u043d\u043e\u0447\u044c\u044e \u043d\u0430 \u0432\u0435\u0440\u0448\u0438\u043d\u0435 \u0433\u043e\u0440\u044b \u0432\u043e\u0437\u043b\u0435 \u043a\u0430\u043c\u0435\u043d\u043e\u043b\u043e\u043c\u043d...   \n",
              "2    \u0427\u043e\u0443 \u0432\u043e\u0437\u0432\u0440\u0430\u0449\u0430\u0435\u0442\u0441\u044f \u0432 \u0413\u043e\u043d\u043a\u043e\u043d\u0433 \u043f\u043e\u0441\u043b\u0435 \u043d\u0435\u0441\u043a\u043e\u043b\u044c\u043a\u0438\u0445 \u043b\u0435...   \n",
              "3    \u0410\u043a\u0441\u0435\u043b\u044c \u0424\u043e\u0443\u043b\u0438 \u0432\u0435\u0440\u043d\u0443\u043b\u0441\u044f \u0432 \u0411\u0435\u0432\u0435\u0440\u043b\u0438-\u0425\u0438\u043b\u043b\u0437 \u043f\u043e\u0441\u043b\u0435 \u0442\u043e...   \n",
              "4    \u0418\u0441\u0442\u043e\u0440\u0438\u044f \u043e\u0431 \u0410\u043d\u0433\u0435\u043b\u0435 \u0421\u043c\u0435\u0440\u0442\u0438, \u043a\u043e\u0442\u043e\u0440\u044b\u0439 \u0440\u0435\u0448\u0430\u0435\u0442 \u0432\u0437\u044f\u0442\u044c...   \n",
              "..                                                 ...   \n",
              "566  \u0412 1517 \u0433\u043e\u0434\u0443 \u043d\u0430 \u043f\u043e\u043b\u0443\u043e\u0441\u0442\u0440\u043e\u0432\u0435 \u042e\u043a\u0430\u0442\u0430\u043d \u043f\u043b\u0435\u043c\u044f \u041b\u0430\u043f\u044b \u042f...   \n",
              "567  \u041d\u0430\u0434\u044f, \u0441\u0442\u0430\u0432\u0448\u0430\u044f \u0444\u0438\u0433\u0443\u0440\u0438\u0441\u0442\u043a\u043e\u0439, \u0441\u0442\u0440\u0435\u043c\u0438\u0442\u0441\u044f \u0432\u044b\u0438\u0433\u0440\u0430\u0442\u044c ...   \n",
              "568  \u041d\u043e\u0432\u043e\u0438\u0441\u043f\u0435\u0447\u0435\u043d\u043d\u0430\u044f \u043d\u0435\u0432\u0435\u0441\u0442\u0430, \u043a\u043e\u0442\u043e\u0440\u0443\u044e \u0432\u044b\u0434\u0430\u043b\u0438 \u0437\u0430\u043c\u0443\u0436 \u043f...   \n",
              "569  \u041f\u0430\u0440\u0430 \u0432\u043c\u0435\u0441\u0442\u0435 \u0441 \u0434\u043e\u0447\u0435\u0440\u044c\u044e \u043f\u043e\u043b\u0443\u0447\u0430\u044e\u0442 \u043f\u0440\u0438\u0433\u043b\u0430\u0448\u0435\u043d\u0438\u0435 \u043e\u0442 ...   \n",
              "570  \u0421\u044e\u0436\u0435\u0442 \u0444\u0438\u043b\u044c\u043c\u0430 \u0440\u0430\u0437\u0432\u043e\u0440\u0430\u0447\u0438\u0432\u0430\u0435\u0442\u0441\u044f \u0432\u043e \u0432\u0440\u0435\u043c\u0435\u043d\u0430 \u043f\u0435\u0440\u0438\u043e\u0434...   \n",
              "\n",
              "                                                 \u0421\u044e\u0436\u0435\u0442  \\\n",
              "0    \u0414\u0435\u0439\u0441\u0442\u0432\u0438\u0435 \u0444\u0438\u043b\u044c\u043c\u0430 \u00ab\u0414\u0438\u0432\u0435\u0440\u0433\u0435\u043d\u0442\u00bb \u043f\u0440\u043e\u0438\u0441\u0445\u043e\u0434\u0438\u0442 \u0432 \u043c\u0438\u0440\u0435,...   \n",
              "1    \u041e\u0434\u043d\u0430\u0436\u0434\u044b \u043d\u043e\u0447\u044c\u044e \u043d\u0430 \u0432\u0435\u0440\u0448\u0438\u043d\u0435 \u0433\u043e\u0440\u044b \u0432\u043e\u0437\u043b\u0435 \u043a\u0430\u043c\u0435\u043d\u043e\u043b\u043e\u043c\u043d...   \n",
              "2    \u0427\u043e\u0443 \u0432\u043e\u0437\u0432\u0440\u0430\u0449\u0430\u0435\u0442\u0441\u044f \u0432 \u0413\u043e\u043d\u043a\u043e\u043d\u0433 \u043f\u043e\u0441\u043b\u0435 \u043d\u0435\u0441\u043a\u043e\u043b\u044c\u043a\u0438\u0445 \u043b\u0435...   \n",
              "3    \u0410\u043a\u0441\u0435\u043b\u044c \u0424\u043e\u0443\u043b\u0438 \u0432\u0435\u0440\u043d\u0443\u043b\u0441\u044f \u0432 \u0411\u0435\u0432\u0435\u0440\u043b\u0438-\u0425\u0438\u043b\u043b\u0437 \u043f\u043e\u0441\u043b\u0435 \u0442\u043e...   \n",
              "4    \u0418\u0441\u0442\u043e\u0440\u0438\u044f \u043e\u0431 \u0410\u043d\u0433\u0435\u043b\u0435 \u0421\u043c\u0435\u0440\u0442\u0438, \u043a\u043e\u0442\u043e\u0440\u044b\u0439 \u0440\u0435\u0448\u0430\u0435\u0442 \u0432\u0437\u044f\u0442\u044c...   \n",
              "..                                                 ...   \n",
              "566  1517 \u0433\u043e\u0434. \u041f\u043e\u043b\u0443\u043e\u0441\u0442\u0440\u043e\u0432 \u042e\u043a\u0430\u0442\u0430\u043d. \u0413\u0440\u0443\u043f\u043f\u0430 \u043e\u0445\u043e\u0442\u043d\u0438\u043a\u043e\u0432 ...   \n",
              "567  \u0424\u0438\u043b\u044c\u043c \u043d\u0430\u0447\u0438\u043d\u0430\u0435\u0442\u0441\u044f \u0441 \u0438\u0441\u0442\u043e\u0440\u0438\u0438 \u0432\u0437\u0440\u043e\u0441\u043b\u0435\u043d\u0438\u044f \u0434\u043e\u0447\u0435\u0440\u0438 \u0410...   \n",
              "568                                                NaN   \n",
              "569  \u041f\u0430\u0440\u0430 \u0432\u043c\u0435\u0441\u0442\u0435 \u0441 \u0434\u043e\u0447\u0435\u0440\u044c\u044e \u043f\u043e\u043b\u0443\u0447\u0430\u044e\u0442 \u043f\u0440\u0438\u0433\u043b\u0430\u0448\u0435\u043d\u0438\u0435 \u043e\u0442 ...   \n",
              "570  \u041a\u043e\u0433\u0434\u0430-\u0442\u043e \u044d\u0442\u0443 \u0437\u0435\u043c\u043b\u044e \u0443\u043a\u0440\u044b\u0432\u0430\u043b \u043b\u0435\u0441, \u0433\u0434\u0435 \u0441 \u043d\u0435\u0437\u0430\u043f\u0430\u043c\u044f...   \n",
              "\n",
              "                                                 \u0416\u0430\u043d\u0440\u044b  \n",
              "0              \u0444\u0430\u043d\u0442\u0430\u0441\u0442\u0438\u043a\u0430, \u0434\u0435\u0442\u0435\u043a\u0442\u0438\u0432, \u0431\u043e\u0435\u0432\u0438\u043a, \u043c\u0435\u043b\u043e\u0434\u0440\u0430\u043c\u0430  \n",
              "1    \u043c\u0443\u043b\u044c\u0442\u0444\u0438\u043b\u044c\u043c, \u0444\u044d\u043d\u0442\u0435\u0437\u0438, \u0431\u043e\u0435\u0432\u0438\u043a, \u043a\u043e\u043c\u0435\u0434\u0438\u044f, \u043f\u0440\u0438\u043a\u043b\u044e\u0447\u0435\u043d\u0438\u044f  \n",
              "2                         \u0444\u0430\u043d\u0442\u0430\u0441\u0442\u0438\u043a\u0430, \u0434\u0440\u0430\u043c\u0430, \u043c\u0435\u043b\u043e\u0434\u0440\u0430\u043c\u0430  \n",
              "3                  \u0431\u043e\u0435\u0432\u0438\u043a, \u043a\u043e\u043c\u0435\u0434\u0438\u044f, \u043a\u0440\u0438\u043c\u0438\u043d\u0430\u043b, \u0434\u0435\u0442\u0435\u043a\u0442\u0438\u0432  \n",
              "4                            \u043c\u0435\u043b\u043e\u0434\u0440\u0430\u043c\u0430, \u0444\u044d\u043d\u0442\u0435\u0437\u0438, \u0434\u0440\u0430\u043c\u0430  \n",
              "..                                                 ...  \n",
              "566                \u0431\u043e\u0435\u0432\u0438\u043a, \u0442\u0440\u0438\u043b\u043b\u0435\u0440, \u0434\u0440\u0430\u043c\u0430, \u043f\u0440\u0438\u043a\u043b\u044e\u0447\u0435\u043d\u0438\u044f  \n",
              "567                                  \u043c\u044e\u0437\u0438\u043a\u043b, \u043c\u0435\u043b\u043e\u0434\u0440\u0430\u043c\u0430  \n",
              "568                                  \u0443\u0436\u0430\u0441\u044b, \u0444\u0430\u043d\u0442\u0430\u0441\u0442\u0438\u043a\u0430  \n",
              "569                                     \u0442\u0440\u0438\u043b\u043b\u0435\u0440, \u0434\u0440\u0430\u043c\u0430  \n",
              "570    \u043c\u0443\u043b\u044c\u0442\u0444\u0438\u043b\u044c\u043c, \u0444\u044d\u043d\u0442\u0435\u0437\u0438, \u0431\u043e\u0435\u0432\u0438\u043a, \u0434\u0440\u0430\u043c\u0430, \u043f\u0440\u0438\u043a\u043b\u044e\u0447\u0435\u043d\u0438\u044f  \n",
              "\n",
              "[571 rows x 4 columns]"
            ]
          },
          "metadata": {},
          "execution_count": 2
        }
      ],
      "execution_count": null
    },
    {
      "metadata": {},
      "source": [
        "df = df.rename(\n",
        "    {\"\u0424\u0438\u043b\u044c\u043c\": \"movie\", \"\u0421\u044e\u0436\u0435\u0442\": \"plot\", \"\u0416\u0430\u043d\u0440\u044b\": \"genres\", \"\u041e\u043f\u0438\u0441\u0430\u043d\u0438\u0435\": \"description\"},\n",
        "    axis=1,\n",
        ")\n",
        "df[\"plot\"] = df[\"plot\"].fillna(df[\"description\"])\n",
        "df.isnull().any()"
      ],
      "cell_type": "code",
      "outputs": [
        {
          "output_type": "execute_result",
          "data": {
            "text/plain": [
              "movie          False\n",
              "description    False\n",
              "plot           False\n",
              "genres         False\n",
              "dtype: bool"
            ]
          },
          "metadata": {},
          "execution_count": 3
        }
      ],
      "execution_count": null
    },
    {
      "metadata": {},
      "source": [
        "df[\"genres\"] = df[\"genres\"].apply(lambda x: x.split(\", \"))\n",
        "mlb = MultiLabelBinarizer()\n",
        "y = mlb.fit_transform(df[\"genres\"])\n",
        "df[\"target\"] = y.tolist()\n",
        "df = df.drop(\"genres\", axis=1)\n",
        "df = df.drop(\"movie\", axis=1)"
      ],
      "cell_type": "code",
      "outputs": [],
      "execution_count": null
    },
    {
      "metadata": {},
      "source": [
        "df[\"description\"].apply(len).max()"
      ],
      "cell_type": "code",
      "outputs": [
        {
          "output_type": "execute_result",
          "data": {
            "text/plain": [
              "np.int64(1719)"
            ]
          },
          "metadata": {},
          "execution_count": 5
        }
      ],
      "execution_count": null
    },
    {
      "metadata": {},
      "source": [
        "df[\"plot\"].apply(len).max()"
      ],
      "cell_type": "code",
      "outputs": [
        {
          "output_type": "execute_result",
          "data": {
            "text/plain": [
              "np.int64(15174)"
            ]
          },
          "metadata": {},
          "execution_count": 6
        }
      ],
      "execution_count": null
    },
    {
      "metadata": {},
      "source": [
        "max_length = 2048\n",
        "num_labels = len(mlb.classes_)\n",
        "# num_labels = 6\n",
        "label2id = dict(zip(range(num_labels), mlb.classes_))\n",
        "id2label = dict(zip(mlb.classes_, range(num_labels)))\n",
        "model = \"cointegrated/rubert-tiny2\"\n",
        "problem_type = \"multi_label_classification\"\n",
        "batch_size = 16\n",
        "pin_memory = False\n",
        "drop_last = False\n",
        "num_workers = 4\n",
        "shuffle = True\n",
        "val_size = int(len(df) * 0.2)\n",
        "num_epochs = 30\n",
        "\n",
        "\n",
        "os.environ[\"TOKENIZERS_PARALLELISM\"] = \"false\"\n",
        "os.environ[\"TRANSFORMERS_NO_ADVISORY_WARNINGS\"] = \"true\""
      ],
      "cell_type": "code",
      "outputs": [],
      "execution_count": null
    },
    {
      "metadata": {},
      "source": [
        "tokenizer = AutoTokenizer.from_pretrained(model)\n",
        "\n",
        "model = BertForSequenceClassification.from_pretrained(\n",
        "    model,\n",
        "    num_labels=num_labels,\n",
        "    problem_type=problem_type,\n",
        "    label2id=label2id,\n",
        "    id2label=id2label,\n",
        ")"
      ],
      "cell_type": "code",
      "outputs": [
        {
          "output_type": "stream",
          "name": "stderr",
          "text": [
            "/home/seara/Desktop/Github/mtc-film-classification/.venv/lib/python3.9/site-packages/transformers/tokenization_utils_base.py:1601: FutureWarning: `clean_up_tokenization_spaces` was not set. It will be set to `True` by default. This behavior will be depracted in transformers v4.45, and will be then set to `False` by default. For more details check this issue: https://github.com/huggingface/transformers/issues/31884\n",
            "  warnings.warn(\n",
            "Some weights of BertForSequenceClassification were not initialized from the model checkpoint at cointegrated/rubert-tiny2 and are newly initialized: ['classifier.bias', 'classifier.weight']\n",
            "You should probably TRAIN this model on a down-stream task to be able to use it for predictions and inference.\n"
          ]
        }
      ],
      "execution_count": null
    },
    {
      "metadata": {},
      "source": [
        "dataset = Dataset.from_pandas(df)\n",
        "dataset = dataset.map(\n",
        "    lambda x: tokenizer(\n",
        "        x[\"description\"], x[\"plot\"], truncation=True, max_length=max_length\n",
        "    ),\n",
        "    batched=True,\n",
        ")\n",
        "dataset = dataset.map(\n",
        "    lambda x: {\"label\": [float(y) for y in x[\"target\"]]},\n",
        "    batched=False,\n",
        "    remove_columns=[\"description\", \"plot\", \"target\"],\n",
        ")"
      ],
      "cell_type": "code",
      "outputs": [
        {
          "output_type": "display_data",
          "data": {
            "application/vnd.jupyter.widget-view+json": {
              "model_id": "7d86438b2f324fa7a8b4358eca821496",
              "version_major": 2,
              "version_minor": 0
            },
            "text/plain": [
              "Map:   0%|          | 0/571 [00:00<?, ? examples/s]"
            ]
          },
          "metadata": {}
        },
        {
          "output_type": "display_data",
          "data": {
            "application/vnd.jupyter.widget-view+json": {
              "model_id": "6a82b1bfe3ee4e59b8f99d810e012c60",
              "version_major": 2,
              "version_minor": 0
            },
            "text/plain": [
              "Map:   0%|          | 0/571 [00:00<?, ? examples/s]"
            ]
          },
          "metadata": {}
        }
      ],
      "execution_count": null
    },
    {
      "metadata": {},
      "source": [
        "data_collator = DataCollatorWithPadding(tokenizer)\n",
        "\n",
        "\n",
        "train_val = dataset.train_test_split(test_size=val_size)  # 10% of full dataset\n",
        "\n",
        "train_dataloader = DataLoader(\n",
        "    train_val[\"train\"],\n",
        "    batch_size=batch_size,\n",
        "    shuffle=shuffle,\n",
        "    num_workers=num_workers,\n",
        "    collate_fn=data_collator,\n",
        "    pin_memory=pin_memory,\n",
        "    drop_last=drop_last,\n",
        ")\n",
        "\n",
        "val_dataloader = DataLoader(\n",
        "    train_val[\"test\"],\n",
        "    batch_size=batch_size,\n",
        "    shuffle=False,\n",
        "    num_workers=num_workers,\n",
        "    collate_fn=data_collator,\n",
        "    pin_memory=pin_memory,\n",
        "    drop_last=drop_last,\n",
        ")"
      ],
      "cell_type": "code",
      "outputs": [],
      "execution_count": null
    },
    {
      "metadata": {},
      "source": [
        "THRESHOLD = 0.1\n",
        "\n",
        "\n",
        "def get_report_multilabel(y_true, y_pred, target_names, output_dict):\n",
        "    return classification_report(\n",
        "        y_true,\n",
        "        y_pred >= THRESHOLD,\n",
        "        target_names=target_names,\n",
        "        output_dict=output_dict,\n",
        "        zero_division=0,\n",
        "    )"
      ],
      "cell_type": "code",
      "outputs": [],
      "execution_count": null
    },
    {
      "metadata": {},
      "source": [
        "def predict(model, dataloader):\n",
        "    with torch.inference_mode():\n",
        "        y_true = []\n",
        "        y_pred = []\n",
        "        val_loss = 0\n",
        "\n",
        "        for batch in tqdm(dataloader):\n",
        "            batch = batch.to(model.device)\n",
        "            output = model(**batch)\n",
        "            loss = output.loss\n",
        "\n",
        "            val_loss += loss.item() * batch[\"input_ids\"].size(0)\n",
        "            y_true.append(batch.labels.cpu())\n",
        "            y_pred.append(output.logits.cpu())\n",
        "\n",
        "        val_loss = val_loss / len(dataloader.dataset)\n",
        "\n",
        "    return (\n",
        "        torch.cat(y_true).numpy(),\n",
        "        torch.sigmoid(torch.cat(y_pred)).numpy(),\n",
        "        val_loss,\n",
        "    )\n",
        "\n",
        "\n",
        "def train_epoch(model, train_dataloader, optimizer):\n",
        "    y_true = []\n",
        "    y_pred = []\n",
        "    train_loss = 0\n",
        "\n",
        "    for batch in tqdm(train_dataloader):\n",
        "        optimizer.zero_grad()\n",
        "        batch = batch.to(model.device)\n",
        "        output = model(**batch)\n",
        "        loss = output.loss\n",
        "        loss.backward()\n",
        "        optimizer.step()\n",
        "\n",
        "        train_loss += loss.item() * batch[\"input_ids\"].size(0)\n",
        "        y_true.append(batch.labels.detach().cpu())\n",
        "        y_pred.append(output.logits.detach().cpu())\n",
        "\n",
        "    train_loss = train_loss / len(train_dataloader.dataset)\n",
        "    return (\n",
        "        torch.cat(y_true).numpy(),\n",
        "        torch.sigmoid(torch.cat(y_pred)).numpy(),\n",
        "        train_loss,\n",
        "    )\n",
        "\n",
        "\n",
        "def eval(model, val_dataloader, labels):\n",
        "    model.eval()\n",
        "    val_y_true, val_y_pred, val_loss = predict(model, val_dataloader)\n",
        "    report_dict = get_report_multilabel(val_y_true, val_y_pred, labels, True)\n",
        "    df = pd.DataFrame(report_dict)\n",
        "    df = df.round(2)\n",
        "    return df"
      ],
      "cell_type": "code",
      "outputs": [],
      "execution_count": null
    },
    {
      "metadata": {},
      "source": [
        "def train(model, train_dataloader, optimizer, epochs, val_dataloader, labels):\n",
        "    tq = tqdm(range(epochs))\n",
        "\n",
        "    for epoch in tq:\n",
        "\n",
        "        model.train()\n",
        "        train_y_true, train_y_pred, train_loss = train_epoch(\n",
        "            model, train_dataloader, optimizer\n",
        "        )\n",
        "\n",
        "        model.eval()\n",
        "        val_y_true, val_y_pred, val_loss = predict(model, val_dataloader)\n",
        "\n",
        "        tq.set_description(f\"train_loss: {train_loss:.4f}, val_loss: {val_loss:.4f}\")\n",
        "\n",
        "    df = eval(model, val_dataloader, labels)\n",
        "    print(df)\n",
        "\n",
        "    return val_y_true, val_y_pred"
      ],
      "cell_type": "code",
      "outputs": [],
      "execution_count": null
    },
    {
      "metadata": {},
      "source": [
        "model.cuda()\n",
        "\n",
        "optimizer = Adam(model.parameters(), lr=0.00001)\n",
        "\n",
        "val_y_true, val_y_pred = train(\n",
        "    model=model,\n",
        "    train_dataloader=train_dataloader,\n",
        "    optimizer=optimizer,\n",
        "    epochs=num_epochs,\n",
        "    val_dataloader=train_dataloader,\n",
        "    labels=label2id.values(),\n",
        ")"
      ],
      "cell_type": "code",
      "outputs": [
        {
          "output_type": "display_data",
          "data": {
            "application/vnd.jupyter.widget-view+json": {
              "model_id": "0e726a1cc2504b9fab69cbb6f63e7f0f",
              "version_major": 2,
              "version_minor": 0
            },
            "text/plain": [
              "  0%|          | 0/30 [00:00<?, ?it/s]"
            ]
          },
          "metadata": {}
        },
        {
          "output_type": "display_data",
          "data": {
            "application/vnd.jupyter.widget-view+json": {
              "model_id": "a8c115ddc6844710a851b11a7a843378",
              "version_major": 2,
              "version_minor": 0
            },
            "text/plain": [
              "  0%|          | 0/29 [00:00<?, ?it/s]"
            ]
          },
          "metadata": {}
        },
        {
          "output_type": "display_data",
          "data": {
            "application/vnd.jupyter.widget-view+json": {
              "model_id": "e1bf9eac72ff40a2b04201d85cc190df",
              "version_major": 2,
              "version_minor": 0
            },
            "text/plain": [
              "  0%|          | 0/29 [00:00<?, ?it/s]"
            ]
          },
          "metadata": {}
        },
        {
          "output_type": "display_data",
          "data": {
            "application/vnd.jupyter.widget-view+json": {
              "model_id": "1b73419445f74fa082d075714de28f9a",
              "version_major": 2,
              "version_minor": 0
            },
            "text/plain": [
              "  0%|          | 0/29 [00:00<?, ?it/s]"
            ]
          },
          "metadata": {}
        },
        {
          "output_type": "display_data",
          "data": {
            "application/vnd.jupyter.widget-view+json": {
              "model_id": "819aa7c88a2a4085b619a55bc9abedf4",
              "version_major": 2,
              "version_minor": 0
            },
            "text/plain": [
              "  0%|          | 0/29 [00:00<?, ?it/s]"
            ]
          },
          "metadata": {}
        },
        {
          "output_type": "display_data",
          "data": {
            "application/vnd.jupyter.widget-view+json": {
              "model_id": "a4ecdd0432864b4e9329491658f3a8c3",
              "version_major": 2,
              "version_minor": 0
            },
            "text/plain": [
              "  0%|          | 0/29 [00:00<?, ?it/s]"
            ]
          },
          "metadata": {}
        },
        {
          "output_type": "display_data",
          "data": {
            "application/vnd.jupyter.widget-view+json": {
              "model_id": "557b0d461a4b4b6688692e5c7c2943ef",
              "version_major": 2,
              "version_minor": 0
            },
            "text/plain": [
              "  0%|          | 0/29 [00:00<?, ?it/s]"
            ]
          },
          "metadata": {}
        },
        {
          "output_type": "display_data",
          "data": {
            "application/vnd.jupyter.widget-view+json": {
              "model_id": "67dcc702de704ec6854bddd6ed6c1530",
              "version_major": 2,
              "version_minor": 0
            },
            "text/plain": [
              "  0%|          | 0/29 [00:00<?, ?it/s]"
            ]
          },
          "metadata": {}
        },
        {
          "output_type": "display_data",
          "data": {
            "application/vnd.jupyter.widget-view+json": {
              "model_id": "df4336f2936a43f1aee8360a2a225010",
              "version_major": 2,
              "version_minor": 0
            },
            "text/plain": [
              "  0%|          | 0/29 [00:00<?, ?it/s]"
            ]
          },
          "metadata": {}
        },
        {
          "output_type": "display_data",
          "data": {
            "application/vnd.jupyter.widget-view+json": {
              "model_id": "2629536568814ca891df93ae883a0ab8",
              "version_major": 2,
              "version_minor": 0
            },
            "text/plain": [
              "  0%|          | 0/29 [00:00<?, ?it/s]"
            ]
          },
          "metadata": {}
        },
        {
          "output_type": "display_data",
          "data": {
            "application/vnd.jupyter.widget-view+json": {
              "model_id": "0d274e6f87c74f58a0ded7215f1d5228",
              "version_major": 2,
              "version_minor": 0
            },
            "text/plain": [
              "  0%|          | 0/29 [00:00<?, ?it/s]"
            ]
          },
          "metadata": {}
        },
        {
          "output_type": "display_data",
          "data": {
            "application/vnd.jupyter.widget-view+json": {
              "model_id": "d4fb8daa5b0b4d4dbd5c34e85c43aa42",
              "version_major": 2,
              "version_minor": 0
            },
            "text/plain": [
              "  0%|          | 0/29 [00:00<?, ?it/s]"
            ]
          },
          "metadata": {}
        },
        {
          "output_type": "display_data",
          "data": {
            "application/vnd.jupyter.widget-view+json": {
              "model_id": "35240bcc4c114893b704e479d9f6bf08",
              "version_major": 2,
              "version_minor": 0
            },
            "text/plain": [
              "  0%|          | 0/29 [00:00<?, ?it/s]"
            ]
          },
          "metadata": {}
        },
        {
          "output_type": "display_data",
          "data": {
            "application/vnd.jupyter.widget-view+json": {
              "model_id": "c0284d375af84378a9cff36107b68cbb",
              "version_major": 2,
              "version_minor": 0
            },
            "text/plain": [
              "  0%|          | 0/29 [00:00<?, ?it/s]"
            ]
          },
          "metadata": {}
        },
        {
          "output_type": "display_data",
          "data": {
            "application/vnd.jupyter.widget-view+json": {
              "model_id": "8a2d0da072844eeab7f5ebc071fb040b",
              "version_major": 2,
              "version_minor": 0
            },
            "text/plain": [
              "  0%|          | 0/29 [00:00<?, ?it/s]"
            ]
          },
          "metadata": {}
        },
        {
          "output_type": "display_data",
          "data": {
            "application/vnd.jupyter.widget-view+json": {
              "model_id": "8ada5d70c2974cd483a5f1732c97b68e",
              "version_major": 2,
              "version_minor": 0
            },
            "text/plain": [
              "  0%|          | 0/29 [00:00<?, ?it/s]"
            ]
          },
          "metadata": {}
        },
        {
          "output_type": "display_data",
          "data": {
            "application/vnd.jupyter.widget-view+json": {
              "model_id": "797185aa0a2b430cb7108fe4186f0ade",
              "version_major": 2,
              "version_minor": 0
            },
            "text/plain": [
              "  0%|          | 0/29 [00:00<?, ?it/s]"
            ]
          },
          "metadata": {}
        },
        {
          "output_type": "display_data",
          "data": {
            "application/vnd.jupyter.widget-view+json": {
              "model_id": "bb24dc13cb2847c7814b7f4e278969f9",
              "version_major": 2,
              "version_minor": 0
            },
            "text/plain": [
              "  0%|          | 0/29 [00:00<?, ?it/s]"
            ]
          },
          "metadata": {}
        },
        {
          "output_type": "display_data",
          "data": {
            "application/vnd.jupyter.widget-view+json": {
              "model_id": "7053a90c09c44168900a9b41dcafb3df",
              "version_major": 2,
              "version_minor": 0
            },
            "text/plain": [
              "  0%|          | 0/29 [00:00<?, ?it/s]"
            ]
          },
          "metadata": {}
        },
        {
          "output_type": "display_data",
          "data": {
            "application/vnd.jupyter.widget-view+json": {
              "model_id": "11bc28f7aa224d028b2019f44e859e61",
              "version_major": 2,
              "version_minor": 0
            },
            "text/plain": [
              "  0%|          | 0/29 [00:00<?, ?it/s]"
            ]
          },
          "metadata": {}
        },
        {
          "output_type": "display_data",
          "data": {
            "application/vnd.jupyter.widget-view+json": {
              "model_id": "ec5b9d82fbce411da9ec661830806de4",
              "version_major": 2,
              "version_minor": 0
            },
            "text/plain": [
              "  0%|          | 0/29 [00:00<?, ?it/s]"
            ]
          },
          "metadata": {}
        },
        {
          "output_type": "display_data",
          "data": {
            "application/vnd.jupyter.widget-view+json": {
              "model_id": "60d2154e082f419285122f6ef97deb35",
              "version_major": 2,
              "version_minor": 0
            },
            "text/plain": [
              "  0%|          | 0/29 [00:00<?, ?it/s]"
            ]
          },
          "metadata": {}
        },
        {
          "output_type": "display_data",
          "data": {
            "application/vnd.jupyter.widget-view+json": {
              "model_id": "2e8fbc7c3d0447818fe4bffa350d8e5a",
              "version_major": 2,
              "version_minor": 0
            },
            "text/plain": [
              "  0%|          | 0/29 [00:00<?, ?it/s]"
            ]
          },
          "metadata": {}
        },
        {
          "output_type": "display_data",
          "data": {
            "application/vnd.jupyter.widget-view+json": {
              "model_id": "af86d736cc8444528f408b16717352ae",
              "version_major": 2,
              "version_minor": 0
            },
            "text/plain": [
              "  0%|          | 0/29 [00:00<?, ?it/s]"
            ]
          },
          "metadata": {}
        },
        {
          "output_type": "display_data",
          "data": {
            "application/vnd.jupyter.widget-view+json": {
              "model_id": "cb3a255865824f26a4f4bad7318b58c0",
              "version_major": 2,
              "version_minor": 0
            },
            "text/plain": [
              "  0%|          | 0/29 [00:00<?, ?it/s]"
            ]
          },
          "metadata": {}
        },
        {
          "output_type": "display_data",
          "data": {
            "application/vnd.jupyter.widget-view+json": {
              "model_id": "afadf1cc5b4648d19cee7f15ac8aa46e",
              "version_major": 2,
              "version_minor": 0
            },
            "text/plain": [
              "  0%|          | 0/29 [00:00<?, ?it/s]"
            ]
          },
          "metadata": {}
        },
        {
          "output_type": "display_data",
          "data": {
            "application/vnd.jupyter.widget-view+json": {
              "model_id": "363e3685de584218b30b181b87395e84",
              "version_major": 2,
              "version_minor": 0
            },
            "text/plain": [
              "  0%|          | 0/29 [00:00<?, ?it/s]"
            ]
          },
          "metadata": {}
        },
        {
          "output_type": "display_data",
          "data": {
            "application/vnd.jupyter.widget-view+json": {
              "model_id": "5a806d5e1bbb4bcb900a05a7b5c35d1b",
              "version_major": 2,
              "version_minor": 0
            },
            "text/plain": [
              "  0%|          | 0/29 [00:00<?, ?it/s]"
            ]
          },
          "metadata": {}
        },
        {
          "output_type": "display_data",
          "data": {
            "application/vnd.jupyter.widget-view+json": {
              "model_id": "5e96611e85b94b168f1288b74a185897",
              "version_major": 2,
              "version_minor": 0
            },
            "text/plain": [
              "  0%|          | 0/29 [00:00<?, ?it/s]"
            ]
          },
          "metadata": {}
        },
        {
          "output_type": "display_data",
          "data": {
            "application/vnd.jupyter.widget-view+json": {
              "model_id": "0f43ac13c96c43f4aec0c8fa5e955dc9",
              "version_major": 2,
              "version_minor": 0
            },
            "text/plain": [
              "  0%|          | 0/29 [00:00<?, ?it/s]"
            ]
          },
          "metadata": {}
        },
        {
          "output_type": "display_data",
          "data": {
            "application/vnd.jupyter.widget-view+json": {
              "model_id": "daa6afe73be942a9a7527f1df5eda12f",
              "version_major": 2,
              "version_minor": 0
            },
            "text/plain": [
              "  0%|          | 0/29 [00:00<?, ?it/s]"
            ]
          },
          "metadata": {}
        },
        {
          "output_type": "display_data",
          "data": {
            "application/vnd.jupyter.widget-view+json": {
              "model_id": "0117a17456e64cfcb5ee919e3850b6de",
              "version_major": 2,
              "version_minor": 0
            },
            "text/plain": [
              "  0%|          | 0/29 [00:00<?, ?it/s]"
            ]
          },
          "metadata": {}
        },
        {
          "output_type": "display_data",
          "data": {
            "application/vnd.jupyter.widget-view+json": {
              "model_id": "f3d1a5c823164b3299c646f2e09c2c60",
              "version_major": 2,
              "version_minor": 0
            },
            "text/plain": [
              "  0%|          | 0/29 [00:00<?, ?it/s]"
            ]
          },
          "metadata": {}
        },
        {
          "output_type": "display_data",
          "data": {
            "application/vnd.jupyter.widget-view+json": {
              "model_id": "21ec3561708f4fbd97b3c5f056d6b415",
              "version_major": 2,
              "version_minor": 0
            },
            "text/plain": [
              "  0%|          | 0/29 [00:00<?, ?it/s]"
            ]
          },
          "metadata": {}
        },
        {
          "output_type": "display_data",
          "data": {
            "application/vnd.jupyter.widget-view+json": {
              "model_id": "0f79f652791a439f97cf827ab10a7cdb",
              "version_major": 2,
              "version_minor": 0
            },
            "text/plain": [
              "  0%|          | 0/29 [00:00<?, ?it/s]"
            ]
          },
          "metadata": {}
        },
        {
          "output_type": "display_data",
          "data": {
            "application/vnd.jupyter.widget-view+json": {
              "model_id": "7f1d5d85f4a841eab83473267ef86895",
              "version_major": 2,
              "version_minor": 0
            },
            "text/plain": [
              "  0%|          | 0/29 [00:00<?, ?it/s]"
            ]
          },
          "metadata": {}
        },
        {
          "output_type": "display_data",
          "data": {
            "application/vnd.jupyter.widget-view+json": {
              "model_id": "becb3825967d46ccb3d540f63306b92c",
              "version_major": 2,
              "version_minor": 0
            },
            "text/plain": [
              "  0%|          | 0/29 [00:00<?, ?it/s]"
            ]
          },
          "metadata": {}
        },
        {
          "output_type": "display_data",
          "data": {
            "application/vnd.jupyter.widget-view+json": {
              "model_id": "344f27490d1e4839afc235b2f783d7cf",
              "version_major": 2,
              "version_minor": 0
            },
            "text/plain": [
              "  0%|          | 0/29 [00:00<?, ?it/s]"
            ]
          },
          "metadata": {}
        },
        {
          "output_type": "display_data",
          "data": {
            "application/vnd.jupyter.widget-view+json": {
              "model_id": "e614116ccf464500a16c516bc5650d10",
              "version_major": 2,
              "version_minor": 0
            },
            "text/plain": [
              "  0%|          | 0/29 [00:00<?, ?it/s]"
            ]
          },
          "metadata": {}
        },
        {
          "output_type": "display_data",
          "data": {
            "application/vnd.jupyter.widget-view+json": {
              "model_id": "99b3bcc624d249eaa6ee7f6ebe88821d",
              "version_major": 2,
              "version_minor": 0
            },
            "text/plain": [
              "  0%|          | 0/29 [00:00<?, ?it/s]"
            ]
          },
          "metadata": {}
        },
        {
          "output_type": "display_data",
          "data": {
            "application/vnd.jupyter.widget-view+json": {
              "model_id": "8f7c360087a540afa28bdc95064792ea",
              "version_major": 2,
              "version_minor": 0
            },
            "text/plain": [
              "  0%|          | 0/29 [00:00<?, ?it/s]"
            ]
          },
          "metadata": {}
        },
        {
          "output_type": "display_data",
          "data": {
            "application/vnd.jupyter.widget-view+json": {
              "model_id": "487c2c5b5d674643984ad05ca479af81",
              "version_major": 2,
              "version_minor": 0
            },
            "text/plain": [
              "  0%|          | 0/29 [00:00<?, ?it/s]"
            ]
          },
          "metadata": {}
        },
        {
          "output_type": "display_data",
          "data": {
            "application/vnd.jupyter.widget-view+json": {
              "model_id": "255213d2b1954eba8d81836b98e6be90",
              "version_major": 2,
              "version_minor": 0
            },
            "text/plain": [
              "  0%|          | 0/29 [00:00<?, ?it/s]"
            ]
          },
          "metadata": {}
        },
        {
          "output_type": "display_data",
          "data": {
            "application/vnd.jupyter.widget-view+json": {
              "model_id": "b9d512dd7ecc4f60b62c952bb1e5749e",
              "version_major": 2,
              "version_minor": 0
            },
            "text/plain": [
              "  0%|          | 0/29 [00:00<?, ?it/s]"
            ]
          },
          "metadata": {}
        },
        {
          "output_type": "display_data",
          "data": {
            "application/vnd.jupyter.widget-view+json": {
              "model_id": "6760b686c884431f867f6835c3cf7b11",
              "version_major": 2,
              "version_minor": 0
            },
            "text/plain": [
              "  0%|          | 0/29 [00:00<?, ?it/s]"
            ]
          },
          "metadata": {}
        },
        {
          "output_type": "display_data",
          "data": {
            "application/vnd.jupyter.widget-view+json": {
              "model_id": "5abd078cd35b4604819f17443f68c613",
              "version_major": 2,
              "version_minor": 0
            },
            "text/plain": [
              "  0%|          | 0/29 [00:00<?, ?it/s]"
            ]
          },
          "metadata": {}
        },
        {
          "output_type": "display_data",
          "data": {
            "application/vnd.jupyter.widget-view+json": {
              "model_id": "c5c72bebb68e429fbde2f3b51b6bdb1c",
              "version_major": 2,
              "version_minor": 0
            },
            "text/plain": [
              "  0%|          | 0/29 [00:00<?, ?it/s]"
            ]
          },
          "metadata": {}
        },
        {
          "output_type": "display_data",
          "data": {
            "application/vnd.jupyter.widget-view+json": {
              "model_id": "3e43188a6684434faf92c838e3e62fb8",
              "version_major": 2,
              "version_minor": 0
            },
            "text/plain": [
              "  0%|          | 0/29 [00:00<?, ?it/s]"
            ]
          },
          "metadata": {}
        },
        {
          "output_type": "display_data",
          "data": {
            "application/vnd.jupyter.widget-view+json": {
              "model_id": "c81edbf324434b7d933de24bd2bbeb93",
              "version_major": 2,
              "version_minor": 0
            },
            "text/plain": [
              "  0%|          | 0/29 [00:00<?, ?it/s]"
            ]
          },
          "metadata": {}
        },
        {
          "output_type": "display_data",
          "data": {
            "application/vnd.jupyter.widget-view+json": {
              "model_id": "e3dc8e48737c4c70aaa8dc0458e57ce2",
              "version_major": 2,
              "version_minor": 0
            },
            "text/plain": [
              "  0%|          | 0/29 [00:00<?, ?it/s]"
            ]
          },
          "metadata": {}
        },
        {
          "output_type": "display_data",
          "data": {
            "application/vnd.jupyter.widget-view+json": {
              "model_id": "45e859f8a7f44df8a0352b1c95d678f9",
              "version_major": 2,
              "version_minor": 0
            },
            "text/plain": [
              "  0%|          | 0/29 [00:00<?, ?it/s]"
            ]
          },
          "metadata": {}
        },
        {
          "output_type": "display_data",
          "data": {
            "application/vnd.jupyter.widget-view+json": {
              "model_id": "389ec32767364c57a6a1f55a31e8fe26",
              "version_major": 2,
              "version_minor": 0
            },
            "text/plain": [
              "  0%|          | 0/29 [00:00<?, ?it/s]"
            ]
          },
          "metadata": {}
        },
        {
          "output_type": "display_data",
          "data": {
            "application/vnd.jupyter.widget-view+json": {
              "model_id": "0d5566f98082430c8d684c5d4b0502aa",
              "version_major": 2,
              "version_minor": 0
            },
            "text/plain": [
              "  0%|          | 0/29 [00:00<?, ?it/s]"
            ]
          },
          "metadata": {}
        },
        {
          "output_type": "display_data",
          "data": {
            "application/vnd.jupyter.widget-view+json": {
              "model_id": "154da7748fd34e61b4f4741151625cdb",
              "version_major": 2,
              "version_minor": 0
            },
            "text/plain": [
              "  0%|          | 0/29 [00:00<?, ?it/s]"
            ]
          },
          "metadata": {}
        },
        {
          "output_type": "display_data",
          "data": {
            "application/vnd.jupyter.widget-view+json": {
              "model_id": "dd6d24f256d845d9b2d692474437f87f",
              "version_major": 2,
              "version_minor": 0
            },
            "text/plain": [
              "  0%|          | 0/29 [00:00<?, ?it/s]"
            ]
          },
          "metadata": {}
        },
        {
          "output_type": "display_data",
          "data": {
            "application/vnd.jupyter.widget-view+json": {
              "model_id": "459c2d50497c45779daf9c9b0187c5f9",
              "version_major": 2,
              "version_minor": 0
            },
            "text/plain": [
              "  0%|          | 0/29 [00:00<?, ?it/s]"
            ]
          },
          "metadata": {}
        },
        {
          "output_type": "display_data",
          "data": {
            "application/vnd.jupyter.widget-view+json": {
              "model_id": "13bc401594cd4c9baad5b6ecfe74ff1f",
              "version_major": 2,
              "version_minor": 0
            },
            "text/plain": [
              "  0%|          | 0/29 [00:00<?, ?it/s]"
            ]
          },
          "metadata": {}
        },
        {
          "output_type": "display_data",
          "data": {
            "application/vnd.jupyter.widget-view+json": {
              "model_id": "7b0068a5c8484ac4b6fb02985bd3e0a3",
              "version_major": 2,
              "version_minor": 0
            },
            "text/plain": [
              "  0%|          | 0/29 [00:00<?, ?it/s]"
            ]
          },
          "metadata": {}
        },
        {
          "output_type": "display_data",
          "data": {
            "application/vnd.jupyter.widget-view+json": {
              "model_id": "a65055e75ef74b2dab9cbc900903aea1",
              "version_major": 2,
              "version_minor": 0
            },
            "text/plain": [
              "  0%|          | 0/29 [00:00<?, ?it/s]"
            ]
          },
          "metadata": {}
        },
        {
          "output_type": "display_data",
          "data": {
            "application/vnd.jupyter.widget-view+json": {
              "model_id": "ec4c857265c84d9bb50927a09ce78295",
              "version_major": 2,
              "version_minor": 0
            },
            "text/plain": [
              "  0%|          | 0/29 [00:00<?, ?it/s]"
            ]
          },
          "metadata": {}
        },
        {
          "output_type": "display_data",
          "data": {
            "application/vnd.jupyter.widget-view+json": {
              "model_id": "60637774016343ea8fb754a28f9992f0",
              "version_major": 2,
              "version_minor": 0
            },
            "text/plain": [
              "  0%|          | 0/29 [00:00<?, ?it/s]"
            ]
          },
          "metadata": {}
        },
        {
          "output_type": "display_data",
          "data": {
            "application/vnd.jupyter.widget-view+json": {
              "model_id": "5ba4714da0854ffda8f23e93d5ebe543",
              "version_major": 2,
              "version_minor": 0
            },
            "text/plain": [
              "  0%|          | 0/29 [00:00<?, ?it/s]"
            ]
          },
          "metadata": {}
        },
        {
          "output_type": "stream",
          "name": "stdout",
          "text": [
            "                0     1       2     3      4     5     6     7    8     9  \\\n",
            "precision    0.87   0.0    0.69   0.0    0.0   0.0   0.0   0.0  0.0   0.0   \n",
            "recall       0.37   0.0    0.85   0.0    0.0   0.0   0.0   0.0  0.0   0.0   \n",
            "f1-score     0.52   0.0    0.76   0.0    0.0   0.0   0.0   0.0  0.0   0.0   \n",
            "support    146.00  64.0  238.00  52.0  143.0  95.0  69.0  37.0  6.0  94.0   \n",
            "\n",
            "               10    11      12    13  micro avg  macro avg  weighted avg  \\\n",
            "precision    1.00   0.0    1.00   0.0       0.73       0.25          0.40   \n",
            "recall       0.01   0.0    0.05   0.0       0.21       0.09          0.21   \n",
            "f1-score     0.02   0.0    0.10   0.0       0.32       0.10          0.21   \n",
            "support    119.00  45.0  100.00  68.0    1276.00    1276.00       1276.00   \n",
            "\n",
            "           samples avg  \n",
            "precision         0.56  \n",
            "recall            0.23  \n",
            "f1-score          0.31  \n",
            "support        1276.00  \n"
          ]
        }
      ],
      "execution_count": null
    },
    {
      "metadata": {},
      "source": [
        "df = eval(model, val_dataloader, label2id.values())"
      ],
      "cell_type": "code",
      "outputs": [
        {
          "output_type": "display_data",
          "data": {
            "application/vnd.jupyter.widget-view+json": {
              "model_id": "b93b0c84766f4d26b802f8a20ce78e35",
              "version_major": 2,
              "version_minor": 0
            },
            "text/plain": [
              "  0%|          | 0/8 [00:00<?, ?it/s]"
            ]
          },
          "metadata": {}
        }
      ],
      "execution_count": null
    },
    {
      "metadata": {},
      "source": [
        "df"
      ],
      "cell_type": "code",
      "outputs": [
        {
          "output_type": "execute_result",
          "data": {
            "text/html": [
              "<div>\n",
              "<style scoped>\n",
              "    .dataframe tbody tr th:only-of-type {\n",
              "        vertical-align: middle;\n",
              "    }\n",
              "\n",
              "    .dataframe tbody tr th {\n",
              "        vertical-align: top;\n",
              "    }\n",
              "\n",
              "    .dataframe thead th {\n",
              "        text-align: right;\n",
              "    }\n",
              "</style>\n",
              "<table border=\"1\" class=\"dataframe\">\n",
              "  <thead>\n",
              "    <tr style=\"text-align: right;\">\n",
              "      <th></th>\n",
              "      <th>\u0431\u043e\u0435\u0432\u0438\u043a</th>\n",
              "      <th>\u0434\u0435\u0442\u0435\u043a\u0442\u0438\u0432</th>\n",
              "      <th>\u0434\u0440\u0430\u043c\u0430</th>\n",
              "      <th>\u0438\u0441\u0442\u043e\u0440\u0438\u044f</th>\n",
              "      <th>\u043a\u043e\u043c\u0435\u0434\u0438\u044f</th>\n",
              "      <th>\u043a\u0440\u0438\u043c\u0438\u043d\u0430\u043b</th>\n",
              "      <th>\u043c\u0435\u043b\u043e\u0434\u0440\u0430\u043c\u0430</th>\n",
              "      <th>\u043c\u0443\u043b\u044c\u0442\u0444\u0438\u043b\u044c\u043c</th>\n",
              "      <th>\u043c\u044e\u0437\u0438\u043a\u043b</th>\n",
              "      <th>\u043f\u0440\u0438\u043a\u043b\u044e\u0447\u0435\u043d\u0438\u044f</th>\n",
              "      <th>\u0442\u0440\u0438\u043b\u043b\u0435\u0440</th>\n",
              "      <th>\u0443\u0436\u0430\u0441\u044b</th>\n",
              "      <th>\u0444\u0430\u043d\u0442\u0430\u0441\u0442\u0438\u043a\u0430</th>\n",
              "      <th>\u0444\u044d\u043d\u0442\u0435\u0437\u0438</th>\n",
              "      <th>micro avg</th>\n",
              "      <th>macro avg</th>\n",
              "      <th>weighted avg</th>\n",
              "      <th>samples avg</th>\n",
              "    </tr>\n",
              "  </thead>\n",
              "  <tbody>\n",
              "    <tr>\n",
              "      <th>precision</th>\n",
              "      <td>0.33</td>\n",
              "      <td>0.11</td>\n",
              "      <td>0.40</td>\n",
              "      <td>0.10</td>\n",
              "      <td>0.37</td>\n",
              "      <td>0.18</td>\n",
              "      <td>0.13</td>\n",
              "      <td>0.11</td>\n",
              "      <td>0.0</td>\n",
              "      <td>0.27</td>\n",
              "      <td>0.28</td>\n",
              "      <td>0.14</td>\n",
              "      <td>0.21</td>\n",
              "      <td>0.20</td>\n",
              "      <td>0.22</td>\n",
              "      <td>0.20</td>\n",
              "      <td>0.26</td>\n",
              "      <td>0.22</td>\n",
              "    </tr>\n",
              "    <tr>\n",
              "      <th>recall</th>\n",
              "      <td>1.00</td>\n",
              "      <td>1.00</td>\n",
              "      <td>1.00</td>\n",
              "      <td>1.00</td>\n",
              "      <td>1.00</td>\n",
              "      <td>1.00</td>\n",
              "      <td>1.00</td>\n",
              "      <td>0.77</td>\n",
              "      <td>0.0</td>\n",
              "      <td>1.00</td>\n",
              "      <td>1.00</td>\n",
              "      <td>0.87</td>\n",
              "      <td>1.00</td>\n",
              "      <td>1.00</td>\n",
              "      <td>0.96</td>\n",
              "      <td>0.90</td>\n",
              "      <td>0.96</td>\n",
              "      <td>0.97</td>\n",
              "    </tr>\n",
              "    <tr>\n",
              "      <th>f1-score</th>\n",
              "      <td>0.50</td>\n",
              "      <td>0.19</td>\n",
              "      <td>0.57</td>\n",
              "      <td>0.18</td>\n",
              "      <td>0.54</td>\n",
              "      <td>0.31</td>\n",
              "      <td>0.23</td>\n",
              "      <td>0.19</td>\n",
              "      <td>0.0</td>\n",
              "      <td>0.43</td>\n",
              "      <td>0.44</td>\n",
              "      <td>0.25</td>\n",
              "      <td>0.35</td>\n",
              "      <td>0.34</td>\n",
              "      <td>0.36</td>\n",
              "      <td>0.32</td>\n",
              "      <td>0.40</td>\n",
              "      <td>0.35</td>\n",
              "    </tr>\n",
              "    <tr>\n",
              "      <th>support</th>\n",
              "      <td>38.00</td>\n",
              "      <td>12.00</td>\n",
              "      <td>46.00</td>\n",
              "      <td>11.00</td>\n",
              "      <td>42.00</td>\n",
              "      <td>21.00</td>\n",
              "      <td>15.00</td>\n",
              "      <td>13.00</td>\n",
              "      <td>7.0</td>\n",
              "      <td>31.00</td>\n",
              "      <td>32.00</td>\n",
              "      <td>15.00</td>\n",
              "      <td>24.00</td>\n",
              "      <td>23.00</td>\n",
              "      <td>330.00</td>\n",
              "      <td>330.00</td>\n",
              "      <td>330.00</td>\n",
              "      <td>330.00</td>\n",
              "    </tr>\n",
              "  </tbody>\n",
              "</table>\n",
              "</div>"
            ],
            "text/plain": [
              "           \u0431\u043e\u0435\u0432\u0438\u043a  \u0434\u0435\u0442\u0435\u043a\u0442\u0438\u0432  \u0434\u0440\u0430\u043c\u0430  \u0438\u0441\u0442\u043e\u0440\u0438\u044f  \u043a\u043e\u043c\u0435\u0434\u0438\u044f  \u043a\u0440\u0438\u043c\u0438\u043d\u0430\u043b  \u043c\u0435\u043b\u043e\u0434\u0440\u0430\u043c\u0430  \\\n",
              "precision    0.33      0.11   0.40     0.10     0.37      0.18       0.13   \n",
              "recall       1.00      1.00   1.00     1.00     1.00      1.00       1.00   \n",
              "f1-score     0.50      0.19   0.57     0.18     0.54      0.31       0.23   \n",
              "support     38.00     12.00  46.00    11.00    42.00     21.00      15.00   \n",
              "\n",
              "           \u043c\u0443\u043b\u044c\u0442\u0444\u0438\u043b\u044c\u043c  \u043c\u044e\u0437\u0438\u043a\u043b  \u043f\u0440\u0438\u043a\u043b\u044e\u0447\u0435\u043d\u0438\u044f  \u0442\u0440\u0438\u043b\u043b\u0435\u0440  \u0443\u0436\u0430\u0441\u044b  \u0444\u0430\u043d\u0442\u0430\u0441\u0442\u0438\u043a\u0430  \\\n",
              "precision        0.11     0.0         0.27     0.28   0.14        0.21   \n",
              "recall           0.77     0.0         1.00     1.00   0.87        1.00   \n",
              "f1-score         0.19     0.0         0.43     0.44   0.25        0.35   \n",
              "support         13.00     7.0        31.00    32.00  15.00       24.00   \n",
              "\n",
              "           \u0444\u044d\u043d\u0442\u0435\u0437\u0438  micro avg  macro avg  weighted avg  samples avg  \n",
              "precision     0.20       0.22       0.20          0.26         0.22  \n",
              "recall        1.00       0.96       0.90          0.96         0.97  \n",
              "f1-score      0.34       0.36       0.32          0.40         0.35  \n",
              "support      23.00     330.00     330.00        330.00       330.00  "
            ]
          },
          "metadata": {},
          "execution_count": 24
        }
      ],
      "execution_count": null
    },
    {
      "metadata": {},
      "source": [
        "val_y_true"
      ],
      "cell_type": "code",
      "outputs": [
        {
          "output_type": "execute_result",
          "data": {
            "text/plain": [
              "array([[1., 0., 1., ..., 0., 0., 0.],\n",
              "       [1., 0., 0., ..., 0., 0., 0.],\n",
              "       [1., 0., 0., ..., 0., 0., 1.],\n",
              "       ...,\n",
              "       [1., 0., 0., ..., 0., 0., 1.],\n",
              "       [0., 0., 1., ..., 0., 0., 0.],\n",
              "       [1., 0., 1., ..., 0., 1., 0.]], dtype=float32)"
            ]
          },
          "metadata": {},
          "execution_count": 15
        }
      ],
      "execution_count": null
    },
    {
      "metadata": {},
      "source": [
        "val_y_pred"
      ],
      "cell_type": "code",
      "outputs": [
        {
          "output_type": "execute_result",
          "data": {
            "text/plain": [
              "array([[0.4493606 , 0.20008188, 0.46238035, ..., 0.15467286, 0.29485258,\n",
              "        0.17997764],\n",
              "       [0.5004476 , 0.22297907, 0.41778725, ..., 0.19219719, 0.3300212 ,\n",
              "        0.19626734],\n",
              "       [0.47234684, 0.2094067 , 0.42952403, ..., 0.1607923 , 0.34536922,\n",
              "        0.27086797],\n",
              "       ...,\n",
              "       [0.52628845, 0.2193778 , 0.39998758, ..., 0.17677812, 0.38198584,\n",
              "        0.2555664 ],\n",
              "       [0.24974592, 0.1404527 , 0.5637468 , ..., 0.10028478, 0.16473237,\n",
              "        0.11947478],\n",
              "       [0.4581577 , 0.19072028, 0.4222496 , ..., 0.1653984 , 0.30586356,\n",
              "        0.18352522]], dtype=float32)"
            ]
          },
          "metadata": {},
          "execution_count": 16
        }
      ],
      "execution_count": null
    }
  ]
}
